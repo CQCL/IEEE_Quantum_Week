{
 "cells": [
  {
   "cell_type": "markdown",
   "id": "ae33064c",
   "metadata": {
    "slideshow": {
     "slide_type": "slide"
    }
   },
   "source": [
    "# Developing and Executing Error-Mitigated NISQ Algorithms Across Devices and Simulators\n",
    "\n",
    "Cristina Cirstoiu &rarr; <cristina.cirstoiu@quantinuum.com>, Dan Mills &rarr; <daniel.mills@quantinuum.com> - Quantinuum"
   ]
  },
  {
   "cell_type": "markdown",
   "id": "7dc0146f",
   "metadata": {
    "slideshow": {
     "slide_type": "subslide"
    }
   },
   "source": [
    "## Part Three\n",
    "\n",
    "We will cover:\n",
    "1. Introduction and getting started with Qermit.\n",
    "2. Basic error-mitigation tasks; `MitRes` and `MitEx`.\n",
    "3. Out of the box error-mitigation with Qermit.\n",
    "4. Advanced use of Qermit to fine tune and combine error-mitigaiton schemes.\n",
    "5. Developing new error-mitigation schemes."
   ]
  },
  {
   "cell_type": "markdown",
   "id": "fea2f877",
   "metadata": {
    "slideshow": {
     "slide_type": "slide"
    }
   },
   "source": [
    "# Error-Mitigation & Qermit\n",
    "\n",
    "Noise:\n",
    "- Noisy Intermediate-Scale Quantum &rarr; low numbers of qubits and high error rates.\n",
    "- Error correction, break encryption, Grover's search &rarr; ❌\n",
    "\n",
    "Error-Mitigation:\n",
    "- Trade reduced noise for increased circuit shots.\n",
    "- Moderate to no increase in qubit requirements, unlike with error-correction."
   ]
  },
  {
   "cell_type": "markdown",
   "id": "ba24e42e",
   "metadata": {
    "slideshow": {
     "slide_type": "subslide"
    }
   },
   "source": [
    "## Qermit\n",
    "\n",
    "Open-source python package for the design and execution of digital error-mitigation: \n",
    "- Supports a wide range of error-mitigation methods.\n",
    "- Has a modular graph-based software design."
   ]
  },
  {
   "cell_type": "markdown",
   "id": "6098c92e",
   "metadata": {
    "slideshow": {
     "slide_type": "fragment"
    }
   },
   "source": [
    "By being implemented using TKET, Qermit is platform-agnostic, so may be used:\n",
    "- with a wide range of quantum hardware.\n",
    "- in conjunction with several common quantum software development kits."
   ]
  },
  {
   "cell_type": "markdown",
   "id": "2cc596e2",
   "metadata": {
    "slideshow": {
     "slide_type": "subslide"
    }
   },
   "source": [
    "Protocols presently available through Qermit include several variations upon: \n",
    "- ZNE, CDR, and PEC which mitigate for errors in expectation value calculations.\n",
    "- Error-mitigation based on frame randomisation, and correction through characterisation of State Preparation And Measurement (SPAM) errors. \n",
    "\n",
    "Qermit provides a common interface to this selection of error mitigation schemes."
   ]
  },
  {
   "cell_type": "markdown",
   "id": "7548d2c5",
   "metadata": {
    "slideshow": {
     "slide_type": "fragment"
    }
   },
   "source": [
    "Graph based architecture takes advantage of the modularity of error-mitigation schemes:\n",
    "- Sub-processes: circuit execution, circuit modification, model fitting, etc. \n",
    "- Vertices may be amended to adapt the protocol. \n",
    "- Sub-graphs and graphs may be reused and combined. "
   ]
  },
  {
   "cell_type": "markdown",
   "id": "eefc7a75",
   "metadata": {
    "slideshow": {
     "slide_type": "subslide"
    }
   },
   "source": [
    "## Getting Started\n",
    "<p><center> <code> pip install qermit </code> </center></p>\n",
    "<p>Documentation and examples &rarr; <a href=\"www.qerm.it\">www.qerm.it</a>.</p>\n",
    "<p>Repository and manual &rarr; <a href=\"https://github.com/CQCL/qermit\">https://github.com/CQCL/Qermit</a>.</p>"
   ]
  },
  {
   "cell_type": "markdown",
   "id": "f5dc453f",
   "metadata": {
    "slideshow": {
     "slide_type": "slide"
    }
   },
   "source": [
    "# Shot Count Experiment\n",
    "\n",
    "There are two types of error mitigation methods in Qermit: \n",
    "- `MitRes` &rarr; modify the distribution of shots retrieved from a backend.\n",
    "- `MitEx` &rarr return a modified expectation value estimator of some observable.\n",
    "\n",
    "MitRes and MitEx object may perform any modification of this form, or none.\n",
    "\n",
    "- Now &rarr; experiments where the output is a collection of shots.\n",
    "- Later &rarr; experiments where the output is an expectation value."
   ]
  },
  {
   "cell_type": "markdown",
   "id": "52ace585",
   "metadata": {
    "slideshow": {
     "slide_type": "fragment"
    }
   },
   "source": [
    "We will see experiments:\n",
    "- Conducted in raw TKET, and the equivalent in Qermit.\n",
    "- With and without errors.\n",
    "- Where errors have been mitigated by a Qermit `MitRes`."
   ]
  },
  {
   "cell_type": "markdown",
   "id": "feb2df52",
   "metadata": {
    "slideshow": {
     "slide_type": "subslide"
    }
   },
   "source": [
    "## Ideal Shot Count"
   ]
  },
  {
   "cell_type": "code",
   "execution_count": null,
   "id": "a2727c99",
   "metadata": {
    "slideshow": {
     "slide_type": "-"
    }
   },
   "outputs": [],
   "source": [
    "from pytket import Circuit\n",
    "from pytket.circuit.display import render_circuit_jupyter\n",
    "\n",
    "circ = Circuit(2,2).H(0).CX(0,1).measure_all()\n",
    "render_circuit_jupyter(circ)"
   ]
  },
  {
   "cell_type": "code",
   "execution_count": null,
   "id": "287ae862",
   "metadata": {
    "slideshow": {
     "slide_type": "skip"
    }
   },
   "outputs": [],
   "source": [
    "import pandas as pd\n",
    "import seaborn as sns\n",
    "import matplotlib.pyplot as plt\n",
    "\n",
    "def plot_state_probs(state):\n",
    "    state_dict = {'State':[i for i in range(len(result_state))], 'Probability':abs(state)**2}\n",
    "    state_df = pd.DataFrame(state_dict)\n",
    "    sns.catplot(x='State', y='Probability', kind='bar', data=state_df, aspect = 3, height=2)\n",
    "    plt.show()\n",
    "    \n",
    "def plot_counts(counts):\n",
    "    counts_record = [{\"State\":state, \"Count\":count} for state, count in counts.items()]\n",
    "    count_df = pd.DataFrame().from_records(counts_record)\n",
    "    sns.catplot(x='State', y='Count', kind='bar', data=count_df, aspect = 3, height=2)\n",
    "    plt.show()"
   ]
  },
  {
   "cell_type": "code",
   "execution_count": null,
   "id": "86e16608",
   "metadata": {
    "slideshow": {
     "slide_type": "subslide"
    }
   },
   "outputs": [],
   "source": [
    "from pytket.extensions.qiskit import AerBackend\n",
    "\n",
    "n_shots = 10000\n",
    "ideal_backend = AerBackend()\n",
    "result = ideal_backend.run_circuit(circ, n_shots=n_shots)\n",
    "plot_counts(result.get_counts())"
   ]
  },
  {
   "cell_type": "code",
   "execution_count": null,
   "id": "4bd05c2b",
   "metadata": {
    "slideshow": {
     "slide_type": "subslide"
    }
   },
   "outputs": [],
   "source": [
    "from qermit import MitRes, CircuitShots\n",
    "\n",
    "circ_shots_list = [CircuitShots(circ, n_shots)]\n",
    "ideal_mitres = MitRes(ideal_backend)\n",
    "\n",
    "result_list = ideal_mitres.run(circ_shots_list)\n",
    "result_counts = result_list[0].get_counts()\n",
    "plot_counts(result_counts)"
   ]
  },
  {
   "cell_type": "markdown",
   "id": "9a661587",
   "metadata": {
    "slideshow": {
     "slide_type": "subslide"
    }
   },
   "source": [
    "## MitRes TaskGraph"
   ]
  },
  {
   "cell_type": "code",
   "execution_count": null,
   "id": "5119039f",
   "metadata": {
    "slideshow": {
     "slide_type": "skip"
    }
   },
   "outputs": [],
   "source": [
    "ideal_mitres.get_task_graph()"
   ]
  },
  {
   "cell_type": "markdown",
   "id": "5f3e94e3",
   "metadata": {
    "slideshow": {
     "slide_type": "subslide"
    }
   },
   "source": [
    "`MitRes` and `MitEx` objects are constructed as dataflow graphs, called a `TaskGraph`. \n",
    "- Each node of a `TaskGraph` is a `MitTask` object; itself a function that computes some step or sub-process of an error mitigation protocol. \n",
    "- Edges of the graph move data between `MitTask` objects. \n",
    "- When `run` is called, `MitTask`s are ordered and run sequentially."
   ]
  },
  {
   "cell_type": "markdown",
   "id": "707d85e2",
   "metadata": {
    "slideshow": {
     "slide_type": "subslide"
    }
   },
   "source": [
    "## SPAM + Depolarising Noise Shot Count"
   ]
  },
  {
   "cell_type": "code",
   "execution_count": null,
   "id": "6e0234a1",
   "metadata": {
    "code_folding": [],
    "slideshow": {
     "slide_type": "skip"
    }
   },
   "outputs": [],
   "source": [
    "import qiskit.providers.aer.noise as noise\n",
    "\n",
    "def depolarizing_noise_model(n_qubits, prob_1, prob_2, prob_ro):\n",
    "\n",
    "    noise_model = noise.NoiseModel()\n",
    "\n",
    "    error_2 = noise.depolarizing_error(prob_2, 2)\n",
    "    for edge in [[i,j] for i in range(n_qubits) for j in range(i)]:\n",
    "        noise_model.add_quantum_error(error_2, ['cx'], [edge[0], edge[1]])\n",
    "        noise_model.add_quantum_error(error_2, ['cx'], [edge[1], edge[0]])\n",
    "\n",
    "    error_1 = noise.depolarizing_error(prob_1, 1)\n",
    "    for node in range(n_qubits):\n",
    "        noise_model.add_quantum_error(error_1, ['h', 'rx', 'rz', 'u'], [node])\n",
    "        \n",
    "    probabilities = [[1-prob_ro, prob_ro],[prob_ro, 1-prob_ro]]\n",
    "    error_ro = noise.ReadoutError(probabilities)\n",
    "    for i in range(n_qubits):\n",
    "        noise_model.add_readout_error(error_ro, [i])\n",
    "        \n",
    "    return noise_model"
   ]
  },
  {
   "cell_type": "code",
   "execution_count": null,
   "id": "9b9897f7",
   "metadata": {
    "slideshow": {
     "slide_type": "-"
    }
   },
   "outputs": [],
   "source": [
    "from qermit.taskgraph.mitex import MitEx, gen_compiled_MitRes\n",
    "from pytket.extensions.qiskit import AerBackend\n",
    "\n",
    "noisy_backend = AerBackend(depolarizing_noise_model(5, 0.001, 0.01, 0.05))\n",
    "noisy_mitres = gen_compiled_MitRes(noisy_backend, optimisation_level=0)\n",
    "\n",
    "noisy_result_list = noisy_mitres.run(circ_shots_list)\n",
    "noisy_result_counts = noisy_result_list[0].get_counts()\n",
    "plot_counts(noisy_result_counts)"
   ]
  },
  {
   "cell_type": "markdown",
   "id": "73acc194",
   "metadata": {
    "slideshow": {
     "slide_type": "subslide"
    }
   },
   "source": [
    "## SPAM Error-Mitigation with Qermit"
   ]
  },
  {
   "cell_type": "code",
   "execution_count": null,
   "id": "1e6abd41",
   "metadata": {
    "slideshow": {
     "slide_type": "-"
    }
   },
   "outputs": [],
   "source": [
    "from qermit.spam import gen_UnCorrelated_SPAM_MitRes\n",
    "\n",
    "spam_mr = gen_UnCorrelated_SPAM_MitRes(noisy_backend, n_shots)\n",
    "spam_result_list = spam_mr.run(circ_shots_list)\n",
    "spam_result_counts = spam_result_list[0].get_counts()"
   ]
  },
  {
   "cell_type": "code",
   "execution_count": null,
   "id": "9aab61b0",
   "metadata": {
    "slideshow": {
     "slide_type": "subslide"
    }
   },
   "outputs": [],
   "source": [
    "plot_counts(noisy_result_counts)\n",
    "plot_counts(spam_result_counts)"
   ]
  },
  {
   "cell_type": "markdown",
   "id": "283209aa",
   "metadata": {
    "slideshow": {
     "slide_type": "subslide"
    }
   },
   "source": [
    "## SPAM MitRes Task Graph"
   ]
  },
  {
   "cell_type": "code",
   "execution_count": null,
   "id": "43ce4da6",
   "metadata": {
    "slideshow": {
     "slide_type": "skip"
    }
   },
   "outputs": [],
   "source": [
    "spam_mr.get_task_graph()"
   ]
  },
  {
   "cell_type": "markdown",
   "id": "47088581",
   "metadata": {
    "slideshow": {
     "slide_type": "slide"
    }
   },
   "source": [
    "# Expectation Value Experiment\n",
    "\n",
    "Experiments where the output is an expectation value.\n",
    "\n",
    "We will see experiments:\n",
    "- Conducted in raw TKET, and the equivalent in Qermit.\n",
    "- With and without errors.\n",
    "- Where errors have been mitigated by a Qermit `MitEx`."
   ]
  },
  {
   "cell_type": "markdown",
   "id": "965c61af",
   "metadata": {
    "slideshow": {
     "slide_type": "subslide"
    }
   },
   "source": [
    "## Ideal Expectation Value"
   ]
  },
  {
   "cell_type": "code",
   "execution_count": null,
   "id": "1e30e93c",
   "metadata": {
    "slideshow": {
     "slide_type": "skip"
    }
   },
   "outputs": [],
   "source": [
    "import numpy as np\n",
    "from scipy.stats import unitary_group\n",
    "from pytket.circuit import Unitary2qBox\n",
    "\n",
    "def random_circ(n_qubits: int, depth: int, seed:int = None) -> Circuit:\n",
    "    \n",
    "    np.random.seed(seed)\n",
    "\n",
    "    c = Circuit(n_qubits)\n",
    "\n",
    "    for _ in range(depth):\n",
    "\n",
    "        qubits = np.random.permutation([i for i in range(n_qubits)])\n",
    "        qubit_pairs = [[qubits[i], qubits[i + 1]] for i in range(0, n_qubits - 1, 2)]\n",
    "\n",
    "        for pair in qubit_pairs:\n",
    "\n",
    "            # Generate random 4x4 unitary matrix.\n",
    "            SU4 = unitary_group.rvs(4)  # random unitary in SU4\n",
    "            SU4 = SU4 / (np.linalg.det(SU4) ** 0.25)\n",
    "            SU4 = np.matrix(SU4)\n",
    "\n",
    "            # Add gate corresponding to unitary.\n",
    "            c.add_unitary2qbox(Unitary2qBox(SU4), *pair)\n",
    "\n",
    "    return c"
   ]
  },
  {
   "cell_type": "code",
   "execution_count": null,
   "id": "248d4758",
   "metadata": {
    "slideshow": {
     "slide_type": "-"
    }
   },
   "outputs": [],
   "source": [
    "from pytket.pauli import Pauli, QubitPauliString\n",
    "from pytket import Qubit \n",
    "from pytket.extensions.qiskit import AerStateBackend\n",
    "\n",
    "n_qubits = 4\n",
    "rand_circ = random_circ(n_qubits,n_qubits,seed=23126)\n",
    "render_circuit_jupyter(rand_circ)"
   ]
  },
  {
   "cell_type": "code",
   "execution_count": null,
   "id": "60af7e0c",
   "metadata": {
    "slideshow": {
     "slide_type": "subslide"
    }
   },
   "outputs": [],
   "source": [
    "ideal_circuit = rand_circ.copy()\n",
    "ideal_circuit = ideal_backend.get_compiled_circuit(ideal_circuit)\n",
    "\n",
    "qps = QubitPauliString([Qubit(i) for i in range(n_qubits)], [Pauli.Z for i in range(n_qubits)])\n",
    "\n",
    "print(f\"Ideal expectation: {ideal_backend.get_pauli_expectation_value(ideal_circuit, qps)}\")"
   ]
  },
  {
   "cell_type": "code",
   "execution_count": null,
   "id": "8382285b",
   "metadata": {
    "slideshow": {
     "slide_type": "subslide"
    }
   },
   "outputs": [],
   "source": [
    "from qermit import MitEx\n",
    "from pytket.utils import QubitPauliOperator\n",
    "from qermit import AnsatzCircuit, SymbolsDict, ObservableExperiment, ObservableTracker\n",
    "\n",
    "ideal_mitex = MitEx(ideal_backend)\n",
    "\n",
    "qpo = QubitPauliOperator({qps:1})\n",
    "obs_exp = ObservableExperiment(AnsatzCircuit(rand_circ, n_shots, SymbolsDict()), ObservableTracker(qpo))\n",
    "obs_exp_list = [obs_exp]\n",
    "\n",
    "ideal_expectation = ideal_mitex.run(obs_exp_list)\n",
    "print(f\"Ideal expectation: {ideal_expectation[0]}\")"
   ]
  },
  {
   "cell_type": "markdown",
   "id": "85acccc2",
   "metadata": {
    "slideshow": {
     "slide_type": "subslide"
    }
   },
   "source": [
    "## MitEx Task Graph"
   ]
  },
  {
   "cell_type": "code",
   "execution_count": null,
   "id": "e9c2e27c",
   "metadata": {
    "slideshow": {
     "slide_type": "skip"
    }
   },
   "outputs": [],
   "source": [
    "ideal_mitex.get_task_graph()"
   ]
  },
  {
   "cell_type": "markdown",
   "id": "47243a12",
   "metadata": {
    "slideshow": {
     "slide_type": "subslide"
    }
   },
   "source": [
    "## Noisy Expectation Value"
   ]
  },
  {
   "cell_type": "code",
   "execution_count": null,
   "id": "81b44d42",
   "metadata": {
    "slideshow": {
     "slide_type": "-"
    }
   },
   "outputs": [],
   "source": [
    "noisy_mitex = MitEx(noisy_backend)\n",
    "\n",
    "noisy_expectation = noisy_mitex.run(obs_exp_list)\n",
    "print(f\"Noisy expectation: {noisy_expectation[0]}\")"
   ]
  },
  {
   "cell_type": "markdown",
   "id": "3ada38b5",
   "metadata": {
    "slideshow": {
     "slide_type": "subslide"
    }
   },
   "source": [
    "## ZNE Error-Mitigation with Qermit"
   ]
  },
  {
   "cell_type": "code",
   "execution_count": null,
   "id": "0a43d474",
   "metadata": {
    "slideshow": {
     "slide_type": "-"
    }
   },
   "outputs": [],
   "source": [
    "from qermit.zero_noise_extrapolation import gen_ZNE_MitEx, Fit, Folding\n",
    "\n",
    "zne_me = gen_ZNE_MitEx(backend=noisy_backend, \n",
    "                       noise_scaling_list=[9,7,5,3], \n",
    "                       fit_type=Fit.exponential, \n",
    "                       folding_type=Folding.circuit,\n",
    "                       show_fit=True)"
   ]
  },
  {
   "cell_type": "code",
   "execution_count": null,
   "id": "8a67a5f7",
   "metadata": {
    "slideshow": {
     "slide_type": "skip"
    }
   },
   "outputs": [],
   "source": [
    "import seaborn as sns \n",
    "sns.set_style(\"whitegrid\")"
   ]
  },
  {
   "cell_type": "code",
   "execution_count": null,
   "id": "f7adc781",
   "metadata": {
    "slideshow": {
     "slide_type": "subslide"
    }
   },
   "outputs": [],
   "source": [
    "zne_me.run(obs_exp_list)"
   ]
  },
  {
   "cell_type": "markdown",
   "id": "78b32f06",
   "metadata": {
    "slideshow": {
     "slide_type": "subslide"
    }
   },
   "source": [
    "## ZNE MitEx Task Graph"
   ]
  },
  {
   "cell_type": "code",
   "execution_count": null,
   "id": "93743d7f",
   "metadata": {
    "scrolled": false,
    "slideshow": {
     "slide_type": "skip"
    }
   },
   "outputs": [],
   "source": [
    "zne_me.get_task_graph()"
   ]
  },
  {
   "cell_type": "markdown",
   "id": "82b74f6a",
   "metadata": {
    "slideshow": {
     "slide_type": "subslide"
    }
   },
   "source": [
    "## ZNE Options and Design\n",
    "\n",
    "There are several alternatives when building a ZNE task graph. "
   ]
  },
  {
   "cell_type": "code",
   "execution_count": null,
   "id": "2a0685a3",
   "metadata": {
    "slideshow": {
     "slide_type": "fragment"
    }
   },
   "outputs": [],
   "source": [
    "alt_zne_me = gen_ZNE_MitEx(backend=noisy_backend, \n",
    "                       noise_scaling_list=[5,4,3,2], \n",
    "                       fit_type=Fit.richardson, \n",
    "                       folding_type=Folding.gate,\n",
    "                       show_fit=True)"
   ]
  },
  {
   "cell_type": "markdown",
   "id": "876d4ba5",
   "metadata": {
    "slideshow": {
     "slide_type": "fragment"
    }
   },
   "source": [
    "Your favourites are available:\n",
    "- Folding: `circuit`, `gate`, `odd_gate`\n",
    "- Fit: `poly_exponential`, `exponential`, `polynomial`, `linear`, `richardson`\n",
    "\n",
    "For many `MitEx` objects there are several options to personalise, without interacting directly with the `TaskGraph`."
   ]
  },
  {
   "cell_type": "markdown",
   "id": "cd3950df",
   "metadata": {
    "slideshow": {
     "slide_type": "slide"
    }
   },
   "source": [
    "# Advanced Qermit Use\n",
    "\n",
    "We have seen:\n",
    "- `MitRes` and `MitEx` objects.\n",
    "- Use of predefined `MitRes` and `MitEx` objects, such as SPAM and ZNE.\n",
    "- Personalised use of predefined objects.\n",
    "\n",
    "We'll now look at some more advanced use cases:\n",
    "- Combining error-mitigation protocols.\n",
    "- Constructing original protocols."
   ]
  },
  {
   "cell_type": "markdown",
   "id": "fcd9ff2b",
   "metadata": {
    "slideshow": {
     "slide_type": "subslide"
    }
   },
   "source": [
    "## Combining Error-Mitigation Schemes"
   ]
  },
  {
   "cell_type": "code",
   "execution_count": null,
   "id": "d4e16193",
   "metadata": {
    "scrolled": false,
    "slideshow": {
     "slide_type": "-"
    }
   },
   "outputs": [],
   "source": [
    "zne_spam_me = gen_ZNE_MitEx(backend=noisy_backend, \n",
    "                       noise_scaling_list=[9,7,5,3], \n",
    "                       fit_type=Fit.exponential, \n",
    "                       show_fit=True,\n",
    "                       experiment_mitres=spam_mr)"
   ]
  },
  {
   "cell_type": "markdown",
   "id": "a138689f",
   "metadata": {
    "slideshow": {
     "slide_type": "subslide"
    }
   },
   "source": [
    "## Combined ZNE SPAM Task Graph"
   ]
  },
  {
   "cell_type": "code",
   "execution_count": null,
   "id": "3559f60a",
   "metadata": {
    "slideshow": {
     "slide_type": "skip"
    }
   },
   "outputs": [],
   "source": [
    "zne_spam_me.get_task_graph()"
   ]
  },
  {
   "cell_type": "code",
   "execution_count": null,
   "id": "862d7d76",
   "metadata": {
    "slideshow": {
     "slide_type": "subslide"
    }
   },
   "outputs": [],
   "source": [
    "zne_spam_me.run(obs_exp_list)"
   ]
  },
  {
   "cell_type": "markdown",
   "id": "75163c0c",
   "metadata": {
    "slideshow": {
     "slide_type": "skip"
    }
   },
   "source": [
    "## Clifford Data Regression"
   ]
  },
  {
   "cell_type": "code",
   "execution_count": null,
   "id": "a0844b95",
   "metadata": {
    "scrolled": false,
    "slideshow": {
     "slide_type": "skip"
    }
   },
   "outputs": [],
   "source": [
    "from qermit.clifford_noise_characterisation import gen_CDR_MitEx\n",
    "\n",
    "cdr_mitex = gen_CDR_MitEx(device_backend = noisy_backend,\n",
    "                      simulator_backend = ideal_backend,\n",
    "                      n_non_cliffords = 5,\n",
    "                      n_pairs = 3,\n",
    "                      total_state_circuits = 50)"
   ]
  },
  {
   "cell_type": "markdown",
   "id": "31a32960",
   "metadata": {
    "slideshow": {
     "slide_type": "skip"
    }
   },
   "source": [
    "## CDR Task Graph"
   ]
  },
  {
   "cell_type": "code",
   "execution_count": null,
   "id": "88c35cf5",
   "metadata": {
    "slideshow": {
     "slide_type": "skip"
    }
   },
   "outputs": [],
   "source": [
    "cdr_mitex.get_task_graph()"
   ]
  },
  {
   "cell_type": "code",
   "execution_count": null,
   "id": "8e56a823",
   "metadata": {
    "slideshow": {
     "slide_type": "skip"
    }
   },
   "outputs": [],
   "source": [
    "cdr_mitex.run(obs_exp_list)"
   ]
  },
  {
   "cell_type": "markdown",
   "id": "745ca435",
   "metadata": {
    "slideshow": {
     "slide_type": "subslide"
    }
   },
   "source": [
    "## Developing Original Error-Mitigation Protocols"
   ]
  },
  {
   "cell_type": "code",
   "execution_count": null,
   "id": "79470c2e",
   "metadata": {
    "slideshow": {
     "slide_type": "-"
    }
   },
   "outputs": [],
   "source": [
    "noisy_backend = AerBackend(depolarizing_noise_model(5, 0, 0, 0.25))\n",
    "noisy_mitres = gen_compiled_MitRes(noisy_backend, optimisation_level=0)"
   ]
  },
  {
   "cell_type": "code",
   "execution_count": null,
   "id": "c9d1fee1",
   "metadata": {
    "slideshow": {
     "slide_type": "subslide"
    }
   },
   "outputs": [],
   "source": [
    "circ = Circuit(2)\n",
    "circ.X(1).measure_all()\n",
    "render_circuit_jupyter(circ)"
   ]
  },
  {
   "cell_type": "code",
   "execution_count": null,
   "id": "21d8bb22",
   "metadata": {
    "slideshow": {
     "slide_type": "subslide"
    }
   },
   "outputs": [],
   "source": [
    "circ_shots_list = [CircuitShots(circ, n_shots)]\n",
    "\n",
    "result_list = noisy_mitres.run(circ_shots_list)\n",
    "result_counts = result_list[0].get_counts()\n",
    "plot_counts(result_counts)"
   ]
  },
  {
   "cell_type": "markdown",
   "id": "f527f933",
   "metadata": {
    "slideshow": {
     "slide_type": "subslide"
    }
   },
   "source": [
    "## Find Zero MitRes TaskGraph"
   ]
  },
  {
   "cell_type": "code",
   "execution_count": null,
   "id": "4f4cb49b",
   "metadata": {
    "slideshow": {
     "slide_type": "subslide"
    }
   },
   "outputs": [],
   "source": [
    "from pytket import OpType\n",
    "\n",
    "def gen_find_zeros_task():\n",
    "    \n",
    "    def task(obj, circ_shots_list):\n",
    "        \n",
    "        zero_loc_list = []\n",
    "        circ_size_list = []\n",
    "        \n",
    "        for circ_shot in circ_shots_list:\n",
    "            not_zero_loc = []\n",
    "            for command in circ_shot.Circuit.get_commands():\n",
    "                if not command.op.type == OpType.Measure:\n",
    "                    not_zero_loc.extend(command.qubits)\n",
    "            zero_loc = [loc for loc in circ_shot.Circuit.qubits if loc not in not_zero_loc]\n",
    "            zero_loc_list.append(zero_loc)\n",
    "            circ_size_list.append(circ_shot.Circuit.n_qubits)\n",
    "        \n",
    "        return (circ_shots_list, zero_loc_list, circ_size_list, )\n",
    "    \n",
    "    return MitTask(_label=\"FindZeros\", _n_out_wires=3, _n_in_wires=1, _method=task)"
   ]
  },
  {
   "cell_type": "code",
   "execution_count": null,
   "id": "a020b4f7",
   "metadata": {
    "slideshow": {
     "slide_type": "subslide"
    }
   },
   "outputs": [],
   "source": [
    "from pytket.backends.backendresult import BackendResult\n",
    "\n",
    "def gen_remove_ones_task():\n",
    "    \n",
    "    def task(obj, result_list, zero_loc_list, circ_size_list) -> Tuple[List[BackendResult]]:\n",
    "        \n",
    "        mitigated_result_list = []\n",
    "        for result, zero_loc, circ_size in zip(result_list, zero_loc_list, circ_size_list):\n",
    "            \n",
    "            result_dict = result.to_dict()\n",
    "            result_shots_array = result_dict['shots']['array']\n",
    "            \n",
    "            mitigated_result_shots_array = []\n",
    "            for result_shots in result_shots_array:\n",
    "                            \n",
    "                result_shot_binary = bin(result_shots[0])[2:].zfill(8)[:circ_size][::-1]\n",
    "                delete_shot = False\n",
    "                for zero in zero_loc:\n",
    "                    if result_shot_binary[zero.index[0]] == \"1\":\n",
    "                        delete_shot = True\n",
    "                if not delete_shot:\n",
    "                    mitigated_result_shots_array.append(result_shots)\n",
    "            \n",
    "            result_dict['shots']['array'] = mitigated_result_shots_array\n",
    "            mitigated_result = BackendResult.from_dict(result_dict)\n",
    "            mitigated_result_list.append(mitigated_result)\n",
    "\n",
    "        return (mitigated_result_list, )\n",
    "    \n",
    "    return MitTask(_label=\"RemoveOnes\", _n_out_wires=1, _n_in_wires=3, _method=task)"
   ]
  },
  {
   "cell_type": "code",
   "execution_count": null,
   "id": "4587503b",
   "metadata": {
    "slideshow": {
     "slide_type": "subslide"
    }
   },
   "outputs": [],
   "source": [
    "from qermit.taskgraph.task_graph import TaskGraph\n",
    "from typing import Tuple, List\n",
    "from qermit.taskgraph.mittask import MitTask\n",
    "\n",
    "taskgraph = TaskGraph().from_TaskGraph(noisy_mitres)\n",
    "\n",
    "taskgraph.add_wire()\n",
    "taskgraph.add_wire()\n",
    "\n",
    "taskgraph.prepend(gen_find_zeros_task())\n",
    "taskgraph.append(gen_remove_ones_task())\n",
    "\n",
    "find_zero_mitres = MitRes(noisy_mitres).from_TaskGraph(taskgraph)"
   ]
  },
  {
   "cell_type": "code",
   "execution_count": null,
   "id": "7a9ef92c",
   "metadata": {
    "slideshow": {
     "slide_type": "skip"
    }
   },
   "outputs": [],
   "source": [
    "find_zero_mitres.get_task_graph()"
   ]
  },
  {
   "cell_type": "code",
   "execution_count": null,
   "id": "001fe104",
   "metadata": {
    "slideshow": {
     "slide_type": "subslide"
    }
   },
   "outputs": [],
   "source": [
    "result_list = find_zero_mitres.run(circ_shots_list)\n",
    "result_counts = result_list[0].get_counts()\n",
    "plot_counts(result_counts)"
   ]
  },
  {
   "cell_type": "markdown",
   "id": "f7113244",
   "metadata": {
    "slideshow": {
     "slide_type": "slide"
    }
   },
   "source": [
    "<center> <h1> Questions </h1> </center>"
   ]
  }
 ],
 "metadata": {
  "celltoolbar": "Slideshow",
  "kernelspec": {
   "display_name": "Python 3 (ipykernel)",
   "language": "python",
   "name": "python3"
  },
  "language_info": {
   "codemirror_mode": {
    "name": "ipython",
    "version": 3
   },
   "file_extension": ".py",
   "mimetype": "text/x-python",
   "name": "python",
   "nbconvert_exporter": "python",
   "pygments_lexer": "ipython3",
   "version": "3.9.13"
  }
 },
 "nbformat": 4,
 "nbformat_minor": 5
}
