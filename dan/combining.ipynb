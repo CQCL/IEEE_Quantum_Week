{
 "cells": [
  {
   "cell_type": "markdown",
   "id": "fea2f877",
   "metadata": {
    "slideshow": {
     "slide_type": "slide"
    }
   },
   "source": [
    "# Error-Mitigation With Qermit\n",
    "\n",
    "Installation:\n",
    "<p><center> <code> pip install qermit </code> </center></p>\n",
    "<p>Documentation and examples are available at -> <a href=\"https://cqcl.github.io/qermit/\">https://cqcl.github.io/qermit/</a>.</p>\n",
    "<p>Manual is available at -> <a href=\"https://cqcl.github.io/qermit/manual/\">https://cqcl.github.io/qermit/manual/</a>.</p>\n",
    "<p>Repository itself is available at -> <a href=\"https://github.com/CQCL/qermit\">https://github.com/CQCL/qermit</a>.</p>"
   ]
  },
  {
   "cell_type": "markdown",
   "id": "707d85e2",
   "metadata": {
    "slideshow": {
     "slide_type": "slide"
    }
   },
   "source": [
    "## Constructing a SPAM + Depolarising Noise Model"
   ]
  },
  {
   "cell_type": "code",
   "execution_count": null,
   "id": "6e0234a1",
   "metadata": {
    "code_folding": [],
    "slideshow": {
     "slide_type": "fragment"
    }
   },
   "outputs": [],
   "source": [
    "import qiskit.providers.aer.noise as noise\n",
    "from pytket.extensions.qiskit import AerBackend\n",
    "\n",
    "def depolarizing_noise_model(n_qubits, prob_1, prob_2, prob_ro):\n",
    "    # All to all atchetecture, with depolarising noise in all gates\n",
    "    # and readout error.\n",
    "\n",
    "    noise_model = noise.NoiseModel()\n",
    "\n",
    "    # Depolarizing 2 qubit errors\n",
    "    error_2 = noise.depolarizing_error(prob_2, 2)\n",
    "    for edge in [[i,j] for i in range(n_qubits) for j in range(i)]:\n",
    "        noise_model.add_quantum_error(error_2, ['cx'], [edge[0], edge[1]])\n",
    "        noise_model.add_quantum_error(error_2, ['cx'], [edge[1], edge[0]])\n",
    "\n",
    "    # Depolarizing 1 qubit errors\n",
    "    error_1 = noise.depolarizing_error(prob_1, 1)\n",
    "    for node in range(n_qubits):\n",
    "        noise_model.add_quantum_error(error_1, ['h', 'rx', 'rz', 'u'], [node])\n",
    "        \n",
    "    # Readout errors\n",
    "    probabilities = [[1-prob_ro, prob_ro],[prob_ro, 1-prob_ro]]\n",
    "    error_ro = noise.ReadoutError(probabilities)\n",
    "    for i in range(n_qubits):\n",
    "        noise_model.add_readout_error(error_ro, [i])\n",
    "        \n",
    "    return noise_model\n",
    "\n",
    "n_qubits = 5\n",
    "prob_2 = 0.01\n",
    "\n",
    "noise_model = depolarizing_noise_model(n_qubits, prob_2*0.1, prob_2, 3*prob_2)\n",
    "noisy_backend = AerBackend(noise_model)"
   ]
  },
  {
   "cell_type": "markdown",
   "id": "92d6fd34",
   "metadata": {
    "slideshow": {
     "slide_type": "subslide"
    }
   },
   "source": [
    "## Generate Random Circuits"
   ]
  },
  {
   "cell_type": "code",
   "execution_count": null,
   "id": "1e30e93c",
   "metadata": {
    "slideshow": {
     "slide_type": "skip"
    }
   },
   "outputs": [],
   "source": [
    "from pytket import Circuit\n",
    "import numpy as np\n",
    "from scipy.stats import unitary_group\n",
    "from pytket.circuit import Unitary2qBox\n",
    "from pytket.circuit.display import render_circuit_jupyter\n",
    "\n",
    "def random_circ(n_qubits: int, depth: int, seed:int = None) -> Circuit:\n",
    "    \n",
    "    np.random.seed(seed)\n",
    "\n",
    "    c = Circuit(n_qubits)\n",
    "\n",
    "    for _ in range(depth):\n",
    "\n",
    "        qubits = np.random.permutation([i for i in range(n_qubits)])\n",
    "        qubit_pairs = [[qubits[i], qubits[i + 1]] for i in range(0, n_qubits - 1, 2)]\n",
    "\n",
    "        for pair in qubit_pairs:\n",
    "\n",
    "            # Generate random 4x4 unitary matrix.\n",
    "            SU4 = unitary_group.rvs(4)  # random unitary in SU4\n",
    "            SU4 = SU4 / (np.linalg.det(SU4) ** 0.25)\n",
    "            SU4 = np.matrix(SU4)\n",
    "\n",
    "            # Add gate corresponding to unitary.\n",
    "            c.add_unitary2qbox(Unitary2qBox(SU4), *pair)\n",
    "\n",
    "    return c\n",
    "\n",
    "rand_circ = random_circ(4, 3)\n",
    "render_circuit_jupyter(rand_circ)"
   ]
  },
  {
   "cell_type": "markdown",
   "id": "965c61af",
   "metadata": {
    "slideshow": {
     "slide_type": "slide"
    }
   },
   "source": [
    "## Ideal Expectation Value"
   ]
  },
  {
   "cell_type": "code",
   "execution_count": null,
   "id": "248d4758",
   "metadata": {
    "slideshow": {
     "slide_type": "fragment"
    }
   },
   "outputs": [],
   "source": [
    "from pytket.pauli import Pauli, QubitPauliString\n",
    "from pytket import Qubit \n",
    "from pytket.extensions.qiskit import AerStateBackend\n",
    "\n",
    "n_qubits = 4\n",
    "rand_circ = random_circ(n_qubits,n_qubits,seed=23126)\n",
    "\n",
    "ideal_backend = AerStateBackend()\n",
    "\n",
    "ideal_circuit = rand_circ.copy()\n",
    "ideal_circuit = ideal_backend.get_compiled_circuit(ideal_circuit)\n",
    "\n",
    "qps = QubitPauliString([Qubit(i) for i in range(n_qubits)], [Pauli.Z for i in range(n_qubits)])\n",
    "\n",
    "print(f\"Ideal expectation: {ideal_backend.get_pauli_expectation_value(ideal_circuit, qps)}\")"
   ]
  },
  {
   "cell_type": "markdown",
   "id": "47243a12",
   "metadata": {
    "slideshow": {
     "slide_type": "subslide"
    }
   },
   "source": [
    "## Noisy Expectation Value"
   ]
  },
  {
   "cell_type": "code",
   "execution_count": null,
   "id": "2c09f7f5",
   "metadata": {
    "slideshow": {
     "slide_type": "fragment"
    }
   },
   "outputs": [],
   "source": [
    "from pytket.utils import expectation_from_counts\n",
    "\n",
    "n_shots = 1000000\n",
    "\n",
    "compiled_circ = rand_circ.copy()\n",
    "compiled_circ.measure_all()\n",
    "compiled_circ = noisy_backend.get_compiled_circuit(compiled_circ, optimisation_level=0)\n",
    "\n",
    "result = noisy_backend.run_circuit(compiled_circ, n_shots=n_shots)\n",
    "print(f\"Noisy expectation: {expectation_from_counts(result.get_counts())}\")"
   ]
  },
  {
   "cell_type": "markdown",
   "id": "3ada38b5",
   "metadata": {
    "slideshow": {
     "slide_type": "subslide"
    }
   },
   "source": [
    "## Error Mitigation With ZNE"
   ]
  },
  {
   "cell_type": "code",
   "execution_count": null,
   "id": "0a43d474",
   "metadata": {
    "slideshow": {
     "slide_type": "fragment"
    }
   },
   "outputs": [],
   "source": [
    "from qermit.zero_noise_extrapolation import gen_ZNE_MitEx, Fit\n",
    "\n",
    "zne_me = gen_ZNE_MitEx(backend=noisy_backend, \n",
    "                       noise_scaling_list=[9,7,5,3], \n",
    "                       fit_type=Fit.exponential, \n",
    "                       show_fit=True)"
   ]
  },
  {
   "cell_type": "code",
   "execution_count": null,
   "id": "f7adc781",
   "metadata": {
    "slideshow": {
     "slide_type": "fragment"
    }
   },
   "outputs": [],
   "source": [
    "from pytket.utils import QubitPauliOperator\n",
    "from qermit import AnsatzCircuit, SymbolsDict, ObservableExperiment, ObservableTracker\n",
    "import seaborn as sns \n",
    "\n",
    "sns.set_style(\"whitegrid\")\n",
    "\n",
    "qpo = QubitPauliOperator({qps:1})\n",
    "ops_exp = ObservableExperiment(AnsatzCircuit(rand_circ, 10000, SymbolsDict()), ObservableTracker(qpo))\n",
    "zne_me.run([ops_exp])"
   ]
  },
  {
   "cell_type": "markdown",
   "id": "78b32f06",
   "metadata": {
    "slideshow": {
     "slide_type": "slide"
    }
   },
   "source": [
    "## ZNE Options and Design"
   ]
  },
  {
   "cell_type": "code",
   "execution_count": null,
   "id": "93743d7f",
   "metadata": {
    "scrolled": false,
    "slideshow": {
     "slide_type": "fragment"
    }
   },
   "outputs": [],
   "source": [
    "zne_me.get_task_graph()"
   ]
  },
  {
   "cell_type": "markdown",
   "id": "73acc194",
   "metadata": {
    "slideshow": {
     "slide_type": "slide"
    }
   },
   "source": [
    "## SPAM Error-Mitigation With Qermit"
   ]
  },
  {
   "cell_type": "code",
   "execution_count": null,
   "id": "1e6abd41",
   "metadata": {
    "slideshow": {
     "slide_type": "fragment"
    }
   },
   "outputs": [],
   "source": [
    "from qermit.spam import gen_UnCorrelated_SPAM_MitRes\n",
    "\n",
    "spam_mr = gen_UnCorrelated_SPAM_MitRes(noisy_backend, n_shots)\n",
    "spam_mr.get_task_graph()"
   ]
  },
  {
   "cell_type": "markdown",
   "id": "fcd9ff2b",
   "metadata": {
    "slideshow": {
     "slide_type": "subslide"
    }
   },
   "source": [
    "## Combining Error-Mitigation Schemes"
   ]
  },
  {
   "cell_type": "code",
   "execution_count": null,
   "id": "d4e16193",
   "metadata": {
    "scrolled": false,
    "slideshow": {
     "slide_type": "fragment"
    }
   },
   "outputs": [],
   "source": [
    "from qermit.zero_noise_extrapolation import gen_ZNE_MitEx, Fit, Folding\n",
    "\n",
    "zne_spam_me = gen_ZNE_MitEx(backend=noisy_backend, \n",
    "                       noise_scaling_list=[9,7,5,3], \n",
    "                       fit_type=Fit.exponential, \n",
    "                       folding_type=Folding.circuit,\n",
    "                       show_fit=True,\n",
    "                       experiment_mitres=spam_mr)\n",
    "zne_spam_me.get_task_graph()"
   ]
  },
  {
   "cell_type": "code",
   "execution_count": null,
   "id": "862d7d76",
   "metadata": {
    "slideshow": {
     "slide_type": "subslide"
    }
   },
   "outputs": [],
   "source": [
    "zne_spam_me.run([ops_exp])"
   ]
  },
  {
   "cell_type": "markdown",
   "id": "75163c0c",
   "metadata": {
    "slideshow": {
     "slide_type": "slide"
    }
   },
   "source": [
    "## Clifford Data Regression"
   ]
  },
  {
   "cell_type": "code",
   "execution_count": null,
   "id": "a0844b95",
   "metadata": {
    "scrolled": false,
    "slideshow": {
     "slide_type": "fragment"
    }
   },
   "outputs": [],
   "source": [
    "from qermit.clifford_noise_characterisation import gen_CDR_MitEx\n",
    "\n",
    "noiseless_backend = AerBackend()\n",
    "\n",
    "cdr_mitex = gen_CDR_MitEx(device_backend = noisy_backend,\n",
    "                      simulator_backend = noiseless_backend,\n",
    "                      n_non_cliffords = 5,\n",
    "                      n_pairs = 3,\n",
    "                      total_state_circuits = 50)\n",
    "\n",
    "cdr_mitex.get_task_graph()"
   ]
  },
  {
   "cell_type": "code",
   "execution_count": null,
   "id": "8e56a823",
   "metadata": {},
   "outputs": [],
   "source": [
    "cdr_mitex.run([ops_exp])"
   ]
  }
 ],
 "metadata": {
  "kernelspec": {
   "display_name": "Python 3 (ipykernel)",
   "language": "python",
   "name": "python3"
  },
  "language_info": {
   "codemirror_mode": {
    "name": "ipython",
    "version": 3
   },
   "file_extension": ".py",
   "mimetype": "text/x-python",
   "name": "python",
   "nbconvert_exporter": "python",
   "pygments_lexer": "ipython3",
   "version": "3.9.13"
  }
 },
 "nbformat": 4,
 "nbformat_minor": 5
}
