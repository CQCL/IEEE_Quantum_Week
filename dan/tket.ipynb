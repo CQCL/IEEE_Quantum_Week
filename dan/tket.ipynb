{
 "cells": [
  {
   "cell_type": "markdown",
   "id": "difficult-vietnam",
   "metadata": {
    "slideshow": {
     "slide_type": "slide"
    }
   },
   "source": [
    "# Developing and Executing Error-Mitigated NISQ Algorithms Across Devices and Simulators\n",
    "\n",
    "**Dan Mills**, Melf Johannsen, Silas Dilkes - Cambridge Quantum\n",
    "\n",
    "<daniel.mills@cambridgequantum.com>"
   ]
  },
  {
   "cell_type": "markdown",
   "id": "blessed-vietnam",
   "metadata": {
    "slideshow": {
     "slide_type": "subslide"
    }
   },
   "source": [
    "## Tutorial Contents\n",
    "\n",
    "Three parts, which will:\n",
    "1. Explore the tools available in Tket, providing a comprehensive, feature-focused tour of the platform.\n",
    "2. Introduce advanced usage of Tket, such as the development of bespoke compiler passes.\n",
    "3. Exemplify the use of Qermit, a package for the use, composition and design of error-mitigation protocols."
   ]
  },
  {
   "cell_type": "markdown",
   "id": "dried-client",
   "metadata": {
    "slideshow": {
     "slide_type": "fragment"
    }
   },
   "source": [
    "## Part One\n",
    "\n",
    "We will cover:\n",
    "1. Installing and getting started with Tket and it's extensions.\n",
    "2. Quantum gates, measurement and the construction of quantum circuits.\n",
    "3. Steps required to prepare circuits to be run on a quantum computer.\n",
    "4. Running circuits on quantum computers and classical simulators.\n",
    "5. Tools that enable moving code between devices and software packages."
   ]
  },
  {
   "cell_type": "markdown",
   "id": "fancy-suspension",
   "metadata": {
    "slideshow": {
     "slide_type": "slide"
    }
   },
   "source": [
    "# The State of Quantum Computers and Software Development Kits\n",
    "\n",
    "Noise:\n",
    "- Noisy Intermediate-Scale Quantum &rarr; low numbers of qubits and high error rates.\n",
    "- Error correction, break encryption, Grover's search &rarr; ❌\n",
    "\n",
    "Operations:\n",
    "- The devices will often only support a small fragment of quantum circuits.\n",
    "- Only possible to perform multi-qubit operations between specific pairs of qubits.\n",
    "\n",
    "Software:\n",
    "- Utilisation of desirable devices may be locked behind specific interface software."
   ]
  },
  {
   "cell_type": "markdown",
   "id": "exterior-alliance",
   "metadata": {
    "slideshow": {
     "slide_type": "subslide"
    }
   },
   "source": [
    "## What is tket?\n",
    "\n",
    "Tket is a software platform for the development and execution of gate-level quantum computation. \n",
    "\n",
    "<p><em><center>It automatically handles many of the intricacies of NISQ technology.</center></em></p>\n",
    "\n",
    "In Particular Tket:\n",
    "- Noise and operations &rarr; Provides state-of-the-art performance in circuit compilation. \n",
    "- Software &rarr; Facilitates platform-agnostic software development, allowing code reuse.\n",
    "\n",
    "<p><em><center> Frees the user to focus on the technique or project they are working on!</center></em></p>"
   ]
  },
  {
   "cell_type": "markdown",
   "id": "geographic-inside",
   "metadata": {
    "slideshow": {
     "slide_type": "subslide"
    }
   },
   "source": [
    "## Getting Started\n",
    "\n",
    "<p>There is currently an implementation of tket available in the form of the pytket python package.</p>\n",
    "<p><center> <code> pip install pytket </code> </center></p>\n",
    "<p>Additional extension modules are available for interfacing pytket with several quantum software packages, including: Qiskit, Cirq, pyQuil, and others.</p>\n",
    "<p><center> <code> pip install pytket-qiskit </code> </center></p>\n",
    "<p>Documentation and examples are available at <a href=\"https://cqcl.github.io/tket/pytket/api/\">https://cqcl.github.io/tket/pytket/api/</a>.</p>"
   ]
  },
  {
   "cell_type": "markdown",
   "id": "mighty-conditioning",
   "metadata": {
    "slideshow": {
     "slide_type": "slide"
    }
   },
   "source": [
    "# How Are Quantum Circuits Constructed?\n",
    "\n",
    "- Basic and advanced gates\n",
    "- Measurement"
   ]
  },
  {
   "cell_type": "markdown",
   "id": "soviet-lightning",
   "metadata": {
    "slideshow": {
     "slide_type": "subslide"
    }
   },
   "source": [
    "## Basic Gates\n",
    "\n",
    "Let's start by building a familiar circuit to generate the bell pair:\n",
    "\\\\[ \\left| \\psi \\right\\rangle = \\frac{1}{\\sqrt{2}} \\left( \\left| 00 \\right\\rangle + \\left| 11 \\right\\rangle\\right) \\\\]\n",
    "The simplest way to build a circuit in pytket is by adding gates sequentially."
   ]
  },
  {
   "cell_type": "markdown",
   "id": "simplified-austin",
   "metadata": {
    "slideshow": {
     "slide_type": "fragment"
    }
   },
   "source": [
    "In bra-ket notation:\n",
    "\\\\[ \\mathsf{CX} ( \\mathsf{H} \\otimes \\mathsf{I} ) \\left| 00 \\right\\rangle = \\mathsf{CX} \\frac{1}{\\sqrt{2}}\\left( \\left| 0 \\right\\rangle + \\left| 1 \\right\\rangle \\right) \\left| 0 \\right\\rangle = \\frac{1}{\\sqrt{2}} \\left( \\left| 00 \\right\\rangle + \\left| 11 \\right\\rangle\\right)\\\\]\n",
    "where:\n",
    "\\\\[ \\mathsf{CX} = \n",
    "\\begin{bmatrix}\n",
    "    1 & 0 & 0 & 0\\\\\n",
    "    0 & 1 & 0 & 0\\\\\n",
    "    0 & 0 & 0 & 1\\\\\n",
    "    0 & 0 & 1 & 0\n",
    "\\end{bmatrix}\n",
    "\\quad\n",
    "\\text{and}\n",
    "\\quad\n",
    "\\mathsf{H} = \\frac{1}{\\sqrt{2}}\n",
    "\\begin{bmatrix}\n",
    "    1 & 1 \\\\\n",
    "    1 & -1\n",
    "\\end{bmatrix}\n",
    "\\\\]"
   ]
  },
  {
   "cell_type": "markdown",
   "id": "raising-underground",
   "metadata": {
    "slideshow": {
     "slide_type": "subslide"
    }
   },
   "source": [
    "The <code>Circuit</code> class is the unit of computation sent to a quantum processor."
   ]
  },
  {
   "cell_type": "code",
   "execution_count": null,
   "id": "durable-bosnia",
   "metadata": {
    "slideshow": {
     "slide_type": "fragment"
    }
   },
   "outputs": [],
   "source": [
    "from pytket import Circuit\n",
    "from pytket.circuit.display import render_circuit_jupyter\n",
    "\n",
    "circ = Circuit(2)\n",
    "circ.H(0).CX(0,1)\n",
    "\n",
    "render_circuit_jupyter(circ)"
   ]
  },
  {
   "cell_type": "markdown",
   "id": "lesbian-mount",
   "metadata": {
    "slideshow": {
     "slide_type": "fragment"
    }
   },
   "source": [
    "Gates are added in order of execution. The circuit is typically assumed to act on the state \\\\(\\left| 0^n \\right\\rangle\\\\), producing a new state at the end."
   ]
  },
  {
   "cell_type": "code",
   "execution_count": null,
   "id": "decimal-buffalo",
   "metadata": {
    "slideshow": {
     "slide_type": "subslide"
    }
   },
   "outputs": [],
   "source": [
    "from pytket.extensions.qiskit import AerStateBackend\n",
    "import numpy as np\n",
    "\n",
    "backend = AerStateBackend()\n",
    "result = backend.run_circuit(circ)\n",
    "result_state = result.get_state()\n",
    "\n",
    "print(f\"State verctor -> {np.round(result_state, 3)}\")"
   ]
  },
  {
   "cell_type": "markdown",
   "id": "under-hygiene",
   "metadata": {
    "slideshow": {
     "slide_type": "fragment"
    }
   },
   "source": [
    "\\\\[ \\left| \\psi \\right\\rangle = \\frac{1}{\\sqrt{2}} \\left( \\left| 00 \\right\\rangle + \\left| 11 \\right\\rangle\\right) \\\\]"
   ]
  },
  {
   "cell_type": "markdown",
   "id": "grand-banner",
   "metadata": {
    "slideshow": {
     "slide_type": "subslide"
    }
   },
   "source": [
    "Tket also includes a plethora of other gates, including:\n",
    "- Paramterised gates &rarr; angle given first, and in units of \\\\( \\pi \\\\).\n",
    "- Control gates &rarr; control qubits given first, then target.\n",
    "\n",
    "Less common gates available through <code>OpType</code> enum."
   ]
  },
  {
   "cell_type": "code",
   "execution_count": null,
   "id": "large-terminology",
   "metadata": {
    "slideshow": {
     "slide_type": "fragment"
    }
   },
   "outputs": [],
   "source": [
    "from pytket import OpType\n",
    "\n",
    "circ = Circuit(3)\n",
    "\n",
    "circ.Rx(0.5, 0)\n",
    "circ.CRz(0.3, 1, 2)\n",
    "circ.add_gate(OpType.CnX, [0, 2, 1])\n",
    "\n",
    "render_circuit_jupyter(circ)"
   ]
  },
  {
   "cell_type": "markdown",
   "id": "blessed-transparency",
   "metadata": {
    "slideshow": {
     "slide_type": "subslide"
    }
   },
   "source": [
    "## Device Specific Gates\n",
    "\n",
    "You'll find gate for a selection of devices in pytket. These include devices from Rigetti, IBM, OQC, Google, etc.\n",
    "\n",
    "In the case of the HQS devices, an instance of the \\\\( \\mathsf{ZZPhase} \\\\) is native.\n",
    "\\\\[ \\mathsf{ZZPhase} : \\left( \\alpha \\right) \\rightarrow e^{-\\frac{1}{2} i \\pi \\alpha \\mathsf{Z} \\otimes \\mathsf{Z}} = \n",
    "\\begin{bmatrix}\n",
    "    e^{-\\frac{1}{2} i \\pi \\alpha} & 0 & 0 & 0\\\\\n",
    "    0 & e^{\\frac{1}{2} i \\pi \\alpha} & 0 & 0\\\\\n",
    "    0 & 0 & e^{\\frac{1}{2} i \\pi \\alpha} & 0\\\\\n",
    "    0 & 0 & 0 & e^{-\\frac{1}{2} i \\pi \\alpha}\n",
    "\\end{bmatrix} \n",
    "\\\\]\n",
    "In particular \\\\( \\mathsf{ZZPhase}\\left( \\frac{1}{2} \\right) \\\\) is used, and can be accessed as the \\\\( \\mathsf{ZZMax} \\\\) gate via pytket."
   ]
  },
  {
   "cell_type": "code",
   "execution_count": null,
   "id": "forced-satin",
   "metadata": {
    "slideshow": {
     "slide_type": "subslide"
    }
   },
   "outputs": [],
   "source": [
    "circ = Circuit(4)\n",
    "\n",
    "circ.add_gate(OpType.ZZPhase, 0.7, [0, 2])\n",
    "circ.add_gate(OpType.ZZMax, [1, 3])\n",
    "circ.add_gate(OpType.PhasedX, [-0.1, 0.5], [3])\n",
    "\n",
    "render_circuit_jupyter(circ)"
   ]
  },
  {
   "cell_type": "markdown",
   "id": "nuclear-friend",
   "metadata": {
    "slideshow": {
     "slide_type": "subslide"
    }
   },
   "source": [
    "## Universal gate sets\n",
    "\n",
    "Native gates for devices are typically as subset of all quantum gates. However this set is *universal*. \n",
    "- A set of universal quantum gates is any set of gates to which any operation possible on a quantum computer can be reduced. \n",
    "- The Solovay–Kitaev theorem guarantees that any quantum operation can be efficiently approximated by a sequence of gates from this finite set.\n",
    "\n",
    "The gate set \\\\( \\{ \\mathsf{ZZMax} , \\mathsf{PhasedX} , \\mathsf{Rx} \\} \\\\), which is avilable on the HQS devices, is universal."
   ]
  },
  {
   "cell_type": "markdown",
   "id": "clear-longer",
   "metadata": {
    "slideshow": {
     "slide_type": "fragment"
    }
   },
   "source": [
    "\\\\(\\textsf{TK1}\\\\) and \\\\(\\textsf{CNOT}\\\\) are together universal. Any single qubit gate can be implemented using the \\\\( \\textsf{TK1} \\\\) gate.\n",
    "\n",
    "\\\\[ \\textsf{TK1} : \\left( \\alpha , \\beta , \\gamma \\right) \\rightarrow \\textsf{RZ} \\left( \\alpha \\right) \\textsf{RX} \\left( \\beta \\right) \\textsf{RZ} \\left( \\gamma \\right) \\\\]"
   ]
  },
  {
   "cell_type": "code",
   "execution_count": null,
   "id": "accepting-metallic",
   "metadata": {
    "slideshow": {
     "slide_type": "subslide"
    }
   },
   "outputs": [],
   "source": [
    "angles = [0.1, 0.2, 0.3]\n",
    "\n",
    "circ_tk = Circuit(1)\n",
    "circ_tk.add_gate(OpType.TK1, angles, [0])\n",
    "render_circuit_jupyter(circ_tk)\n",
    "\n",
    "circ_r = Circuit(1)\n",
    "circ_r.Rz(angles[2], 0).Rx(angles[1], 0).Rz(angles[0], 0)\n",
    "render_circuit_jupyter(circ_r)"
   ]
  },
  {
   "cell_type": "markdown",
   "id": "automated-bangladesh",
   "metadata": {
    "slideshow": {
     "slide_type": "subslide"
    }
   },
   "source": [
    "## Arbitrary Two Qubit Gates\n",
    "\n",
    "As well as arbitrary single qubit gates, implemented via the \\\\( \\textsf{TK1} \\\\) gate, pytket allows for arbitrary two qubit, and indeed three qubit, gates to be defined using unitary matrices."
   ]
  },
  {
   "cell_type": "code",
   "execution_count": null,
   "id": "adapted-guest",
   "metadata": {
    "slideshow": {
     "slide_type": "fragment"
    }
   },
   "outputs": [],
   "source": [
    "from pytket.circuit import Unitary2qBox\n",
    "from scipy.stats import unitary_group\n",
    "\n",
    "x = unitary_group.rvs(4)\n",
    "two_q_box = Unitary2qBox(x)\n",
    "print(np.around(two_q_box.get_matrix(), 2))"
   ]
  },
  {
   "cell_type": "code",
   "execution_count": null,
   "id": "urban-movie",
   "metadata": {
    "slideshow": {
     "slide_type": "fragment"
    }
   },
   "outputs": [],
   "source": [
    "circ = Circuit(3).H(0).H(1).H(2)\n",
    "circ.add_unitary2qbox(two_q_box, qubit_0=0, qubit_1=2)\n",
    "\n",
    "render_circuit_jupyter(circ)"
   ]
  },
  {
   "cell_type": "code",
   "execution_count": null,
   "id": "human-gardening",
   "metadata": {
    "slideshow": {
     "slide_type": "subslide"
    }
   },
   "outputs": [],
   "source": [
    "from pytket.circuit import Unitary3qBox\n",
    "\n",
    "circ = Circuit(3).H(0).H(1).H(2)\n",
    "\n",
    "x = unitary_group.rvs(8)\n",
    "unitary_circ = Unitary3qBox(x).get_circuit()\n",
    "circ.add_circuit(unitary_circ, circ.qubits)\n",
    "\n",
    "render_circuit_jupyter(circ)"
   ]
  },
  {
   "cell_type": "markdown",
   "id": "impressed-suffering",
   "metadata": {
    "slideshow": {
     "slide_type": "subslide"
    }
   },
   "source": [
    "## Measurement\n",
    "\n",
    "Measurements produce classical data from the resulting state. \n",
    "- All measurements are single-qubit measurements in the \\\\( \\mathsf{Z} \\\\) basis.\n",
    "- Other forms of measurements can be constructed by combining these with other operations."
   ]
  },
  {
   "cell_type": "code",
   "execution_count": null,
   "id": "successful-contrast",
   "metadata": {
    "slideshow": {
     "slide_type": "skip"
    }
   },
   "outputs": [],
   "source": [
    "import pandas as pd\n",
    "import seaborn as sns\n",
    "import matplotlib.pyplot as plt\n",
    "\n",
    "def plot_state_probs(state):\n",
    "    state_dict = {'State':[i for i in range(len(result_state))], 'Probability':abs(state)**2}\n",
    "    state_df = pd.DataFrame(state_dict)\n",
    "    sns.catplot(x='State', y='Probability', kind='bar', data=state_df, aspect = 3, height=2)\n",
    "    plt.show()\n",
    "    \n",
    "def plot_counts(counts):\n",
    "    counts_record = [{\"State\":state, \"Count\":count} for state, count in counts.items()]\n",
    "    count_df = pd.DataFrame().from_records(counts_record)\n",
    "    sns.catplot(x='State', y='Count', kind='bar', data=count_df, aspect = 3, height=2)\n",
    "    plt.show()"
   ]
  },
  {
   "cell_type": "code",
   "execution_count": null,
   "id": "southeast-spouse",
   "metadata": {
    "slideshow": {
     "slide_type": "subslide"
    }
   },
   "outputs": [],
   "source": [
    "circ = Circuit(2).H(0).CX(0,1)\n",
    "\n",
    "backend = AerStateBackend()\n",
    "result_state = backend.run_circuit(circ).get_state()\n",
    "\n",
    "render_circuit_jupyter(circ)\n",
    "print(f\"State verctor -> {np.round(result_state, 3)}\")\n",
    "plot_state_probs(result_state)"
   ]
  },
  {
   "cell_type": "code",
   "execution_count": null,
   "id": "running-domestic",
   "metadata": {
    "slideshow": {
     "slide_type": "subslide"
    }
   },
   "outputs": [],
   "source": [
    "circ = Circuit(2,2).H(0).CX(0,1).measure_all()\n",
    "render_circuit_jupyter(circ)"
   ]
  },
  {
   "cell_type": "code",
   "execution_count": null,
   "id": "compound-thanks",
   "metadata": {
    "slideshow": {
     "slide_type": "fragment"
    }
   },
   "outputs": [],
   "source": [
    "from pytket.extensions.qiskit import AerBackend\n",
    "\n",
    "backend = AerBackend()\n",
    "result_counts = backend.run_circuit(circ, n_shots=1000).get_counts()\n",
    "plot_counts(result_counts)"
   ]
  },
  {
   "cell_type": "code",
   "execution_count": null,
   "id": "living-tracy",
   "metadata": {
    "slideshow": {
     "slide_type": "subslide"
    }
   },
   "outputs": [],
   "source": [
    "circ = Circuit(2,1).H(0).CX(0,1).Measure(1,0)\n",
    "render_circuit_jupyter(circ)\n",
    "\n",
    "backend = AerBackend()\n",
    "result_counts = backend.run_circuit(circ, n_shots=1000).get_counts()\n",
    "plot_counts(result_counts)"
   ]
  },
  {
   "cell_type": "markdown",
   "id": "public-jonathan",
   "metadata": {
    "slideshow": {
     "slide_type": "fragment"
    }
   },
   "source": [
    "The first argument is the qubit to be measured and the second specifies the classical bit where the result is stored."
   ]
  },
  {
   "cell_type": "markdown",
   "id": "molecular-monte",
   "metadata": {
    "slideshow": {
     "slide_type": "slide"
    }
   },
   "source": [
    "# Preparing and Running Quantum Circuits\n",
    "\n",
    "In practice running on a real device is a little more complicated.\n",
    "- So far we have used ideal classical simulators, which are noise free, do not have architectures, have a diverse gate set."
   ]
  },
  {
   "cell_type": "code",
   "execution_count": null,
   "id": "industrial-letter",
   "metadata": {
    "slideshow": {
     "slide_type": "subslide"
    }
   },
   "outputs": [],
   "source": [
    "qft_circ=Circuit(3)\n",
    "\n",
    "qft_circ.H(0)\n",
    "qft_circ.CRz(0.5, 0, 1)\n",
    "qft_circ.CRz(0.25, 0, 2)\n",
    "\n",
    "qft_circ.H(1)\n",
    "qft_circ.CRz(0.5, 1, 2)\n",
    "\n",
    "qft_circ.H(2)\n",
    "\n",
    "qft_circ.SWAP(0,2)\n",
    "\n",
    "render_circuit_jupyter(qft_circ)"
   ]
  },
  {
   "cell_type": "code",
   "execution_count": null,
   "id": "specified-perfume",
   "metadata": {
    "slideshow": {
     "slide_type": "fragment"
    }
   },
   "outputs": [],
   "source": [
    "from pytket.extensions.qiskit import IBMQBackend\n",
    "dev_b = IBMQBackend(\"ibmq_belem\")\n",
    "print(dev_b.backend_info.gate_set)"
   ]
  },
  {
   "cell_type": "code",
   "execution_count": null,
   "id": "supreme-hungary",
   "metadata": {
    "slideshow": {
     "slide_type": "subslide"
    }
   },
   "outputs": [],
   "source": [
    "from pytket.utils import Graph\n",
    "Graph(qft_circ).get_qubit_graph()"
   ]
  },
  {
   "cell_type": "code",
   "execution_count": null,
   "id": "sought-maryland",
   "metadata": {
    "slideshow": {
     "slide_type": "fragment"
    }
   },
   "outputs": [],
   "source": [
    "import networkx as nx\n",
    "import matplotlib.pyplot as plt\n",
    "\n",
    "G = nx.Graph(dev_b.backend_info.architecture.coupling)\n",
    "plt.figure(figsize=(2,2))\n",
    "nx.draw(G)\n",
    "plt.show()"
   ]
  },
  {
   "cell_type": "code",
   "execution_count": null,
   "id": "modified-blank",
   "metadata": {
    "slideshow": {
     "slide_type": "subslide"
    }
   },
   "outputs": [],
   "source": [
    "compiled_qft_circ = dev_b.get_compiled_circuit(qft_circ)\n",
    "render_circuit_jupyter(compiled_qft_circ)"
   ]
  },
  {
   "cell_type": "code",
   "execution_count": null,
   "id": "universal-logan",
   "metadata": {
    "slideshow": {
     "slide_type": "fragment"
    }
   },
   "outputs": [],
   "source": [
    "print(\"Gate set:\", dev_b.backend_info.gate_set)"
   ]
  },
  {
   "cell_type": "code",
   "execution_count": null,
   "id": "unlimited-washington",
   "metadata": {
    "slideshow": {
     "slide_type": "subslide"
    }
   },
   "outputs": [],
   "source": [
    "Graph(compiled_qft_circ).get_qubit_graph()"
   ]
  },
  {
   "cell_type": "code",
   "execution_count": null,
   "id": "interstate-appraisal",
   "metadata": {
    "slideshow": {
     "slide_type": "fragment"
    }
   },
   "outputs": [],
   "source": [
    "G = nx.Graph(dev_b.backend_info.architecture.coupling)\n",
    "plt.figure(figsize=(3,3))\n",
    "nx.draw(G)\n",
    "plt.show()"
   ]
  },
  {
   "cell_type": "markdown",
   "id": "higher-greek",
   "metadata": {
    "slideshow": {
     "slide_type": "slide"
    }
   },
   "source": [
    "# Importing, Exporting and Analysing Quantum Circuits\n",
    "\n",
    "Tket allows users to:\n",
    "- Export circuits to commonly accepted standard representations.\n",
    "- Seamlessly move between software packages.\n",
    "- Analyse circuits to gauge their complexity."
   ]
  },
  {
   "cell_type": "markdown",
   "id": "thorough-rochester",
   "metadata": {
    "slideshow": {
     "slide_type": "subslide"
    }
   },
   "source": [
    "OpenQASM is one of the current industry standards for low-level circuit description languages and is widely supported. It servers as a platform-independent method of storing circuits. Tket has bidirectional conversion support for QASM."
   ]
  },
  {
   "cell_type": "code",
   "execution_count": null,
   "id": "killing-defensive",
   "metadata": {
    "slideshow": {
     "slide_type": "fragment"
    }
   },
   "outputs": [],
   "source": [
    "from pytket.qasm import circuit_from_qasm, circuit_to_qasm, circuit_to_qasm_str\n",
    "\n",
    "circ = circuit_from_qasm('example_circ.qasm')\n",
    "render_circuit_jupyter(circ)"
   ]
  },
  {
   "cell_type": "code",
   "execution_count": null,
   "id": "white-florence",
   "metadata": {
    "slideshow": {
     "slide_type": "subslide"
    }
   },
   "outputs": [],
   "source": [
    "print(circuit_to_qasm_str(circ))"
   ]
  },
  {
   "cell_type": "markdown",
   "id": "educational-canyon",
   "metadata": {
    "slideshow": {
     "slide_type": "subslide"
    }
   },
   "source": [
    "Converters for other quantum software frameworks can optionally be included by installing the corresponding extension module. These are additional PyPI packages with names pytket-X.\n",
    "<p><center> <code> pip install pytket-qiskit </code> </center></p>"
   ]
  },
  {
   "cell_type": "code",
   "execution_count": null,
   "id": "macro-queensland",
   "metadata": {
    "slideshow": {
     "slide_type": "fragment"
    }
   },
   "outputs": [],
   "source": [
    "from qiskit import QuantumCircuit\n",
    "\n",
    "qiskit_circ = QuantumCircuit(2, 2)\n",
    "\n",
    "qiskit_circ.h(0)\n",
    "qiskit_circ.cx(0, 1)\n",
    "\n",
    "qiskit_circ.draw(output='mpl')"
   ]
  },
  {
   "cell_type": "code",
   "execution_count": null,
   "id": "mineral-debut",
   "metadata": {
    "slideshow": {
     "slide_type": "subslide"
    }
   },
   "outputs": [],
   "source": [
    "from pytket.extensions.qiskit import qiskit_to_tk\n",
    "\n",
    "tket_circ = qiskit_to_tk(qiskit_circ)\n",
    "tket_circ.measure_all()\n",
    "\n",
    "render_circuit_jupyter(tket_circ)"
   ]
  },
  {
   "cell_type": "code",
   "execution_count": null,
   "id": "statewide-darkness",
   "metadata": {
    "slideshow": {
     "slide_type": "subslide"
    }
   },
   "outputs": [],
   "source": [
    "from pytket.extensions.qiskit import tk_to_qiskit\n",
    "from qiskit import Aer\n",
    "from qiskit import assemble\n",
    "\n",
    "sv_sim = Aer.get_backend('aer_simulator')\n",
    "\n",
    "tket_circ = Circuit(3).X(0).H(2).CX(0,1)\n",
    "qiskit_circ = tk_to_qiskit(tket_circ)\n",
    "qiskit_circ.measure_all()\n",
    "\n",
    "qobj = assemble(qiskit_circ, shots=1000)\n",
    "job = sv_sim.run(qobj)\n",
    "hist = job.result().get_counts()\n",
    "print(hist)"
   ]
  },
  {
   "cell_type": "markdown",
   "id": "piano-melbourne",
   "metadata": {
    "slideshow": {
     "slide_type": "subslide"
    }
   },
   "source": [
    "## Circuit Analysis\n",
    "\n",
    "Common circuit metrics like gate count and depth are used to approximate the difficulty of running it on a device, providing some basic tools to help distinguish different implementations of a given algorithm.\n",
    "- On NISQ technology two-qubit gates being much slower and noisier.\n",
    "- Looking forward to the fault-tolerant regime, we will expect Clifford gates to be very cheap, but the T gate to require an expensive distillation procedure."
   ]
  },
  {
   "cell_type": "code",
   "execution_count": null,
   "id": "convertible-polyester",
   "metadata": {
    "slideshow": {
     "slide_type": "fragment"
    }
   },
   "outputs": [],
   "source": [
    "print(f\"Number of gates = {circ.n_gates}\")\n",
    "print(f\"Circuit depth = {circ.depth()}\")\n",
    "print(f\"Number of T gates = {circ.n_gates_of_type(OpType.T)}\")"
   ]
  },
  {
   "cell_type": "markdown",
   "id": "prostate-boards",
   "metadata": {
    "slideshow": {
     "slide_type": "slide"
    }
   },
   "source": [
    "# Max-Cut Problem \n",
    "\n",
    "Consider a graph, consisting of verticies and edges connecting them. A cut of such a graph is a partition of the vertices of the graph into two sets. Max-cut is the problem of finding a partition which maximises the number of edges between the two sets."
   ]
  },
  {
   "cell_type": "code",
   "execution_count": null,
   "id": "contrary-continuity",
   "metadata": {
    "slideshow": {
     "slide_type": "fragment"
    }
   },
   "outputs": [],
   "source": [
    "G = nx.Graph()\n",
    "G.add_edges_from([(0,1), (1,2), (2,0)])\n",
    "plt.figure(figsize=(2,2))\n",
    "nx.draw(G, node_color=['red', 'blue', 'red'])\n",
    "plt.show()"
   ]
  },
  {
   "cell_type": "markdown",
   "id": "separate-smoke",
   "metadata": {
    "slideshow": {
     "slide_type": "fragment"
    }
   },
   "source": [
    "There are \\\\(2^3\\\\) possible assignments of colour to nodes. In general there are \\\\( 2^n \\\\). The Max-cut problem can then be stated as that of finding the colour assignment which maximises the number of edges between vertices of a different colour."
   ]
  },
  {
   "cell_type": "markdown",
   "id": "little-chinese",
   "metadata": {
    "slideshow": {
     "slide_type": "subslide"
    }
   },
   "source": [
    "## Quantum Approximate Optimization Algorithm (QAOA)\n",
    "\n",
    "Introduced in 'A Quantum Approximate Optimization Algorithm' (found at https://arxiv.org/abs/1411.4028). The idea is to prepare a quantum state which encodes a solution to the Max-cut problem. This is a variational algorithm, which is to say that a paramaterised state is prepared, with the paramaters varied to improve the solution. In particular, the state prepared has the form \n",
    "\\\\[ \\left| \\psi \\left( \\beta, \\gamma \\right) \\right\\rangle = U \\left( \\beta_m \\right) U \\left( \\gamma_m \\right) ... U \\left( \\beta_0 \\right) U \\left( \\gamma_0 \\right) \\left| \\psi_0 \\right\\rangle \\\\]\n",
    "where\n",
    "\\\\[ U \\left( \\beta_i \\right) = e^{i \\beta H_B} \\quad \\& \\quad U \\left( \\gamma_i \\right) = e^{i \\gamma H_P} \\\\]\n",
    "with \\\\( H_B \\\\) and \\\\( H_P \\\\) depending on the problem instance. "
   ]
  },
  {
   "cell_type": "markdown",
   "id": "together-girlfriend",
   "metadata": {
    "slideshow": {
     "slide_type": "subslide"
    }
   },
   "source": [
    "In this case the *problem Hamiltonian* is\n",
    "\\\\[ H_P = \\frac{1}{2 \\sqrt{2}} \\left[ \\left( Z \\otimes Z \\otimes I \\right) + \\left( Z \\otimes I \\otimes Z \\right) + \\left( I \\otimes Z \\otimes Z \\right) \\right] \\\\]\n",
    "where you will notice that there is a \\\\( Z \\otimes Z \\\\) acting between each vertex which is connected by an edge."
   ]
  },
  {
   "cell_type": "markdown",
   "id": "extensive-court",
   "metadata": {
    "slideshow": {
     "slide_type": "fragment"
    }
   },
   "source": [
    "The *mixer Hamiltonian* has the form \n",
    "\\\\[ H_B = \\frac{1}{2 \\sqrt{2}} \\left[ \\left( X \\otimes I \\otimes I \\right) + \\left( I \\otimes X \\otimes I \\right) + \\left( I \\otimes I \\otimes X \\right) \\right] \\\\]\n",
    "where you will notice that there is an \\\\( X \\\\) acting on each vertex."
   ]
  },
  {
   "cell_type": "markdown",
   "id": "ideal-basin",
   "metadata": {
    "slideshow": {
     "slide_type": "subslide"
    }
   },
   "source": [
    "## Symbolic Gates\n",
    "\n",
    "It is very common for an experiment to use many circuits with similar structure, but varying gate parameters. In variational algorithms like QAOA, we are trying to explore the energy landscape with respect to the circuit parameters. \n",
    "- The only differences between iterations of the optimisation procedure are the specific angles of rotations in the circuits. \n",
    "- Because the procedures of generating and compiling the circuits typically won’t care what the exact angles are, we can define the circuits abstractly, treating each parameter as an algebraic symbol. \n",
    "- sympy is a widely-used python package for symbolic expressions and algebraic manipulation, defining sympy.Symbol objects to represent algebraic variables and using them in sympy.Expression s to build mathematical statements and arithmetic expressions."
   ]
  },
  {
   "cell_type": "markdown",
   "id": "loaded-ireland",
   "metadata": {
    "slideshow": {
     "slide_type": "subslide"
    }
   },
   "source": [
    "## Mixing Unitary"
   ]
  },
  {
   "cell_type": "code",
   "execution_count": null,
   "id": "resident-whale",
   "metadata": {
    "slideshow": {
     "slide_type": "fragment"
    }
   },
   "outputs": [],
   "source": [
    "from pytket import Circuit\n",
    "from pytket.circuit import PauliExpBox\n",
    "from pytket.circuit import Pauli\n",
    "from pytket.passes import DecomposeBoxes\n",
    "from sympy import Symbol\n",
    "\n",
    "mixing_circ = Circuit(len(G.nodes()))\n",
    "beta = Symbol(\"beta\")\n",
    "\n",
    "for node in list(G.nodes()):\n",
    "    \n",
    "    paulis = [Pauli.I] * len(G.nodes())\n",
    "    paulis[node] = Pauli.X\n",
    "    \n",
    "    pauli_exp_box = PauliExpBox(paulis=paulis, t=beta)\n",
    "    mixing_circ.add_pauliexpbox(pauli_exp_box, list(G.nodes()))\n",
    "\n",
    "DecomposeBoxes().apply(mixing_circ)\n",
    "render_circuit_jupyter(mixing_circ)"
   ]
  },
  {
   "cell_type": "markdown",
   "id": "close-contact",
   "metadata": {
    "slideshow": {
     "slide_type": "subslide"
    }
   },
   "source": [
    "## Problem Unitary"
   ]
  },
  {
   "cell_type": "code",
   "execution_count": null,
   "id": "social-shepherd",
   "metadata": {
    "slideshow": {
     "slide_type": "fragment"
    }
   },
   "outputs": [],
   "source": [
    "problem_circ = Circuit(len(G.nodes()))\n",
    "gamma = Symbol(\"gamma\")\n",
    "\n",
    "for edge in list(G.edges()):\n",
    "        \n",
    "    paulis = [Pauli.I] * len(G.nodes())\n",
    "    paulis[edge[0]] = Pauli.Z\n",
    "    paulis[edge[1]] = Pauli.Z\n",
    "    \n",
    "    pauli_exp_box = PauliExpBox(paulis=paulis, t=gamma)\n",
    "    problem_circ.add_pauliexpbox(pauli_exp_box, list(G.nodes()))\n",
    "\n",
    "DecomposeBoxes().apply(problem_circ)\n",
    "render_circuit_jupyter(problem_circ)"
   ]
  },
  {
   "cell_type": "markdown",
   "id": "incorporated-printer",
   "metadata": {
    "slideshow": {
     "slide_type": "subslide"
    }
   },
   "source": [
    "## QAOA Circuit"
   ]
  },
  {
   "cell_type": "code",
   "execution_count": null,
   "id": "advanced-british",
   "metadata": {
    "slideshow": {
     "slide_type": "fragment"
    }
   },
   "outputs": [],
   "source": [
    "circ = Circuit(len(G.nodes()))\n",
    "\n",
    "for node in list(G.nodes()):\n",
    "    circ.H(node)\n",
    "circ.add_barrier(list(G.nodes()))  \n",
    "\n",
    "circ.append(problem_circ)\n",
    "circ.add_barrier(list(G.nodes()))  \n",
    "\n",
    "circ.append(mixing_circ)\n",
    "\n",
    "s_map = {beta:1.25, gamma:0.5}\n",
    "circ.symbol_substitution(s_map)\n",
    "\n",
    "render_circuit_jupyter(circ)"
   ]
  },
  {
   "cell_type": "markdown",
   "id": "elect-institution",
   "metadata": {
    "slideshow": {
     "slide_type": "slide"
    }
   },
   "source": [
    "<center> <h1> Questions </h1> </center>"
   ]
  }
 ],
 "metadata": {
  "celltoolbar": "Slideshow",
  "kernelspec": {
   "display_name": "Python 3 (ipykernel)",
   "language": "python",
   "name": "python3"
  },
  "language_info": {
   "codemirror_mode": {
    "name": "ipython",
    "version": 3
   },
   "file_extension": ".py",
   "mimetype": "text/x-python",
   "name": "python",
   "nbconvert_exporter": "python",
   "pygments_lexer": "ipython3",
   "version": "3.9.13"
  }
 },
 "nbformat": 4,
 "nbformat_minor": 5
}
