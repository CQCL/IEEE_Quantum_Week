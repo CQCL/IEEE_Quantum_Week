{
 "cells": [
  {
   "cell_type": "markdown",
   "id": "39a5f74c",
   "metadata": {
    "slideshow": {
     "slide_type": "slide"
    }
   },
   "source": [
    "# Developing and Executing Error-Mitigated NISQ Algorithms Across Devices and Simulators\n",
    "\n",
    "Cristina Cirstoiu &rarr; <cristina.cirstoiu@quantinuum.com>, \n",
    "\n",
    "Dan Mills &rarr; <daniel.mills@quantinuum.com>\n",
    "\n",
    "Quantinuum\n",
    "\n",
    "Notebooks and slides &rarr; https://github.com/CQCL/IEEE_Quantum_Week"
   ]
  },
  {
   "cell_type": "markdown",
   "id": "266917ae",
   "metadata": {
    "slideshow": {
     "slide_type": "subslide"
    }
   },
   "source": [
    "## Part Three\n",
    "\n",
    "We have covered:\n",
    "1. Explore the tools available in TKET, providing a comprehensive, feature-focused tour of the platform.\n",
    "2. Introduce noise, error mitigation and Qermit.\n",
    "\n",
    "We will cover:\n",
    "1. Introduction and getting started with Qermit.\n",
    "2. Out of the box error-mitigation with Qermit; `MitRes` and `MitEx`.\n",
    "3. Advanced use of Qermit to fine tune and combine error-mitigation schemes.\n",
    "4. Developing new error-mitigation schemes."
   ]
  },
  {
   "cell_type": "markdown",
   "id": "fea2f877",
   "metadata": {
    "slideshow": {
     "slide_type": "slide"
    }
   },
   "source": [
    "# Error-Mitigation & NISQ Devices\n",
    "\n",
    "Noise:\n",
    "- Noisy Intermediate-Scale Quantum &rarr; low numbers of qubits and high error rates.\n",
    "- Error correction, break encryption, Grover's search &rarr; ❌\n",
    "\n",
    "Error-Mitigation:\n",
    "- Trade reduced noise for increased circuit shots.\n",
    "- Moderate to no increase in qubit requirements, unlike with error-correction."
   ]
  },
  {
   "cell_type": "markdown",
   "id": "9ab25ea8",
   "metadata": {
    "slideshow": {
     "slide_type": "subslide"
    }
   },
   "source": [
    "## What is Qermit?\n",
    "\n",
    "An open-source python package for the design and execution of digital error-mitigation."
   ]
  },
  {
   "cell_type": "markdown",
   "id": "a17c8606",
   "metadata": {
    "slideshow": {
     "slide_type": "subslide"
    }
   },
   "source": [
    "By being implemented using TKET, Qermit is platform-agnostic, so may be used:\n",
    "- With a wide range of quantum hardware.\n",
    "- In conjunction with several common quantum software development kits."
   ]
  },
  {
   "cell_type": "markdown",
   "id": "2c69ecfb",
   "metadata": {
    "slideshow": {
     "slide_type": "fragment"
    }
   },
   "source": [
    "A common interface to the following protocols, and several variations upon them, is presently available: \n",
    "- ZNE, CDR, and PEC; which mitigate for errors in expectation value calculations.\n",
    "- Error-mitigation based on frame randomisation, and correction through characterisation of State Preparation And Measurement (SPAM) errors. "
   ]
  },
  {
   "cell_type": "markdown",
   "id": "9b6ab270",
   "metadata": {
    "slideshow": {
     "slide_type": "fragment"
    }
   },
   "source": [
    "Graph based architecture takes advantage of the modularity of error-mitigation schemes:\n",
    "- Sub-processes: circuit execution, circuit modification, model fitting, etc. \n",
    "- Vertices may be amended to adapt the protocol. \n",
    "- Sub-graphs and graphs may be reused and combined. "
   ]
  },
  {
   "cell_type": "markdown",
   "id": "7e75b6e3",
   "metadata": {
    "slideshow": {
     "slide_type": "subslide"
    }
   },
   "source": [
    "## Getting Started\n",
    "<p><center> <code> pip install qermit </code> </center></p>\n",
    "<p>Documentation and examples &rarr; <a href=\"www.qerm.it\">www.qerm.it</a>.</p>\n",
    "<p>Repository and manual &rarr; <a href=\"https://github.com/CQCL/qermit\">https://github.com/CQCL/Qermit</a>.</p>"
   ]
  },
  {
   "cell_type": "markdown",
   "id": "6fc51f44",
   "metadata": {
    "slideshow": {
     "slide_type": "slide"
    }
   },
   "source": [
    "# Shot Count Experiment\n",
    "\n",
    "There are two types of error mitigation methods in Qermit: \n",
    "- `MitRes` &rarr; modify the distribution of shots retrieved from a backend.\n",
    "- `MitEx` &rarr; return a modified expectation value estimator of some observable.\n",
    "\n",
    "MitRes and MitEx object may perform any modification of this form, or none.\n",
    "\n",
    "- Now &rarr; experiments where the output is a collection of shots.\n",
    "- Later &rarr; experiments where the output is an expectation value."
   ]
  },
  {
   "cell_type": "markdown",
   "id": "8f881533",
   "metadata": {
    "slideshow": {
     "slide_type": "fragment"
    }
   },
   "source": [
    "We will see experiments:\n",
    "- Conducted in raw TKET, and the equivalent in Qermit.\n",
    "- With and without errors.\n",
    "- Where errors have been mitigated by a Qermit `MitRes`."
   ]
  },
  {
   "cell_type": "markdown",
   "id": "36851f44",
   "metadata": {
    "slideshow": {
     "slide_type": "subslide"
    }
   },
   "source": [
    "## Ideal Shot Count\n",
    "\n",
    "Consider again the circuit to generate the bell pair:\n",
    "\\\\[ \\left| \\psi \\right\\rangle = \\frac{1}{\\sqrt{2}} \\left( \\left| 00 \\right\\rangle + \\left| 11 \\right\\rangle\\right) \\\\]"
   ]
  },
  {
   "cell_type": "code",
   "execution_count": 1,
   "id": "268cb02a",
   "metadata": {
    "slideshow": {
     "slide_type": "-"
    }
   },
   "outputs": [
    {
     "data": {
      "text/html": [
       "\n",
       "\n",
       "\n",
       "\n",
       "\n",
       "\n",
       "<iframe srcdoc=\"\n",
       "&lt;!DOCTYPE html&gt;\n",
       "&lt;html lang=&#34;en&#34;&gt;\n",
       "&lt;head&gt;\n",
       "    &lt;meta charset=&#34;UTF-8&#34;&gt;\n",
       "    &lt;script type=&#34;application/javascript&#34; src=&#34;https://cdn.jsdelivr.net/npm/vue@3&#34;&gt;&lt;/script&gt;\n",
       "    &lt;script type=&#34;application/javascript&#34; src=&#34;https://unpkg.com/pytket-circuit-renderer@0.2/dist/pytket-circuit-renderer.umd.js&#34;&gt;&lt;/script&gt;\n",
       "    &lt;link rel=&#34;stylesheet&#34; href=&#34;https://unpkg.com/pytket-circuit-renderer@0.2/dist/pytket-circuit-renderer.css&#34;&gt;\n",
       "&lt;/head&gt;\n",
       "&lt;body&gt;\n",
       "    &lt;div id=&#34;circuit-display-vue-container-3810bbff-7a7b-4614-980c-4614acd644a7&#34; class=&#34;pytket-circuit-display-container&#34;&gt;\n",
       "        &lt;div style=&#34;display: none&#34;&gt;\n",
       "            &lt;div id=&#34;circuit-json-to-display&#34;&gt;{&#34;bits&#34;: [[&#34;c&#34;, [0]], [&#34;c&#34;, [1]]], &#34;commands&#34;: [{&#34;args&#34;: [[&#34;q&#34;, [0]]], &#34;op&#34;: {&#34;type&#34;: &#34;H&#34;}}, {&#34;args&#34;: [[&#34;q&#34;, [0]], [&#34;q&#34;, [1]]], &#34;op&#34;: {&#34;type&#34;: &#34;CX&#34;}}, {&#34;args&#34;: [[&#34;q&#34;, [0]], [&#34;c&#34;, [0]]], &#34;op&#34;: {&#34;type&#34;: &#34;Measure&#34;}}, {&#34;args&#34;: [[&#34;q&#34;, [1]], [&#34;c&#34;, [1]]], &#34;op&#34;: {&#34;type&#34;: &#34;Measure&#34;}}], &#34;implicit_permutation&#34;: [[[&#34;q&#34;, [0]], [&#34;q&#34;, [0]]], [[&#34;q&#34;, [1]], [&#34;q&#34;, [1]]]], &#34;phase&#34;: &#34;0.0&#34;, &#34;qubits&#34;: [[&#34;q&#34;, [0]], [&#34;q&#34;, [1]]]}&lt;/div&gt;\n",
       "        &lt;/div&gt;\n",
       "        &lt;circuit-display-container :circuit-element-str=&#34;&#39;#circuit-json-to-display&#39;&#34;&gt;&lt;/circuit-display-container&gt;\n",
       "    &lt;/div&gt;\n",
       "    &lt;script type=&#34;application/javascript&#34;&gt;\n",
       "        const { createApp } = Vue;\n",
       "        const circuitDisplayContainer = window[&#34;pytket-circuit-renderer&#34;].default;\n",
       "        // Init variables to be shared between circuit display instances\n",
       "        if (typeof window.pytketCircuitDisplays === &#34;undefined&#34;) {\n",
       "            window.pytketCircuitDisplays = {};\n",
       "        }\n",
       "        const uid = &#34;3810bbff-7a7b-4614-980c-4614acd644a7&#34;;\n",
       "        // Create the root Vue component\n",
       "        window.pytketCircuitDisplays[uid] = createApp({\n",
       "            delimiters: [&#39;[[#&#39;, &#39;#]]&#39;],\n",
       "            components: { circuitDisplayContainer },\n",
       "        }).mount(&#34;#circuit-display-vue-container-&#34;+uid);\n",
       "    &lt;/script&gt;\n",
       "&lt;/body&gt;\n",
       "&lt;/html&gt;\n",
       "\"\n",
       "        width=\"100%\" height=\"200px\"\n",
       "        style=\"border: none; outline: none; resize: vertical; overflow: auto\"></iframe>\n",
       "\n"
      ],
      "text/plain": [
       "<IPython.core.display.HTML object>"
      ]
     },
     "metadata": {},
     "output_type": "display_data"
    }
   ],
   "source": [
    "from pytket import Circuit\n",
    "from pytket.circuit.display import render_circuit_jupyter\n",
    "\n",
    "circ = Circuit(2,2).H(0).CX(0,1).measure_all()\n",
    "render_circuit_jupyter(circ)"
   ]
  },
  {
   "cell_type": "code",
   "execution_count": 2,
   "id": "959f64cc",
   "metadata": {
    "slideshow": {
     "slide_type": "skip"
    }
   },
   "outputs": [],
   "source": [
    "import pandas as pd\n",
    "import seaborn as sns\n",
    "import matplotlib.pyplot as plt\n",
    "\n",
    "def plot_state_probs(state):\n",
    "    state_dict = {'State':[i for i in range(len(result_state))], 'Probability':abs(state)**2}\n",
    "    state_df = pd.DataFrame(state_dict)\n",
    "    sns.catplot(x='State', y='Probability', kind='bar', data=state_df, aspect = 3, height=2)\n",
    "    plt.show()\n",
    "    \n",
    "def plot_counts(counts):\n",
    "    counts_record = [{\"State\":state, \"Count\":count} for state, count in counts.items()]\n",
    "    count_df = pd.DataFrame().from_records(counts_record)\n",
    "    sns.catplot(x='State', y='Count', kind='bar', data=count_df, aspect = 3, height=2)\n",
    "    plt.show()"
   ]
  },
  {
   "cell_type": "code",
   "execution_count": 3,
   "id": "da1068ef",
   "metadata": {
    "slideshow": {
     "slide_type": "subslide"
    }
   },
   "outputs": [
    {
     "data": {
      "image/png": "[encoded data removed]",
      "text/plain": [
       "<Figure size 600x200 with 1 Axes>"
      ]
     },
     "metadata": {},
     "output_type": "display_data"
    }
   ],
   "source": [
    "from pytket.extensions.qiskit import AerBackend\n",
    "\n",
    "n_shots = 100000\n",
    "ideal_backend = AerBackend()\n",
    "result = ideal_backend.run_circuit(circ, n_shots=n_shots)\n",
    "plot_counts(result.get_counts())"
   ]
  },
  {
   "cell_type": "code",
   "execution_count": 4,
   "id": "d1fde4de",
   "metadata": {
    "slideshow": {
     "slide_type": "subslide"
    }
   },
   "outputs": [
    {
     "data": {
      "image/png": "[encoded data removed]",
      "text/plain": [
       "<Figure size 600x200 with 1 Axes>"
      ]
     },
     "metadata": {},
     "output_type": "display_data"
    }
   ],
   "source": [
    "from qermit import MitRes, CircuitShots\n",
    "\n",
    "ideal_mitres = MitRes(ideal_backend)\n",
    "\n",
    "circ_shots_list = [CircuitShots(circ, n_shots)]\n",
    "\n",
    "result_list = ideal_mitres.run(circ_shots_list)\n",
    "result_counts = result_list[0].get_counts()\n",
    "plot_counts(result_counts)"
   ]
  },
  {
   "cell_type": "markdown",
   "id": "0a405ed2",
   "metadata": {
    "slideshow": {
     "slide_type": "subslide"
    }
   },
   "source": [
    "## MitRes TaskGraph"
   ]
  },
  {
   "cell_type": "code",
   "execution_count": 5,
   "id": "a623e12e",
   "metadata": {
    "slideshow": {
     "slide_type": "skip"
    }
   },
   "outputs": [
    {
     "data": {
      "image/svg+xml": [
       "<?xml version=\"1.0\" encoding=\"UTF-8\" standalone=\"no\"?>\n",
       "<!DOCTYPE svg PUBLIC \"-//W3C//DTD SVG 1.1//EN\"\n",
       " \"http://www.w3.org/Graphics/SVG/1.1/DTD/svg11.dtd\">\n",
       "<!-- Generated by graphviz version 2.44.0 (20200408.0750)\n",
       " -->\n",
       "<!-- Title: MitRes Pages: 1 -->\n",
       "<svg width=\"137pt\" height=\"292pt\"\n",
       " viewBox=\"0.00 0.00 137.00 292.00\" xmlns=\"http://www.w3.org/2000/svg\" xmlns:xlink=\"http://www.w3.org/1999/xlink\">\n",
       "<g id=\"graph0\" class=\"graph\" transform=\"scale(1 1) rotate(0) translate(4 288)\">\n",
       "<title>MitRes</title>\n",
       "<polygon fill=\"white\" stroke=\"transparent\" points=\"-4,4 -4,-288 133,-288 133,4 -4,4\"/>\n",
       "<!-- Inputs -->\n",
       "<g id=\"node1\" class=\"node\">\n",
       "<title>Inputs</title>\n",
       "<polygon fill=\"white\" stroke=\"transparent\" points=\"37,-232 37,-284 92,-284 92,-232 37,-232\"/>\n",
       "<text text-anchor=\"start\" x=\"44.5\" y=\"-269.2\" font-family=\"monospace\" font-weight=\"bold\" font-size=\"11.00\">Inputs</text>\n",
       "<polygon fill=\"white\" stroke=\"transparent\" points=\"43.5,-238 43.5,-255 86.5,-255 86.5,-238 43.5,-238\"/>\n",
       "<polygon fill=\"none\" stroke=\"#6bb24d\" points=\"43.5,-238 43.5,-255 86.5,-255 86.5,-238 43.5,-238\"/>\n",
       "<text text-anchor=\"start\" x=\"61.5\" y=\"-244\" font-family=\"monospace\" font-size=\"10.00\">0</text>\n",
       "<polygon fill=\"none\" stroke=\"white\" points=\"37,-232 37,-284 92,-284 92,-232 37,-232\"/>\n",
       "</g>\n",
       "<!-- CircuitsToHandles -->\n",
       "<g id=\"node2\" class=\"node\">\n",
       "<title>CircuitsToHandles</title>\n",
       "<polygon fill=\"#c0dd8e\" stroke=\"transparent\" points=\"0,-146 0,-224 129,-224 129,-146 0,-146\"/>\n",
       "<polygon fill=\"white\" stroke=\"transparent\" points=\"6.5,-201 6.5,-218 123.5,-218 123.5,-201 6.5,-201\"/>\n",
       "<polygon fill=\"none\" stroke=\"#6bb24d\" points=\"6.5,-201 6.5,-218 123.5,-218 123.5,-201 6.5,-201\"/>\n",
       "<text text-anchor=\"start\" x=\"61.5\" y=\"-207\" font-family=\"monospace\" font-size=\"10.00\">0</text>\n",
       "<text text-anchor=\"start\" x=\"7.5\" y=\"-183.2\" font-family=\"monospace\" font-weight=\"bold\" font-size=\"11.00\">CircuitsToHandles</text>\n",
       "<polygon fill=\"white\" stroke=\"transparent\" points=\"6.5,-152 6.5,-169 123.5,-169 123.5,-152 6.5,-152\"/>\n",
       "<polygon fill=\"none\" stroke=\"#6bb24d\" points=\"6.5,-152 6.5,-169 123.5,-169 123.5,-152 6.5,-152\"/>\n",
       "<text text-anchor=\"start\" x=\"61.5\" y=\"-158\" font-family=\"monospace\" font-size=\"10.00\">0</text>\n",
       "<polygon fill=\"none\" stroke=\"white\" points=\"0,-146 0,-224 129,-224 129,-146 0,-146\"/>\n",
       "</g>\n",
       "<!-- Inputs&#45;&gt;CircuitsToHandles -->\n",
       "<g id=\"edge1\" class=\"edge\">\n",
       "<title>Inputs:out_0&#45;&gt;CircuitsToHandles:in_0</title>\n",
       "<path fill=\"none\" stroke=\"#6bb24d\" stroke-width=\"1.5\" d=\"M65.5,-237C65.5,-229 65.5,-227 65.5,-219\"/>\n",
       "</g>\n",
       "<!-- HandlesToResults -->\n",
       "<g id=\"node3\" class=\"node\">\n",
       "<title>HandlesToResults</title>\n",
       "<polygon fill=\"#c0dd8e\" stroke=\"transparent\" points=\"3,-60 3,-138 126,-138 126,-60 3,-60\"/>\n",
       "<polygon fill=\"white\" stroke=\"transparent\" points=\"9.5,-115 9.5,-132 120.5,-132 120.5,-115 9.5,-115\"/>\n",
       "<polygon fill=\"none\" stroke=\"#6bb24d\" points=\"9.5,-115 9.5,-132 120.5,-132 120.5,-115 9.5,-115\"/>\n",
       "<text text-anchor=\"start\" x=\"61.5\" y=\"-121\" font-family=\"monospace\" font-size=\"10.00\">0</text>\n",
       "<text text-anchor=\"start\" x=\"10.5\" y=\"-97.2\" font-family=\"monospace\" font-weight=\"bold\" font-size=\"11.00\">HandlesToResults</text>\n",
       "<polygon fill=\"white\" stroke=\"transparent\" points=\"9.5,-66 9.5,-83 120.5,-83 120.5,-66 9.5,-66\"/>\n",
       "<polygon fill=\"none\" stroke=\"#6bb24d\" points=\"9.5,-66 9.5,-83 120.5,-83 120.5,-66 9.5,-66\"/>\n",
       "<text text-anchor=\"start\" x=\"61.5\" y=\"-72\" font-family=\"monospace\" font-size=\"10.00\">0</text>\n",
       "<polygon fill=\"none\" stroke=\"white\" points=\"3,-60 3,-138 126,-138 126,-60 3,-60\"/>\n",
       "</g>\n",
       "<!-- CircuitsToHandles&#45;&gt;HandlesToResults -->\n",
       "<g id=\"edge2\" class=\"edge\">\n",
       "<title>CircuitsToHandles:out_0&#45;&gt;HandlesToResults:in_0</title>\n",
       "<path fill=\"none\" stroke=\"#6bb24d\" stroke-width=\"1.5\" d=\"M65.5,-151C65.5,-143 65.5,-141 65.5,-133\"/>\n",
       "</g>\n",
       "<!-- Outputs -->\n",
       "<g id=\"node4\" class=\"node\">\n",
       "<title>Outputs</title>\n",
       "<polygon fill=\"white\" stroke=\"transparent\" points=\"34.5,0 34.5,-52 96.5,-52 96.5,0 34.5,0\"/>\n",
       "<polygon fill=\"white\" stroke=\"transparent\" points=\"40.5,-29 40.5,-46 90.5,-46 90.5,-29 40.5,-29\"/>\n",
       "<polygon fill=\"none\" stroke=\"#6bb24d\" points=\"40.5,-29 40.5,-46 90.5,-46 90.5,-29 40.5,-29\"/>\n",
       "<text text-anchor=\"start\" x=\"62\" y=\"-35\" font-family=\"monospace\" font-size=\"10.00\">0</text>\n",
       "<text text-anchor=\"start\" x=\"41.5\" y=\"-11.2\" font-family=\"monospace\" font-weight=\"bold\" font-size=\"11.00\">Outputs</text>\n",
       "<polygon fill=\"none\" stroke=\"white\" points=\"34.5,0 34.5,-52 96.5,-52 96.5,0 34.5,0\"/>\n",
       "</g>\n",
       "<!-- HandlesToResults&#45;&gt;Outputs -->\n",
       "<g id=\"edge3\" class=\"edge\">\n",
       "<title>HandlesToResults:out_0&#45;&gt;Outputs:in_0</title>\n",
       "<path fill=\"none\" stroke=\"#6bb24d\" stroke-width=\"1.5\" d=\"M65.5,-65C65.5,-57 65.5,-55 65.5,-47\"/>\n",
       "</g>\n",
       "</g>\n",
       "</svg>\n"
      ],
      "text/plain": [
       "<graphviz.graphs.Digraph at 0x7fa88890a0a0>"
      ]
     },
     "execution_count": 5,
     "metadata": {},
     "output_type": "execute_result"
    }
   ],
   "source": [
    "ideal_mitres.get_task_graph()"
   ]
  },
  {
   "cell_type": "markdown",
   "id": "641abff0",
   "metadata": {
    "slideshow": {
     "slide_type": "subslide"
    }
   },
   "source": [
    "`MitRes` and `MitEx` objects are constructed as dataflow graphs, called a `TaskGraph`. \n",
    "- Each node of a `TaskGraph` is a `MitTask` object; itself a function that computes some step or sub-process of an error mitigation protocol. \n",
    "- Edges of the graph move data between `MitTask` objects. \n",
    "- When `run` is called, `MitTask`s are ordered and run sequentially."
   ]
  },
  {
   "cell_type": "markdown",
   "id": "707d85e2",
   "metadata": {
    "slideshow": {
     "slide_type": "subslide"
    }
   },
   "source": [
    "## SPAM + Depolarising Noise Shot Count"
   ]
  },
  {
   "cell_type": "code",
   "execution_count": 6,
   "id": "6e0234a1",
   "metadata": {
    "code_folding": [],
    "slideshow": {
     "slide_type": "skip"
    }
   },
   "outputs": [],
   "source": [
    "import qiskit.providers.aer.noise as noise\n",
    "\n",
    "def depolarizing_noise_model(n_qubits, prob_1, prob_2, prob_ro):\n",
    "\n",
    "    noise_model = noise.NoiseModel()\n",
    "\n",
    "    error_2 = noise.depolarizing_error(prob_2, 2)\n",
    "    for edge in [[i,j] for i in range(n_qubits) for j in range(i)]:\n",
    "        noise_model.add_quantum_error(error_2, ['cx'], [edge[0], edge[1]])\n",
    "        noise_model.add_quantum_error(error_2, ['cx'], [edge[1], edge[0]])\n",
    "\n",
    "    error_1 = noise.depolarizing_error(prob_1, 1)\n",
    "    for node in range(n_qubits):\n",
    "        noise_model.add_quantum_error(error_1, ['h', 'rx', 'rz', 'u'], [node])\n",
    "        \n",
    "    probabilities = [[1-prob_ro, prob_ro],[prob_ro, 1-prob_ro]]\n",
    "    error_ro = noise.ReadoutError(probabilities)\n",
    "    for i in range(n_qubits):\n",
    "        noise_model.add_readout_error(error_ro, [i])\n",
    "        \n",
    "    return noise_model"
   ]
  },
  {
   "cell_type": "code",
   "execution_count": 7,
   "id": "c188c0d2",
   "metadata": {
    "slideshow": {
     "slide_type": "-"
    }
   },
   "outputs": [
    {
     "data": {
      "image/png": "[encoded data removed]",
      "text/plain": [
       "<Figure size 600x200 with 1 Axes>"
      ]
     },
     "metadata": {},
     "output_type": "display_data"
    }
   ],
   "source": [
    "from qermit.taskgraph.mitex import MitEx, gen_compiled_MitRes\n",
    "from pytket.extensions.qiskit import AerBackend\n",
    "\n",
    "noisy_backend = AerBackend(\n",
    "    depolarizing_noise_model(5, 0.001, 0.01, 0.05)\n",
    ")\n",
    "noisy_mitres = gen_compiled_MitRes(noisy_backend, optimisation_level=0)\n",
    "\n",
    "noisy_result_list = noisy_mitres.run(circ_shots_list)\n",
    "noisy_result_counts = noisy_result_list[0].get_counts()\n",
    "plot_counts(noisy_result_counts)"
   ]
  },
  {
   "cell_type": "markdown",
   "id": "73acc194",
   "metadata": {
    "slideshow": {
     "slide_type": "subslide"
    }
   },
   "source": [
    "## SPAM Error-Mitigation with Qermit"
   ]
  },
  {
   "cell_type": "code",
   "execution_count": 8,
   "id": "1e6abd41",
   "metadata": {
    "slideshow": {
     "slide_type": "-"
    }
   },
   "outputs": [],
   "source": [
    "from qermit.spam import gen_UnCorrelated_SPAM_MitRes\n",
    "\n",
    "spam_mr = gen_UnCorrelated_SPAM_MitRes(noisy_backend, n_shots)\n",
    "spam_result_list = spam_mr.run(circ_shots_list)\n",
    "spam_result_counts = spam_result_list[0].get_counts()"
   ]
  },
  {
   "cell_type": "code",
   "execution_count": 9,
   "id": "c9a71b8a",
   "metadata": {
    "slideshow": {
     "slide_type": "subslide"
    }
   },
   "outputs": [
    {
     "data": {
      "image/png": "[encoded data removed]",
      "text/plain": [
       "<Figure size 600x200 with 1 Axes>"
      ]
     },
     "metadata": {},
     "output_type": "display_data"
    },
    {
     "data": {
      "image/png": "[encoded data removed]",
      "text/plain": [
       "<Figure size 600x200 with 1 Axes>"
      ]
     },
     "metadata": {},
     "output_type": "display_data"
    }
   ],
   "source": [
    "plot_counts(noisy_result_counts)\n",
    "plot_counts(spam_result_counts)"
   ]
  },
  {
   "cell_type": "markdown",
   "id": "14513e2b",
   "metadata": {
    "slideshow": {
     "slide_type": "subslide"
    }
   },
   "source": [
    "## SPAM MitRes Task Graph"
   ]
  },
  {
   "cell_type": "code",
   "execution_count": 10,
   "id": "a45cab57",
   "metadata": {
    "slideshow": {
     "slide_type": "skip"
    }
   },
   "outputs": [
    {
     "data": {
      "image/svg+xml": [
       "<?xml version=\"1.0\" encoding=\"UTF-8\" standalone=\"no\"?>\n",
       "<!DOCTYPE svg PUBLIC \"-//W3C//DTD SVG 1.1//EN\"\n",
       " \"http://www.w3.org/Graphics/SVG/1.1/DTD/svg11.dtd\">\n",
       "<!-- Generated by graphviz version 2.44.0 (20200408.0750)\n",
       " -->\n",
       "<!-- Title: SPAMCorrection Pages: 1 -->\n",
       "<svg width=\"291pt\" height=\"636pt\"\n",
       " viewBox=\"0.00 0.00 290.50 636.00\" xmlns=\"http://www.w3.org/2000/svg\" xmlns:xlink=\"http://www.w3.org/1999/xlink\">\n",
       "<g id=\"graph0\" class=\"graph\" transform=\"scale(1 1) rotate(0) translate(4 632)\">\n",
       "<title>SPAMCorrection</title>\n",
       "<polygon fill=\"white\" stroke=\"transparent\" points=\"-4,4 -4,-632 286.5,-632 286.5,4 -4,4\"/>\n",
       "<!-- Inputs -->\n",
       "<g id=\"node1\" class=\"node\">\n",
       "<title>Inputs</title>\n",
       "<polygon fill=\"white\" stroke=\"transparent\" points=\"159,-576 159,-628 214,-628 214,-576 159,-576\"/>\n",
       "<text text-anchor=\"start\" x=\"166.5\" y=\"-613.2\" font-family=\"monospace\" font-weight=\"bold\" font-size=\"11.00\">Inputs</text>\n",
       "<polygon fill=\"white\" stroke=\"transparent\" points=\"165.5,-582 165.5,-599 208.5,-599 208.5,-582 165.5,-582\"/>\n",
       "<polygon fill=\"none\" stroke=\"#6bb24d\" points=\"165.5,-582 165.5,-599 208.5,-599 208.5,-582 165.5,-582\"/>\n",
       "<text text-anchor=\"start\" x=\"183.5\" y=\"-588\" font-family=\"monospace\" font-size=\"10.00\">0</text>\n",
       "<polygon fill=\"none\" stroke=\"white\" points=\"159,-576 159,-628 214,-628 214,-576 159,-576\"/>\n",
       "</g>\n",
       "<!-- SPAMFullTomographyCircuits -->\n",
       "<g id=\"node8\" class=\"node\">\n",
       "<title>SPAMFullTomographyCircuits</title>\n",
       "<polygon fill=\"#c0dd8e\" stroke=\"transparent\" points=\"92.5,-490 92.5,-568 282.5,-568 282.5,-490 92.5,-490\"/>\n",
       "<polygon fill=\"white\" stroke=\"transparent\" points=\"98.5,-545 98.5,-562 276.5,-562 276.5,-545 98.5,-545\"/>\n",
       "<polygon fill=\"none\" stroke=\"#6bb24d\" points=\"98.5,-545 98.5,-562 276.5,-562 276.5,-545 98.5,-545\"/>\n",
       "<text text-anchor=\"start\" x=\"184\" y=\"-551\" font-family=\"monospace\" font-size=\"10.00\">0</text>\n",
       "<text text-anchor=\"start\" x=\"99.5\" y=\"-527.2\" font-family=\"monospace\" font-weight=\"bold\" font-size=\"11.00\">SPAMFullTomographyCircuits</text>\n",
       "<polygon fill=\"white\" stroke=\"transparent\" points=\"98.5,-496 98.5,-513 156.5,-513 156.5,-496 98.5,-496\"/>\n",
       "<polygon fill=\"none\" stroke=\"#6bb24d\" points=\"98.5,-496 98.5,-513 156.5,-513 156.5,-496 98.5,-496\"/>\n",
       "<text text-anchor=\"start\" x=\"124\" y=\"-502\" font-family=\"monospace\" font-size=\"10.00\">0</text>\n",
       "<polygon fill=\"white\" stroke=\"transparent\" points=\"159.5,-496 159.5,-513 216.5,-513 216.5,-496 159.5,-496\"/>\n",
       "<polygon fill=\"none\" stroke=\"#6bb24d\" points=\"159.5,-496 159.5,-513 216.5,-513 216.5,-496 159.5,-496\"/>\n",
       "<text text-anchor=\"start\" x=\"184.5\" y=\"-502\" font-family=\"monospace\" font-size=\"10.00\">1</text>\n",
       "<polygon fill=\"white\" stroke=\"transparent\" points=\"219.5,-496 219.5,-513 276.5,-513 276.5,-496 219.5,-496\"/>\n",
       "<polygon fill=\"none\" stroke=\"#6bb24d\" points=\"219.5,-496 219.5,-513 276.5,-513 276.5,-496 219.5,-496\"/>\n",
       "<text text-anchor=\"start\" x=\"244.5\" y=\"-502\" font-family=\"monospace\" font-size=\"10.00\">2</text>\n",
       "<polygon fill=\"none\" stroke=\"white\" points=\"92.5,-490 92.5,-568 282.5,-568 282.5,-490 92.5,-490\"/>\n",
       "</g>\n",
       "<!-- Inputs&#45;&gt;SPAMFullTomographyCircuits -->\n",
       "<g id=\"edge1\" class=\"edge\">\n",
       "<title>Inputs:out_0&#45;&gt;SPAMFullTomographyCircuits:in_0</title>\n",
       "<path fill=\"none\" stroke=\"#6bb24d\" stroke-width=\"1.5\" d=\"M187.5,-581C187.5,-573 187.5,-571 187.5,-563\"/>\n",
       "</g>\n",
       "<!-- CircuitsToHandles -->\n",
       "<g id=\"node2\" class=\"node\">\n",
       "<title>CircuitsToHandles</title>\n",
       "<polygon fill=\"#c0dd8e\" stroke=\"transparent\" points=\"0,-232 0,-310 129,-310 129,-232 0,-232\"/>\n",
       "<polygon fill=\"white\" stroke=\"transparent\" points=\"6.5,-287 6.5,-304 123.5,-304 123.5,-287 6.5,-287\"/>\n",
       "<polygon fill=\"none\" stroke=\"#6bb24d\" points=\"6.5,-287 6.5,-304 123.5,-304 123.5,-287 6.5,-287\"/>\n",
       "<text text-anchor=\"start\" x=\"61.5\" y=\"-293\" font-family=\"monospace\" font-size=\"10.00\">0</text>\n",
       "<text text-anchor=\"start\" x=\"7.5\" y=\"-269.2\" font-family=\"monospace\" font-weight=\"bold\" font-size=\"11.00\">CircuitsToHandles</text>\n",
       "<polygon fill=\"white\" stroke=\"transparent\" points=\"6.5,-238 6.5,-255 123.5,-255 123.5,-238 6.5,-238\"/>\n",
       "<polygon fill=\"none\" stroke=\"#6bb24d\" points=\"6.5,-238 6.5,-255 123.5,-255 123.5,-238 6.5,-238\"/>\n",
       "<text text-anchor=\"start\" x=\"61.5\" y=\"-244\" font-family=\"monospace\" font-size=\"10.00\">0</text>\n",
       "<polygon fill=\"none\" stroke=\"white\" points=\"0,-232 0,-310 129,-310 129,-232 0,-232\"/>\n",
       "</g>\n",
       "<!-- HandlesToResults -->\n",
       "<g id=\"node3\" class=\"node\">\n",
       "<title>HandlesToResults</title>\n",
       "<polygon fill=\"#c0dd8e\" stroke=\"transparent\" points=\"5,-146 5,-224 128,-224 128,-146 5,-146\"/>\n",
       "<polygon fill=\"white\" stroke=\"transparent\" points=\"11.5,-201 11.5,-218 122.5,-218 122.5,-201 11.5,-201\"/>\n",
       "<polygon fill=\"none\" stroke=\"#6bb24d\" points=\"11.5,-201 11.5,-218 122.5,-218 122.5,-201 11.5,-201\"/>\n",
       "<text text-anchor=\"start\" x=\"63.5\" y=\"-207\" font-family=\"monospace\" font-size=\"10.00\">0</text>\n",
       "<text text-anchor=\"start\" x=\"12.5\" y=\"-183.2\" font-family=\"monospace\" font-weight=\"bold\" font-size=\"11.00\">HandlesToResults</text>\n",
       "<polygon fill=\"white\" stroke=\"transparent\" points=\"11.5,-152 11.5,-169 122.5,-169 122.5,-152 11.5,-152\"/>\n",
       "<polygon fill=\"none\" stroke=\"#6bb24d\" points=\"11.5,-152 11.5,-169 122.5,-169 122.5,-152 11.5,-152\"/>\n",
       "<text text-anchor=\"start\" x=\"63.5\" y=\"-158\" font-family=\"monospace\" font-size=\"10.00\">0</text>\n",
       "<polygon fill=\"none\" stroke=\"white\" points=\"5,-146 5,-224 128,-224 128,-146 5,-146\"/>\n",
       "</g>\n",
       "<!-- CircuitsToHandles&#45;&gt;HandlesToResults -->\n",
       "<g id=\"edge2\" class=\"edge\">\n",
       "<title>CircuitsToHandles:out_0&#45;&gt;HandlesToResults:in_0</title>\n",
       "<path fill=\"none\" stroke=\"#6bb24d\" stroke-width=\"1.5\" d=\"M65.5,-237C65.5,-228.95 67.5,-227.05 67.5,-219\"/>\n",
       "</g>\n",
       "<!-- SPAMFullCorrection -->\n",
       "<g id=\"node9\" class=\"node\">\n",
       "<title>SPAMFullCorrection</title>\n",
       "<polygon fill=\"#c0dd8e\" stroke=\"transparent\" points=\"77.5,-60 77.5,-138 213.5,-138 213.5,-60 77.5,-60\"/>\n",
       "<polygon fill=\"white\" stroke=\"transparent\" points=\"83.5,-115 83.5,-132 123.5,-132 123.5,-115 83.5,-115\"/>\n",
       "<polygon fill=\"none\" stroke=\"#6bb24d\" points=\"83.5,-115 83.5,-132 123.5,-132 123.5,-115 83.5,-115\"/>\n",
       "<text text-anchor=\"start\" x=\"100\" y=\"-121\" font-family=\"monospace\" font-size=\"10.00\">0</text>\n",
       "<polygon fill=\"white\" stroke=\"transparent\" points=\"126.5,-115 126.5,-132 165.5,-132 165.5,-115 126.5,-115\"/>\n",
       "<polygon fill=\"none\" stroke=\"#6bb24d\" points=\"126.5,-115 126.5,-132 165.5,-132 165.5,-115 126.5,-115\"/>\n",
       "<text text-anchor=\"start\" x=\"142.5\" y=\"-121\" font-family=\"monospace\" font-size=\"10.00\">1</text>\n",
       "<polygon fill=\"white\" stroke=\"transparent\" points=\"168.5,-115 168.5,-132 207.5,-132 207.5,-115 168.5,-115\"/>\n",
       "<polygon fill=\"none\" stroke=\"#6bb24d\" points=\"168.5,-115 168.5,-132 207.5,-132 207.5,-115 168.5,-115\"/>\n",
       "<text text-anchor=\"start\" x=\"184.5\" y=\"-121\" font-family=\"monospace\" font-size=\"10.00\">2</text>\n",
       "<text text-anchor=\"start\" x=\"84.5\" y=\"-97.2\" font-family=\"monospace\" font-weight=\"bold\" font-size=\"11.00\">SPAMFullCorrection</text>\n",
       "<polygon fill=\"white\" stroke=\"transparent\" points=\"83.5,-66 83.5,-83 207.5,-83 207.5,-66 83.5,-66\"/>\n",
       "<polygon fill=\"none\" stroke=\"#6bb24d\" points=\"83.5,-66 83.5,-83 207.5,-83 207.5,-66 83.5,-66\"/>\n",
       "<text text-anchor=\"start\" x=\"142\" y=\"-72\" font-family=\"monospace\" font-size=\"10.00\">0</text>\n",
       "<polygon fill=\"none\" stroke=\"white\" points=\"77.5,-60 77.5,-138 213.5,-138 213.5,-60 77.5,-60\"/>\n",
       "</g>\n",
       "<!-- HandlesToResults&#45;&gt;SPAMFullCorrection -->\n",
       "<g id=\"edge3\" class=\"edge\">\n",
       "<title>HandlesToResults:out_0&#45;&gt;SPAMFullCorrection:in_0</title>\n",
       "<path fill=\"none\" stroke=\"#6bb24d\" stroke-width=\"1.5\" d=\"M123.5,-160C129.74,-160 126.61,-150.69 122.5,-146 110.83,-132.7 95.17,-151.3 83.5,-138 79.39,-133.31 76.26,-124 82.5,-124\"/>\n",
       "</g>\n",
       "<!-- Outputs -->\n",
       "<g id=\"node4\" class=\"node\">\n",
       "<title>Outputs</title>\n",
       "<polygon fill=\"white\" stroke=\"transparent\" points=\"114.5,0 114.5,-52 176.5,-52 176.5,0 114.5,0\"/>\n",
       "<polygon fill=\"white\" stroke=\"transparent\" points=\"120.5,-29 120.5,-46 170.5,-46 170.5,-29 120.5,-29\"/>\n",
       "<polygon fill=\"none\" stroke=\"#6bb24d\" points=\"120.5,-29 120.5,-46 170.5,-46 170.5,-29 120.5,-29\"/>\n",
       "<text text-anchor=\"start\" x=\"142\" y=\"-35\" font-family=\"monospace\" font-size=\"10.00\">0</text>\n",
       "<text text-anchor=\"start\" x=\"121.5\" y=\"-11.2\" font-family=\"monospace\" font-weight=\"bold\" font-size=\"11.00\">Outputs</text>\n",
       "<polygon fill=\"none\" stroke=\"white\" points=\"114.5,0 114.5,-52 176.5,-52 176.5,0 114.5,0\"/>\n",
       "</g>\n",
       "<!-- GetBitQubitMaps -->\n",
       "<g id=\"node5\" class=\"node\">\n",
       "<title>GetBitQubitMaps</title>\n",
       "<polygon fill=\"#c0dd8e\" stroke=\"transparent\" points=\"34.5,-318 34.5,-396 150.5,-396 150.5,-318 34.5,-318\"/>\n",
       "<polygon fill=\"white\" stroke=\"transparent\" points=\"40.5,-373 40.5,-390 144.5,-390 144.5,-373 40.5,-373\"/>\n",
       "<polygon fill=\"none\" stroke=\"#6bb24d\" points=\"40.5,-373 40.5,-390 144.5,-390 144.5,-373 40.5,-373\"/>\n",
       "<text text-anchor=\"start\" x=\"89\" y=\"-379\" font-family=\"monospace\" font-size=\"10.00\">0</text>\n",
       "<text text-anchor=\"start\" x=\"41.5\" y=\"-355.2\" font-family=\"monospace\" font-weight=\"bold\" font-size=\"11.00\">GetBitQubitMaps</text>\n",
       "<polygon fill=\"white\" stroke=\"transparent\" points=\"40.5,-324 40.5,-341 91.5,-341 91.5,-324 40.5,-324\"/>\n",
       "<polygon fill=\"none\" stroke=\"#6bb24d\" points=\"40.5,-324 40.5,-341 91.5,-341 91.5,-324 40.5,-324\"/>\n",
       "<text text-anchor=\"start\" x=\"62.5\" y=\"-330\" font-family=\"monospace\" font-size=\"10.00\">0</text>\n",
       "<polygon fill=\"white\" stroke=\"transparent\" points=\"94.5,-324 94.5,-341 144.5,-341 144.5,-324 94.5,-324\"/>\n",
       "<polygon fill=\"none\" stroke=\"#6bb24d\" points=\"94.5,-324 94.5,-341 144.5,-341 144.5,-324 94.5,-324\"/>\n",
       "<text text-anchor=\"start\" x=\"116\" y=\"-330\" font-family=\"monospace\" font-size=\"10.00\">1</text>\n",
       "<polygon fill=\"none\" stroke=\"white\" points=\"34.5,-318 34.5,-396 150.5,-396 150.5,-318 34.5,-318\"/>\n",
       "</g>\n",
       "<!-- GetBitQubitMaps&#45;&gt;CircuitsToHandles -->\n",
       "<g id=\"edge4\" class=\"edge\">\n",
       "<title>GetBitQubitMaps:out_0&#45;&gt;CircuitsToHandles:in_0</title>\n",
       "<path fill=\"none\" stroke=\"#6bb24d\" stroke-width=\"1.5\" d=\"M65.5,-323C65.5,-315 65.5,-313 65.5,-305\"/>\n",
       "</g>\n",
       "<!-- GetBitQubitMaps&#45;&gt;SPAMFullCorrection -->\n",
       "<g id=\"edge5\" class=\"edge\">\n",
       "<title>GetBitQubitMaps:out_1&#45;&gt;SPAMFullCorrection:in_1</title>\n",
       "<path fill=\"none\" stroke=\"#6bb24d\" stroke-width=\"1.5\" d=\"M119.5,-323C119.5,-314.18 130.57,-317.9 134.5,-310 169.66,-239.43 146.5,-211.85 146.5,-133\"/>\n",
       "</g>\n",
       "<!-- CompileCircuitShots -->\n",
       "<g id=\"node6\" class=\"node\">\n",
       "<title>CompileCircuitShots</title>\n",
       "<polygon fill=\"#c0dd8e\" stroke=\"transparent\" points=\"9,-404 9,-482 152,-482 152,-404 9,-404\"/>\n",
       "<polygon fill=\"white\" stroke=\"transparent\" points=\"15.5,-459 15.5,-476 146.5,-476 146.5,-459 15.5,-459\"/>\n",
       "<polygon fill=\"none\" stroke=\"#6bb24d\" points=\"15.5,-459 15.5,-476 146.5,-476 146.5,-459 15.5,-459\"/>\n",
       "<text text-anchor=\"start\" x=\"77.5\" y=\"-465\" font-family=\"monospace\" font-size=\"10.00\">0</text>\n",
       "<text text-anchor=\"start\" x=\"16.5\" y=\"-441.2\" font-family=\"monospace\" font-weight=\"bold\" font-size=\"11.00\">CompileCircuitShots</text>\n",
       "<polygon fill=\"white\" stroke=\"transparent\" points=\"15.5,-410 15.5,-427 146.5,-427 146.5,-410 15.5,-410\"/>\n",
       "<polygon fill=\"none\" stroke=\"#6bb24d\" points=\"15.5,-410 15.5,-427 146.5,-427 146.5,-410 15.5,-410\"/>\n",
       "<text text-anchor=\"start\" x=\"77.5\" y=\"-416\" font-family=\"monospace\" font-size=\"10.00\">0</text>\n",
       "<polygon fill=\"none\" stroke=\"white\" points=\"9,-404 9,-482 152,-482 152,-404 9,-404\"/>\n",
       "</g>\n",
       "<!-- CompileCircuitShots&#45;&gt;GetBitQubitMaps -->\n",
       "<g id=\"edge6\" class=\"edge\">\n",
       "<title>CompileCircuitShots:out_0&#45;&gt;GetBitQubitMaps:in_0</title>\n",
       "<path fill=\"none\" stroke=\"#6bb24d\" stroke-width=\"1.5\" d=\"M81.5,-409C81.5,-399.62 92.5,-400.38 92.5,-391\"/>\n",
       "</g>\n",
       "<!-- SPAMCalibration -->\n",
       "<g id=\"node7\" class=\"node\">\n",
       "<title>SPAMCalibration</title>\n",
       "<polygon fill=\"#c0dd8e\" stroke=\"transparent\" points=\"163.5,-404 163.5,-482 279.5,-482 279.5,-404 163.5,-404\"/>\n",
       "<polygon fill=\"white\" stroke=\"transparent\" points=\"169.5,-459 169.5,-476 220.5,-476 220.5,-459 169.5,-459\"/>\n",
       "<polygon fill=\"none\" stroke=\"#6bb24d\" points=\"169.5,-459 169.5,-476 220.5,-476 220.5,-459 169.5,-459\"/>\n",
       "<text text-anchor=\"start\" x=\"191.5\" y=\"-465\" font-family=\"monospace\" font-size=\"10.00\">0</text>\n",
       "<polygon fill=\"white\" stroke=\"transparent\" points=\"223.5,-459 223.5,-476 273.5,-476 273.5,-459 223.5,-459\"/>\n",
       "<polygon fill=\"none\" stroke=\"#6bb24d\" points=\"223.5,-459 223.5,-476 273.5,-476 273.5,-459 223.5,-459\"/>\n",
       "<text text-anchor=\"start\" x=\"245\" y=\"-465\" font-family=\"monospace\" font-size=\"10.00\">1</text>\n",
       "<text text-anchor=\"start\" x=\"170.5\" y=\"-441.2\" font-family=\"monospace\" font-weight=\"bold\" font-size=\"11.00\">SPAMCalibration</text>\n",
       "<polygon fill=\"white\" stroke=\"transparent\" points=\"169.5,-410 169.5,-427 273.5,-427 273.5,-410 169.5,-410\"/>\n",
       "<polygon fill=\"none\" stroke=\"#6bb24d\" points=\"169.5,-410 169.5,-427 273.5,-427 273.5,-410 169.5,-410\"/>\n",
       "<text text-anchor=\"start\" x=\"218\" y=\"-416\" font-family=\"monospace\" font-size=\"10.00\">0</text>\n",
       "<polygon fill=\"none\" stroke=\"white\" points=\"163.5,-404 163.5,-482 279.5,-482 279.5,-404 163.5,-404\"/>\n",
       "</g>\n",
       "<!-- SPAMCalibration&#45;&gt;SPAMFullCorrection -->\n",
       "<g id=\"edge7\" class=\"edge\">\n",
       "<title>SPAMCalibration:out_0&#45;&gt;SPAMFullCorrection:in_2</title>\n",
       "<path fill=\"none\" stroke=\"#6bb24d\" stroke-width=\"1.5\" d=\"M221.5,-409C221.5,-285.46 188.5,-256.54 188.5,-133\"/>\n",
       "</g>\n",
       "<!-- SPAMFullTomographyCircuits&#45;&gt;CompileCircuitShots -->\n",
       "<g id=\"edge8\" class=\"edge\">\n",
       "<title>SPAMFullTomographyCircuits:out_0&#45;&gt;CompileCircuitShots:in_0</title>\n",
       "<path fill=\"none\" stroke=\"#6bb24d\" stroke-width=\"1.5\" d=\"M97.5,-504C91.26,-504 94.3,-494.61 98.5,-490 113.06,-474.01 131.94,-497.99 146.5,-482 150.7,-477.39 153.74,-468 147.5,-468\"/>\n",
       "</g>\n",
       "<!-- SPAMFullTomographyCircuits&#45;&gt;SPAMCalibration -->\n",
       "<g id=\"edge9\" class=\"edge\">\n",
       "<title>SPAMFullTomographyCircuits:out_1&#45;&gt;SPAMCalibration:in_0</title>\n",
       "<path fill=\"none\" stroke=\"#6bb24d\" stroke-width=\"1.5\" d=\"M188.5,-495C188.5,-486.57 194.5,-485.43 194.5,-477\"/>\n",
       "</g>\n",
       "<!-- SPAMFullTomographyCircuits&#45;&gt;SPAMCalibration -->\n",
       "<g id=\"edge10\" class=\"edge\">\n",
       "<title>SPAMFullTomographyCircuits:out_2&#45;&gt;SPAMCalibration:in_1</title>\n",
       "<path fill=\"none\" stroke=\"#6bb24d\" stroke-width=\"1.5\" d=\"M248.5,-495C248.5,-487 248.5,-485 248.5,-477\"/>\n",
       "</g>\n",
       "<!-- SPAMFullCorrection&#45;&gt;Outputs -->\n",
       "<g id=\"edge11\" class=\"edge\">\n",
       "<title>SPAMFullCorrection:out_0&#45;&gt;Outputs:in_0</title>\n",
       "<path fill=\"none\" stroke=\"#6bb24d\" stroke-width=\"1.5\" d=\"M145.5,-65C145.5,-57 145.5,-55 145.5,-47\"/>\n",
       "</g>\n",
       "</g>\n",
       "</svg>\n"
      ],
      "text/plain": [
       "<graphviz.graphs.Digraph at 0x7fa86b8392e0>"
      ]
     },
     "execution_count": 10,
     "metadata": {},
     "output_type": "execute_result"
    }
   ],
   "source": [
    "spam_mr.get_task_graph()"
   ]
  },
  {
   "cell_type": "markdown",
   "id": "71e92a1f",
   "metadata": {
    "slideshow": {
     "slide_type": "slide"
    }
   },
   "source": [
    "# Expectation Value Experiment\n",
    "\n",
    "Experiments where the output is an expectation value.\n",
    "\n",
    "We will see experiments:\n",
    "- Conducted in raw TKET, and the equivalent in Qermit.\n",
    "- With and without errors.\n",
    "- Where errors have been mitigated by a Qermit `MitEx`."
   ]
  },
  {
   "cell_type": "markdown",
   "id": "965c61af",
   "metadata": {
    "slideshow": {
     "slide_type": "subslide"
    }
   },
   "source": [
    "## Ideal Expectation Value"
   ]
  },
  {
   "cell_type": "code",
   "execution_count": 11,
   "id": "1e30e93c",
   "metadata": {
    "slideshow": {
     "slide_type": "skip"
    }
   },
   "outputs": [],
   "source": [
    "import numpy as np\n",
    "from scipy.stats import unitary_group\n",
    "from pytket.circuit import Unitary2qBox\n",
    "\n",
    "def random_circ(n_qubits: int, depth: int, seed:int = None) -> Circuit:\n",
    "    \n",
    "    np.random.seed(seed)\n",
    "\n",
    "    c = Circuit(n_qubits)\n",
    "\n",
    "    for _ in range(depth):\n",
    "\n",
    "        qubits = np.random.permutation([i for i in range(n_qubits)])\n",
    "        qubit_pairs = [[qubits[i], qubits[i + 1]] for i in range(0, n_qubits - 1, 2)]\n",
    "\n",
    "        for pair in qubit_pairs:\n",
    "\n",
    "            # Generate random 4x4 unitary matrix.\n",
    "            SU4 = unitary_group.rvs(4)  # random unitary in SU4\n",
    "            SU4 = SU4 / (np.linalg.det(SU4) ** 0.25)\n",
    "            SU4 = np.matrix(SU4)\n",
    "\n",
    "            # Add gate corresponding to unitary.\n",
    "            c.add_unitary2qbox(Unitary2qBox(SU4), *pair)\n",
    "\n",
    "    return c"
   ]
  },
  {
   "cell_type": "code",
   "execution_count": 12,
   "id": "248d4758",
   "metadata": {
    "slideshow": {
     "slide_type": "-"
    }
   },
   "outputs": [
    {
     "data": {
      "text/html": [
       "\n",
       "\n",
       "\n",
       "\n",
       "\n",
       "\n",
       "<iframe srcdoc=\"\n",
       "&lt;!DOCTYPE html&gt;\n",
       "&lt;html lang=&#34;en&#34;&gt;\n",
       "&lt;head&gt;\n",
       "    &lt;meta charset=&#34;UTF-8&#34;&gt;\n",
       "    &lt;script type=&#34;application/javascript&#34; src=&#34;https://cdn.jsdelivr.net/npm/vue@3&#34;&gt;&lt;/script&gt;\n",
       "    &lt;script type=&#34;application/javascript&#34; src=&#34;https://unpkg.com/pytket-circuit-renderer@0.2/dist/pytket-circuit-renderer.umd.js&#34;&gt;&lt;/script&gt;\n",
       "    &lt;link rel=&#34;stylesheet&#34; href=&#34;https://unpkg.com/pytket-circuit-renderer@0.2/dist/pytket-circuit-renderer.css&#34;&gt;\n",
       "&lt;/head&gt;\n",
       "&lt;body&gt;\n",
       "    &lt;div id=&#34;circuit-display-vue-container-1035a30c-a1e1-4699-bdf2-c47b0404468f&#34; class=&#34;pytket-circuit-display-container&#34;&gt;\n",
       "        &lt;div style=&#34;display: none&#34;&gt;\n",
       "            &lt;div id=&#34;circuit-json-to-display&#34;&gt;{&#34;bits&#34;: [], &#34;commands&#34;: [{&#34;args&#34;: [[&#34;q&#34;, [3]], [&#34;q&#34;, [0]]], &#34;op&#34;: {&#34;box&#34;: {&#34;id&#34;: &#34;7ab01f9a-a187-485f-ab29-3ef9c294a398&#34;, &#34;matrix&#34;: [[[0.17364538831414994, -0.18016432939115543], [-0.18280103138473028, -0.6693351647711006], [-0.13833295063184164, -0.19325096660996338], [0.6318572417828553, -0.015388253252121202]], [[-0.1520590967199939, -0.28836923927442526], [-0.3964619973346101, -0.2353892129086601], [-0.20985848230685383, 0.37338968459133476], [-0.32093084721172616, 0.6282308239917025]], [[-0.17340056408811508, 0.6681222566818091], [0.06541946472312225, -0.41814142344171124], [-0.01760391407527278, 0.5517117594622654], [-0.02578705257355843, -0.19764160173824835]], [[-0.040993026218955765, -0.594115959034088], [0.3246743882247379, -0.14645343461178267], [0.47046413354512095, 0.4837616719484618], [0.025521702361919658, -0.24994103035224013]]], &#34;type&#34;: &#34;Unitary2qBox&#34;}, &#34;type&#34;: &#34;Unitary2qBox&#34;}}, {&#34;args&#34;: [[&#34;q&#34;, [2]], [&#34;q&#34;, [1]]], &#34;op&#34;: {&#34;box&#34;: {&#34;id&#34;: &#34;2e3142e2-206f-4e47-be66-9da0ce41c221&#34;, &#34;matrix&#34;: [[[0.07276072221694424, 0.17654499120348335], [-0.125524432464605, 0.5749623693665813], [-0.5200892592948949, 0.040747743130330985], [-0.24447563669187788, -0.5341142957366051]], [[0.2809143072770851, 0.12521575104669], [-0.7013786705788329, -0.30504302041718784], [-0.13451385378966502, 0.46907851724878236], [-0.2203168588884073, 0.18373005549598936]], [[0.027842742805933036, 0.8072347630665155], [-0.03138762437822344, 0.10772935805774497], [0.4378063810060137, -0.24442811320380728], [-0.27877973360155595, 0.076605168085687]], [[-0.3924957109149605, 0.24997969302251047], [0.006168768989809901, 0.2367482957829742], [-0.48798097115709654, 0.013160304131333032], [0.18302228926381695, 0.6749619845140307]]], &#34;type&#34;: &#34;Unitary2qBox&#34;}, &#34;type&#34;: &#34;Unitary2qBox&#34;}}, {&#34;args&#34;: [[&#34;q&#34;, [0]], [&#34;q&#34;, [3]]], &#34;op&#34;: {&#34;box&#34;: {&#34;id&#34;: &#34;1f04df09-ac7d-4009-8e51-6a5708789d1f&#34;, &#34;matrix&#34;: [[[-0.35793414429416165, 0.029668374481431663], [0.05052609603796105, 0.6057926936704835], [-0.18403155690375952, 0.06435622426154852], [0.6248712603252256, 0.27017000629344085]], [[-0.5711869369720737, -0.4286447208011577], [0.23184086275204313, 0.010822356044052517], [0.2067324765227112, 0.5358494890876463], [-0.3258189261244268, -0.010531519559020942]], [[-0.160840851811446, 0.39075731998986546], [-0.6669843933001425, -0.055070046667048025], [-0.1842297901930781, 0.5055889854925321], [0.015422095074138248, -0.28937755174616964]], [[0.20040562686564356, 0.37721167035139336], [0.35491371054814164, -0.05225307648116057], [-0.4472157672399348, 0.3775644187999097], [-0.27637638593543357, 0.519532554340972]]], &#34;type&#34;: &#34;Unitary2qBox&#34;}, &#34;type&#34;: &#34;Unitary2qBox&#34;}}, {&#34;args&#34;: [[&#34;q&#34;, [2]], [&#34;q&#34;, [1]]], &#34;op&#34;: {&#34;box&#34;: {&#34;id&#34;: &#34;8202dbb7-b939-4235-bfa2-4dc3da37e3ba&#34;, &#34;matrix&#34;: [[[0.0780160995574229, 0.19781405829993426], [-0.1637487364019581, 0.055792018538747455], [-0.6447579347416628, -0.28676281702611117], [-0.3746499400163286, 0.5353021607910498]], [[0.44242125502794766, 0.05921455483278282], [-0.21622578132439074, -0.30954634578441903], [0.5656648723603632, -0.1858890570861486], [0.1116169916364311, 0.5396245905338357]], [[-0.6278626721256151, -0.5729338810616661], [0.12247720215099828, -0.05181349247157108], [0.15958420590294908, 0.030655383197632044], [-0.126240816059188, 0.4663757228909998]], [[-0.13935269076137388, -0.11685981603901101], [-0.740576122121327, -0.5112365182488463], [-0.15674859257037113, 0.3107182170819908], [-0.06559196605261751, -0.17801854682975238]]], &#34;type&#34;: &#34;Unitary2qBox&#34;}, &#34;type&#34;: &#34;Unitary2qBox&#34;}}, {&#34;args&#34;: [[&#34;q&#34;, [0]], [&#34;q&#34;, [3]]], &#34;op&#34;: {&#34;box&#34;: {&#34;id&#34;: &#34;592b0188-56fe-417c-8995-18a77347882f&#34;, &#34;matrix&#34;: [[[0.2579653100003646, 0.14759140163356108], [0.297450726467858, 0.6973915577424099], [0.2871576297008041, -0.1862300376074399], [0.0023283353822427864, 0.4687133507436181]], [[0.5587163844759282, -0.5148092771302779], [-0.001382011856884734, 0.18058980818166795], [-0.05497957609778194, 0.6065721189799093], [0.006477428928107673, -0.13855819977791248]], [[0.5275913285810019, 0.005013586857981167], [0.006595669214639729, -0.49615653666773535], [0.36093783955121744, -0.269211482392539], [-0.5089973463566783, 0.11652552232198397]], [[-0.16722816619252737, -0.1677351522008419], [0.3356518085382492, 0.1835116983518651], [-0.5481273969840913, -0.09333696957387531], [-0.6977707968838148, -0.0390059090830771]]], &#34;type&#34;: &#34;Unitary2qBox&#34;}, &#34;type&#34;: &#34;Unitary2qBox&#34;}}, {&#34;args&#34;: [[&#34;q&#34;, [1]], [&#34;q&#34;, [2]]], &#34;op&#34;: {&#34;box&#34;: {&#34;id&#34;: &#34;b41805fa-3624-4335-9514-fe755a0de37c&#34;, &#34;matrix&#34;: [[[0.32842102263054307, 0.16433305393337902], [0.11512714971893433, 0.14996354903976006], [0.5639291700559759, 0.5707767551488865], [0.36048622489990795, 0.2358779795473291]], [[0.6149413358372566, -0.19085079528520454], [-0.23908565099130413, -0.41929954169425726], [-0.38292494139276373, -0.09615750886637783], [0.3552726963269321, 0.2652406590915082]], [[-0.44329313750855653, 0.19516033309708208], [-0.01153546207106686, 0.24190562547138267], [-0.12180798086915849, -0.3141070915215274], [0.7091511081862748, 0.3005935739732403]], [[0.39694910307022746, 0.24164530802796544], [-0.5109157247189409, 0.641557747125751], [0.040208379510096814, -0.29189526676409944], [-0.15257661323556657, -0.03617389347462328]]], &#34;type&#34;: &#34;Unitary2qBox&#34;}, &#34;type&#34;: &#34;Unitary2qBox&#34;}}, {&#34;args&#34;: [[&#34;q&#34;, [0]], [&#34;q&#34;, [3]]], &#34;op&#34;: {&#34;box&#34;: {&#34;id&#34;: &#34;58a02bc2-345f-4255-81a4-dec3e60269b8&#34;, &#34;matrix&#34;: [[[-0.011461238402607729, -0.24535152102522131], [0.09170343270286106, 0.8344492906031751], [0.22097804432523632, 0.28919362478532334], [-0.08612791523340556, -0.3083405041744045]], [[-0.2314911794252882, 0.5557101844080699], [-0.022893893803951272, -0.12822301832343577], [0.024444338619814696, -0.019117325124510216], [-0.0022204711448376067, -0.7871879214580074]], [[-0.4738881675459978, -0.2330703493963152], [0.02100130631703471, -0.0008937877105115422], [-0.7314963068261805, 0.16630984865413004], [-0.39406915675821863, -0.05128401506168908]], [[-0.5054877537990605, -0.2070257075574997], [-0.5189547373539926, -0.09254034739099887], [0.5135274376599673, -0.2002910672245014], [-0.34198489840897317, 0.05444391860219039]]], &#34;type&#34;: &#34;Unitary2qBox&#34;}, &#34;type&#34;: &#34;Unitary2qBox&#34;}}, {&#34;args&#34;: [[&#34;q&#34;, [1]], [&#34;q&#34;, [2]]], &#34;op&#34;: {&#34;box&#34;: {&#34;id&#34;: &#34;4c13b48c-04a9-4028-a1bf-2d94218f48d1&#34;, &#34;matrix&#34;: [[[-0.12754252202964672, -0.23546806781561527], [-0.22231916162320628, -0.5855369412554182], [0.5683470179662975, -0.4387710833469952], [0.14158604450011594, -0.02057596909099948]], [[-0.12259209615985543, 0.43079756465854335], [0.02916074580047305, -0.17293125311761728], [0.1573492480488005, -0.05561183380245165], [-0.8585764820229936, 0.060199928899937936]], [[-0.45860301833478, -0.20842471883156488], [-0.48100895234288943, -0.25436950361272753], [-0.15573682194752042, 0.5973075115470234], [-0.053377663473067966, 0.2574675815192428]], [[-0.674311890983929, -0.138629766604395], [0.5008841476081592, 0.1732245002088124], [-0.041243252247066695, -0.27180675994205983], [0.04757539276059666, 0.4090846686062715]]], &#34;type&#34;: &#34;Unitary2qBox&#34;}, &#34;type&#34;: &#34;Unitary2qBox&#34;}}], &#34;implicit_permutation&#34;: [[[&#34;q&#34;, [0]], [&#34;q&#34;, [0]]], [[&#34;q&#34;, [1]], [&#34;q&#34;, [1]]], [[&#34;q&#34;, [2]], [&#34;q&#34;, [2]]], [[&#34;q&#34;, [3]], [&#34;q&#34;, [3]]]], &#34;phase&#34;: &#34;0.0&#34;, &#34;qubits&#34;: [[&#34;q&#34;, [0]], [&#34;q&#34;, [1]], [&#34;q&#34;, [2]], [&#34;q&#34;, [3]]]}&lt;/div&gt;\n",
       "        &lt;/div&gt;\n",
       "        &lt;circuit-display-container :circuit-element-str=&#34;&#39;#circuit-json-to-display&#39;&#34;&gt;&lt;/circuit-display-container&gt;\n",
       "    &lt;/div&gt;\n",
       "    &lt;script type=&#34;application/javascript&#34;&gt;\n",
       "        const { createApp } = Vue;\n",
       "        const circuitDisplayContainer = window[&#34;pytket-circuit-renderer&#34;].default;\n",
       "        // Init variables to be shared between circuit display instances\n",
       "        if (typeof window.pytketCircuitDisplays === &#34;undefined&#34;) {\n",
       "            window.pytketCircuitDisplays = {};\n",
       "        }\n",
       "        const uid = &#34;1035a30c-a1e1-4699-bdf2-c47b0404468f&#34;;\n",
       "        // Create the root Vue component\n",
       "        window.pytketCircuitDisplays[uid] = createApp({\n",
       "            delimiters: [&#39;[[#&#39;, &#39;#]]&#39;],\n",
       "            components: { circuitDisplayContainer },\n",
       "        }).mount(&#34;#circuit-display-vue-container-&#34;+uid);\n",
       "    &lt;/script&gt;\n",
       "&lt;/body&gt;\n",
       "&lt;/html&gt;\n",
       "\"\n",
       "        width=\"100%\" height=\"200px\"\n",
       "        style=\"border: none; outline: none; resize: vertical; overflow: auto\"></iframe>\n",
       "\n"
      ],
      "text/plain": [
       "<IPython.core.display.HTML object>"
      ]
     },
     "metadata": {},
     "output_type": "display_data"
    }
   ],
   "source": [
    "n_qubits = 4\n",
    "rand_circ = random_circ(n_qubits,n_qubits,seed=23126)\n",
    "render_circuit_jupyter(rand_circ)"
   ]
  },
  {
   "cell_type": "code",
   "execution_count": 13,
   "id": "70ac2a9f",
   "metadata": {
    "slideshow": {
     "slide_type": "subslide"
    }
   },
   "outputs": [
    {
     "name": "stdout",
     "output_type": "stream",
     "text": [
      "Ideal expectation: 0.5549662007585134\n"
     ]
    }
   ],
   "source": [
    "from pytket.pauli import Pauli, QubitPauliString\n",
    "from pytket import Qubit\n",
    "\n",
    "ideal_circuit = rand_circ.copy()\n",
    "ideal_circuit = ideal_backend.get_compiled_circuit(ideal_circuit)\n",
    "\n",
    "qps = QubitPauliString(\n",
    "    [Qubit(i) for i in range(n_qubits)], \n",
    "    [Pauli.Z for i in range(n_qubits)]\n",
    ")\n",
    "ideal_result = ideal_backend.get_pauli_expectation_value(\n",
    "    ideal_circuit, \n",
    "    qps\n",
    ")\n",
    "print(f\"Ideal expectation: {ideal_result}\")"
   ]
  },
  {
   "cell_type": "code",
   "execution_count": 14,
   "id": "d4386620",
   "metadata": {
    "slideshow": {
     "slide_type": "subslide"
    }
   },
   "outputs": [
    {
     "name": "stdout",
     "output_type": "stream",
     "text": [
      "Ideal expectation: {(Zq[0], Zq[1], Zq[2], Zq[3]): 0.560200000000000}\n"
     ]
    }
   ],
   "source": [
    "from qermit import MitEx\n",
    "from pytket.utils import QubitPauliOperator\n",
    "from qermit import (\n",
    "    AnsatzCircuit, \n",
    "    SymbolsDict, \n",
    "    ObservableExperiment, \n",
    "    ObservableTracker\n",
    ")\n",
    "\n",
    "ideal_mitex = MitEx(ideal_backend)\n",
    "\n",
    "qpo = QubitPauliOperator({qps:1})\n",
    "obs_exp = ObservableExperiment(\n",
    "    AnsatzCircuit(rand_circ, n_shots, SymbolsDict()),\n",
    "    ObservableTracker(qpo)\n",
    ")\n",
    "obs_exp_list = [obs_exp]\n",
    "\n",
    "ideal_expectation = ideal_mitex.run(obs_exp_list)\n",
    "print(f\"Ideal expectation: {ideal_expectation[0]}\")"
   ]
  },
  {
   "cell_type": "markdown",
   "id": "e38c01cf",
   "metadata": {
    "slideshow": {
     "slide_type": "subslide"
    }
   },
   "source": [
    "## MitEx Task Graph"
   ]
  },
  {
   "cell_type": "code",
   "execution_count": 15,
   "id": "6bdba4b8",
   "metadata": {
    "slideshow": {
     "slide_type": "skip"
    }
   },
   "outputs": [
    {
     "data": {
      "image/svg+xml": [
       "<?xml version=\"1.0\" encoding=\"UTF-8\" standalone=\"no\"?>\n",
       "<!DOCTYPE svg PUBLIC \"-//W3C//DTD SVG 1.1//EN\"\n",
       " \"http://www.w3.org/Graphics/SVG/1.1/DTD/svg11.dtd\">\n",
       "<!-- Generated by graphviz version 2.44.0 (20200408.0750)\n",
       " -->\n",
       "<!-- Title: MitEx Pages: 1 -->\n",
       "<svg width=\"240pt\" height=\"550pt\"\n",
       " viewBox=\"0.00 0.00 239.50 550.00\" xmlns=\"http://www.w3.org/2000/svg\" xmlns:xlink=\"http://www.w3.org/1999/xlink\">\n",
       "<g id=\"graph0\" class=\"graph\" transform=\"scale(1 1) rotate(0) translate(4 546)\">\n",
       "<title>MitEx</title>\n",
       "<polygon fill=\"white\" stroke=\"transparent\" points=\"-4,4 -4,-546 235.5,-546 235.5,4 -4,4\"/>\n",
       "<!-- Inputs -->\n",
       "<g id=\"node1\" class=\"node\">\n",
       "<title>Inputs</title>\n",
       "<polygon fill=\"white\" stroke=\"transparent\" points=\"117,-490 117,-542 172,-542 172,-490 117,-490\"/>\n",
       "<text text-anchor=\"start\" x=\"124.5\" y=\"-527.2\" font-family=\"monospace\" font-weight=\"bold\" font-size=\"11.00\">Inputs</text>\n",
       "<polygon fill=\"white\" stroke=\"transparent\" points=\"123.5,-496 123.5,-513 166.5,-513 166.5,-496 123.5,-496\"/>\n",
       "<polygon fill=\"none\" stroke=\"#6bb24d\" points=\"123.5,-496 123.5,-513 166.5,-513 166.5,-496 123.5,-496\"/>\n",
       "<text text-anchor=\"start\" x=\"141.5\" y=\"-502\" font-family=\"monospace\" font-size=\"10.00\">0</text>\n",
       "<polygon fill=\"none\" stroke=\"white\" points=\"117,-490 117,-542 172,-542 172,-490 117,-490\"/>\n",
       "</g>\n",
       "<!-- FilterObservableTracker -->\n",
       "<g id=\"node2\" class=\"node\">\n",
       "<title>FilterObservableTracker</title>\n",
       "<polygon fill=\"#c0dd8e\" stroke=\"transparent\" points=\"60.5,-404 60.5,-482 230.5,-482 230.5,-404 60.5,-404\"/>\n",
       "<polygon fill=\"white\" stroke=\"transparent\" points=\"66.5,-459 66.5,-476 224.5,-476 224.5,-459 66.5,-459\"/>\n",
       "<polygon fill=\"none\" stroke=\"#6bb24d\" points=\"66.5,-459 66.5,-476 224.5,-476 224.5,-459 66.5,-459\"/>\n",
       "<text text-anchor=\"start\" x=\"142\" y=\"-465\" font-family=\"monospace\" font-size=\"10.00\">0</text>\n",
       "<text text-anchor=\"start\" x=\"67.5\" y=\"-441.2\" font-family=\"monospace\" font-weight=\"bold\" font-size=\"11.00\">FilterObservableTracker</text>\n",
       "<polygon fill=\"white\" stroke=\"transparent\" points=\"66.5,-410 66.5,-427 144.5,-427 144.5,-410 66.5,-410\"/>\n",
       "<polygon fill=\"none\" stroke=\"#6bb24d\" points=\"66.5,-410 66.5,-427 144.5,-427 144.5,-410 66.5,-410\"/>\n",
       "<text text-anchor=\"start\" x=\"102\" y=\"-416\" font-family=\"monospace\" font-size=\"10.00\">0</text>\n",
       "<polygon fill=\"white\" stroke=\"transparent\" points=\"147.5,-410 147.5,-427 224.5,-427 224.5,-410 147.5,-410\"/>\n",
       "<polygon fill=\"none\" stroke=\"#6bb24d\" points=\"147.5,-410 147.5,-427 224.5,-427 224.5,-410 147.5,-410\"/>\n",
       "<text text-anchor=\"start\" x=\"182.5\" y=\"-416\" font-family=\"monospace\" font-size=\"10.00\">1</text>\n",
       "<polygon fill=\"none\" stroke=\"white\" points=\"60.5,-404 60.5,-482 230.5,-482 230.5,-404 60.5,-404\"/>\n",
       "</g>\n",
       "<!-- Inputs&#45;&gt;FilterObservableTracker -->\n",
       "<g id=\"edge1\" class=\"edge\">\n",
       "<title>Inputs:out_0&#45;&gt;FilterObservableTracker:in_0</title>\n",
       "<path fill=\"none\" stroke=\"#6bb24d\" stroke-width=\"1.5\" d=\"M145.5,-495C145.5,-487 145.5,-485 145.5,-477\"/>\n",
       "</g>\n",
       "<!-- CollateExperimentCircuits -->\n",
       "<g id=\"node3\" class=\"node\">\n",
       "<title>CollateExperimentCircuits</title>\n",
       "<polygon fill=\"#c0dd8e\" stroke=\"transparent\" points=\"0,-318 0,-396 183,-396 183,-318 0,-318\"/>\n",
       "<polygon fill=\"white\" stroke=\"transparent\" points=\"6.5,-373 6.5,-390 177.5,-390 177.5,-373 6.5,-373\"/>\n",
       "<polygon fill=\"none\" stroke=\"#6bb24d\" points=\"6.5,-373 6.5,-390 177.5,-390 177.5,-373 6.5,-373\"/>\n",
       "<text text-anchor=\"start\" x=\"88.5\" y=\"-379\" font-family=\"monospace\" font-size=\"10.00\">0</text>\n",
       "<text text-anchor=\"start\" x=\"7.5\" y=\"-355.2\" font-family=\"monospace\" font-weight=\"bold\" font-size=\"11.00\">CollateExperimentCircuits</text>\n",
       "<polygon fill=\"white\" stroke=\"transparent\" points=\"6.5,-324 6.5,-341 90.5,-341 90.5,-324 6.5,-324\"/>\n",
       "<polygon fill=\"none\" stroke=\"#6bb24d\" points=\"6.5,-324 6.5,-341 90.5,-341 90.5,-324 6.5,-324\"/>\n",
       "<text text-anchor=\"start\" x=\"45\" y=\"-330\" font-family=\"monospace\" font-size=\"10.00\">0</text>\n",
       "<polygon fill=\"white\" stroke=\"transparent\" points=\"93.5,-324 93.5,-341 177.5,-341 177.5,-324 93.5,-324\"/>\n",
       "<polygon fill=\"none\" stroke=\"#6bb24d\" points=\"93.5,-324 93.5,-341 177.5,-341 177.5,-324 93.5,-324\"/>\n",
       "<text text-anchor=\"start\" x=\"132\" y=\"-330\" font-family=\"monospace\" font-size=\"10.00\">1</text>\n",
       "<polygon fill=\"none\" stroke=\"white\" points=\"0,-318 0,-396 183,-396 183,-318 0,-318\"/>\n",
       "</g>\n",
       "<!-- FilterObservableTracker&#45;&gt;CollateExperimentCircuits -->\n",
       "<g id=\"edge2\" class=\"edge\">\n",
       "<title>FilterObservableTracker:out_0&#45;&gt;CollateExperimentCircuits:in_0</title>\n",
       "<path fill=\"none\" stroke=\"#6bb24d\" stroke-width=\"1.5\" d=\"M105.5,-409C105.5,-376.48 155.77,-420.19 177.5,-396 181.67,-391.36 184.74,-382 178.5,-382\"/>\n",
       "</g>\n",
       "<!-- GenerateExpectations -->\n",
       "<g id=\"node6\" class=\"node\">\n",
       "<title>GenerateExpectations</title>\n",
       "<polygon fill=\"#c0dd8e\" stroke=\"transparent\" points=\"81.5,-60 81.5,-138 231.5,-138 231.5,-60 81.5,-60\"/>\n",
       "<polygon fill=\"white\" stroke=\"transparent\" points=\"87.5,-115 87.5,-132 155.5,-132 155.5,-115 87.5,-115\"/>\n",
       "<polygon fill=\"none\" stroke=\"#6bb24d\" points=\"87.5,-115 87.5,-132 155.5,-132 155.5,-115 87.5,-115\"/>\n",
       "<text text-anchor=\"start\" x=\"118\" y=\"-121\" font-family=\"monospace\" font-size=\"10.00\">0</text>\n",
       "<polygon fill=\"white\" stroke=\"transparent\" points=\"158.5,-115 158.5,-132 225.5,-132 225.5,-115 158.5,-115\"/>\n",
       "<polygon fill=\"none\" stroke=\"#6bb24d\" points=\"158.5,-115 158.5,-132 225.5,-132 225.5,-115 158.5,-115\"/>\n",
       "<text text-anchor=\"start\" x=\"188.5\" y=\"-121\" font-family=\"monospace\" font-size=\"10.00\">1</text>\n",
       "<text text-anchor=\"start\" x=\"88.5\" y=\"-97.2\" font-family=\"monospace\" font-weight=\"bold\" font-size=\"11.00\">GenerateExpectations</text>\n",
       "<polygon fill=\"white\" stroke=\"transparent\" points=\"87.5,-66 87.5,-83 225.5,-83 225.5,-66 87.5,-66\"/>\n",
       "<polygon fill=\"none\" stroke=\"#6bb24d\" points=\"87.5,-66 87.5,-83 225.5,-83 225.5,-66 87.5,-66\"/>\n",
       "<text text-anchor=\"start\" x=\"153\" y=\"-72\" font-family=\"monospace\" font-size=\"10.00\">0</text>\n",
       "<polygon fill=\"none\" stroke=\"white\" points=\"81.5,-60 81.5,-138 231.5,-138 231.5,-60 81.5,-60\"/>\n",
       "</g>\n",
       "<!-- FilterObservableTracker&#45;&gt;GenerateExpectations -->\n",
       "<g id=\"edge3\" class=\"edge\">\n",
       "<title>FilterObservableTracker:out_1&#45;&gt;GenerateExpectations:in_1</title>\n",
       "<path fill=\"none\" stroke=\"#6bb24d\" stroke-width=\"1.5\" d=\"M186.5,-409C186.5,-403.15 188.01,-401.83 188.5,-396 198.3,-279.51 192.5,-249.9 192.5,-133\"/>\n",
       "</g>\n",
       "<!-- MitRes -->\n",
       "<g id=\"node4\" class=\"node\">\n",
       "<title>MitRes</title>\n",
       "<polygon fill=\"#c0dd8e\" stroke=\"transparent\" points=\"42,-232 42,-310 97,-310 97,-232 42,-232\"/>\n",
       "<polygon fill=\"white\" stroke=\"transparent\" points=\"48.5,-287 48.5,-304 91.5,-304 91.5,-287 48.5,-287\"/>\n",
       "<polygon fill=\"none\" stroke=\"#6bb24d\" points=\"48.5,-287 48.5,-304 91.5,-304 91.5,-287 48.5,-287\"/>\n",
       "<text text-anchor=\"start\" x=\"66.5\" y=\"-293\" font-family=\"monospace\" font-size=\"10.00\">0</text>\n",
       "<text text-anchor=\"start\" x=\"49.5\" y=\"-269.2\" font-family=\"monospace\" font-weight=\"bold\" font-size=\"11.00\">MitRes</text>\n",
       "<polygon fill=\"white\" stroke=\"transparent\" points=\"48.5,-238 48.5,-255 91.5,-255 91.5,-238 48.5,-238\"/>\n",
       "<polygon fill=\"none\" stroke=\"#6bb24d\" points=\"48.5,-238 48.5,-255 91.5,-255 91.5,-238 48.5,-238\"/>\n",
       "<text text-anchor=\"start\" x=\"66.5\" y=\"-244\" font-family=\"monospace\" font-size=\"10.00\">0</text>\n",
       "<polygon fill=\"none\" stroke=\"white\" points=\"42,-232 42,-310 97,-310 97,-232 42,-232\"/>\n",
       "</g>\n",
       "<!-- CollateExperimentCircuits&#45;&gt;MitRes -->\n",
       "<g id=\"edge4\" class=\"edge\">\n",
       "<title>CollateExperimentCircuits:out_0&#45;&gt;MitRes:in_0</title>\n",
       "<path fill=\"none\" stroke=\"#6bb24d\" stroke-width=\"1.5\" d=\"M48.5,-323C48.5,-310.37 70.5,-317.63 70.5,-305\"/>\n",
       "</g>\n",
       "<!-- SplitResults -->\n",
       "<g id=\"node5\" class=\"node\">\n",
       "<title>SplitResults</title>\n",
       "<polygon fill=\"#c0dd8e\" stroke=\"transparent\" points=\"65.5,-146 65.5,-224 161.5,-224 161.5,-146 65.5,-146\"/>\n",
       "<polygon fill=\"white\" stroke=\"transparent\" points=\"71.5,-201 71.5,-218 112.5,-218 112.5,-201 71.5,-201\"/>\n",
       "<polygon fill=\"none\" stroke=\"#6bb24d\" points=\"71.5,-201 71.5,-218 112.5,-218 112.5,-201 71.5,-201\"/>\n",
       "<text text-anchor=\"start\" x=\"88.5\" y=\"-207\" font-family=\"monospace\" font-size=\"10.00\">0</text>\n",
       "<polygon fill=\"white\" stroke=\"transparent\" points=\"115.5,-201 115.5,-218 155.5,-218 155.5,-201 115.5,-201\"/>\n",
       "<polygon fill=\"none\" stroke=\"#6bb24d\" points=\"115.5,-201 115.5,-218 155.5,-218 155.5,-201 115.5,-201\"/>\n",
       "<text text-anchor=\"start\" x=\"132\" y=\"-207\" font-family=\"monospace\" font-size=\"10.00\">1</text>\n",
       "<text text-anchor=\"start\" x=\"72.5\" y=\"-183.2\" font-family=\"monospace\" font-weight=\"bold\" font-size=\"11.00\">SplitResults</text>\n",
       "<polygon fill=\"white\" stroke=\"transparent\" points=\"71.5,-152 71.5,-169 155.5,-169 155.5,-152 71.5,-152\"/>\n",
       "<polygon fill=\"none\" stroke=\"#6bb24d\" points=\"71.5,-152 71.5,-169 155.5,-169 155.5,-152 71.5,-152\"/>\n",
       "<text text-anchor=\"start\" x=\"110\" y=\"-158\" font-family=\"monospace\" font-size=\"10.00\">0</text>\n",
       "<polygon fill=\"none\" stroke=\"white\" points=\"65.5,-146 65.5,-224 161.5,-224 161.5,-146 65.5,-146\"/>\n",
       "</g>\n",
       "<!-- CollateExperimentCircuits&#45;&gt;SplitResults -->\n",
       "<g id=\"edge5\" class=\"edge\">\n",
       "<title>CollateExperimentCircuits:out_1&#45;&gt;SplitResults:in_1</title>\n",
       "<path fill=\"none\" stroke=\"#6bb24d\" stroke-width=\"1.5\" d=\"M135.5,-323C135.5,-276.78 135.5,-265.22 135.5,-219\"/>\n",
       "</g>\n",
       "<!-- MitRes&#45;&gt;SplitResults -->\n",
       "<g id=\"edge6\" class=\"edge\">\n",
       "<title>MitRes:out_0&#45;&gt;SplitResults:in_0</title>\n",
       "<path fill=\"none\" stroke=\"#6bb24d\" stroke-width=\"1.5\" d=\"M92.5,-246C104.51,-246 91.5,-231.01 91.5,-219\"/>\n",
       "</g>\n",
       "<!-- SplitResults&#45;&gt;GenerateExpectations -->\n",
       "<g id=\"edge7\" class=\"edge\">\n",
       "<title>SplitResults:out_0&#45;&gt;GenerateExpectations:in_0</title>\n",
       "<path fill=\"none\" stroke=\"#6bb24d\" stroke-width=\"1.5\" d=\"M156.5,-160C162.74,-160 159.22,-151.01 155.5,-146 145.86,-133.01 121.5,-149.18 121.5,-133\"/>\n",
       "</g>\n",
       "<!-- Outputs -->\n",
       "<g id=\"node7\" class=\"node\">\n",
       "<title>Outputs</title>\n",
       "<polygon fill=\"white\" stroke=\"transparent\" points=\"125.5,0 125.5,-52 187.5,-52 187.5,0 125.5,0\"/>\n",
       "<polygon fill=\"white\" stroke=\"transparent\" points=\"131.5,-29 131.5,-46 181.5,-46 181.5,-29 131.5,-29\"/>\n",
       "<polygon fill=\"none\" stroke=\"#6bb24d\" points=\"131.5,-29 131.5,-46 181.5,-46 181.5,-29 131.5,-29\"/>\n",
       "<text text-anchor=\"start\" x=\"153\" y=\"-35\" font-family=\"monospace\" font-size=\"10.00\">0</text>\n",
       "<text text-anchor=\"start\" x=\"132.5\" y=\"-11.2\" font-family=\"monospace\" font-weight=\"bold\" font-size=\"11.00\">Outputs</text>\n",
       "<polygon fill=\"none\" stroke=\"white\" points=\"125.5,0 125.5,-52 187.5,-52 187.5,0 125.5,0\"/>\n",
       "</g>\n",
       "<!-- GenerateExpectations&#45;&gt;Outputs -->\n",
       "<g id=\"edge8\" class=\"edge\">\n",
       "<title>GenerateExpectations:out_0&#45;&gt;Outputs:in_0</title>\n",
       "<path fill=\"none\" stroke=\"#6bb24d\" stroke-width=\"1.5\" d=\"M156.5,-65C156.5,-57 156.5,-55 156.5,-47\"/>\n",
       "</g>\n",
       "</g>\n",
       "</svg>\n"
      ],
      "text/plain": [
       "<graphviz.graphs.Digraph at 0x7fa86b877ca0>"
      ]
     },
     "execution_count": 15,
     "metadata": {},
     "output_type": "execute_result"
    }
   ],
   "source": [
    "ideal_mitex.get_task_graph()"
   ]
  },
  {
   "cell_type": "markdown",
   "id": "47243a12",
   "metadata": {
    "slideshow": {
     "slide_type": "subslide"
    }
   },
   "source": [
    "## Noisy Expectation Value"
   ]
  },
  {
   "cell_type": "code",
   "execution_count": 16,
   "id": "1a219713",
   "metadata": {
    "slideshow": {
     "slide_type": "-"
    }
   },
   "outputs": [
    {
     "name": "stdout",
     "output_type": "stream",
     "text": [
      "Noisy expectation: {(Zq[0], Zq[1], Zq[2], Zq[3]): 0.270620000000000}\n"
     ]
    }
   ],
   "source": [
    "noisy_mitex = MitEx(noisy_backend)\n",
    "\n",
    "noisy_expectation = noisy_mitex.run(obs_exp_list)\n",
    "print(f\"Noisy expectation: {noisy_expectation[0]}\")"
   ]
  },
  {
   "cell_type": "markdown",
   "id": "3ada38b5",
   "metadata": {
    "slideshow": {
     "slide_type": "subslide"
    }
   },
   "source": [
    "## ZNE Error-Mitigation with Qermit"
   ]
  },
  {
   "cell_type": "code",
   "execution_count": 17,
   "id": "0a43d474",
   "metadata": {
    "slideshow": {
     "slide_type": "-"
    }
   },
   "outputs": [],
   "source": [
    "from qermit.zero_noise_extrapolation import (\n",
    "    gen_ZNE_MitEx, Fit, Folding\n",
    ")\n",
    "\n",
    "zne_me = gen_ZNE_MitEx(backend=noisy_backend, \n",
    "                       noise_scaling_list=[9,7,5,3], \n",
    "                       fit_type=Fit.exponential, \n",
    "                       folding_type=Folding.circuit,\n",
    "                       show_fit=True)"
   ]
  },
  {
   "cell_type": "code",
   "execution_count": 18,
   "id": "020d7f20",
   "metadata": {
    "slideshow": {
     "slide_type": "skip"
    }
   },
   "outputs": [],
   "source": [
    "import seaborn as sns \n",
    "sns.set_style(\"whitegrid\")"
   ]
  },
  {
   "cell_type": "code",
   "execution_count": 19,
   "id": "f7adc781",
   "metadata": {
    "slideshow": {
     "slide_type": "subslide"
    }
   },
   "outputs": [
    {
     "data": {
      "image/png": "[encoded data removed]",
      "text/plain": [
       "<Figure size 640x480 with 1 Axes>"
      ]
     },
     "metadata": {},
     "output_type": "display_data"
    },
    {
     "data": {
      "text/plain": [
       "[{(Zq[0], Zq[1], Zq[2], Zq[3]): 0.367844846523946}]"
      ]
     },
     "execution_count": 19,
     "metadata": {},
     "output_type": "execute_result"
    }
   ],
   "source": [
    "zne_me.run(obs_exp_list)"
   ]
  },
  {
   "cell_type": "markdown",
   "id": "78b32f06",
   "metadata": {
    "slideshow": {
     "slide_type": "subslide"
    }
   },
   "source": [
    "## ZNE MitEx Task Graph"
   ]
  },
  {
   "cell_type": "code",
   "execution_count": 20,
   "id": "93743d7f",
   "metadata": {
    "scrolled": false,
    "slideshow": {
     "slide_type": "skip"
    }
   },
   "outputs": [
    {
     "data": {
      "image/svg+xml": [
       "<?xml version=\"1.0\" encoding=\"UTF-8\" standalone=\"no\"?>\n",
       "<!DOCTYPE svg PUBLIC \"-//W3C//DTD SVG 1.1//EN\"\n",
       " \"http://www.w3.org/Graphics/SVG/1.1/DTD/svg11.dtd\">\n",
       "<!-- Generated by graphviz version 2.44.0 (20200408.0750)\n",
       " -->\n",
       "<!-- Title: ExperimentMitex Pages: 1 -->\n",
       "<svg width=\"607pt\" height=\"894pt\"\n",
       " viewBox=\"0.00 0.00 606.85 894.00\" xmlns=\"http://www.w3.org/2000/svg\" xmlns:xlink=\"http://www.w3.org/1999/xlink\">\n",
       "<g id=\"graph0\" class=\"graph\" transform=\"scale(1 1) rotate(0) translate(4 890)\">\n",
       "<title>ExperimentMitex</title>\n",
       "<polygon fill=\"white\" stroke=\"transparent\" points=\"-4,4 -4,-890 602.85,-890 602.85,4 -4,4\"/>\n",
       "<!-- Inputs -->\n",
       "<g id=\"node1\" class=\"node\">\n",
       "<title>Inputs</title>\n",
       "<polygon fill=\"white\" stroke=\"transparent\" points=\"463,-834 463,-886 518,-886 518,-834 463,-834\"/>\n",
       "<text text-anchor=\"start\" x=\"470.5\" y=\"-871.2\" font-family=\"monospace\" font-weight=\"bold\" font-size=\"11.00\">Inputs</text>\n",
       "<polygon fill=\"white\" stroke=\"transparent\" points=\"469.5,-840 469.5,-857 512.5,-857 512.5,-840 469.5,-840\"/>\n",
       "<polygon fill=\"none\" stroke=\"#6bb24d\" points=\"469.5,-840 469.5,-857 512.5,-857 512.5,-840 469.5,-840\"/>\n",
       "<text text-anchor=\"start\" x=\"487.5\" y=\"-846\" font-family=\"monospace\" font-size=\"10.00\">0</text>\n",
       "<polygon fill=\"none\" stroke=\"white\" points=\"463,-834 463,-886 518,-886 518,-834 463,-834\"/>\n",
       "</g>\n",
       "<!-- CompileToBackend -->\n",
       "<g id=\"node14\" class=\"node\">\n",
       "<title>CompileToBackend</title>\n",
       "<polygon fill=\"#c0dd8e\" stroke=\"transparent\" points=\"429,-748 429,-826 552,-826 552,-748 429,-748\"/>\n",
       "<polygon fill=\"white\" stroke=\"transparent\" points=\"435.5,-803 435.5,-820 546.5,-820 546.5,-803 435.5,-803\"/>\n",
       "<polygon fill=\"none\" stroke=\"#6bb24d\" points=\"435.5,-803 435.5,-820 546.5,-820 546.5,-803 435.5,-803\"/>\n",
       "<text text-anchor=\"start\" x=\"487.5\" y=\"-809\" font-family=\"monospace\" font-size=\"10.00\">0</text>\n",
       "<text text-anchor=\"start\" x=\"436.5\" y=\"-785.2\" font-family=\"monospace\" font-weight=\"bold\" font-size=\"11.00\">CompileToBackend</text>\n",
       "<polygon fill=\"white\" stroke=\"transparent\" points=\"435.5,-754 435.5,-771 489.5,-771 489.5,-754 435.5,-754\"/>\n",
       "<polygon fill=\"none\" stroke=\"#6bb24d\" points=\"435.5,-754 435.5,-771 489.5,-771 489.5,-754 435.5,-754\"/>\n",
       "<text text-anchor=\"start\" x=\"459\" y=\"-760\" font-family=\"monospace\" font-size=\"10.00\">0</text>\n",
       "<polygon fill=\"white\" stroke=\"transparent\" points=\"492.5,-754 492.5,-771 546.5,-771 546.5,-754 492.5,-754\"/>\n",
       "<polygon fill=\"none\" stroke=\"#6bb24d\" points=\"492.5,-754 492.5,-771 546.5,-771 546.5,-754 492.5,-754\"/>\n",
       "<text text-anchor=\"start\" x=\"516\" y=\"-760\" font-family=\"monospace\" font-size=\"10.00\">1</text>\n",
       "<polygon fill=\"none\" stroke=\"white\" points=\"429,-748 429,-826 552,-826 552,-748 429,-748\"/>\n",
       "</g>\n",
       "<!-- Inputs&#45;&gt;CompileToBackend -->\n",
       "<g id=\"edge1\" class=\"edge\">\n",
       "<title>Inputs:out_0&#45;&gt;CompileToBackend:in_0</title>\n",
       "<path fill=\"none\" stroke=\"#6bb24d\" stroke-width=\"1.5\" d=\"M491.5,-839C491.5,-831 491.5,-829 491.5,-821\"/>\n",
       "</g>\n",
       "<!-- FilterObservableTracker -->\n",
       "<g id=\"node2\" class=\"node\">\n",
       "<title>FilterObservableTracker</title>\n",
       "<polygon fill=\"#c0dd8e\" stroke=\"transparent\" points=\"74.5,-576 74.5,-654 244.5,-654 244.5,-576 74.5,-576\"/>\n",
       "<polygon fill=\"white\" stroke=\"transparent\" points=\"80.5,-631 80.5,-648 238.5,-648 238.5,-631 80.5,-631\"/>\n",
       "<polygon fill=\"none\" stroke=\"#6bb24d\" points=\"80.5,-631 80.5,-648 238.5,-648 238.5,-631 80.5,-631\"/>\n",
       "<text text-anchor=\"start\" x=\"156\" y=\"-637\" font-family=\"monospace\" font-size=\"10.00\">0</text>\n",
       "<text text-anchor=\"start\" x=\"81.5\" y=\"-613.2\" font-family=\"monospace\" font-weight=\"bold\" font-size=\"11.00\">FilterObservableTracker</text>\n",
       "<polygon fill=\"white\" stroke=\"transparent\" points=\"80.5,-582 80.5,-599 158.5,-599 158.5,-582 80.5,-582\"/>\n",
       "<polygon fill=\"none\" stroke=\"#6bb24d\" points=\"80.5,-582 80.5,-599 158.5,-599 158.5,-582 80.5,-582\"/>\n",
       "<text text-anchor=\"start\" x=\"116\" y=\"-588\" font-family=\"monospace\" font-size=\"10.00\">0</text>\n",
       "<polygon fill=\"white\" stroke=\"transparent\" points=\"161.5,-582 161.5,-599 238.5,-599 238.5,-582 161.5,-582\"/>\n",
       "<polygon fill=\"none\" stroke=\"#6bb24d\" points=\"161.5,-582 161.5,-599 238.5,-599 238.5,-582 161.5,-582\"/>\n",
       "<text text-anchor=\"start\" x=\"196.5\" y=\"-588\" font-family=\"monospace\" font-size=\"10.00\">1</text>\n",
       "<polygon fill=\"none\" stroke=\"white\" points=\"74.5,-576 74.5,-654 244.5,-654 244.5,-576 74.5,-576\"/>\n",
       "</g>\n",
       "<!-- CollateExperimentCircuits -->\n",
       "<g id=\"node3\" class=\"node\">\n",
       "<title>CollateExperimentCircuits</title>\n",
       "<polygon fill=\"#c0dd8e\" stroke=\"transparent\" points=\"0,-490 0,-568 183,-568 183,-490 0,-490\"/>\n",
       "<polygon fill=\"white\" stroke=\"transparent\" points=\"6.5,-545 6.5,-562 177.5,-562 177.5,-545 6.5,-545\"/>\n",
       "<polygon fill=\"none\" stroke=\"#6bb24d\" points=\"6.5,-545 6.5,-562 177.5,-562 177.5,-545 6.5,-545\"/>\n",
       "<text text-anchor=\"start\" x=\"88.5\" y=\"-551\" font-family=\"monospace\" font-size=\"10.00\">0</text>\n",
       "<text text-anchor=\"start\" x=\"7.5\" y=\"-527.2\" font-family=\"monospace\" font-weight=\"bold\" font-size=\"11.00\">CollateExperimentCircuits</text>\n",
       "<polygon fill=\"white\" stroke=\"transparent\" points=\"6.5,-496 6.5,-513 90.5,-513 90.5,-496 6.5,-496\"/>\n",
       "<polygon fill=\"none\" stroke=\"#6bb24d\" points=\"6.5,-496 6.5,-513 90.5,-513 90.5,-496 6.5,-496\"/>\n",
       "<text text-anchor=\"start\" x=\"45\" y=\"-502\" font-family=\"monospace\" font-size=\"10.00\">0</text>\n",
       "<polygon fill=\"white\" stroke=\"transparent\" points=\"93.5,-496 93.5,-513 177.5,-513 177.5,-496 93.5,-496\"/>\n",
       "<polygon fill=\"none\" stroke=\"#6bb24d\" points=\"93.5,-496 93.5,-513 177.5,-513 177.5,-496 93.5,-496\"/>\n",
       "<text text-anchor=\"start\" x=\"132\" y=\"-502\" font-family=\"monospace\" font-size=\"10.00\">1</text>\n",
       "<polygon fill=\"none\" stroke=\"white\" points=\"0,-490 0,-568 183,-568 183,-490 0,-490\"/>\n",
       "</g>\n",
       "<!-- FilterObservableTracker&#45;&gt;CollateExperimentCircuits -->\n",
       "<g id=\"edge2\" class=\"edge\">\n",
       "<title>FilterObservableTracker:out_0&#45;&gt;CollateExperimentCircuits:in_0</title>\n",
       "<path fill=\"none\" stroke=\"#6bb24d\" stroke-width=\"1.5\" d=\"M119.5,-581C119.5,-554.58 160.26,-588.02 177.5,-568 181.57,-563.27 184.74,-554 178.5,-554\"/>\n",
       "</g>\n",
       "<!-- GenerateExpectations -->\n",
       "<g id=\"node6\" class=\"node\">\n",
       "<title>GenerateExpectations</title>\n",
       "<polygon fill=\"#c0dd8e\" stroke=\"transparent\" points=\"60.5,-232 60.5,-310 210.5,-310 210.5,-232 60.5,-232\"/>\n",
       "<polygon fill=\"white\" stroke=\"transparent\" points=\"66.5,-287 66.5,-304 134.5,-304 134.5,-287 66.5,-287\"/>\n",
       "<polygon fill=\"none\" stroke=\"#6bb24d\" points=\"66.5,-287 66.5,-304 134.5,-304 134.5,-287 66.5,-287\"/>\n",
       "<text text-anchor=\"start\" x=\"97\" y=\"-293\" font-family=\"monospace\" font-size=\"10.00\">0</text>\n",
       "<polygon fill=\"white\" stroke=\"transparent\" points=\"137.5,-287 137.5,-304 204.5,-304 204.5,-287 137.5,-287\"/>\n",
       "<polygon fill=\"none\" stroke=\"#6bb24d\" points=\"137.5,-287 137.5,-304 204.5,-304 204.5,-287 137.5,-287\"/>\n",
       "<text text-anchor=\"start\" x=\"167.5\" y=\"-293\" font-family=\"monospace\" font-size=\"10.00\">1</text>\n",
       "<text text-anchor=\"start\" x=\"67.5\" y=\"-269.2\" font-family=\"monospace\" font-weight=\"bold\" font-size=\"11.00\">GenerateExpectations</text>\n",
       "<polygon fill=\"white\" stroke=\"transparent\" points=\"66.5,-238 66.5,-255 204.5,-255 204.5,-238 66.5,-238\"/>\n",
       "<polygon fill=\"none\" stroke=\"#6bb24d\" points=\"66.5,-238 66.5,-255 204.5,-255 204.5,-238 66.5,-238\"/>\n",
       "<text text-anchor=\"start\" x=\"132\" y=\"-244\" font-family=\"monospace\" font-size=\"10.00\">0</text>\n",
       "<polygon fill=\"none\" stroke=\"white\" points=\"60.5,-232 60.5,-310 210.5,-310 210.5,-232 60.5,-232\"/>\n",
       "</g>\n",
       "<!-- FilterObservableTracker&#45;&gt;GenerateExpectations -->\n",
       "<g id=\"edge3\" class=\"edge\">\n",
       "<title>FilterObservableTracker:out_1&#45;&gt;GenerateExpectations:in_1</title>\n",
       "<path fill=\"none\" stroke=\"#6bb24d\" stroke-width=\"1.5\" d=\"M200.5,-581C200.5,-457.66 171.5,-428.34 171.5,-305\"/>\n",
       "</g>\n",
       "<!-- MitRes -->\n",
       "<g id=\"node4\" class=\"node\">\n",
       "<title>MitRes</title>\n",
       "<polygon fill=\"#c0dd8e\" stroke=\"transparent\" points=\"37,-404 37,-482 92,-482 92,-404 37,-404\"/>\n",
       "<polygon fill=\"white\" stroke=\"transparent\" points=\"43.5,-459 43.5,-476 86.5,-476 86.5,-459 43.5,-459\"/>\n",
       "<polygon fill=\"none\" stroke=\"#6bb24d\" points=\"43.5,-459 43.5,-476 86.5,-476 86.5,-459 43.5,-459\"/>\n",
       "<text text-anchor=\"start\" x=\"61.5\" y=\"-465\" font-family=\"monospace\" font-size=\"10.00\">0</text>\n",
       "<text text-anchor=\"start\" x=\"44.5\" y=\"-441.2\" font-family=\"monospace\" font-weight=\"bold\" font-size=\"11.00\">MitRes</text>\n",
       "<polygon fill=\"white\" stroke=\"transparent\" points=\"43.5,-410 43.5,-427 86.5,-427 86.5,-410 43.5,-410\"/>\n",
       "<polygon fill=\"none\" stroke=\"#6bb24d\" points=\"43.5,-410 43.5,-427 86.5,-427 86.5,-410 43.5,-410\"/>\n",
       "<text text-anchor=\"start\" x=\"61.5\" y=\"-416\" font-family=\"monospace\" font-size=\"10.00\">0</text>\n",
       "<polygon fill=\"none\" stroke=\"white\" points=\"37,-404 37,-482 92,-482 92,-404 37,-404\"/>\n",
       "</g>\n",
       "<!-- CollateExperimentCircuits&#45;&gt;MitRes -->\n",
       "<g id=\"edge4\" class=\"edge\">\n",
       "<title>CollateExperimentCircuits:out_0&#45;&gt;MitRes:in_0</title>\n",
       "<path fill=\"none\" stroke=\"#6bb24d\" stroke-width=\"1.5\" d=\"M48.5,-495C48.5,-484 65.5,-488 65.5,-477\"/>\n",
       "</g>\n",
       "<!-- SplitResults -->\n",
       "<g id=\"node5\" class=\"node\">\n",
       "<title>SplitResults</title>\n",
       "<polygon fill=\"#c0dd8e\" stroke=\"transparent\" points=\"52.5,-318 52.5,-396 148.5,-396 148.5,-318 52.5,-318\"/>\n",
       "<polygon fill=\"white\" stroke=\"transparent\" points=\"58.5,-373 58.5,-390 99.5,-390 99.5,-373 58.5,-373\"/>\n",
       "<polygon fill=\"none\" stroke=\"#6bb24d\" points=\"58.5,-373 58.5,-390 99.5,-390 99.5,-373 58.5,-373\"/>\n",
       "<text text-anchor=\"start\" x=\"75.5\" y=\"-379\" font-family=\"monospace\" font-size=\"10.00\">0</text>\n",
       "<polygon fill=\"white\" stroke=\"transparent\" points=\"102.5,-373 102.5,-390 142.5,-390 142.5,-373 102.5,-373\"/>\n",
       "<polygon fill=\"none\" stroke=\"#6bb24d\" points=\"102.5,-373 102.5,-390 142.5,-390 142.5,-373 102.5,-373\"/>\n",
       "<text text-anchor=\"start\" x=\"119\" y=\"-379\" font-family=\"monospace\" font-size=\"10.00\">1</text>\n",
       "<text text-anchor=\"start\" x=\"59.5\" y=\"-355.2\" font-family=\"monospace\" font-weight=\"bold\" font-size=\"11.00\">SplitResults</text>\n",
       "<polygon fill=\"white\" stroke=\"transparent\" points=\"58.5,-324 58.5,-341 142.5,-341 142.5,-324 58.5,-324\"/>\n",
       "<polygon fill=\"none\" stroke=\"#6bb24d\" points=\"58.5,-324 58.5,-341 142.5,-341 142.5,-324 58.5,-324\"/>\n",
       "<text text-anchor=\"start\" x=\"97\" y=\"-330\" font-family=\"monospace\" font-size=\"10.00\">0</text>\n",
       "<polygon fill=\"none\" stroke=\"white\" points=\"52.5,-318 52.5,-396 148.5,-396 148.5,-318 52.5,-318\"/>\n",
       "</g>\n",
       "<!-- CollateExperimentCircuits&#45;&gt;SplitResults -->\n",
       "<g id=\"edge5\" class=\"edge\">\n",
       "<title>CollateExperimentCircuits:out_1&#45;&gt;SplitResults:in_1</title>\n",
       "<path fill=\"none\" stroke=\"#6bb24d\" stroke-width=\"1.5\" d=\"M135.5,-495C135.5,-448.42 122.5,-437.58 122.5,-391\"/>\n",
       "</g>\n",
       "<!-- MitRes&#45;&gt;SplitResults -->\n",
       "<g id=\"edge6\" class=\"edge\">\n",
       "<title>MitRes:out_0&#45;&gt;SplitResults:in_0</title>\n",
       "<path fill=\"none\" stroke=\"#6bb24d\" stroke-width=\"1.5\" d=\"M87.5,-418C93.74,-418 88.41,-409.94 86.5,-404 84.42,-397.54 78.5,-397.78 78.5,-391\"/>\n",
       "</g>\n",
       "<!-- SplitResults&#45;&gt;GenerateExpectations -->\n",
       "<g id=\"edge7\" class=\"edge\">\n",
       "<title>SplitResults:out_0&#45;&gt;GenerateExpectations:in_0</title>\n",
       "<path fill=\"none\" stroke=\"#6bb24d\" stroke-width=\"1.5\" d=\"M143.5,-332C149.74,-332 146.38,-322.89 142.5,-318 130.35,-302.7 100.5,-324.54 100.5,-305\"/>\n",
       "</g>\n",
       "<!-- CollateZNEResults -->\n",
       "<g id=\"node13\" class=\"node\">\n",
       "<title>CollateZNEResults</title>\n",
       "<polygon fill=\"#c0dd8e\" stroke=\"transparent\" points=\"288,-146 288,-224 417,-224 417,-146 288,-146\"/>\n",
       "<polygon fill=\"white\" stroke=\"transparent\" points=\"294.5,-201 294.5,-218 315.5,-218 315.5,-201 294.5,-201\"/>\n",
       "<polygon fill=\"none\" stroke=\"#6bb24d\" points=\"294.5,-201 294.5,-218 315.5,-218 315.5,-201 294.5,-201\"/>\n",
       "<text text-anchor=\"start\" x=\"301.5\" y=\"-207\" font-family=\"monospace\" font-size=\"10.00\">0</text>\n",
       "<polygon fill=\"white\" stroke=\"transparent\" points=\"318.5,-201 318.5,-218 339.5,-218 339.5,-201 318.5,-201\"/>\n",
       "<polygon fill=\"none\" stroke=\"#6bb24d\" points=\"318.5,-201 318.5,-218 339.5,-218 339.5,-201 318.5,-201\"/>\n",
       "<text text-anchor=\"start\" x=\"325.5\" y=\"-207\" font-family=\"monospace\" font-size=\"10.00\">1</text>\n",
       "<polygon fill=\"white\" stroke=\"transparent\" points=\"342.5,-201 342.5,-218 363.5,-218 363.5,-201 342.5,-201\"/>\n",
       "<polygon fill=\"none\" stroke=\"#6bb24d\" points=\"342.5,-201 342.5,-218 363.5,-218 363.5,-201 342.5,-201\"/>\n",
       "<text text-anchor=\"start\" x=\"349.5\" y=\"-207\" font-family=\"monospace\" font-size=\"10.00\">2</text>\n",
       "<polygon fill=\"white\" stroke=\"transparent\" points=\"366.5,-201 366.5,-218 387.5,-218 387.5,-201 366.5,-201\"/>\n",
       "<polygon fill=\"none\" stroke=\"#6bb24d\" points=\"366.5,-201 366.5,-218 387.5,-218 387.5,-201 366.5,-201\"/>\n",
       "<text text-anchor=\"start\" x=\"373.5\" y=\"-207\" font-family=\"monospace\" font-size=\"10.00\">3</text>\n",
       "<polygon fill=\"white\" stroke=\"transparent\" points=\"390.5,-201 390.5,-218 411.5,-218 411.5,-201 390.5,-201\"/>\n",
       "<polygon fill=\"none\" stroke=\"#6bb24d\" points=\"390.5,-201 390.5,-218 411.5,-218 411.5,-201 390.5,-201\"/>\n",
       "<text text-anchor=\"start\" x=\"397.5\" y=\"-207\" font-family=\"monospace\" font-size=\"10.00\">4</text>\n",
       "<text text-anchor=\"start\" x=\"295.5\" y=\"-183.2\" font-family=\"monospace\" font-weight=\"bold\" font-size=\"11.00\">CollateZNEResults</text>\n",
       "<polygon fill=\"white\" stroke=\"transparent\" points=\"294.5,-152 294.5,-169 411.5,-169 411.5,-152 294.5,-152\"/>\n",
       "<polygon fill=\"none\" stroke=\"#6bb24d\" points=\"294.5,-152 294.5,-169 411.5,-169 411.5,-152 294.5,-152\"/>\n",
       "<text text-anchor=\"start\" x=\"349.5\" y=\"-158\" font-family=\"monospace\" font-size=\"10.00\">0</text>\n",
       "<polygon fill=\"none\" stroke=\"white\" points=\"288,-146 288,-224 417,-224 417,-146 288,-146\"/>\n",
       "</g>\n",
       "<!-- GenerateExpectations&#45;&gt;CollateZNEResults -->\n",
       "<g id=\"edge8\" class=\"edge\">\n",
       "<title>GenerateExpectations:out_0&#45;&gt;CollateZNEResults:in_0</title>\n",
       "<path fill=\"none\" stroke=\"#6bb24d\" stroke-width=\"1.5\" d=\"M205.5,-246C214.3,-246 211.94,-236.5 219.5,-232 248.98,-214.44 259.19,-210 293.5,-210\"/>\n",
       "</g>\n",
       "<!-- Outputs -->\n",
       "<g id=\"node7\" class=\"node\">\n",
       "<title>Outputs</title>\n",
       "<polygon fill=\"white\" stroke=\"transparent\" points=\"459.5,0 459.5,-52 521.5,-52 521.5,0 459.5,0\"/>\n",
       "<polygon fill=\"white\" stroke=\"transparent\" points=\"465.5,-29 465.5,-46 515.5,-46 515.5,-29 465.5,-29\"/>\n",
       "<polygon fill=\"none\" stroke=\"#6bb24d\" points=\"465.5,-29 465.5,-46 515.5,-46 515.5,-29 465.5,-29\"/>\n",
       "<text text-anchor=\"start\" x=\"487\" y=\"-35\" font-family=\"monospace\" font-size=\"10.00\">0</text>\n",
       "<text text-anchor=\"start\" x=\"466.5\" y=\"-11.2\" font-family=\"monospace\" font-weight=\"bold\" font-size=\"11.00\">Outputs</text>\n",
       "<polygon fill=\"none\" stroke=\"white\" points=\"459.5,0 459.5,-52 521.5,-52 521.5,0 459.5,0\"/>\n",
       "</g>\n",
       "<!-- 9FoldMitEx9FoldMitEx -->\n",
       "<g id=\"node8\" class=\"node\">\n",
       "<title>9FoldMitEx9FoldMitEx</title>\n",
       "<polygon fill=\"#c0dd8e\" stroke=\"transparent\" points=\"217.5,-404 217.5,-482 367.5,-482 367.5,-404 217.5,-404\"/>\n",
       "<polygon fill=\"white\" stroke=\"transparent\" points=\"223.5,-459 223.5,-476 361.5,-476 361.5,-459 223.5,-459\"/>\n",
       "<polygon fill=\"none\" stroke=\"#6bb24d\" points=\"223.5,-459 223.5,-476 361.5,-476 361.5,-459 223.5,-459\"/>\n",
       "<text text-anchor=\"start\" x=\"289\" y=\"-465\" font-family=\"monospace\" font-size=\"10.00\">0</text>\n",
       "<text text-anchor=\"start\" x=\"224.5\" y=\"-441.2\" font-family=\"monospace\" font-weight=\"bold\" font-size=\"11.00\">9FoldMitEx9FoldMitEx</text>\n",
       "<polygon fill=\"white\" stroke=\"transparent\" points=\"223.5,-410 223.5,-427 361.5,-427 361.5,-410 223.5,-410\"/>\n",
       "<polygon fill=\"none\" stroke=\"#6bb24d\" points=\"223.5,-410 223.5,-427 361.5,-427 361.5,-410 223.5,-410\"/>\n",
       "<text text-anchor=\"start\" x=\"289\" y=\"-416\" font-family=\"monospace\" font-size=\"10.00\">0</text>\n",
       "<polygon fill=\"none\" stroke=\"white\" points=\"217.5,-404 217.5,-482 367.5,-482 367.5,-404 217.5,-404\"/>\n",
       "</g>\n",
       "<!-- 9FoldMitEx9FoldMitEx&#45;&gt;CollateZNEResults -->\n",
       "<g id=\"edge9\" class=\"edge\">\n",
       "<title>9FoldMitEx9FoldMitEx:out_0&#45;&gt;CollateZNEResults:in_1</title>\n",
       "<path fill=\"none\" stroke=\"#6bb24d\" stroke-width=\"1.5\" d=\"M222.5,-418C218.02,-418 210.81,-377.31 239.5,-318 261.59,-272.35 279.2,-268.42 314.5,-232 320.41,-225.9 328.5,-227.49 328.5,-219\"/>\n",
       "</g>\n",
       "<!-- 7FoldMitEx7FoldMitEx -->\n",
       "<g id=\"node9\" class=\"node\">\n",
       "<title>7FoldMitEx7FoldMitEx</title>\n",
       "<polygon fill=\"#c0dd8e\" stroke=\"transparent\" points=\"244.5,-318 244.5,-396 394.5,-396 394.5,-318 244.5,-318\"/>\n",
       "<polygon fill=\"white\" stroke=\"transparent\" points=\"250.5,-373 250.5,-390 388.5,-390 388.5,-373 250.5,-373\"/>\n",
       "<polygon fill=\"none\" stroke=\"#6bb24d\" points=\"250.5,-373 250.5,-390 388.5,-390 388.5,-373 250.5,-373\"/>\n",
       "<text text-anchor=\"start\" x=\"316\" y=\"-379\" font-family=\"monospace\" font-size=\"10.00\">0</text>\n",
       "<text text-anchor=\"start\" x=\"251.5\" y=\"-355.2\" font-family=\"monospace\" font-weight=\"bold\" font-size=\"11.00\">7FoldMitEx7FoldMitEx</text>\n",
       "<polygon fill=\"white\" stroke=\"transparent\" points=\"250.5,-324 250.5,-341 388.5,-341 388.5,-324 250.5,-324\"/>\n",
       "<polygon fill=\"none\" stroke=\"#6bb24d\" points=\"250.5,-324 250.5,-341 388.5,-341 388.5,-324 250.5,-324\"/>\n",
       "<text text-anchor=\"start\" x=\"316\" y=\"-330\" font-family=\"monospace\" font-size=\"10.00\">0</text>\n",
       "<polygon fill=\"none\" stroke=\"white\" points=\"244.5,-318 244.5,-396 394.5,-396 394.5,-318 244.5,-318\"/>\n",
       "</g>\n",
       "<!-- 7FoldMitEx7FoldMitEx&#45;&gt;CollateZNEResults -->\n",
       "<g id=\"edge10\" class=\"edge\">\n",
       "<title>7FoldMitEx7FoldMitEx:out_0&#45;&gt;CollateZNEResults:in_2</title>\n",
       "<path fill=\"none\" stroke=\"#6bb24d\" stroke-width=\"1.5\" d=\"M319.5,-323C319.5,-282.21 309,-266.03 331.5,-232 337.76,-222.53 353.5,-230.36 353.5,-219\"/>\n",
       "</g>\n",
       "<!-- 5FoldMitEx5FoldMitEx -->\n",
       "<g id=\"node10\" class=\"node\">\n",
       "<title>5FoldMitEx5FoldMitEx</title>\n",
       "<polygon fill=\"#c0dd8e\" stroke=\"transparent\" points=\"336.5,-232 336.5,-310 486.5,-310 486.5,-232 336.5,-232\"/>\n",
       "<polygon fill=\"white\" stroke=\"transparent\" points=\"342.5,-287 342.5,-304 480.5,-304 480.5,-287 342.5,-287\"/>\n",
       "<polygon fill=\"none\" stroke=\"#6bb24d\" points=\"342.5,-287 342.5,-304 480.5,-304 480.5,-287 342.5,-287\"/>\n",
       "<text text-anchor=\"start\" x=\"408\" y=\"-293\" font-family=\"monospace\" font-size=\"10.00\">0</text>\n",
       "<text text-anchor=\"start\" x=\"343.5\" y=\"-269.2\" font-family=\"monospace\" font-weight=\"bold\" font-size=\"11.00\">5FoldMitEx5FoldMitEx</text>\n",
       "<polygon fill=\"white\" stroke=\"transparent\" points=\"342.5,-238 342.5,-255 480.5,-255 480.5,-238 342.5,-238\"/>\n",
       "<polygon fill=\"none\" stroke=\"#6bb24d\" points=\"342.5,-238 342.5,-255 480.5,-255 480.5,-238 342.5,-238\"/>\n",
       "<text text-anchor=\"start\" x=\"408\" y=\"-244\" font-family=\"monospace\" font-size=\"10.00\">0</text>\n",
       "<polygon fill=\"none\" stroke=\"white\" points=\"336.5,-232 336.5,-310 486.5,-310 486.5,-232 336.5,-232\"/>\n",
       "</g>\n",
       "<!-- 5FoldMitEx5FoldMitEx&#45;&gt;CollateZNEResults -->\n",
       "<g id=\"edge11\" class=\"edge\">\n",
       "<title>5FoldMitEx5FoldMitEx:out_0&#45;&gt;CollateZNEResults:in_3</title>\n",
       "<path fill=\"none\" stroke=\"#6bb24d\" stroke-width=\"1.5\" d=\"M341.5,-246C335.26,-246 338.76,-236.99 342.5,-232 352.45,-218.72 377.5,-235.59 377.5,-219\"/>\n",
       "</g>\n",
       "<!-- 3FoldMitEx3FoldMitEx -->\n",
       "<g id=\"node11\" class=\"node\">\n",
       "<title>3FoldMitEx3FoldMitEx</title>\n",
       "<polygon fill=\"#c0dd8e\" stroke=\"transparent\" points=\"428.5,-490 428.5,-568 578.5,-568 578.5,-490 428.5,-490\"/>\n",
       "<polygon fill=\"white\" stroke=\"transparent\" points=\"434.5,-545 434.5,-562 572.5,-562 572.5,-545 434.5,-545\"/>\n",
       "<polygon fill=\"none\" stroke=\"#6bb24d\" points=\"434.5,-545 434.5,-562 572.5,-562 572.5,-545 434.5,-545\"/>\n",
       "<text text-anchor=\"start\" x=\"500\" y=\"-551\" font-family=\"monospace\" font-size=\"10.00\">0</text>\n",
       "<text text-anchor=\"start\" x=\"435.5\" y=\"-527.2\" font-family=\"monospace\" font-weight=\"bold\" font-size=\"11.00\">3FoldMitEx3FoldMitEx</text>\n",
       "<polygon fill=\"white\" stroke=\"transparent\" points=\"434.5,-496 434.5,-513 572.5,-513 572.5,-496 434.5,-496\"/>\n",
       "<polygon fill=\"none\" stroke=\"#6bb24d\" points=\"434.5,-496 434.5,-513 572.5,-513 572.5,-496 434.5,-496\"/>\n",
       "<text text-anchor=\"start\" x=\"500\" y=\"-502\" font-family=\"monospace\" font-size=\"10.00\">0</text>\n",
       "<polygon fill=\"none\" stroke=\"white\" points=\"428.5,-490 428.5,-568 578.5,-568 578.5,-490 428.5,-490\"/>\n",
       "</g>\n",
       "<!-- 3FoldMitEx3FoldMitEx&#45;&gt;CollateZNEResults -->\n",
       "<g id=\"edge12\" class=\"edge\">\n",
       "<title>3FoldMitEx3FoldMitEx:out_0&#45;&gt;CollateZNEResults:in_4</title>\n",
       "<path fill=\"none\" stroke=\"#6bb24d\" stroke-width=\"1.5\" d=\"M503.5,-495C503.5,-378.01 565.34,-323.55 492.5,-232 481.02,-217.57 430.94,-210 412.5,-210\"/>\n",
       "</g>\n",
       "<!-- Duplicate -->\n",
       "<g id=\"node12\" class=\"node\">\n",
       "<title>Duplicate</title>\n",
       "<polygon fill=\"#c0dd8e\" stroke=\"transparent\" points=\"342,-662 342,-740 431,-740 431,-662 342,-662\"/>\n",
       "<polygon fill=\"white\" stroke=\"transparent\" points=\"348.5,-717 348.5,-734 425.5,-734 425.5,-717 348.5,-717\"/>\n",
       "<polygon fill=\"none\" stroke=\"#6bb24d\" points=\"348.5,-717 348.5,-734 425.5,-734 425.5,-717 348.5,-717\"/>\n",
       "<text text-anchor=\"start\" x=\"383.5\" y=\"-723\" font-family=\"monospace\" font-size=\"10.00\">0</text>\n",
       "<text text-anchor=\"start\" x=\"356.5\" y=\"-699.2\" font-family=\"monospace\" font-weight=\"bold\" font-size=\"11.00\">Duplicate</text>\n",
       "<polygon fill=\"white\" stroke=\"transparent\" points=\"348.5,-668 348.5,-685 361.5,-685 361.5,-668 348.5,-668\"/>\n",
       "<polygon fill=\"none\" stroke=\"#6bb24d\" points=\"348.5,-668 348.5,-685 361.5,-685 361.5,-668 348.5,-668\"/>\n",
       "<text text-anchor=\"start\" x=\"351.5\" y=\"-674\" font-family=\"monospace\" font-size=\"10.00\">0</text>\n",
       "<polygon fill=\"white\" stroke=\"transparent\" points=\"364.5,-668 364.5,-685 377.5,-685 377.5,-668 364.5,-668\"/>\n",
       "<polygon fill=\"none\" stroke=\"#6bb24d\" points=\"364.5,-668 364.5,-685 377.5,-685 377.5,-668 364.5,-668\"/>\n",
       "<text text-anchor=\"start\" x=\"367.5\" y=\"-674\" font-family=\"monospace\" font-size=\"10.00\">1</text>\n",
       "<polygon fill=\"white\" stroke=\"transparent\" points=\"380.5,-668 380.5,-685 393.5,-685 393.5,-668 380.5,-668\"/>\n",
       "<polygon fill=\"none\" stroke=\"#6bb24d\" points=\"380.5,-668 380.5,-685 393.5,-685 393.5,-668 380.5,-668\"/>\n",
       "<text text-anchor=\"start\" x=\"383.5\" y=\"-674\" font-family=\"monospace\" font-size=\"10.00\">2</text>\n",
       "<polygon fill=\"white\" stroke=\"transparent\" points=\"396.5,-668 396.5,-685 409.5,-685 409.5,-668 396.5,-668\"/>\n",
       "<polygon fill=\"none\" stroke=\"#6bb24d\" points=\"396.5,-668 396.5,-685 409.5,-685 409.5,-668 396.5,-668\"/>\n",
       "<text text-anchor=\"start\" x=\"399.5\" y=\"-674\" font-family=\"monospace\" font-size=\"10.00\">3</text>\n",
       "<polygon fill=\"white\" stroke=\"transparent\" points=\"412.5,-668 412.5,-685 425.5,-685 425.5,-668 412.5,-668\"/>\n",
       "<polygon fill=\"none\" stroke=\"#6bb24d\" points=\"412.5,-668 412.5,-685 425.5,-685 425.5,-668 412.5,-668\"/>\n",
       "<text text-anchor=\"start\" x=\"415.5\" y=\"-674\" font-family=\"monospace\" font-size=\"10.00\">4</text>\n",
       "<polygon fill=\"none\" stroke=\"white\" points=\"342,-662 342,-740 431,-740 431,-662 342,-662\"/>\n",
       "</g>\n",
       "<!-- Duplicate&#45;&gt;FilterObservableTracker -->\n",
       "<g id=\"edge13\" class=\"edge\">\n",
       "<title>Duplicate:out_0&#45;&gt;FilterObservableTracker:in_0</title>\n",
       "<path fill=\"none\" stroke=\"#6bb24d\" stroke-width=\"1.5\" d=\"M347.5,-676C296.9,-676 290.1,-640 239.5,-640\"/>\n",
       "</g>\n",
       "<!-- Duplicate&#45;&gt;9FoldMitEx9FoldMitEx -->\n",
       "<g id=\"edge14\" class=\"edge\">\n",
       "<title>Duplicate:out_1&#45;&gt;9FoldMitEx9FoldMitEx:in_0</title>\n",
       "<path fill=\"none\" stroke=\"#6bb24d\" stroke-width=\"1.5\" d=\"M370.5,-667C370.5,-575.72 292.5,-568.28 292.5,-477\"/>\n",
       "</g>\n",
       "<!-- Duplicate&#45;&gt;7FoldMitEx7FoldMitEx -->\n",
       "<g id=\"edge15\" class=\"edge\">\n",
       "<title>Duplicate:out_2&#45;&gt;7FoldMitEx7FoldMitEx:in_0</title>\n",
       "<path fill=\"none\" stroke=\"#6bb24d\" stroke-width=\"1.5\" d=\"M387.5,-667C387.5,-635.33 421.17,-382 389.5,-382\"/>\n",
       "</g>\n",
       "<!-- Duplicate&#45;&gt;5FoldMitEx5FoldMitEx -->\n",
       "<g id=\"edge16\" class=\"edge\">\n",
       "<title>Duplicate:out_3&#45;&gt;5FoldMitEx5FoldMitEx:in_0</title>\n",
       "<path fill=\"none\" stroke=\"#6bb24d\" stroke-width=\"1.5\" d=\"M403.5,-667C403.5,-606.01 411.5,-590.99 411.5,-530 411.5,-530 411.5,-530 411.5,-442 411.5,-381.11 411.5,-365.89 411.5,-305\"/>\n",
       "</g>\n",
       "<!-- Duplicate&#45;&gt;3FoldMitEx3FoldMitEx -->\n",
       "<g id=\"edge17\" class=\"edge\">\n",
       "<title>Duplicate:out_4&#45;&gt;3FoldMitEx3FoldMitEx:in_0</title>\n",
       "<path fill=\"none\" stroke=\"#6bb24d\" stroke-width=\"1.5\" d=\"M419.5,-667C419.5,-607.58 503.5,-622.42 503.5,-563\"/>\n",
       "</g>\n",
       "<!-- RelabelQubits -->\n",
       "<g id=\"node15\" class=\"node\">\n",
       "<title>RelabelQubits</title>\n",
       "<polygon fill=\"#c0dd8e\" stroke=\"transparent\" points=\"439.5,-60 439.5,-138 541.5,-138 541.5,-60 439.5,-60\"/>\n",
       "<polygon fill=\"white\" stroke=\"transparent\" points=\"445.5,-115 445.5,-132 489.5,-132 489.5,-115 445.5,-115\"/>\n",
       "<polygon fill=\"none\" stroke=\"#6bb24d\" points=\"445.5,-115 445.5,-132 489.5,-132 489.5,-115 445.5,-115\"/>\n",
       "<text text-anchor=\"start\" x=\"464\" y=\"-121\" font-family=\"monospace\" font-size=\"10.00\">0</text>\n",
       "<polygon fill=\"white\" stroke=\"transparent\" points=\"492.5,-115 492.5,-132 535.5,-132 535.5,-115 492.5,-115\"/>\n",
       "<polygon fill=\"none\" stroke=\"#6bb24d\" points=\"492.5,-115 492.5,-132 535.5,-132 535.5,-115 492.5,-115\"/>\n",
       "<text text-anchor=\"start\" x=\"510.5\" y=\"-121\" font-family=\"monospace\" font-size=\"10.00\">1</text>\n",
       "<text text-anchor=\"start\" x=\"446.5\" y=\"-97.2\" font-family=\"monospace\" font-weight=\"bold\" font-size=\"11.00\">RelabelQubits</text>\n",
       "<polygon fill=\"white\" stroke=\"transparent\" points=\"445.5,-66 445.5,-83 535.5,-83 535.5,-66 445.5,-66\"/>\n",
       "<polygon fill=\"none\" stroke=\"#6bb24d\" points=\"445.5,-66 445.5,-83 535.5,-83 535.5,-66 445.5,-66\"/>\n",
       "<text text-anchor=\"start\" x=\"487\" y=\"-72\" font-family=\"monospace\" font-size=\"10.00\">0</text>\n",
       "<polygon fill=\"none\" stroke=\"white\" points=\"439.5,-60 439.5,-138 541.5,-138 541.5,-60 439.5,-60\"/>\n",
       "</g>\n",
       "<!-- CollateZNEResults&#45;&gt;RelabelQubits -->\n",
       "<g id=\"edge18\" class=\"edge\">\n",
       "<title>CollateZNEResults:out_0&#45;&gt;RelabelQubits:in_0</title>\n",
       "<path fill=\"none\" stroke=\"#6bb24d\" stroke-width=\"1.5\" d=\"M412.5,-160C433.91,-160 423.09,-124 444.5,-124\"/>\n",
       "</g>\n",
       "<!-- CompileToBackend&#45;&gt;Duplicate -->\n",
       "<g id=\"edge19\" class=\"edge\">\n",
       "<title>CompileToBackend:out_0&#45;&gt;Duplicate:in_0</title>\n",
       "<path fill=\"none\" stroke=\"#6bb24d\" stroke-width=\"1.5\" d=\"M434.5,-762C418.11,-762 442.89,-726 426.5,-726\"/>\n",
       "</g>\n",
       "<!-- CompileToBackend&#45;&gt;RelabelQubits -->\n",
       "<g id=\"edge20\" class=\"edge\">\n",
       "<title>CompileToBackend:out_1&#45;&gt;RelabelQubits:in_1</title>\n",
       "<path fill=\"none\" stroke=\"#6bb24d\" stroke-width=\"1.5\" d=\"M547.5,-762C615.81,-762 595.5,-684.31 595.5,-616 595.5,-616 595.5,-616 595.5,-270 595.5,-200.01 606.49,-124 536.5,-124\"/>\n",
       "</g>\n",
       "<!-- RelabelQubits&#45;&gt;Outputs -->\n",
       "<g id=\"edge21\" class=\"edge\">\n",
       "<title>RelabelQubits:out_0&#45;&gt;Outputs:in_0</title>\n",
       "<path fill=\"none\" stroke=\"#6bb24d\" stroke-width=\"1.5\" d=\"M490.5,-65C490.5,-57 490.5,-55 490.5,-47\"/>\n",
       "</g>\n",
       "</g>\n",
       "</svg>\n"
      ],
      "text/plain": [
       "<graphviz.graphs.Digraph at 0x7fa86cbc6340>"
      ]
     },
     "execution_count": 20,
     "metadata": {},
     "output_type": "execute_result"
    }
   ],
   "source": [
    "zne_me.get_task_graph()"
   ]
  },
  {
   "cell_type": "markdown",
   "id": "fa32f3d8",
   "metadata": {
    "slideshow": {
     "slide_type": "subslide"
    }
   },
   "source": [
    "## ZNE Options and Design\n",
    "\n",
    "There are several alternatives when building a ZNE task graph. "
   ]
  },
  {
   "cell_type": "code",
   "execution_count": 21,
   "id": "9b066ef6",
   "metadata": {
    "slideshow": {
     "slide_type": "fragment"
    }
   },
   "outputs": [],
   "source": [
    "alt_zne_me = gen_ZNE_MitEx(backend=noisy_backend, \n",
    "                       noise_scaling_list=[5,4,3,2], \n",
    "                       fit_type=Fit.richardson, \n",
    "                       folding_type=Folding.gate,\n",
    "                       show_fit=True)"
   ]
  },
  {
   "cell_type": "markdown",
   "id": "208f1b69",
   "metadata": {
    "slideshow": {
     "slide_type": "fragment"
    }
   },
   "source": [
    "Your favourites are available:\n",
    "- Folding: `circuit`, `gate`, `odd_gate`\n",
    "- Fit: `poly_exponential`, `exponential`, `polynomial`, `linear`, `richardson`\n",
    "\n",
    "For many `MitEx` objects there are several options to personalise, without interacting directly with the `TaskGraph`."
   ]
  },
  {
   "cell_type": "markdown",
   "id": "d87d839c",
   "metadata": {
    "slideshow": {
     "slide_type": "slide"
    }
   },
   "source": [
    "# Advanced Qermit Use\n",
    "\n",
    "We have seen:\n",
    "- `MitRes` and `MitEx` objects.\n",
    "- Use of predefined `MitRes` and `MitEx` objects, such as SPAM and ZNE.\n",
    "- Personalised use of predefined objects.\n",
    "\n",
    "We'll now look at some more advanced use cases:\n",
    "- Combining error-mitigation protocols.\n",
    "- Constructing original protocols."
   ]
  },
  {
   "cell_type": "markdown",
   "id": "fcd9ff2b",
   "metadata": {
    "slideshow": {
     "slide_type": "subslide"
    }
   },
   "source": [
    "## Combining Error-Mitigation Schemes"
   ]
  },
  {
   "cell_type": "code",
   "execution_count": 22,
   "id": "d4e16193",
   "metadata": {
    "scrolled": false,
    "slideshow": {
     "slide_type": "-"
    }
   },
   "outputs": [],
   "source": [
    "zne_spam_me = gen_ZNE_MitEx(backend=noisy_backend, \n",
    "                       noise_scaling_list=[9,7,5,3], \n",
    "                       fit_type=Fit.exponential, \n",
    "                       show_fit=True,\n",
    "                       experiment_mitres=spam_mr)"
   ]
  },
  {
   "cell_type": "markdown",
   "id": "0cb024a8",
   "metadata": {
    "slideshow": {
     "slide_type": "subslide"
    }
   },
   "source": [
    "## Combined ZNE SPAM Task Graph"
   ]
  },
  {
   "cell_type": "code",
   "execution_count": 23,
   "id": "c2b10b8c",
   "metadata": {
    "slideshow": {
     "slide_type": "skip"
    }
   },
   "outputs": [
    {
     "data": {
      "image/svg+xml": [
       "<?xml version=\"1.0\" encoding=\"UTF-8\" standalone=\"no\"?>\n",
       "<!DOCTYPE svg PUBLIC \"-//W3C//DTD SVG 1.1//EN\"\n",
       " \"http://www.w3.org/Graphics/SVG/1.1/DTD/svg11.dtd\">\n",
       "<!-- Generated by graphviz version 2.44.0 (20200408.0750)\n",
       " -->\n",
       "<!-- Title: ExperimentMitex Pages: 1 -->\n",
       "<svg width=\"618pt\" height=\"894pt\"\n",
       " viewBox=\"0.00 0.00 618.18 894.00\" xmlns=\"http://www.w3.org/2000/svg\" xmlns:xlink=\"http://www.w3.org/1999/xlink\">\n",
       "<g id=\"graph0\" class=\"graph\" transform=\"scale(1 1) rotate(0) translate(4 890)\">\n",
       "<title>ExperimentMitex</title>\n",
       "<polygon fill=\"white\" stroke=\"transparent\" points=\"-4,4 -4,-890 614.18,-890 614.18,4 -4,4\"/>\n",
       "<!-- Inputs -->\n",
       "<g id=\"node1\" class=\"node\">\n",
       "<title>Inputs</title>\n",
       "<polygon fill=\"white\" stroke=\"transparent\" points=\"477,-834 477,-886 532,-886 532,-834 477,-834\"/>\n",
       "<text text-anchor=\"start\" x=\"484.5\" y=\"-871.2\" font-family=\"monospace\" font-weight=\"bold\" font-size=\"11.00\">Inputs</text>\n",
       "<polygon fill=\"white\" stroke=\"transparent\" points=\"483.5,-840 483.5,-857 526.5,-857 526.5,-840 483.5,-840\"/>\n",
       "<polygon fill=\"none\" stroke=\"#6bb24d\" points=\"483.5,-840 483.5,-857 526.5,-857 526.5,-840 483.5,-840\"/>\n",
       "<text text-anchor=\"start\" x=\"501.5\" y=\"-846\" font-family=\"monospace\" font-size=\"10.00\">0</text>\n",
       "<polygon fill=\"none\" stroke=\"white\" points=\"477,-834 477,-886 532,-886 532,-834 477,-834\"/>\n",
       "</g>\n",
       "<!-- CompileToBackend -->\n",
       "<g id=\"node14\" class=\"node\">\n",
       "<title>CompileToBackend</title>\n",
       "<polygon fill=\"#c0dd8e\" stroke=\"transparent\" points=\"443,-748 443,-826 566,-826 566,-748 443,-748\"/>\n",
       "<polygon fill=\"white\" stroke=\"transparent\" points=\"449.5,-803 449.5,-820 560.5,-820 560.5,-803 449.5,-803\"/>\n",
       "<polygon fill=\"none\" stroke=\"#6bb24d\" points=\"449.5,-803 449.5,-820 560.5,-820 560.5,-803 449.5,-803\"/>\n",
       "<text text-anchor=\"start\" x=\"501.5\" y=\"-809\" font-family=\"monospace\" font-size=\"10.00\">0</text>\n",
       "<text text-anchor=\"start\" x=\"450.5\" y=\"-785.2\" font-family=\"monospace\" font-weight=\"bold\" font-size=\"11.00\">CompileToBackend</text>\n",
       "<polygon fill=\"white\" stroke=\"transparent\" points=\"449.5,-754 449.5,-771 503.5,-771 503.5,-754 449.5,-754\"/>\n",
       "<polygon fill=\"none\" stroke=\"#6bb24d\" points=\"449.5,-754 449.5,-771 503.5,-771 503.5,-754 449.5,-754\"/>\n",
       "<text text-anchor=\"start\" x=\"473\" y=\"-760\" font-family=\"monospace\" font-size=\"10.00\">0</text>\n",
       "<polygon fill=\"white\" stroke=\"transparent\" points=\"506.5,-754 506.5,-771 560.5,-771 560.5,-754 506.5,-754\"/>\n",
       "<polygon fill=\"none\" stroke=\"#6bb24d\" points=\"506.5,-754 506.5,-771 560.5,-771 560.5,-754 506.5,-754\"/>\n",
       "<text text-anchor=\"start\" x=\"530\" y=\"-760\" font-family=\"monospace\" font-size=\"10.00\">1</text>\n",
       "<polygon fill=\"none\" stroke=\"white\" points=\"443,-748 443,-826 566,-826 566,-748 443,-748\"/>\n",
       "</g>\n",
       "<!-- Inputs&#45;&gt;CompileToBackend -->\n",
       "<g id=\"edge1\" class=\"edge\">\n",
       "<title>Inputs:out_0&#45;&gt;CompileToBackend:in_0</title>\n",
       "<path fill=\"none\" stroke=\"#6bb24d\" stroke-width=\"1.5\" d=\"M505.5,-839C505.5,-831 505.5,-829 505.5,-821\"/>\n",
       "</g>\n",
       "<!-- FilterObservableTracker -->\n",
       "<g id=\"node2\" class=\"node\">\n",
       "<title>FilterObservableTracker</title>\n",
       "<polygon fill=\"#c0dd8e\" stroke=\"transparent\" points=\"77.5,-576 77.5,-654 247.5,-654 247.5,-576 77.5,-576\"/>\n",
       "<polygon fill=\"white\" stroke=\"transparent\" points=\"83.5,-631 83.5,-648 241.5,-648 241.5,-631 83.5,-631\"/>\n",
       "<polygon fill=\"none\" stroke=\"#6bb24d\" points=\"83.5,-631 83.5,-648 241.5,-648 241.5,-631 83.5,-631\"/>\n",
       "<text text-anchor=\"start\" x=\"159\" y=\"-637\" font-family=\"monospace\" font-size=\"10.00\">0</text>\n",
       "<text text-anchor=\"start\" x=\"84.5\" y=\"-613.2\" font-family=\"monospace\" font-weight=\"bold\" font-size=\"11.00\">FilterObservableTracker</text>\n",
       "<polygon fill=\"white\" stroke=\"transparent\" points=\"83.5,-582 83.5,-599 161.5,-599 161.5,-582 83.5,-582\"/>\n",
       "<polygon fill=\"none\" stroke=\"#6bb24d\" points=\"83.5,-582 83.5,-599 161.5,-599 161.5,-582 83.5,-582\"/>\n",
       "<text text-anchor=\"start\" x=\"119\" y=\"-588\" font-family=\"monospace\" font-size=\"10.00\">0</text>\n",
       "<polygon fill=\"white\" stroke=\"transparent\" points=\"164.5,-582 164.5,-599 241.5,-599 241.5,-582 164.5,-582\"/>\n",
       "<polygon fill=\"none\" stroke=\"#6bb24d\" points=\"164.5,-582 164.5,-599 241.5,-599 241.5,-582 164.5,-582\"/>\n",
       "<text text-anchor=\"start\" x=\"199.5\" y=\"-588\" font-family=\"monospace\" font-size=\"10.00\">1</text>\n",
       "<polygon fill=\"none\" stroke=\"white\" points=\"77.5,-576 77.5,-654 247.5,-654 247.5,-576 77.5,-576\"/>\n",
       "</g>\n",
       "<!-- CollateExperimentCircuits -->\n",
       "<g id=\"node3\" class=\"node\">\n",
       "<title>CollateExperimentCircuits</title>\n",
       "<polygon fill=\"#c0dd8e\" stroke=\"transparent\" points=\"3,-490 3,-568 186,-568 186,-490 3,-490\"/>\n",
       "<polygon fill=\"white\" stroke=\"transparent\" points=\"9.5,-545 9.5,-562 180.5,-562 180.5,-545 9.5,-545\"/>\n",
       "<polygon fill=\"none\" stroke=\"#6bb24d\" points=\"9.5,-545 9.5,-562 180.5,-562 180.5,-545 9.5,-545\"/>\n",
       "<text text-anchor=\"start\" x=\"91.5\" y=\"-551\" font-family=\"monospace\" font-size=\"10.00\">0</text>\n",
       "<text text-anchor=\"start\" x=\"10.5\" y=\"-527.2\" font-family=\"monospace\" font-weight=\"bold\" font-size=\"11.00\">CollateExperimentCircuits</text>\n",
       "<polygon fill=\"white\" stroke=\"transparent\" points=\"9.5,-496 9.5,-513 93.5,-513 93.5,-496 9.5,-496\"/>\n",
       "<polygon fill=\"none\" stroke=\"#6bb24d\" points=\"9.5,-496 9.5,-513 93.5,-513 93.5,-496 9.5,-496\"/>\n",
       "<text text-anchor=\"start\" x=\"48\" y=\"-502\" font-family=\"monospace\" font-size=\"10.00\">0</text>\n",
       "<polygon fill=\"white\" stroke=\"transparent\" points=\"96.5,-496 96.5,-513 180.5,-513 180.5,-496 96.5,-496\"/>\n",
       "<polygon fill=\"none\" stroke=\"#6bb24d\" points=\"96.5,-496 96.5,-513 180.5,-513 180.5,-496 96.5,-496\"/>\n",
       "<text text-anchor=\"start\" x=\"135\" y=\"-502\" font-family=\"monospace\" font-size=\"10.00\">1</text>\n",
       "<polygon fill=\"none\" stroke=\"white\" points=\"3,-490 3,-568 186,-568 186,-490 3,-490\"/>\n",
       "</g>\n",
       "<!-- FilterObservableTracker&#45;&gt;CollateExperimentCircuits -->\n",
       "<g id=\"edge2\" class=\"edge\">\n",
       "<title>FilterObservableTracker:out_0&#45;&gt;CollateExperimentCircuits:in_0</title>\n",
       "<path fill=\"none\" stroke=\"#6bb24d\" stroke-width=\"1.5\" d=\"M122.5,-581C122.5,-554.58 163.26,-588.02 180.5,-568 184.57,-563.27 187.74,-554 181.5,-554\"/>\n",
       "</g>\n",
       "<!-- GenerateExpectations -->\n",
       "<g id=\"node6\" class=\"node\">\n",
       "<title>GenerateExpectations</title>\n",
       "<polygon fill=\"#c0dd8e\" stroke=\"transparent\" points=\"70.5,-232 70.5,-310 220.5,-310 220.5,-232 70.5,-232\"/>\n",
       "<polygon fill=\"white\" stroke=\"transparent\" points=\"76.5,-287 76.5,-304 144.5,-304 144.5,-287 76.5,-287\"/>\n",
       "<polygon fill=\"none\" stroke=\"#6bb24d\" points=\"76.5,-287 76.5,-304 144.5,-304 144.5,-287 76.5,-287\"/>\n",
       "<text text-anchor=\"start\" x=\"107\" y=\"-293\" font-family=\"monospace\" font-size=\"10.00\">0</text>\n",
       "<polygon fill=\"white\" stroke=\"transparent\" points=\"147.5,-287 147.5,-304 214.5,-304 214.5,-287 147.5,-287\"/>\n",
       "<polygon fill=\"none\" stroke=\"#6bb24d\" points=\"147.5,-287 147.5,-304 214.5,-304 214.5,-287 147.5,-287\"/>\n",
       "<text text-anchor=\"start\" x=\"177.5\" y=\"-293\" font-family=\"monospace\" font-size=\"10.00\">1</text>\n",
       "<text text-anchor=\"start\" x=\"77.5\" y=\"-269.2\" font-family=\"monospace\" font-weight=\"bold\" font-size=\"11.00\">GenerateExpectations</text>\n",
       "<polygon fill=\"white\" stroke=\"transparent\" points=\"76.5,-238 76.5,-255 214.5,-255 214.5,-238 76.5,-238\"/>\n",
       "<polygon fill=\"none\" stroke=\"#6bb24d\" points=\"76.5,-238 76.5,-255 214.5,-255 214.5,-238 76.5,-238\"/>\n",
       "<text text-anchor=\"start\" x=\"142\" y=\"-244\" font-family=\"monospace\" font-size=\"10.00\">0</text>\n",
       "<polygon fill=\"none\" stroke=\"white\" points=\"70.5,-232 70.5,-310 220.5,-310 220.5,-232 70.5,-232\"/>\n",
       "</g>\n",
       "<!-- FilterObservableTracker&#45;&gt;GenerateExpectations -->\n",
       "<g id=\"edge3\" class=\"edge\">\n",
       "<title>FilterObservableTracker:out_1&#45;&gt;GenerateExpectations:in_1</title>\n",
       "<path fill=\"none\" stroke=\"#6bb24d\" stroke-width=\"1.5\" d=\"M203.5,-581C203.5,-457.94 181.5,-428.06 181.5,-305\"/>\n",
       "</g>\n",
       "<!-- SPAMCorrection -->\n",
       "<g id=\"node4\" class=\"node\">\n",
       "<title>SPAMCorrection</title>\n",
       "<polygon fill=\"#c0dd8e\" stroke=\"transparent\" points=\"0,-404 0,-482 109,-482 109,-404 0,-404\"/>\n",
       "<polygon fill=\"white\" stroke=\"transparent\" points=\"6.5,-459 6.5,-476 103.5,-476 103.5,-459 6.5,-459\"/>\n",
       "<polygon fill=\"none\" stroke=\"#6bb24d\" points=\"6.5,-459 6.5,-476 103.5,-476 103.5,-459 6.5,-459\"/>\n",
       "<text text-anchor=\"start\" x=\"51.5\" y=\"-465\" font-family=\"monospace\" font-size=\"10.00\">0</text>\n",
       "<text text-anchor=\"start\" x=\"7.5\" y=\"-441.2\" font-family=\"monospace\" font-weight=\"bold\" font-size=\"11.00\">SPAMCorrection</text>\n",
       "<polygon fill=\"white\" stroke=\"transparent\" points=\"6.5,-410 6.5,-427 103.5,-427 103.5,-410 6.5,-410\"/>\n",
       "<polygon fill=\"none\" stroke=\"#6bb24d\" points=\"6.5,-410 6.5,-427 103.5,-427 103.5,-410 6.5,-410\"/>\n",
       "<text text-anchor=\"start\" x=\"51.5\" y=\"-416\" font-family=\"monospace\" font-size=\"10.00\">0</text>\n",
       "<polygon fill=\"none\" stroke=\"white\" points=\"0,-404 0,-482 109,-482 109,-404 0,-404\"/>\n",
       "</g>\n",
       "<!-- CollateExperimentCircuits&#45;&gt;SPAMCorrection -->\n",
       "<g id=\"edge4\" class=\"edge\">\n",
       "<title>CollateExperimentCircuits:out_0&#45;&gt;SPAMCorrection:in_0</title>\n",
       "<path fill=\"none\" stroke=\"#6bb24d\" stroke-width=\"1.5\" d=\"M51.5,-495C51.5,-471.18 88.18,-500.24 103.5,-482 107.51,-477.22 110.74,-468 104.5,-468\"/>\n",
       "</g>\n",
       "<!-- SplitResults -->\n",
       "<g id=\"node5\" class=\"node\">\n",
       "<title>SplitResults</title>\n",
       "<polygon fill=\"#c0dd8e\" stroke=\"transparent\" points=\"62.5,-318 62.5,-396 158.5,-396 158.5,-318 62.5,-318\"/>\n",
       "<polygon fill=\"white\" stroke=\"transparent\" points=\"68.5,-373 68.5,-390 109.5,-390 109.5,-373 68.5,-373\"/>\n",
       "<polygon fill=\"none\" stroke=\"#6bb24d\" points=\"68.5,-373 68.5,-390 109.5,-390 109.5,-373 68.5,-373\"/>\n",
       "<text text-anchor=\"start\" x=\"85.5\" y=\"-379\" font-family=\"monospace\" font-size=\"10.00\">0</text>\n",
       "<polygon fill=\"white\" stroke=\"transparent\" points=\"112.5,-373 112.5,-390 152.5,-390 152.5,-373 112.5,-373\"/>\n",
       "<polygon fill=\"none\" stroke=\"#6bb24d\" points=\"112.5,-373 112.5,-390 152.5,-390 152.5,-373 112.5,-373\"/>\n",
       "<text text-anchor=\"start\" x=\"129\" y=\"-379\" font-family=\"monospace\" font-size=\"10.00\">1</text>\n",
       "<text text-anchor=\"start\" x=\"69.5\" y=\"-355.2\" font-family=\"monospace\" font-weight=\"bold\" font-size=\"11.00\">SplitResults</text>\n",
       "<polygon fill=\"white\" stroke=\"transparent\" points=\"68.5,-324 68.5,-341 152.5,-341 152.5,-324 68.5,-324\"/>\n",
       "<polygon fill=\"none\" stroke=\"#6bb24d\" points=\"68.5,-324 68.5,-341 152.5,-341 152.5,-324 68.5,-324\"/>\n",
       "<text text-anchor=\"start\" x=\"107\" y=\"-330\" font-family=\"monospace\" font-size=\"10.00\">0</text>\n",
       "<polygon fill=\"none\" stroke=\"white\" points=\"62.5,-318 62.5,-396 158.5,-396 158.5,-318 62.5,-318\"/>\n",
       "</g>\n",
       "<!-- CollateExperimentCircuits&#45;&gt;SplitResults -->\n",
       "<g id=\"edge5\" class=\"edge\">\n",
       "<title>CollateExperimentCircuits:out_1&#45;&gt;SplitResults:in_1</title>\n",
       "<path fill=\"none\" stroke=\"#6bb24d\" stroke-width=\"1.5\" d=\"M138.5,-495C138.5,-448.7 132.5,-437.3 132.5,-391\"/>\n",
       "</g>\n",
       "<!-- SPAMCorrection&#45;&gt;SplitResults -->\n",
       "<g id=\"edge6\" class=\"edge\">\n",
       "<title>SPAMCorrection:out_0&#45;&gt;SplitResults:in_0</title>\n",
       "<path fill=\"none\" stroke=\"#6bb24d\" stroke-width=\"1.5\" d=\"M104.5,-418C110.74,-418 106.29,-409.58 103.5,-404 99.55,-396.11 88.5,-399.82 88.5,-391\"/>\n",
       "</g>\n",
       "<!-- SplitResults&#45;&gt;GenerateExpectations -->\n",
       "<g id=\"edge7\" class=\"edge\">\n",
       "<title>SplitResults:out_0&#45;&gt;GenerateExpectations:in_0</title>\n",
       "<path fill=\"none\" stroke=\"#6bb24d\" stroke-width=\"1.5\" d=\"M153.5,-332C159.74,-332 156.38,-322.89 152.5,-318 140.35,-302.7 110.5,-324.54 110.5,-305\"/>\n",
       "</g>\n",
       "<!-- CollateZNEResults -->\n",
       "<g id=\"node13\" class=\"node\">\n",
       "<title>CollateZNEResults</title>\n",
       "<polygon fill=\"#c0dd8e\" stroke=\"transparent\" points=\"298,-146 298,-224 427,-224 427,-146 298,-146\"/>\n",
       "<polygon fill=\"white\" stroke=\"transparent\" points=\"304.5,-201 304.5,-218 325.5,-218 325.5,-201 304.5,-201\"/>\n",
       "<polygon fill=\"none\" stroke=\"#6bb24d\" points=\"304.5,-201 304.5,-218 325.5,-218 325.5,-201 304.5,-201\"/>\n",
       "<text text-anchor=\"start\" x=\"311.5\" y=\"-207\" font-family=\"monospace\" font-size=\"10.00\">0</text>\n",
       "<polygon fill=\"white\" stroke=\"transparent\" points=\"328.5,-201 328.5,-218 349.5,-218 349.5,-201 328.5,-201\"/>\n",
       "<polygon fill=\"none\" stroke=\"#6bb24d\" points=\"328.5,-201 328.5,-218 349.5,-218 349.5,-201 328.5,-201\"/>\n",
       "<text text-anchor=\"start\" x=\"335.5\" y=\"-207\" font-family=\"monospace\" font-size=\"10.00\">1</text>\n",
       "<polygon fill=\"white\" stroke=\"transparent\" points=\"352.5,-201 352.5,-218 373.5,-218 373.5,-201 352.5,-201\"/>\n",
       "<polygon fill=\"none\" stroke=\"#6bb24d\" points=\"352.5,-201 352.5,-218 373.5,-218 373.5,-201 352.5,-201\"/>\n",
       "<text text-anchor=\"start\" x=\"359.5\" y=\"-207\" font-family=\"monospace\" font-size=\"10.00\">2</text>\n",
       "<polygon fill=\"white\" stroke=\"transparent\" points=\"376.5,-201 376.5,-218 397.5,-218 397.5,-201 376.5,-201\"/>\n",
       "<polygon fill=\"none\" stroke=\"#6bb24d\" points=\"376.5,-201 376.5,-218 397.5,-218 397.5,-201 376.5,-201\"/>\n",
       "<text text-anchor=\"start\" x=\"383.5\" y=\"-207\" font-family=\"monospace\" font-size=\"10.00\">3</text>\n",
       "<polygon fill=\"white\" stroke=\"transparent\" points=\"400.5,-201 400.5,-218 421.5,-218 421.5,-201 400.5,-201\"/>\n",
       "<polygon fill=\"none\" stroke=\"#6bb24d\" points=\"400.5,-201 400.5,-218 421.5,-218 421.5,-201 400.5,-201\"/>\n",
       "<text text-anchor=\"start\" x=\"407.5\" y=\"-207\" font-family=\"monospace\" font-size=\"10.00\">4</text>\n",
       "<text text-anchor=\"start\" x=\"305.5\" y=\"-183.2\" font-family=\"monospace\" font-weight=\"bold\" font-size=\"11.00\">CollateZNEResults</text>\n",
       "<polygon fill=\"white\" stroke=\"transparent\" points=\"304.5,-152 304.5,-169 421.5,-169 421.5,-152 304.5,-152\"/>\n",
       "<polygon fill=\"none\" stroke=\"#6bb24d\" points=\"304.5,-152 304.5,-169 421.5,-169 421.5,-152 304.5,-152\"/>\n",
       "<text text-anchor=\"start\" x=\"359.5\" y=\"-158\" font-family=\"monospace\" font-size=\"10.00\">0</text>\n",
       "<polygon fill=\"none\" stroke=\"white\" points=\"298,-146 298,-224 427,-224 427,-146 298,-146\"/>\n",
       "</g>\n",
       "<!-- GenerateExpectations&#45;&gt;CollateZNEResults -->\n",
       "<g id=\"edge8\" class=\"edge\">\n",
       "<title>GenerateExpectations:out_0&#45;&gt;CollateZNEResults:in_0</title>\n",
       "<path fill=\"none\" stroke=\"#6bb24d\" stroke-width=\"1.5\" d=\"M215.5,-246C224.3,-246 221.94,-236.5 229.5,-232 258.98,-214.44 269.19,-210 303.5,-210\"/>\n",
       "</g>\n",
       "<!-- Outputs -->\n",
       "<g id=\"node7\" class=\"node\">\n",
       "<title>Outputs</title>\n",
       "<polygon fill=\"white\" stroke=\"transparent\" points=\"469.5,0 469.5,-52 531.5,-52 531.5,0 469.5,0\"/>\n",
       "<polygon fill=\"white\" stroke=\"transparent\" points=\"475.5,-29 475.5,-46 525.5,-46 525.5,-29 475.5,-29\"/>\n",
       "<polygon fill=\"none\" stroke=\"#6bb24d\" points=\"475.5,-29 475.5,-46 525.5,-46 525.5,-29 475.5,-29\"/>\n",
       "<text text-anchor=\"start\" x=\"497\" y=\"-35\" font-family=\"monospace\" font-size=\"10.00\">0</text>\n",
       "<text text-anchor=\"start\" x=\"476.5\" y=\"-11.2\" font-family=\"monospace\" font-weight=\"bold\" font-size=\"11.00\">Outputs</text>\n",
       "<polygon fill=\"none\" stroke=\"white\" points=\"469.5,0 469.5,-52 531.5,-52 531.5,0 469.5,0\"/>\n",
       "</g>\n",
       "<!-- 9FoldMitEx9FoldMitEx -->\n",
       "<g id=\"node8\" class=\"node\">\n",
       "<title>9FoldMitEx9FoldMitEx</title>\n",
       "<polygon fill=\"#c0dd8e\" stroke=\"transparent\" points=\"223.5,-404 223.5,-482 373.5,-482 373.5,-404 223.5,-404\"/>\n",
       "<polygon fill=\"white\" stroke=\"transparent\" points=\"229.5,-459 229.5,-476 367.5,-476 367.5,-459 229.5,-459\"/>\n",
       "<polygon fill=\"none\" stroke=\"#6bb24d\" points=\"229.5,-459 229.5,-476 367.5,-476 367.5,-459 229.5,-459\"/>\n",
       "<text text-anchor=\"start\" x=\"295\" y=\"-465\" font-family=\"monospace\" font-size=\"10.00\">0</text>\n",
       "<text text-anchor=\"start\" x=\"230.5\" y=\"-441.2\" font-family=\"monospace\" font-weight=\"bold\" font-size=\"11.00\">9FoldMitEx9FoldMitEx</text>\n",
       "<polygon fill=\"white\" stroke=\"transparent\" points=\"229.5,-410 229.5,-427 367.5,-427 367.5,-410 229.5,-410\"/>\n",
       "<polygon fill=\"none\" stroke=\"#6bb24d\" points=\"229.5,-410 229.5,-427 367.5,-427 367.5,-410 229.5,-410\"/>\n",
       "<text text-anchor=\"start\" x=\"295\" y=\"-416\" font-family=\"monospace\" font-size=\"10.00\">0</text>\n",
       "<polygon fill=\"none\" stroke=\"white\" points=\"223.5,-404 223.5,-482 373.5,-482 373.5,-404 223.5,-404\"/>\n",
       "</g>\n",
       "<!-- 9FoldMitEx9FoldMitEx&#45;&gt;CollateZNEResults -->\n",
       "<g id=\"edge9\" class=\"edge\">\n",
       "<title>9FoldMitEx9FoldMitEx:out_0&#45;&gt;CollateZNEResults:in_1</title>\n",
       "<path fill=\"none\" stroke=\"#6bb24d\" stroke-width=\"1.5\" d=\"M228.5,-418C223.48,-418 218.43,-378.73 249.5,-318 272.6,-272.85 289.2,-268.42 324.5,-232 330.41,-225.9 338.5,-227.49 338.5,-219\"/>\n",
       "</g>\n",
       "<!-- 7FoldMitEx7FoldMitEx -->\n",
       "<g id=\"node9\" class=\"node\">\n",
       "<title>7FoldMitEx7FoldMitEx</title>\n",
       "<polygon fill=\"#c0dd8e\" stroke=\"transparent\" points=\"254.5,-318 254.5,-396 404.5,-396 404.5,-318 254.5,-318\"/>\n",
       "<polygon fill=\"white\" stroke=\"transparent\" points=\"260.5,-373 260.5,-390 398.5,-390 398.5,-373 260.5,-373\"/>\n",
       "<polygon fill=\"none\" stroke=\"#6bb24d\" points=\"260.5,-373 260.5,-390 398.5,-390 398.5,-373 260.5,-373\"/>\n",
       "<text text-anchor=\"start\" x=\"326\" y=\"-379\" font-family=\"monospace\" font-size=\"10.00\">0</text>\n",
       "<text text-anchor=\"start\" x=\"261.5\" y=\"-355.2\" font-family=\"monospace\" font-weight=\"bold\" font-size=\"11.00\">7FoldMitEx7FoldMitEx</text>\n",
       "<polygon fill=\"white\" stroke=\"transparent\" points=\"260.5,-324 260.5,-341 398.5,-341 398.5,-324 260.5,-324\"/>\n",
       "<polygon fill=\"none\" stroke=\"#6bb24d\" points=\"260.5,-324 260.5,-341 398.5,-341 398.5,-324 260.5,-324\"/>\n",
       "<text text-anchor=\"start\" x=\"326\" y=\"-330\" font-family=\"monospace\" font-size=\"10.00\">0</text>\n",
       "<polygon fill=\"none\" stroke=\"white\" points=\"254.5,-318 254.5,-396 404.5,-396 404.5,-318 254.5,-318\"/>\n",
       "</g>\n",
       "<!-- 7FoldMitEx7FoldMitEx&#45;&gt;CollateZNEResults -->\n",
       "<g id=\"edge10\" class=\"edge\">\n",
       "<title>7FoldMitEx7FoldMitEx:out_0&#45;&gt;CollateZNEResults:in_2</title>\n",
       "<path fill=\"none\" stroke=\"#6bb24d\" stroke-width=\"1.5\" d=\"M329.5,-323C329.5,-282.21 319,-266.03 341.5,-232 347.76,-222.53 363.5,-230.36 363.5,-219\"/>\n",
       "</g>\n",
       "<!-- 5FoldMitEx5FoldMitEx -->\n",
       "<g id=\"node10\" class=\"node\">\n",
       "<title>5FoldMitEx5FoldMitEx</title>\n",
       "<polygon fill=\"#c0dd8e\" stroke=\"transparent\" points=\"346.5,-232 346.5,-310 496.5,-310 496.5,-232 346.5,-232\"/>\n",
       "<polygon fill=\"white\" stroke=\"transparent\" points=\"352.5,-287 352.5,-304 490.5,-304 490.5,-287 352.5,-287\"/>\n",
       "<polygon fill=\"none\" stroke=\"#6bb24d\" points=\"352.5,-287 352.5,-304 490.5,-304 490.5,-287 352.5,-287\"/>\n",
       "<text text-anchor=\"start\" x=\"418\" y=\"-293\" font-family=\"monospace\" font-size=\"10.00\">0</text>\n",
       "<text text-anchor=\"start\" x=\"353.5\" y=\"-269.2\" font-family=\"monospace\" font-weight=\"bold\" font-size=\"11.00\">5FoldMitEx5FoldMitEx</text>\n",
       "<polygon fill=\"white\" stroke=\"transparent\" points=\"352.5,-238 352.5,-255 490.5,-255 490.5,-238 352.5,-238\"/>\n",
       "<polygon fill=\"none\" stroke=\"#6bb24d\" points=\"352.5,-238 352.5,-255 490.5,-255 490.5,-238 352.5,-238\"/>\n",
       "<text text-anchor=\"start\" x=\"418\" y=\"-244\" font-family=\"monospace\" font-size=\"10.00\">0</text>\n",
       "<polygon fill=\"none\" stroke=\"white\" points=\"346.5,-232 346.5,-310 496.5,-310 496.5,-232 346.5,-232\"/>\n",
       "</g>\n",
       "<!-- 5FoldMitEx5FoldMitEx&#45;&gt;CollateZNEResults -->\n",
       "<g id=\"edge11\" class=\"edge\">\n",
       "<title>5FoldMitEx5FoldMitEx:out_0&#45;&gt;CollateZNEResults:in_3</title>\n",
       "<path fill=\"none\" stroke=\"#6bb24d\" stroke-width=\"1.5\" d=\"M351.5,-246C345.26,-246 348.76,-236.99 352.5,-232 362.45,-218.72 387.5,-235.59 387.5,-219\"/>\n",
       "</g>\n",
       "<!-- 3FoldMitEx3FoldMitEx -->\n",
       "<g id=\"node11\" class=\"node\">\n",
       "<title>3FoldMitEx3FoldMitEx</title>\n",
       "<polygon fill=\"#c0dd8e\" stroke=\"transparent\" points=\"438.5,-490 438.5,-568 588.5,-568 588.5,-490 438.5,-490\"/>\n",
       "<polygon fill=\"white\" stroke=\"transparent\" points=\"444.5,-545 444.5,-562 582.5,-562 582.5,-545 444.5,-545\"/>\n",
       "<polygon fill=\"none\" stroke=\"#6bb24d\" points=\"444.5,-545 444.5,-562 582.5,-562 582.5,-545 444.5,-545\"/>\n",
       "<text text-anchor=\"start\" x=\"510\" y=\"-551\" font-family=\"monospace\" font-size=\"10.00\">0</text>\n",
       "<text text-anchor=\"start\" x=\"445.5\" y=\"-527.2\" font-family=\"monospace\" font-weight=\"bold\" font-size=\"11.00\">3FoldMitEx3FoldMitEx</text>\n",
       "<polygon fill=\"white\" stroke=\"transparent\" points=\"444.5,-496 444.5,-513 582.5,-513 582.5,-496 444.5,-496\"/>\n",
       "<polygon fill=\"none\" stroke=\"#6bb24d\" points=\"444.5,-496 444.5,-513 582.5,-513 582.5,-496 444.5,-496\"/>\n",
       "<text text-anchor=\"start\" x=\"510\" y=\"-502\" font-family=\"monospace\" font-size=\"10.00\">0</text>\n",
       "<polygon fill=\"none\" stroke=\"white\" points=\"438.5,-490 438.5,-568 588.5,-568 588.5,-490 438.5,-490\"/>\n",
       "</g>\n",
       "<!-- 3FoldMitEx3FoldMitEx&#45;&gt;CollateZNEResults -->\n",
       "<g id=\"edge12\" class=\"edge\">\n",
       "<title>3FoldMitEx3FoldMitEx:out_0&#45;&gt;CollateZNEResults:in_4</title>\n",
       "<path fill=\"none\" stroke=\"#6bb24d\" stroke-width=\"1.5\" d=\"M513.5,-495C513.5,-378.01 575.34,-323.55 502.5,-232 491.02,-217.57 440.94,-210 422.5,-210\"/>\n",
       "</g>\n",
       "<!-- Duplicate -->\n",
       "<g id=\"node12\" class=\"node\">\n",
       "<title>Duplicate</title>\n",
       "<polygon fill=\"#c0dd8e\" stroke=\"transparent\" points=\"353,-662 353,-740 442,-740 442,-662 353,-662\"/>\n",
       "<polygon fill=\"white\" stroke=\"transparent\" points=\"359.5,-717 359.5,-734 436.5,-734 436.5,-717 359.5,-717\"/>\n",
       "<polygon fill=\"none\" stroke=\"#6bb24d\" points=\"359.5,-717 359.5,-734 436.5,-734 436.5,-717 359.5,-717\"/>\n",
       "<text text-anchor=\"start\" x=\"394.5\" y=\"-723\" font-family=\"monospace\" font-size=\"10.00\">0</text>\n",
       "<text text-anchor=\"start\" x=\"367.5\" y=\"-699.2\" font-family=\"monospace\" font-weight=\"bold\" font-size=\"11.00\">Duplicate</text>\n",
       "<polygon fill=\"white\" stroke=\"transparent\" points=\"359.5,-668 359.5,-685 372.5,-685 372.5,-668 359.5,-668\"/>\n",
       "<polygon fill=\"none\" stroke=\"#6bb24d\" points=\"359.5,-668 359.5,-685 372.5,-685 372.5,-668 359.5,-668\"/>\n",
       "<text text-anchor=\"start\" x=\"362.5\" y=\"-674\" font-family=\"monospace\" font-size=\"10.00\">0</text>\n",
       "<polygon fill=\"white\" stroke=\"transparent\" points=\"375.5,-668 375.5,-685 388.5,-685 388.5,-668 375.5,-668\"/>\n",
       "<polygon fill=\"none\" stroke=\"#6bb24d\" points=\"375.5,-668 375.5,-685 388.5,-685 388.5,-668 375.5,-668\"/>\n",
       "<text text-anchor=\"start\" x=\"378.5\" y=\"-674\" font-family=\"monospace\" font-size=\"10.00\">1</text>\n",
       "<polygon fill=\"white\" stroke=\"transparent\" points=\"391.5,-668 391.5,-685 404.5,-685 404.5,-668 391.5,-668\"/>\n",
       "<polygon fill=\"none\" stroke=\"#6bb24d\" points=\"391.5,-668 391.5,-685 404.5,-685 404.5,-668 391.5,-668\"/>\n",
       "<text text-anchor=\"start\" x=\"394.5\" y=\"-674\" font-family=\"monospace\" font-size=\"10.00\">2</text>\n",
       "<polygon fill=\"white\" stroke=\"transparent\" points=\"407.5,-668 407.5,-685 420.5,-685 420.5,-668 407.5,-668\"/>\n",
       "<polygon fill=\"none\" stroke=\"#6bb24d\" points=\"407.5,-668 407.5,-685 420.5,-685 420.5,-668 407.5,-668\"/>\n",
       "<text text-anchor=\"start\" x=\"410.5\" y=\"-674\" font-family=\"monospace\" font-size=\"10.00\">3</text>\n",
       "<polygon fill=\"white\" stroke=\"transparent\" points=\"423.5,-668 423.5,-685 436.5,-685 436.5,-668 423.5,-668\"/>\n",
       "<polygon fill=\"none\" stroke=\"#6bb24d\" points=\"423.5,-668 423.5,-685 436.5,-685 436.5,-668 423.5,-668\"/>\n",
       "<text text-anchor=\"start\" x=\"426.5\" y=\"-674\" font-family=\"monospace\" font-size=\"10.00\">4</text>\n",
       "<polygon fill=\"none\" stroke=\"white\" points=\"353,-662 353,-740 442,-740 442,-662 353,-662\"/>\n",
       "</g>\n",
       "<!-- Duplicate&#45;&gt;FilterObservableTracker -->\n",
       "<g id=\"edge13\" class=\"edge\">\n",
       "<title>Duplicate:out_0&#45;&gt;FilterObservableTracker:in_0</title>\n",
       "<path fill=\"none\" stroke=\"#6bb24d\" stroke-width=\"1.5\" d=\"M358.5,-676C304.52,-676 296.48,-640 242.5,-640\"/>\n",
       "</g>\n",
       "<!-- Duplicate&#45;&gt;9FoldMitEx9FoldMitEx -->\n",
       "<g id=\"edge14\" class=\"edge\">\n",
       "<title>Duplicate:out_1&#45;&gt;9FoldMitEx9FoldMitEx:in_0</title>\n",
       "<path fill=\"none\" stroke=\"#6bb24d\" stroke-width=\"1.5\" d=\"M381.5,-667C381.5,-574.85 298.5,-569.15 298.5,-477\"/>\n",
       "</g>\n",
       "<!-- Duplicate&#45;&gt;7FoldMitEx7FoldMitEx -->\n",
       "<g id=\"edge15\" class=\"edge\">\n",
       "<title>Duplicate:out_2&#45;&gt;7FoldMitEx7FoldMitEx:in_0</title>\n",
       "<path fill=\"none\" stroke=\"#6bb24d\" stroke-width=\"1.5\" d=\"M398.5,-667C398.5,-635.33 431.17,-382 399.5,-382\"/>\n",
       "</g>\n",
       "<!-- Duplicate&#45;&gt;5FoldMitEx5FoldMitEx -->\n",
       "<g id=\"edge16\" class=\"edge\">\n",
       "<title>Duplicate:out_3&#45;&gt;5FoldMitEx5FoldMitEx:in_0</title>\n",
       "<path fill=\"none\" stroke=\"#6bb24d\" stroke-width=\"1.5\" d=\"M414.5,-667C414.5,-606.03 421.5,-590.97 421.5,-530 421.5,-530 421.5,-530 421.5,-442 421.5,-381.11 421.5,-365.89 421.5,-305\"/>\n",
       "</g>\n",
       "<!-- Duplicate&#45;&gt;3FoldMitEx3FoldMitEx -->\n",
       "<g id=\"edge17\" class=\"edge\">\n",
       "<title>Duplicate:out_4&#45;&gt;3FoldMitEx3FoldMitEx:in_0</title>\n",
       "<path fill=\"none\" stroke=\"#6bb24d\" stroke-width=\"1.5\" d=\"M430.5,-667C430.5,-607.86 513.5,-622.14 513.5,-563\"/>\n",
       "</g>\n",
       "<!-- RelabelQubits -->\n",
       "<g id=\"node15\" class=\"node\">\n",
       "<title>RelabelQubits</title>\n",
       "<polygon fill=\"#c0dd8e\" stroke=\"transparent\" points=\"449.5,-60 449.5,-138 551.5,-138 551.5,-60 449.5,-60\"/>\n",
       "<polygon fill=\"white\" stroke=\"transparent\" points=\"455.5,-115 455.5,-132 499.5,-132 499.5,-115 455.5,-115\"/>\n",
       "<polygon fill=\"none\" stroke=\"#6bb24d\" points=\"455.5,-115 455.5,-132 499.5,-132 499.5,-115 455.5,-115\"/>\n",
       "<text text-anchor=\"start\" x=\"474\" y=\"-121\" font-family=\"monospace\" font-size=\"10.00\">0</text>\n",
       "<polygon fill=\"white\" stroke=\"transparent\" points=\"502.5,-115 502.5,-132 545.5,-132 545.5,-115 502.5,-115\"/>\n",
       "<polygon fill=\"none\" stroke=\"#6bb24d\" points=\"502.5,-115 502.5,-132 545.5,-132 545.5,-115 502.5,-115\"/>\n",
       "<text text-anchor=\"start\" x=\"520.5\" y=\"-121\" font-family=\"monospace\" font-size=\"10.00\">1</text>\n",
       "<text text-anchor=\"start\" x=\"456.5\" y=\"-97.2\" font-family=\"monospace\" font-weight=\"bold\" font-size=\"11.00\">RelabelQubits</text>\n",
       "<polygon fill=\"white\" stroke=\"transparent\" points=\"455.5,-66 455.5,-83 545.5,-83 545.5,-66 455.5,-66\"/>\n",
       "<polygon fill=\"none\" stroke=\"#6bb24d\" points=\"455.5,-66 455.5,-83 545.5,-83 545.5,-66 455.5,-66\"/>\n",
       "<text text-anchor=\"start\" x=\"497\" y=\"-72\" font-family=\"monospace\" font-size=\"10.00\">0</text>\n",
       "<polygon fill=\"none\" stroke=\"white\" points=\"449.5,-60 449.5,-138 551.5,-138 551.5,-60 449.5,-60\"/>\n",
       "</g>\n",
       "<!-- CollateZNEResults&#45;&gt;RelabelQubits -->\n",
       "<g id=\"edge18\" class=\"edge\">\n",
       "<title>CollateZNEResults:out_0&#45;&gt;RelabelQubits:in_0</title>\n",
       "<path fill=\"none\" stroke=\"#6bb24d\" stroke-width=\"1.5\" d=\"M422.5,-160C443.91,-160 433.09,-124 454.5,-124\"/>\n",
       "</g>\n",
       "<!-- CompileToBackend&#45;&gt;Duplicate -->\n",
       "<g id=\"edge19\" class=\"edge\">\n",
       "<title>CompileToBackend:out_0&#45;&gt;Duplicate:in_0</title>\n",
       "<path fill=\"none\" stroke=\"#6bb24d\" stroke-width=\"1.5\" d=\"M448.5,-762C431.77,-762 454.23,-726 437.5,-726\"/>\n",
       "</g>\n",
       "<!-- CompileToBackend&#45;&gt;RelabelQubits -->\n",
       "<g id=\"edge20\" class=\"edge\">\n",
       "<title>CompileToBackend:out_1&#45;&gt;RelabelQubits:in_1</title>\n",
       "<path fill=\"none\" stroke=\"#6bb24d\" stroke-width=\"1.5\" d=\"M561.5,-762C629.27,-762 605.5,-683.77 605.5,-616 605.5,-616 605.5,-616 605.5,-270 605.5,-200.01 616.49,-124 546.5,-124\"/>\n",
       "</g>\n",
       "<!-- RelabelQubits&#45;&gt;Outputs -->\n",
       "<g id=\"edge21\" class=\"edge\">\n",
       "<title>RelabelQubits:out_0&#45;&gt;Outputs:in_0</title>\n",
       "<path fill=\"none\" stroke=\"#6bb24d\" stroke-width=\"1.5\" d=\"M500.5,-65C500.5,-57 500.5,-55 500.5,-47\"/>\n",
       "</g>\n",
       "</g>\n",
       "</svg>\n"
      ],
      "text/plain": [
       "<graphviz.graphs.Digraph at 0x7fa888135df0>"
      ]
     },
     "execution_count": 23,
     "metadata": {},
     "output_type": "execute_result"
    }
   ],
   "source": [
    "zne_spam_me.get_task_graph()"
   ]
  },
  {
   "cell_type": "code",
   "execution_count": 24,
   "id": "862d7d76",
   "metadata": {
    "slideshow": {
     "slide_type": "subslide"
    }
   },
   "outputs": [
    {
     "data": {
      "image/png": "[encoded data removed]",
      "text/plain": [
       "<Figure size 640x480 with 1 Axes>"
      ]
     },
     "metadata": {},
     "output_type": "display_data"
    },
    {
     "data": {
      "text/plain": [
       "[{(Zq[0], Zq[1], Zq[2], Zq[3]): 0.563985952062517}]"
      ]
     },
     "execution_count": 24,
     "metadata": {},
     "output_type": "execute_result"
    }
   ],
   "source": [
    "zne_spam_me.run(obs_exp_list)"
   ]
  },
  {
   "cell_type": "markdown",
   "id": "75163c0c",
   "metadata": {
    "slideshow": {
     "slide_type": "skip"
    }
   },
   "source": [
    "## Clifford Data Regression"
   ]
  },
  {
   "cell_type": "code",
   "execution_count": 25,
   "id": "a0844b95",
   "metadata": {
    "scrolled": false,
    "slideshow": {
     "slide_type": "skip"
    }
   },
   "outputs": [],
   "source": [
    "from qermit.clifford_noise_characterisation import gen_CDR_MitEx\n",
    "\n",
    "cdr_mitex = gen_CDR_MitEx(device_backend = noisy_backend,\n",
    "                      simulator_backend = ideal_backend,\n",
    "                      n_non_cliffords = 5,\n",
    "                      n_pairs = 3,\n",
    "                      total_state_circuits = 50)"
   ]
  },
  {
   "cell_type": "markdown",
   "id": "f8bfd781",
   "metadata": {
    "slideshow": {
     "slide_type": "skip"
    }
   },
   "source": [
    "## CDR Task Graph"
   ]
  },
  {
   "cell_type": "code",
   "execution_count": 26,
   "id": "ae0ca84b",
   "metadata": {
    "slideshow": {
     "slide_type": "skip"
    }
   },
   "outputs": [
    {
     "data": {
      "image/svg+xml": [
       "<?xml version=\"1.0\" encoding=\"UTF-8\" standalone=\"no\"?>\n",
       "<!DOCTYPE svg PUBLIC \"-//W3C//DTD SVG 1.1//EN\"\n",
       " \"http://www.w3.org/Graphics/SVG/1.1/DTD/svg11.dtd\">\n",
       "<!-- Generated by graphviz version 2.44.0 (20200408.0750)\n",
       " -->\n",
       "<!-- Title: ExperimentMitEx Pages: 1 -->\n",
       "<svg width=\"346pt\" height=\"808pt\"\n",
       " viewBox=\"0.00 0.00 346.00 808.00\" xmlns=\"http://www.w3.org/2000/svg\" xmlns:xlink=\"http://www.w3.org/1999/xlink\">\n",
       "<g id=\"graph0\" class=\"graph\" transform=\"scale(1 1) rotate(0) translate(4 804)\">\n",
       "<title>ExperimentMitEx</title>\n",
       "<polygon fill=\"white\" stroke=\"transparent\" points=\"-4,4 -4,-804 342,-804 342,4 -4,4\"/>\n",
       "<!-- Inputs -->\n",
       "<g id=\"node1\" class=\"node\">\n",
       "<title>Inputs</title>\n",
       "<polygon fill=\"white\" stroke=\"transparent\" points=\"230,-748 230,-800 285,-800 285,-748 230,-748\"/>\n",
       "<text text-anchor=\"start\" x=\"237.5\" y=\"-785.2\" font-family=\"monospace\" font-weight=\"bold\" font-size=\"11.00\">Inputs</text>\n",
       "<polygon fill=\"white\" stroke=\"transparent\" points=\"236.5,-754 236.5,-771 279.5,-771 279.5,-754 236.5,-754\"/>\n",
       "<polygon fill=\"none\" stroke=\"#6bb24d\" points=\"236.5,-754 236.5,-771 279.5,-771 279.5,-754 236.5,-754\"/>\n",
       "<text text-anchor=\"start\" x=\"254.5\" y=\"-760\" font-family=\"monospace\" font-size=\"10.00\">0</text>\n",
       "<polygon fill=\"none\" stroke=\"white\" points=\"230,-748 230,-800 285,-800 285,-748 230,-748\"/>\n",
       "</g>\n",
       "<!-- CCLStateCircuits -->\n",
       "<g id=\"node9\" class=\"node\">\n",
       "<title>CCLStateCircuits</title>\n",
       "<polygon fill=\"#c0dd8e\" stroke=\"transparent\" points=\"196,-662 196,-740 319,-740 319,-662 196,-662\"/>\n",
       "<polygon fill=\"white\" stroke=\"transparent\" points=\"202.5,-717 202.5,-734 313.5,-734 313.5,-717 202.5,-717\"/>\n",
       "<polygon fill=\"none\" stroke=\"#6bb24d\" points=\"202.5,-717 202.5,-734 313.5,-734 313.5,-717 202.5,-717\"/>\n",
       "<text text-anchor=\"start\" x=\"254.5\" y=\"-723\" font-family=\"monospace\" font-size=\"10.00\">0</text>\n",
       "<text text-anchor=\"start\" x=\"203.5\" y=\"-699.2\" font-family=\"monospace\" font-weight=\"bold\" font-size=\"11.00\">CCLStateCircuits</text>\n",
       "<polygon fill=\"white\" stroke=\"transparent\" points=\"202.5,-668 202.5,-685 237.5,-685 237.5,-668 202.5,-668\"/>\n",
       "<polygon fill=\"none\" stroke=\"#6bb24d\" points=\"202.5,-668 202.5,-685 237.5,-685 237.5,-668 202.5,-668\"/>\n",
       "<text text-anchor=\"start\" x=\"216.5\" y=\"-674\" font-family=\"monospace\" font-size=\"10.00\">0</text>\n",
       "<polygon fill=\"white\" stroke=\"transparent\" points=\"240.5,-668 240.5,-685 275.5,-685 275.5,-668 240.5,-668\"/>\n",
       "<polygon fill=\"none\" stroke=\"#6bb24d\" points=\"240.5,-668 240.5,-685 275.5,-685 275.5,-668 240.5,-668\"/>\n",
       "<text text-anchor=\"start\" x=\"254.5\" y=\"-674\" font-family=\"monospace\" font-size=\"10.00\">1</text>\n",
       "<polygon fill=\"white\" stroke=\"transparent\" points=\"278.5,-668 278.5,-685 313.5,-685 313.5,-668 278.5,-668\"/>\n",
       "<polygon fill=\"none\" stroke=\"#6bb24d\" points=\"278.5,-668 278.5,-685 313.5,-685 313.5,-668 278.5,-668\"/>\n",
       "<text text-anchor=\"start\" x=\"292.5\" y=\"-674\" font-family=\"monospace\" font-size=\"10.00\">2</text>\n",
       "<polygon fill=\"none\" stroke=\"white\" points=\"196,-662 196,-740 319,-740 319,-662 196,-662\"/>\n",
       "</g>\n",
       "<!-- Inputs&#45;&gt;CCLStateCircuits -->\n",
       "<g id=\"edge1\" class=\"edge\">\n",
       "<title>Inputs:out_0&#45;&gt;CCLStateCircuits:in_0</title>\n",
       "<path fill=\"none\" stroke=\"#6bb24d\" stroke-width=\"1.5\" d=\"M258.5,-753C258.5,-745 258.5,-743 258.5,-735\"/>\n",
       "</g>\n",
       "<!-- FilterObservableTracker -->\n",
       "<g id=\"node2\" class=\"node\">\n",
       "<title>FilterObservableTracker</title>\n",
       "<polygon fill=\"#c0dd8e\" stroke=\"transparent\" points=\"47.5,-576 47.5,-654 217.5,-654 217.5,-576 47.5,-576\"/>\n",
       "<polygon fill=\"white\" stroke=\"transparent\" points=\"53.5,-631 53.5,-648 211.5,-648 211.5,-631 53.5,-631\"/>\n",
       "<polygon fill=\"none\" stroke=\"#6bb24d\" points=\"53.5,-631 53.5,-648 211.5,-648 211.5,-631 53.5,-631\"/>\n",
       "<text text-anchor=\"start\" x=\"129\" y=\"-637\" font-family=\"monospace\" font-size=\"10.00\">0</text>\n",
       "<text text-anchor=\"start\" x=\"54.5\" y=\"-613.2\" font-family=\"monospace\" font-weight=\"bold\" font-size=\"11.00\">FilterObservableTracker</text>\n",
       "<polygon fill=\"white\" stroke=\"transparent\" points=\"53.5,-582 53.5,-599 131.5,-599 131.5,-582 53.5,-582\"/>\n",
       "<polygon fill=\"none\" stroke=\"#6bb24d\" points=\"53.5,-582 53.5,-599 131.5,-599 131.5,-582 53.5,-582\"/>\n",
       "<text text-anchor=\"start\" x=\"89\" y=\"-588\" font-family=\"monospace\" font-size=\"10.00\">0</text>\n",
       "<polygon fill=\"white\" stroke=\"transparent\" points=\"134.5,-582 134.5,-599 211.5,-599 211.5,-582 134.5,-582\"/>\n",
       "<polygon fill=\"none\" stroke=\"#6bb24d\" points=\"134.5,-582 134.5,-599 211.5,-599 211.5,-582 134.5,-582\"/>\n",
       "<text text-anchor=\"start\" x=\"169.5\" y=\"-588\" font-family=\"monospace\" font-size=\"10.00\">1</text>\n",
       "<polygon fill=\"none\" stroke=\"white\" points=\"47.5,-576 47.5,-654 217.5,-654 217.5,-576 47.5,-576\"/>\n",
       "</g>\n",
       "<!-- CollateExperimentCircuits -->\n",
       "<g id=\"node3\" class=\"node\">\n",
       "<title>CollateExperimentCircuits</title>\n",
       "<polygon fill=\"#c0dd8e\" stroke=\"transparent\" points=\"0,-490 0,-568 183,-568 183,-490 0,-490\"/>\n",
       "<polygon fill=\"white\" stroke=\"transparent\" points=\"6.5,-545 6.5,-562 177.5,-562 177.5,-545 6.5,-545\"/>\n",
       "<polygon fill=\"none\" stroke=\"#6bb24d\" points=\"6.5,-545 6.5,-562 177.5,-562 177.5,-545 6.5,-545\"/>\n",
       "<text text-anchor=\"start\" x=\"88.5\" y=\"-551\" font-family=\"monospace\" font-size=\"10.00\">0</text>\n",
       "<text text-anchor=\"start\" x=\"7.5\" y=\"-527.2\" font-family=\"monospace\" font-weight=\"bold\" font-size=\"11.00\">CollateExperimentCircuits</text>\n",
       "<polygon fill=\"white\" stroke=\"transparent\" points=\"6.5,-496 6.5,-513 90.5,-513 90.5,-496 6.5,-496\"/>\n",
       "<polygon fill=\"none\" stroke=\"#6bb24d\" points=\"6.5,-496 6.5,-513 90.5,-513 90.5,-496 6.5,-496\"/>\n",
       "<text text-anchor=\"start\" x=\"45\" y=\"-502\" font-family=\"monospace\" font-size=\"10.00\">0</text>\n",
       "<polygon fill=\"white\" stroke=\"transparent\" points=\"93.5,-496 93.5,-513 177.5,-513 177.5,-496 93.5,-496\"/>\n",
       "<polygon fill=\"none\" stroke=\"#6bb24d\" points=\"93.5,-496 93.5,-513 177.5,-513 177.5,-496 93.5,-496\"/>\n",
       "<text text-anchor=\"start\" x=\"132\" y=\"-502\" font-family=\"monospace\" font-size=\"10.00\">1</text>\n",
       "<polygon fill=\"none\" stroke=\"white\" points=\"0,-490 0,-568 183,-568 183,-490 0,-490\"/>\n",
       "</g>\n",
       "<!-- FilterObservableTracker&#45;&gt;CollateExperimentCircuits -->\n",
       "<g id=\"edge2\" class=\"edge\">\n",
       "<title>FilterObservableTracker:out_0&#45;&gt;CollateExperimentCircuits:in_0</title>\n",
       "<path fill=\"none\" stroke=\"#6bb24d\" stroke-width=\"1.5\" d=\"M92.5,-581C92.5,-573 92.5,-571 92.5,-563\"/>\n",
       "</g>\n",
       "<!-- GenerateExpectations -->\n",
       "<g id=\"node6\" class=\"node\">\n",
       "<title>GenerateExpectations</title>\n",
       "<polygon fill=\"#c0dd8e\" stroke=\"transparent\" points=\"89.5,-232 89.5,-310 239.5,-310 239.5,-232 89.5,-232\"/>\n",
       "<polygon fill=\"white\" stroke=\"transparent\" points=\"95.5,-287 95.5,-304 163.5,-304 163.5,-287 95.5,-287\"/>\n",
       "<polygon fill=\"none\" stroke=\"#6bb24d\" points=\"95.5,-287 95.5,-304 163.5,-304 163.5,-287 95.5,-287\"/>\n",
       "<text text-anchor=\"start\" x=\"126\" y=\"-293\" font-family=\"monospace\" font-size=\"10.00\">0</text>\n",
       "<polygon fill=\"white\" stroke=\"transparent\" points=\"166.5,-287 166.5,-304 233.5,-304 233.5,-287 166.5,-287\"/>\n",
       "<polygon fill=\"none\" stroke=\"#6bb24d\" points=\"166.5,-287 166.5,-304 233.5,-304 233.5,-287 166.5,-287\"/>\n",
       "<text text-anchor=\"start\" x=\"196.5\" y=\"-293\" font-family=\"monospace\" font-size=\"10.00\">1</text>\n",
       "<text text-anchor=\"start\" x=\"96.5\" y=\"-269.2\" font-family=\"monospace\" font-weight=\"bold\" font-size=\"11.00\">GenerateExpectations</text>\n",
       "<polygon fill=\"white\" stroke=\"transparent\" points=\"95.5,-238 95.5,-255 233.5,-255 233.5,-238 95.5,-238\"/>\n",
       "<polygon fill=\"none\" stroke=\"#6bb24d\" points=\"95.5,-238 95.5,-255 233.5,-255 233.5,-238 95.5,-238\"/>\n",
       "<text text-anchor=\"start\" x=\"161\" y=\"-244\" font-family=\"monospace\" font-size=\"10.00\">0</text>\n",
       "<polygon fill=\"none\" stroke=\"white\" points=\"89.5,-232 89.5,-310 239.5,-310 239.5,-232 89.5,-232\"/>\n",
       "</g>\n",
       "<!-- FilterObservableTracker&#45;&gt;GenerateExpectations -->\n",
       "<g id=\"edge3\" class=\"edge\">\n",
       "<title>FilterObservableTracker:out_1&#45;&gt;GenerateExpectations:in_1</title>\n",
       "<path fill=\"none\" stroke=\"#6bb24d\" stroke-width=\"1.5\" d=\"M173.5,-581C173.5,-572.18 184.65,-575.94 188.5,-568 239.52,-462.7 200.5,-422.01 200.5,-305\"/>\n",
       "</g>\n",
       "<!-- MitRes -->\n",
       "<g id=\"node4\" class=\"node\">\n",
       "<title>MitRes</title>\n",
       "<polygon fill=\"#c0dd8e\" stroke=\"transparent\" points=\"42,-404 42,-482 97,-482 97,-404 42,-404\"/>\n",
       "<polygon fill=\"white\" stroke=\"transparent\" points=\"48.5,-459 48.5,-476 91.5,-476 91.5,-459 48.5,-459\"/>\n",
       "<polygon fill=\"none\" stroke=\"#6bb24d\" points=\"48.5,-459 48.5,-476 91.5,-476 91.5,-459 48.5,-459\"/>\n",
       "<text text-anchor=\"start\" x=\"66.5\" y=\"-465\" font-family=\"monospace\" font-size=\"10.00\">0</text>\n",
       "<text text-anchor=\"start\" x=\"49.5\" y=\"-441.2\" font-family=\"monospace\" font-weight=\"bold\" font-size=\"11.00\">MitRes</text>\n",
       "<polygon fill=\"white\" stroke=\"transparent\" points=\"48.5,-410 48.5,-427 91.5,-427 91.5,-410 48.5,-410\"/>\n",
       "<polygon fill=\"none\" stroke=\"#6bb24d\" points=\"48.5,-410 48.5,-427 91.5,-427 91.5,-410 48.5,-410\"/>\n",
       "<text text-anchor=\"start\" x=\"66.5\" y=\"-416\" font-family=\"monospace\" font-size=\"10.00\">0</text>\n",
       "<polygon fill=\"none\" stroke=\"white\" points=\"42,-404 42,-482 97,-482 97,-404 42,-404\"/>\n",
       "</g>\n",
       "<!-- CollateExperimentCircuits&#45;&gt;MitRes -->\n",
       "<g id=\"edge4\" class=\"edge\">\n",
       "<title>CollateExperimentCircuits:out_0&#45;&gt;MitRes:in_0</title>\n",
       "<path fill=\"none\" stroke=\"#6bb24d\" stroke-width=\"1.5\" d=\"M48.5,-495C48.5,-482.37 70.5,-489.63 70.5,-477\"/>\n",
       "</g>\n",
       "<!-- SplitResults -->\n",
       "<g id=\"node5\" class=\"node\">\n",
       "<title>SplitResults</title>\n",
       "<polygon fill=\"#c0dd8e\" stroke=\"transparent\" points=\"65.5,-318 65.5,-396 161.5,-396 161.5,-318 65.5,-318\"/>\n",
       "<polygon fill=\"white\" stroke=\"transparent\" points=\"71.5,-373 71.5,-390 112.5,-390 112.5,-373 71.5,-373\"/>\n",
       "<polygon fill=\"none\" stroke=\"#6bb24d\" points=\"71.5,-373 71.5,-390 112.5,-390 112.5,-373 71.5,-373\"/>\n",
       "<text text-anchor=\"start\" x=\"88.5\" y=\"-379\" font-family=\"monospace\" font-size=\"10.00\">0</text>\n",
       "<polygon fill=\"white\" stroke=\"transparent\" points=\"115.5,-373 115.5,-390 155.5,-390 155.5,-373 115.5,-373\"/>\n",
       "<polygon fill=\"none\" stroke=\"#6bb24d\" points=\"115.5,-373 115.5,-390 155.5,-390 155.5,-373 115.5,-373\"/>\n",
       "<text text-anchor=\"start\" x=\"132\" y=\"-379\" font-family=\"monospace\" font-size=\"10.00\">1</text>\n",
       "<text text-anchor=\"start\" x=\"72.5\" y=\"-355.2\" font-family=\"monospace\" font-weight=\"bold\" font-size=\"11.00\">SplitResults</text>\n",
       "<polygon fill=\"white\" stroke=\"transparent\" points=\"71.5,-324 71.5,-341 155.5,-341 155.5,-324 71.5,-324\"/>\n",
       "<polygon fill=\"none\" stroke=\"#6bb24d\" points=\"71.5,-324 71.5,-341 155.5,-341 155.5,-324 71.5,-324\"/>\n",
       "<text text-anchor=\"start\" x=\"110\" y=\"-330\" font-family=\"monospace\" font-size=\"10.00\">0</text>\n",
       "<polygon fill=\"none\" stroke=\"white\" points=\"65.5,-318 65.5,-396 161.5,-396 161.5,-318 65.5,-318\"/>\n",
       "</g>\n",
       "<!-- CollateExperimentCircuits&#45;&gt;SplitResults -->\n",
       "<g id=\"edge5\" class=\"edge\">\n",
       "<title>CollateExperimentCircuits:out_1&#45;&gt;SplitResults:in_1</title>\n",
       "<path fill=\"none\" stroke=\"#6bb24d\" stroke-width=\"1.5\" d=\"M135.5,-495C135.5,-448.78 135.5,-437.22 135.5,-391\"/>\n",
       "</g>\n",
       "<!-- MitRes&#45;&gt;SplitResults -->\n",
       "<g id=\"edge6\" class=\"edge\">\n",
       "<title>MitRes:out_0&#45;&gt;SplitResults:in_0</title>\n",
       "<path fill=\"none\" stroke=\"#6bb24d\" stroke-width=\"1.5\" d=\"M92.5,-418C104.51,-418 91.5,-403.01 91.5,-391\"/>\n",
       "</g>\n",
       "<!-- SplitResults&#45;&gt;GenerateExpectations -->\n",
       "<g id=\"edge7\" class=\"edge\">\n",
       "<title>SplitResults:out_0&#45;&gt;GenerateExpectations:in_0</title>\n",
       "<path fill=\"none\" stroke=\"#6bb24d\" stroke-width=\"1.5\" d=\"M156.5,-332C162.74,-332 158.97,-323.19 155.5,-318 148.32,-307.26 129.5,-317.92 129.5,-305\"/>\n",
       "</g>\n",
       "<!-- QualityCheckCorrect -->\n",
       "<g id=\"node10\" class=\"node\">\n",
       "<title>QualityCheckCorrect</title>\n",
       "<polygon fill=\"#c0dd8e\" stroke=\"transparent\" points=\"138,-146 138,-224 281,-224 281,-146 138,-146\"/>\n",
       "<polygon fill=\"white\" stroke=\"transparent\" points=\"144.5,-201 144.5,-218 208.5,-218 208.5,-201 144.5,-201\"/>\n",
       "<polygon fill=\"none\" stroke=\"#6bb24d\" points=\"144.5,-201 144.5,-218 208.5,-218 208.5,-201 144.5,-201\"/>\n",
       "<text text-anchor=\"start\" x=\"173\" y=\"-207\" font-family=\"monospace\" font-size=\"10.00\">0</text>\n",
       "<polygon fill=\"white\" stroke=\"transparent\" points=\"211.5,-201 211.5,-218 275.5,-218 275.5,-201 211.5,-201\"/>\n",
       "<polygon fill=\"none\" stroke=\"#6bb24d\" points=\"211.5,-201 211.5,-218 275.5,-218 275.5,-201 211.5,-201\"/>\n",
       "<text text-anchor=\"start\" x=\"240\" y=\"-207\" font-family=\"monospace\" font-size=\"10.00\">1</text>\n",
       "<text text-anchor=\"start\" x=\"145.5\" y=\"-183.2\" font-family=\"monospace\" font-weight=\"bold\" font-size=\"11.00\">QualityCheckCorrect</text>\n",
       "<polygon fill=\"white\" stroke=\"transparent\" points=\"144.5,-152 144.5,-169 208.5,-169 208.5,-152 144.5,-152\"/>\n",
       "<polygon fill=\"none\" stroke=\"#6bb24d\" points=\"144.5,-152 144.5,-169 208.5,-169 208.5,-152 144.5,-152\"/>\n",
       "<text text-anchor=\"start\" x=\"173\" y=\"-158\" font-family=\"monospace\" font-size=\"10.00\">0</text>\n",
       "<polygon fill=\"white\" stroke=\"transparent\" points=\"211.5,-152 211.5,-169 275.5,-169 275.5,-152 211.5,-152\"/>\n",
       "<polygon fill=\"none\" stroke=\"#6bb24d\" points=\"211.5,-152 211.5,-169 275.5,-169 275.5,-152 211.5,-152\"/>\n",
       "<text text-anchor=\"start\" x=\"240\" y=\"-158\" font-family=\"monospace\" font-size=\"10.00\">1</text>\n",
       "<polygon fill=\"none\" stroke=\"white\" points=\"138,-146 138,-224 281,-224 281,-146 138,-146\"/>\n",
       "</g>\n",
       "<!-- GenerateExpectations&#45;&gt;QualityCheckCorrect -->\n",
       "<g id=\"edge8\" class=\"edge\">\n",
       "<title>GenerateExpectations:out_0&#45;&gt;QualityCheckCorrect:in_0</title>\n",
       "<path fill=\"none\" stroke=\"#6bb24d\" stroke-width=\"1.5\" d=\"M234.5,-246C240.74,-246 237.56,-236.74 233.5,-232 216.58,-212.28 176.5,-244.98 176.5,-219\"/>\n",
       "</g>\n",
       "<!-- Outputs -->\n",
       "<g id=\"node7\" class=\"node\">\n",
       "<title>Outputs</title>\n",
       "<polygon fill=\"white\" stroke=\"transparent\" points=\"178.5,0 178.5,-52 240.5,-52 240.5,0 178.5,0\"/>\n",
       "<polygon fill=\"white\" stroke=\"transparent\" points=\"184.5,-29 184.5,-46 234.5,-46 234.5,-29 184.5,-29\"/>\n",
       "<polygon fill=\"none\" stroke=\"#6bb24d\" points=\"184.5,-29 184.5,-46 234.5,-46 234.5,-29 184.5,-29\"/>\n",
       "<text text-anchor=\"start\" x=\"206\" y=\"-35\" font-family=\"monospace\" font-size=\"10.00\">0</text>\n",
       "<text text-anchor=\"start\" x=\"185.5\" y=\"-11.2\" font-family=\"monospace\" font-weight=\"bold\" font-size=\"11.00\">Outputs</text>\n",
       "<polygon fill=\"none\" stroke=\"white\" points=\"178.5,0 178.5,-52 240.5,-52 240.5,0 178.5,0\"/>\n",
       "</g>\n",
       "<!-- StatesSimMitEx -->\n",
       "<g id=\"node8\" class=\"node\">\n",
       "<title>StatesSimMitEx</title>\n",
       "<polygon fill=\"#c0dd8e\" stroke=\"transparent\" points=\"229,-576 229,-654 338,-654 338,-576 229,-576\"/>\n",
       "<polygon fill=\"white\" stroke=\"transparent\" points=\"235.5,-631 235.5,-648 282.5,-648 282.5,-631 235.5,-631\"/>\n",
       "<polygon fill=\"none\" stroke=\"#6bb24d\" points=\"235.5,-631 235.5,-648 282.5,-648 282.5,-631 235.5,-631\"/>\n",
       "<text text-anchor=\"start\" x=\"255.5\" y=\"-637\" font-family=\"monospace\" font-size=\"10.00\">0</text>\n",
       "<polygon fill=\"white\" stroke=\"transparent\" points=\"285.5,-631 285.5,-648 332.5,-648 332.5,-631 285.5,-631\"/>\n",
       "<polygon fill=\"none\" stroke=\"#6bb24d\" points=\"285.5,-631 285.5,-648 332.5,-648 332.5,-631 285.5,-631\"/>\n",
       "<text text-anchor=\"start\" x=\"305.5\" y=\"-637\" font-family=\"monospace\" font-size=\"10.00\">1</text>\n",
       "<text text-anchor=\"start\" x=\"236.5\" y=\"-613.2\" font-family=\"monospace\" font-weight=\"bold\" font-size=\"11.00\">StatesSimMitEx</text>\n",
       "<polygon fill=\"white\" stroke=\"transparent\" points=\"235.5,-582 235.5,-599 332.5,-599 332.5,-582 235.5,-582\"/>\n",
       "<polygon fill=\"none\" stroke=\"#6bb24d\" points=\"235.5,-582 235.5,-599 332.5,-599 332.5,-582 235.5,-582\"/>\n",
       "<text text-anchor=\"start\" x=\"280.5\" y=\"-588\" font-family=\"monospace\" font-size=\"10.00\">0</text>\n",
       "<polygon fill=\"none\" stroke=\"white\" points=\"229,-576 229,-654 338,-654 338,-576 229,-576\"/>\n",
       "</g>\n",
       "<!-- StatesSimMitEx&#45;&gt;QualityCheckCorrect -->\n",
       "<g id=\"edge9\" class=\"edge\">\n",
       "<title>StatesSimMitEx:out_0&#45;&gt;QualityCheckCorrect:in_1</title>\n",
       "<path fill=\"none\" stroke=\"#6bb24d\" stroke-width=\"1.5\" d=\"M284.5,-581C284.5,-519.79 270.5,-505.21 270.5,-444 270.5,-444 270.5,-444 270.5,-356 270.5,-348.24 243.5,-226.76 243.5,-219\"/>\n",
       "</g>\n",
       "<!-- CCLStateCircuits&#45;&gt;FilterObservableTracker -->\n",
       "<g id=\"edge10\" class=\"edge\">\n",
       "<title>CCLStateCircuits:out_0&#45;&gt;FilterObservableTracker:in_0</title>\n",
       "<path fill=\"none\" stroke=\"#6bb24d\" stroke-width=\"1.5\" d=\"M201.5,-676C195.26,-676 199.74,-667.6 202.5,-662 204.87,-657.2 209.13,-658.8 211.5,-654 214.26,-648.4 218.74,-640 212.5,-640\"/>\n",
       "</g>\n",
       "<!-- CCLStateCircuits&#45;&gt;StatesSimMitEx -->\n",
       "<g id=\"edge11\" class=\"edge\">\n",
       "<title>CCLStateCircuits:out_1&#45;&gt;StatesSimMitEx:in_0</title>\n",
       "<path fill=\"none\" stroke=\"#6bb24d\" stroke-width=\"1.5\" d=\"M258.5,-667C258.5,-659 258.5,-657 258.5,-649\"/>\n",
       "</g>\n",
       "<!-- CCLStateCircuits&#45;&gt;StatesSimMitEx -->\n",
       "<g id=\"edge12\" class=\"edge\">\n",
       "<title>CCLStateCircuits:out_2&#45;&gt;StatesSimMitEx:in_1</title>\n",
       "<path fill=\"none\" stroke=\"#6bb24d\" stroke-width=\"1.5\" d=\"M296.5,-667C296.5,-657.13 309.5,-658.87 309.5,-649\"/>\n",
       "</g>\n",
       "<!-- CDRCorrect -->\n",
       "<g id=\"node11\" class=\"node\">\n",
       "<title>CDRCorrect</title>\n",
       "<polygon fill=\"#c0dd8e\" stroke=\"transparent\" points=\"168.5,-60 168.5,-138 250.5,-138 250.5,-60 168.5,-60\"/>\n",
       "<polygon fill=\"white\" stroke=\"transparent\" points=\"174.5,-115 174.5,-132 208.5,-132 208.5,-115 174.5,-115\"/>\n",
       "<polygon fill=\"none\" stroke=\"#6bb24d\" points=\"174.5,-115 174.5,-132 208.5,-132 208.5,-115 174.5,-115\"/>\n",
       "<text text-anchor=\"start\" x=\"188\" y=\"-121\" font-family=\"monospace\" font-size=\"10.00\">0</text>\n",
       "<polygon fill=\"white\" stroke=\"transparent\" points=\"211.5,-115 211.5,-132 244.5,-132 244.5,-115 211.5,-115\"/>\n",
       "<polygon fill=\"none\" stroke=\"#6bb24d\" points=\"211.5,-115 211.5,-132 244.5,-132 244.5,-115 211.5,-115\"/>\n",
       "<text text-anchor=\"start\" x=\"224.5\" y=\"-121\" font-family=\"monospace\" font-size=\"10.00\">1</text>\n",
       "<text text-anchor=\"start\" x=\"175.5\" y=\"-97.2\" font-family=\"monospace\" font-weight=\"bold\" font-size=\"11.00\">CDRCorrect</text>\n",
       "<polygon fill=\"white\" stroke=\"transparent\" points=\"174.5,-66 174.5,-83 244.5,-83 244.5,-66 174.5,-66\"/>\n",
       "<polygon fill=\"none\" stroke=\"#6bb24d\" points=\"174.5,-66 174.5,-83 244.5,-83 244.5,-66 174.5,-66\"/>\n",
       "<text text-anchor=\"start\" x=\"206\" y=\"-72\" font-family=\"monospace\" font-size=\"10.00\">0</text>\n",
       "<polygon fill=\"none\" stroke=\"white\" points=\"168.5,-60 168.5,-138 250.5,-138 250.5,-60 168.5,-60\"/>\n",
       "</g>\n",
       "<!-- QualityCheckCorrect&#45;&gt;CDRCorrect -->\n",
       "<g id=\"edge13\" class=\"edge\">\n",
       "<title>QualityCheckCorrect:out_0&#45;&gt;CDRCorrect:in_0</title>\n",
       "<path fill=\"none\" stroke=\"#6bb24d\" stroke-width=\"1.5\" d=\"M176.5,-151C176.5,-140.59 191.5,-143.41 191.5,-133\"/>\n",
       "</g>\n",
       "<!-- QualityCheckCorrect&#45;&gt;CDRCorrect -->\n",
       "<g id=\"edge14\" class=\"edge\">\n",
       "<title>QualityCheckCorrect:out_1&#45;&gt;CDRCorrect:in_1</title>\n",
       "<path fill=\"none\" stroke=\"#6bb24d\" stroke-width=\"1.5\" d=\"M243.5,-151C243.5,-140.59 228.5,-143.41 228.5,-133\"/>\n",
       "</g>\n",
       "<!-- CDRCorrect&#45;&gt;Outputs -->\n",
       "<g id=\"edge15\" class=\"edge\">\n",
       "<title>CDRCorrect:out_0&#45;&gt;Outputs:in_0</title>\n",
       "<path fill=\"none\" stroke=\"#6bb24d\" stroke-width=\"1.5\" d=\"M209.5,-65C209.5,-57 209.5,-55 209.5,-47\"/>\n",
       "</g>\n",
       "</g>\n",
       "</svg>\n"
      ],
      "text/plain": [
       "<graphviz.graphs.Digraph at 0x7fa872f7e760>"
      ]
     },
     "execution_count": 26,
     "metadata": {},
     "output_type": "execute_result"
    }
   ],
   "source": [
    "cdr_mitex.get_task_graph()"
   ]
  },
  {
   "cell_type": "code",
   "execution_count": 27,
   "id": "8e56a823",
   "metadata": {
    "slideshow": {
     "slide_type": "skip"
    }
   },
   "outputs": [
    {
     "name": "stderr",
     "output_type": "stream",
     "text": [
      "/opt/miniconda3/envs/IEEE_Quantum_Week/lib/python3.9/site-packages/qermit/clifford_noise_characterisation/cdr_post.py:136: UserWarning: Training data regularly differs significantly from original circuit, fit and results may be poor.\n",
      "  warnings.warn(\n"
     ]
    },
    {
     "data": {
      "text/plain": [
       "[{(Zq[0], Zq[1], Zq[2], Zq[3]): 0.674073438814885}]"
      ]
     },
     "execution_count": 27,
     "metadata": {},
     "output_type": "execute_result"
    }
   ],
   "source": [
    "cdr_mitex.run(obs_exp_list)"
   ]
  },
  {
   "cell_type": "markdown",
   "id": "108671fe",
   "metadata": {
    "slideshow": {
     "slide_type": "subslide"
    }
   },
   "source": [
    "## Developing Original Error-Mitigation Protocols"
   ]
  },
  {
   "cell_type": "code",
   "execution_count": 28,
   "id": "1c56f086",
   "metadata": {
    "slideshow": {
     "slide_type": "subslide"
    }
   },
   "outputs": [
    {
     "data": {
      "text/html": [
       "\n",
       "\n",
       "\n",
       "\n",
       "\n",
       "\n",
       "<iframe srcdoc=\"\n",
       "&lt;!DOCTYPE html&gt;\n",
       "&lt;html lang=&#34;en&#34;&gt;\n",
       "&lt;head&gt;\n",
       "    &lt;meta charset=&#34;UTF-8&#34;&gt;\n",
       "    &lt;script type=&#34;application/javascript&#34; src=&#34;https://cdn.jsdelivr.net/npm/vue@3&#34;&gt;&lt;/script&gt;\n",
       "    &lt;script type=&#34;application/javascript&#34; src=&#34;https://unpkg.com/pytket-circuit-renderer@0.2/dist/pytket-circuit-renderer.umd.js&#34;&gt;&lt;/script&gt;\n",
       "    &lt;link rel=&#34;stylesheet&#34; href=&#34;https://unpkg.com/pytket-circuit-renderer@0.2/dist/pytket-circuit-renderer.css&#34;&gt;\n",
       "&lt;/head&gt;\n",
       "&lt;body&gt;\n",
       "    &lt;div id=&#34;circuit-display-vue-container-cedfa78d-c6eb-4d40-8d8d-85ca136eb70d&#34; class=&#34;pytket-circuit-display-container&#34;&gt;\n",
       "        &lt;div style=&#34;display: none&#34;&gt;\n",
       "            &lt;div id=&#34;circuit-json-to-display&#34;&gt;{&#34;bits&#34;: [[&#34;c&#34;, [0]], [&#34;c&#34;, [1]]], &#34;commands&#34;: [{&#34;args&#34;: [[&#34;q&#34;, [0]], [&#34;c&#34;, [0]]], &#34;op&#34;: {&#34;type&#34;: &#34;Measure&#34;}}, {&#34;args&#34;: [[&#34;q&#34;, [1]]], &#34;op&#34;: {&#34;type&#34;: &#34;X&#34;}}, {&#34;args&#34;: [[&#34;q&#34;, [1]], [&#34;c&#34;, [1]]], &#34;op&#34;: {&#34;type&#34;: &#34;Measure&#34;}}], &#34;implicit_permutation&#34;: [[[&#34;q&#34;, [0]], [&#34;q&#34;, [0]]], [[&#34;q&#34;, [1]], [&#34;q&#34;, [1]]]], &#34;phase&#34;: &#34;0.0&#34;, &#34;qubits&#34;: [[&#34;q&#34;, [0]], [&#34;q&#34;, [1]]]}&lt;/div&gt;\n",
       "        &lt;/div&gt;\n",
       "        &lt;circuit-display-container :circuit-element-str=&#34;&#39;#circuit-json-to-display&#39;&#34;&gt;&lt;/circuit-display-container&gt;\n",
       "    &lt;/div&gt;\n",
       "    &lt;script type=&#34;application/javascript&#34;&gt;\n",
       "        const { createApp } = Vue;\n",
       "        const circuitDisplayContainer = window[&#34;pytket-circuit-renderer&#34;].default;\n",
       "        // Init variables to be shared between circuit display instances\n",
       "        if (typeof window.pytketCircuitDisplays === &#34;undefined&#34;) {\n",
       "            window.pytketCircuitDisplays = {};\n",
       "        }\n",
       "        const uid = &#34;cedfa78d-c6eb-4d40-8d8d-85ca136eb70d&#34;;\n",
       "        // Create the root Vue component\n",
       "        window.pytketCircuitDisplays[uid] = createApp({\n",
       "            delimiters: [&#39;[[#&#39;, &#39;#]]&#39;],\n",
       "            components: { circuitDisplayContainer },\n",
       "        }).mount(&#34;#circuit-display-vue-container-&#34;+uid);\n",
       "    &lt;/script&gt;\n",
       "&lt;/body&gt;\n",
       "&lt;/html&gt;\n",
       "\"\n",
       "        width=\"100%\" height=\"200px\"\n",
       "        style=\"border: none; outline: none; resize: vertical; overflow: auto\"></iframe>\n",
       "\n"
      ],
      "text/plain": [
       "<IPython.core.display.HTML object>"
      ]
     },
     "metadata": {},
     "output_type": "display_data"
    }
   ],
   "source": [
    "circ = Circuit(2)\n",
    "circ.X(1).measure_all()\n",
    "render_circuit_jupyter(circ)"
   ]
  },
  {
   "cell_type": "code",
   "execution_count": 29,
   "id": "9eae7c3c",
   "metadata": {
    "slideshow": {
     "slide_type": "subslide"
    }
   },
   "outputs": [
    {
     "data": {
      "image/png": "[encoded data removed]",
      "text/plain": [
       "<Figure size 600x200 with 1 Axes>"
      ]
     },
     "metadata": {},
     "output_type": "display_data"
    }
   ],
   "source": [
    "noisy_backend = AerBackend(depolarizing_noise_model(5, 0, 0, 0.25))\n",
    "noisy_mitres = gen_compiled_MitRes(noisy_backend, optimisation_level=0)\n",
    "\n",
    "circ_shots_list = [CircuitShots(circ, n_shots)]\n",
    "\n",
    "result_list = noisy_mitres.run(circ_shots_list)\n",
    "result_counts = result_list[0].get_counts()\n",
    "plot_counts(result_counts)"
   ]
  },
  {
   "cell_type": "markdown",
   "id": "3fe64de3",
   "metadata": {
    "slideshow": {
     "slide_type": "subslide"
    }
   },
   "source": [
    "## Find Zero MitRes TaskGraph"
   ]
  },
  {
   "cell_type": "code",
   "execution_count": 30,
   "id": "3c8d829c",
   "metadata": {
    "slideshow": {
     "slide_type": "subslide"
    }
   },
   "outputs": [],
   "source": [
    "from pytket import OpType\n",
    "\n",
    "def gen_find_zeros_task():\n",
    "    \n",
    "    def task(obj, circ_shots_list):\n",
    "        zero_loc_list = []\n",
    "        circ_size_list = []\n",
    "        for circ_shot in circ_shots_list:\n",
    "            not_zero_loc = []\n",
    "            for command in circ_shot.Circuit.get_commands():\n",
    "                if not command.op.type == OpType.Measure:\n",
    "                    not_zero_loc.extend(command.qubits)\n",
    "            zero_loc = [loc for loc in circ_shot.Circuit.qubits if loc not in not_zero_loc]\n",
    "            zero_loc_list.append(zero_loc)\n",
    "            circ_size_list.append(circ_shot.Circuit.n_qubits)\n",
    "        return (circ_shots_list, zero_loc_list, circ_size_list, )\n",
    "    \n",
    "    return MitTask(\n",
    "        _label=\"FindZeros\", \n",
    "        _n_out_wires=3, \n",
    "        _n_in_wires=1, \n",
    "        _method=task\n",
    "    )"
   ]
  },
  {
   "cell_type": "code",
   "execution_count": 31,
   "id": "b5a9b7c5",
   "metadata": {
    "slideshow": {
     "slide_type": "subslide"
    }
   },
   "outputs": [],
   "source": [
    "from pytket.backends.backendresult import BackendResult\n",
    "\n",
    "def gen_remove_ones_task():\n",
    "    \n",
    "    def task(obj, result_list, zero_loc_list, circ_size_list) -> Tuple[List[BackendResult]]:\n",
    "        \n",
    "        mitigated_result_list = []\n",
    "        for result, zero_loc, circ_size in zip(result_list, zero_loc_list, circ_size_list):\n",
    "            \n",
    "            result_dict = result.to_dict()\n",
    "            result_shots_array = result_dict['shots']['array']\n",
    "            \n",
    "            mitigated_result_shots_array = []\n",
    "            for result_shots in result_shots_array:\n",
    "                result_shot_binary = bin(result_shots[0])[2:].zfill(8)[:circ_size][::-1]\n",
    "                delete_shot = False\n",
    "                for zero in zero_loc:\n",
    "                    if result_shot_binary[zero.index[0]] == \"1\": delete_shot = True\n",
    "                if not delete_shot:\n",
    "                    mitigated_result_shots_array.append(result_shots)\n",
    "            \n",
    "            result_dict['shots']['array'] = mitigated_result_shots_array\n",
    "            mitigated_result_list.append(BackendResult.from_dict(result_dict))\n",
    "\n",
    "        return (mitigated_result_list, )\n",
    "    \n",
    "    return MitTask(_label=\"RemoveOnes\", _n_out_wires=1, _n_in_wires=3, _method=task)"
   ]
  },
  {
   "cell_type": "code",
   "execution_count": 32,
   "id": "dcceaaa9",
   "metadata": {
    "slideshow": {
     "slide_type": "subslide"
    }
   },
   "outputs": [],
   "source": [
    "from qermit.taskgraph.task_graph import TaskGraph\n",
    "from typing import Tuple, List\n",
    "from qermit.taskgraph.mittask import MitTask\n",
    "\n",
    "taskgraph = TaskGraph().from_TaskGraph(noisy_mitres)\n",
    "\n",
    "taskgraph.add_wire()\n",
    "taskgraph.add_wire()\n",
    "\n",
    "taskgraph.prepend(gen_find_zeros_task())\n",
    "taskgraph.append(gen_remove_ones_task())\n",
    "\n",
    "find_zero_mitres = MitRes(noisy_mitres).from_TaskGraph(taskgraph)"
   ]
  },
  {
   "cell_type": "markdown",
   "id": "74f44277",
   "metadata": {
    "slideshow": {
     "slide_type": "subslide"
    }
   },
   "source": [
    "## Find Zero MitRes TaskGraph"
   ]
  },
  {
   "cell_type": "code",
   "execution_count": 33,
   "id": "d51fdac5",
   "metadata": {
    "slideshow": {
     "slide_type": "skip"
    }
   },
   "outputs": [
    {
     "data": {
      "image/svg+xml": [
       "<?xml version=\"1.0\" encoding=\"UTF-8\" standalone=\"no\"?>\n",
       "<!DOCTYPE svg PUBLIC \"-//W3C//DTD SVG 1.1//EN\"\n",
       " \"http://www.w3.org/Graphics/SVG/1.1/DTD/svg11.dtd\">\n",
       "<!-- Generated by graphviz version 2.44.0 (20200408.0750)\n",
       " -->\n",
       "<!-- Title: MitRes Pages: 1 -->\n",
       "<svg width=\"208pt\" height=\"550pt\"\n",
       " viewBox=\"0.00 0.00 207.50 550.00\" xmlns=\"http://www.w3.org/2000/svg\" xmlns:xlink=\"http://www.w3.org/1999/xlink\">\n",
       "<g id=\"graph0\" class=\"graph\" transform=\"scale(1 1) rotate(0) translate(4 546)\">\n",
       "<title>MitRes</title>\n",
       "<polygon fill=\"white\" stroke=\"transparent\" points=\"-4,4 -4,-546 203.5,-546 203.5,4 -4,4\"/>\n",
       "<!-- Inputs -->\n",
       "<g id=\"node1\" class=\"node\">\n",
       "<title>Inputs</title>\n",
       "<polygon fill=\"white\" stroke=\"transparent\" points=\"132,-490 132,-542 187,-542 187,-490 132,-490\"/>\n",
       "<text text-anchor=\"start\" x=\"139.5\" y=\"-527.2\" font-family=\"monospace\" font-weight=\"bold\" font-size=\"11.00\">Inputs</text>\n",
       "<polygon fill=\"white\" stroke=\"transparent\" points=\"138.5,-496 138.5,-513 181.5,-513 181.5,-496 138.5,-496\"/>\n",
       "<polygon fill=\"none\" stroke=\"#6bb24d\" points=\"138.5,-496 138.5,-513 181.5,-513 181.5,-496 138.5,-496\"/>\n",
       "<text text-anchor=\"start\" x=\"156.5\" y=\"-502\" font-family=\"monospace\" font-size=\"10.00\">0</text>\n",
       "<polygon fill=\"none\" stroke=\"white\" points=\"132,-490 132,-542 187,-542 187,-490 132,-490\"/>\n",
       "</g>\n",
       "<!-- FindZeros -->\n",
       "<g id=\"node6\" class=\"node\">\n",
       "<title>FindZeros</title>\n",
       "<polygon fill=\"#c0dd8e\" stroke=\"transparent\" points=\"122,-404 122,-482 197,-482 197,-404 122,-404\"/>\n",
       "<polygon fill=\"white\" stroke=\"transparent\" points=\"128.5,-459 128.5,-476 191.5,-476 191.5,-459 128.5,-459\"/>\n",
       "<polygon fill=\"none\" stroke=\"#6bb24d\" points=\"128.5,-459 128.5,-476 191.5,-476 191.5,-459 128.5,-459\"/>\n",
       "<text text-anchor=\"start\" x=\"156.5\" y=\"-465\" font-family=\"monospace\" font-size=\"10.00\">0</text>\n",
       "<text text-anchor=\"start\" x=\"129.5\" y=\"-441.2\" font-family=\"monospace\" font-weight=\"bold\" font-size=\"11.00\">FindZeros</text>\n",
       "<polygon fill=\"white\" stroke=\"transparent\" points=\"128.5,-410 128.5,-427 147.5,-427 147.5,-410 128.5,-410\"/>\n",
       "<polygon fill=\"none\" stroke=\"#6bb24d\" points=\"128.5,-410 128.5,-427 147.5,-427 147.5,-410 128.5,-410\"/>\n",
       "<text text-anchor=\"start\" x=\"134.5\" y=\"-416\" font-family=\"monospace\" font-size=\"10.00\">0</text>\n",
       "<polygon fill=\"white\" stroke=\"transparent\" points=\"150.5,-410 150.5,-427 169.5,-427 169.5,-410 150.5,-410\"/>\n",
       "<polygon fill=\"none\" stroke=\"#6bb24d\" points=\"150.5,-410 150.5,-427 169.5,-427 169.5,-410 150.5,-410\"/>\n",
       "<text text-anchor=\"start\" x=\"156.5\" y=\"-416\" font-family=\"monospace\" font-size=\"10.00\">1</text>\n",
       "<polygon fill=\"white\" stroke=\"transparent\" points=\"172.5,-410 172.5,-427 191.5,-427 191.5,-410 172.5,-410\"/>\n",
       "<polygon fill=\"none\" stroke=\"#6bb24d\" points=\"172.5,-410 172.5,-427 191.5,-427 191.5,-410 172.5,-410\"/>\n",
       "<text text-anchor=\"start\" x=\"178.5\" y=\"-416\" font-family=\"monospace\" font-size=\"10.00\">2</text>\n",
       "<polygon fill=\"none\" stroke=\"white\" points=\"122,-404 122,-482 197,-482 197,-404 122,-404\"/>\n",
       "</g>\n",
       "<!-- Inputs&#45;&gt;FindZeros -->\n",
       "<g id=\"edge1\" class=\"edge\">\n",
       "<title>Inputs:out_0&#45;&gt;FindZeros:in_0</title>\n",
       "<path fill=\"none\" stroke=\"#6bb24d\" stroke-width=\"1.5\" d=\"M160.5,-495C160.5,-487 160.5,-485 160.5,-477\"/>\n",
       "</g>\n",
       "<!-- CircuitsToHandles -->\n",
       "<g id=\"node2\" class=\"node\">\n",
       "<title>CircuitsToHandles</title>\n",
       "<polygon fill=\"#c0dd8e\" stroke=\"transparent\" points=\"11,-232 11,-310 140,-310 140,-232 11,-232\"/>\n",
       "<polygon fill=\"white\" stroke=\"transparent\" points=\"17.5,-287 17.5,-304 134.5,-304 134.5,-287 17.5,-287\"/>\n",
       "<polygon fill=\"none\" stroke=\"#6bb24d\" points=\"17.5,-287 17.5,-304 134.5,-304 134.5,-287 17.5,-287\"/>\n",
       "<text text-anchor=\"start\" x=\"72.5\" y=\"-293\" font-family=\"monospace\" font-size=\"10.00\">0</text>\n",
       "<text text-anchor=\"start\" x=\"18.5\" y=\"-269.2\" font-family=\"monospace\" font-weight=\"bold\" font-size=\"11.00\">CircuitsToHandles</text>\n",
       "<polygon fill=\"white\" stroke=\"transparent\" points=\"17.5,-238 17.5,-255 134.5,-255 134.5,-238 17.5,-238\"/>\n",
       "<polygon fill=\"none\" stroke=\"#6bb24d\" points=\"17.5,-238 17.5,-255 134.5,-255 134.5,-238 17.5,-238\"/>\n",
       "<text text-anchor=\"start\" x=\"72.5\" y=\"-244\" font-family=\"monospace\" font-size=\"10.00\">0</text>\n",
       "<polygon fill=\"none\" stroke=\"white\" points=\"11,-232 11,-310 140,-310 140,-232 11,-232\"/>\n",
       "</g>\n",
       "<!-- HandlesToResults -->\n",
       "<g id=\"node3\" class=\"node\">\n",
       "<title>HandlesToResults</title>\n",
       "<polygon fill=\"#c0dd8e\" stroke=\"transparent\" points=\"17,-146 17,-224 140,-224 140,-146 17,-146\"/>\n",
       "<polygon fill=\"white\" stroke=\"transparent\" points=\"23.5,-201 23.5,-218 134.5,-218 134.5,-201 23.5,-201\"/>\n",
       "<polygon fill=\"none\" stroke=\"#6bb24d\" points=\"23.5,-201 23.5,-218 134.5,-218 134.5,-201 23.5,-201\"/>\n",
       "<text text-anchor=\"start\" x=\"75.5\" y=\"-207\" font-family=\"monospace\" font-size=\"10.00\">0</text>\n",
       "<text text-anchor=\"start\" x=\"24.5\" y=\"-183.2\" font-family=\"monospace\" font-weight=\"bold\" font-size=\"11.00\">HandlesToResults</text>\n",
       "<polygon fill=\"white\" stroke=\"transparent\" points=\"23.5,-152 23.5,-169 134.5,-169 134.5,-152 23.5,-152\"/>\n",
       "<polygon fill=\"none\" stroke=\"#6bb24d\" points=\"23.5,-152 23.5,-169 134.5,-169 134.5,-152 23.5,-152\"/>\n",
       "<text text-anchor=\"start\" x=\"75.5\" y=\"-158\" font-family=\"monospace\" font-size=\"10.00\">0</text>\n",
       "<polygon fill=\"none\" stroke=\"white\" points=\"17,-146 17,-224 140,-224 140,-146 17,-146\"/>\n",
       "</g>\n",
       "<!-- CircuitsToHandles&#45;&gt;HandlesToResults -->\n",
       "<g id=\"edge2\" class=\"edge\">\n",
       "<title>CircuitsToHandles:out_0&#45;&gt;HandlesToResults:in_0</title>\n",
       "<path fill=\"none\" stroke=\"#6bb24d\" stroke-width=\"1.5\" d=\"M76.5,-237C76.5,-228.89 79.5,-227.11 79.5,-219\"/>\n",
       "</g>\n",
       "<!-- RemoveOnes -->\n",
       "<g id=\"node7\" class=\"node\">\n",
       "<title>RemoveOnes</title>\n",
       "<polygon fill=\"#c0dd8e\" stroke=\"transparent\" points=\"117.5,-60 117.5,-138 199.5,-138 199.5,-60 117.5,-60\"/>\n",
       "<polygon fill=\"white\" stroke=\"transparent\" points=\"123.5,-115 123.5,-132 145.5,-132 145.5,-115 123.5,-115\"/>\n",
       "<polygon fill=\"none\" stroke=\"#6bb24d\" points=\"123.5,-115 123.5,-132 145.5,-132 145.5,-115 123.5,-115\"/>\n",
       "<text text-anchor=\"start\" x=\"131\" y=\"-121\" font-family=\"monospace\" font-size=\"10.00\">0</text>\n",
       "<polygon fill=\"white\" stroke=\"transparent\" points=\"148.5,-115 148.5,-132 169.5,-132 169.5,-115 148.5,-115\"/>\n",
       "<polygon fill=\"none\" stroke=\"#6bb24d\" points=\"148.5,-115 148.5,-132 169.5,-132 169.5,-115 148.5,-115\"/>\n",
       "<text text-anchor=\"start\" x=\"155.5\" y=\"-121\" font-family=\"monospace\" font-size=\"10.00\">1</text>\n",
       "<polygon fill=\"white\" stroke=\"transparent\" points=\"172.5,-115 172.5,-132 193.5,-132 193.5,-115 172.5,-115\"/>\n",
       "<polygon fill=\"none\" stroke=\"#6bb24d\" points=\"172.5,-115 172.5,-132 193.5,-132 193.5,-115 172.5,-115\"/>\n",
       "<text text-anchor=\"start\" x=\"179.5\" y=\"-121\" font-family=\"monospace\" font-size=\"10.00\">2</text>\n",
       "<text text-anchor=\"start\" x=\"124.5\" y=\"-97.2\" font-family=\"monospace\" font-weight=\"bold\" font-size=\"11.00\">RemoveOnes</text>\n",
       "<polygon fill=\"white\" stroke=\"transparent\" points=\"123.5,-66 123.5,-83 193.5,-83 193.5,-66 123.5,-66\"/>\n",
       "<polygon fill=\"none\" stroke=\"#6bb24d\" points=\"123.5,-66 123.5,-83 193.5,-83 193.5,-66 123.5,-66\"/>\n",
       "<text text-anchor=\"start\" x=\"155\" y=\"-72\" font-family=\"monospace\" font-size=\"10.00\">0</text>\n",
       "<polygon fill=\"none\" stroke=\"white\" points=\"117.5,-60 117.5,-138 199.5,-138 199.5,-60 117.5,-60\"/>\n",
       "</g>\n",
       "<!-- HandlesToResults&#45;&gt;RemoveOnes -->\n",
       "<g id=\"edge3\" class=\"edge\">\n",
       "<title>HandlesToResults:out_0&#45;&gt;RemoveOnes:in_0</title>\n",
       "<path fill=\"none\" stroke=\"#6bb24d\" stroke-width=\"1.5\" d=\"M135.5,-160C141.74,-160 137.53,-151.45 134.5,-146 131.57,-140.71 126.43,-143.29 123.5,-138 120.47,-132.55 116.26,-124 122.5,-124\"/>\n",
       "</g>\n",
       "<!-- Outputs -->\n",
       "<g id=\"node4\" class=\"node\">\n",
       "<title>Outputs</title>\n",
       "<polygon fill=\"white\" stroke=\"transparent\" points=\"127.5,0 127.5,-52 189.5,-52 189.5,0 127.5,0\"/>\n",
       "<polygon fill=\"white\" stroke=\"transparent\" points=\"133.5,-29 133.5,-46 183.5,-46 183.5,-29 133.5,-29\"/>\n",
       "<polygon fill=\"none\" stroke=\"#6bb24d\" points=\"133.5,-29 133.5,-46 183.5,-46 183.5,-29 133.5,-29\"/>\n",
       "<text text-anchor=\"start\" x=\"155\" y=\"-35\" font-family=\"monospace\" font-size=\"10.00\">0</text>\n",
       "<text text-anchor=\"start\" x=\"134.5\" y=\"-11.2\" font-family=\"monospace\" font-weight=\"bold\" font-size=\"11.00\">Outputs</text>\n",
       "<polygon fill=\"none\" stroke=\"white\" points=\"127.5,0 127.5,-52 189.5,-52 189.5,0 127.5,0\"/>\n",
       "</g>\n",
       "<!-- CompileCircuitShots -->\n",
       "<g id=\"node5\" class=\"node\">\n",
       "<title>CompileCircuitShots</title>\n",
       "<polygon fill=\"#c0dd8e\" stroke=\"transparent\" points=\"0,-318 0,-396 143,-396 143,-318 0,-318\"/>\n",
       "<polygon fill=\"white\" stroke=\"transparent\" points=\"6.5,-373 6.5,-390 137.5,-390 137.5,-373 6.5,-373\"/>\n",
       "<polygon fill=\"none\" stroke=\"#6bb24d\" points=\"6.5,-373 6.5,-390 137.5,-390 137.5,-373 6.5,-373\"/>\n",
       "<text text-anchor=\"start\" x=\"68.5\" y=\"-379\" font-family=\"monospace\" font-size=\"10.00\">0</text>\n",
       "<text text-anchor=\"start\" x=\"7.5\" y=\"-355.2\" font-family=\"monospace\" font-weight=\"bold\" font-size=\"11.00\">CompileCircuitShots</text>\n",
       "<polygon fill=\"white\" stroke=\"transparent\" points=\"6.5,-324 6.5,-341 137.5,-341 137.5,-324 6.5,-324\"/>\n",
       "<polygon fill=\"none\" stroke=\"#6bb24d\" points=\"6.5,-324 6.5,-341 137.5,-341 137.5,-324 6.5,-324\"/>\n",
       "<text text-anchor=\"start\" x=\"68.5\" y=\"-330\" font-family=\"monospace\" font-size=\"10.00\">0</text>\n",
       "<polygon fill=\"none\" stroke=\"white\" points=\"0,-318 0,-396 143,-396 143,-318 0,-318\"/>\n",
       "</g>\n",
       "<!-- CompileCircuitShots&#45;&gt;CircuitsToHandles -->\n",
       "<g id=\"edge4\" class=\"edge\">\n",
       "<title>CompileCircuitShots:out_0&#45;&gt;CircuitsToHandles:in_0</title>\n",
       "<path fill=\"none\" stroke=\"#6bb24d\" stroke-width=\"1.5\" d=\"M72.5,-323C72.5,-314.8 76.5,-313.2 76.5,-305\"/>\n",
       "</g>\n",
       "<!-- FindZeros&#45;&gt;CompileCircuitShots -->\n",
       "<g id=\"edge5\" class=\"edge\">\n",
       "<title>FindZeros:out_0&#45;&gt;CompileCircuitShots:in_0</title>\n",
       "<path fill=\"none\" stroke=\"#6bb24d\" stroke-width=\"1.5\" d=\"M127.5,-418C121.26,-418 125.74,-409.6 128.5,-404 130.87,-399.2 135.13,-400.8 137.5,-396 140.26,-390.4 144.74,-382 138.5,-382\"/>\n",
       "</g>\n",
       "<!-- FindZeros&#45;&gt;RemoveOnes -->\n",
       "<g id=\"edge6\" class=\"edge\">\n",
       "<title>FindZeros:out_1&#45;&gt;RemoveOnes:in_1</title>\n",
       "<path fill=\"none\" stroke=\"#6bb24d\" stroke-width=\"1.5\" d=\"M160.5,-409C160.5,-286.33 159.5,-255.67 159.5,-133\"/>\n",
       "</g>\n",
       "<!-- FindZeros&#45;&gt;RemoveOnes -->\n",
       "<g id=\"edge7\" class=\"edge\">\n",
       "<title>FindZeros:out_2&#45;&gt;RemoveOnes:in_2</title>\n",
       "<path fill=\"none\" stroke=\"#6bb24d\" stroke-width=\"1.5\" d=\"M182.5,-409C182.5,-286.33 183.5,-255.67 183.5,-133\"/>\n",
       "</g>\n",
       "<!-- RemoveOnes&#45;&gt;Outputs -->\n",
       "<g id=\"edge8\" class=\"edge\">\n",
       "<title>RemoveOnes:out_0&#45;&gt;Outputs:in_0</title>\n",
       "<path fill=\"none\" stroke=\"#6bb24d\" stroke-width=\"1.5\" d=\"M158.5,-65C158.5,-57 158.5,-55 158.5,-47\"/>\n",
       "</g>\n",
       "</g>\n",
       "</svg>\n"
      ],
      "text/plain": [
       "<graphviz.graphs.Digraph at 0x7fa88929f7c0>"
      ]
     },
     "execution_count": 33,
     "metadata": {},
     "output_type": "execute_result"
    }
   ],
   "source": [
    "find_zero_mitres.get_task_graph()"
   ]
  },
  {
   "cell_type": "code",
   "execution_count": 34,
   "id": "1924cb81",
   "metadata": {
    "slideshow": {
     "slide_type": "subslide"
    }
   },
   "outputs": [
    {
     "data": {
      "image/png": "[encoded data removed]",
      "text/plain": [
       "<Figure size 600x200 with 1 Axes>"
      ]
     },
     "metadata": {},
     "output_type": "display_data"
    }
   ],
   "source": [
    "result_list = find_zero_mitres.run(circ_shots_list)\n",
    "result_counts = result_list[0].get_counts()\n",
    "plot_counts(result_counts)"
   ]
  },
  {
   "cell_type": "markdown",
   "id": "fe07cbc8",
   "metadata": {
    "slideshow": {
     "slide_type": "subslide"
    }
   },
   "source": [
    "## Spectral Analysis MitEx TaskGraph"
   ]
  },
  {
   "cell_type": "code",
   "execution_count": 35,
   "id": "ee939739",
   "metadata": {
    "slideshow": {
     "slide_type": "skip"
    }
   },
   "outputs": [
    {
     "data": {
      "image/svg+xml": [
       "<?xml version=\"1.0\" encoding=\"UTF-8\" standalone=\"no\"?>\n",
       "<!DOCTYPE svg PUBLIC \"-//W3C//DTD SVG 1.1//EN\"\n",
       " \"http://www.w3.org/Graphics/SVG/1.1/DTD/svg11.dtd\">\n",
       "<!-- Generated by graphviz version 2.44.0 (20200408.0750)\n",
       " -->\n",
       "<!-- Title: MitEx Pages: 1 -->\n",
       "<svg width=\"240pt\" height=\"550pt\"\n",
       " viewBox=\"0.00 0.00 239.50 550.00\" xmlns=\"http://www.w3.org/2000/svg\" xmlns:xlink=\"http://www.w3.org/1999/xlink\">\n",
       "<g id=\"graph0\" class=\"graph\" transform=\"scale(1 1) rotate(0) translate(4 546)\">\n",
       "<title>MitEx</title>\n",
       "<polygon fill=\"white\" stroke=\"transparent\" points=\"-4,4 -4,-546 235.5,-546 235.5,4 -4,4\"/>\n",
       "<!-- Inputs -->\n",
       "<g id=\"node1\" class=\"node\">\n",
       "<title>Inputs</title>\n",
       "<polygon fill=\"white\" stroke=\"transparent\" points=\"117,-490 117,-542 172,-542 172,-490 117,-490\"/>\n",
       "<text text-anchor=\"start\" x=\"124.5\" y=\"-527.2\" font-family=\"monospace\" font-weight=\"bold\" font-size=\"11.00\">Inputs</text>\n",
       "<polygon fill=\"white\" stroke=\"transparent\" points=\"123.5,-496 123.5,-513 166.5,-513 166.5,-496 123.5,-496\"/>\n",
       "<polygon fill=\"none\" stroke=\"#6bb24d\" points=\"123.5,-496 123.5,-513 166.5,-513 166.5,-496 123.5,-496\"/>\n",
       "<text text-anchor=\"start\" x=\"141.5\" y=\"-502\" font-family=\"monospace\" font-size=\"10.00\">0</text>\n",
       "<polygon fill=\"none\" stroke=\"white\" points=\"117,-490 117,-542 172,-542 172,-490 117,-490\"/>\n",
       "</g>\n",
       "<!-- FilterObservableTracker -->\n",
       "<g id=\"node2\" class=\"node\">\n",
       "<title>FilterObservableTracker</title>\n",
       "<polygon fill=\"#c0dd8e\" stroke=\"transparent\" points=\"60.5,-404 60.5,-482 230.5,-482 230.5,-404 60.5,-404\"/>\n",
       "<polygon fill=\"white\" stroke=\"transparent\" points=\"66.5,-459 66.5,-476 224.5,-476 224.5,-459 66.5,-459\"/>\n",
       "<polygon fill=\"none\" stroke=\"#6bb24d\" points=\"66.5,-459 66.5,-476 224.5,-476 224.5,-459 66.5,-459\"/>\n",
       "<text text-anchor=\"start\" x=\"142\" y=\"-465\" font-family=\"monospace\" font-size=\"10.00\">0</text>\n",
       "<text text-anchor=\"start\" x=\"67.5\" y=\"-441.2\" font-family=\"monospace\" font-weight=\"bold\" font-size=\"11.00\">FilterObservableTracker</text>\n",
       "<polygon fill=\"white\" stroke=\"transparent\" points=\"66.5,-410 66.5,-427 144.5,-427 144.5,-410 66.5,-410\"/>\n",
       "<polygon fill=\"none\" stroke=\"#6bb24d\" points=\"66.5,-410 66.5,-427 144.5,-427 144.5,-410 66.5,-410\"/>\n",
       "<text text-anchor=\"start\" x=\"102\" y=\"-416\" font-family=\"monospace\" font-size=\"10.00\">0</text>\n",
       "<polygon fill=\"white\" stroke=\"transparent\" points=\"147.5,-410 147.5,-427 224.5,-427 224.5,-410 147.5,-410\"/>\n",
       "<polygon fill=\"none\" stroke=\"#6bb24d\" points=\"147.5,-410 147.5,-427 224.5,-427 224.5,-410 147.5,-410\"/>\n",
       "<text text-anchor=\"start\" x=\"182.5\" y=\"-416\" font-family=\"monospace\" font-size=\"10.00\">1</text>\n",
       "<polygon fill=\"none\" stroke=\"white\" points=\"60.5,-404 60.5,-482 230.5,-482 230.5,-404 60.5,-404\"/>\n",
       "</g>\n",
       "<!-- Inputs&#45;&gt;FilterObservableTracker -->\n",
       "<g id=\"edge1\" class=\"edge\">\n",
       "<title>Inputs:out_0&#45;&gt;FilterObservableTracker:in_0</title>\n",
       "<path fill=\"none\" stroke=\"#6bb24d\" stroke-width=\"1.5\" d=\"M145.5,-495C145.5,-487 145.5,-485 145.5,-477\"/>\n",
       "</g>\n",
       "<!-- CollateExperimentCircuits -->\n",
       "<g id=\"node3\" class=\"node\">\n",
       "<title>CollateExperimentCircuits</title>\n",
       "<polygon fill=\"#c0dd8e\" stroke=\"transparent\" points=\"0,-318 0,-396 183,-396 183,-318 0,-318\"/>\n",
       "<polygon fill=\"white\" stroke=\"transparent\" points=\"6.5,-373 6.5,-390 177.5,-390 177.5,-373 6.5,-373\"/>\n",
       "<polygon fill=\"none\" stroke=\"#6bb24d\" points=\"6.5,-373 6.5,-390 177.5,-390 177.5,-373 6.5,-373\"/>\n",
       "<text text-anchor=\"start\" x=\"88.5\" y=\"-379\" font-family=\"monospace\" font-size=\"10.00\">0</text>\n",
       "<text text-anchor=\"start\" x=\"7.5\" y=\"-355.2\" font-family=\"monospace\" font-weight=\"bold\" font-size=\"11.00\">CollateExperimentCircuits</text>\n",
       "<polygon fill=\"white\" stroke=\"transparent\" points=\"6.5,-324 6.5,-341 90.5,-341 90.5,-324 6.5,-324\"/>\n",
       "<polygon fill=\"none\" stroke=\"#6bb24d\" points=\"6.5,-324 6.5,-341 90.5,-341 90.5,-324 6.5,-324\"/>\n",
       "<text text-anchor=\"start\" x=\"45\" y=\"-330\" font-family=\"monospace\" font-size=\"10.00\">0</text>\n",
       "<polygon fill=\"white\" stroke=\"transparent\" points=\"93.5,-324 93.5,-341 177.5,-341 177.5,-324 93.5,-324\"/>\n",
       "<polygon fill=\"none\" stroke=\"#6bb24d\" points=\"93.5,-324 93.5,-341 177.5,-341 177.5,-324 93.5,-324\"/>\n",
       "<text text-anchor=\"start\" x=\"132\" y=\"-330\" font-family=\"monospace\" font-size=\"10.00\">1</text>\n",
       "<polygon fill=\"none\" stroke=\"white\" points=\"0,-318 0,-396 183,-396 183,-318 0,-318\"/>\n",
       "</g>\n",
       "<!-- FilterObservableTracker&#45;&gt;CollateExperimentCircuits -->\n",
       "<g id=\"edge2\" class=\"edge\">\n",
       "<title>FilterObservableTracker:out_0&#45;&gt;CollateExperimentCircuits:in_0</title>\n",
       "<path fill=\"none\" stroke=\"#6bb24d\" stroke-width=\"1.5\" d=\"M105.5,-409C105.5,-376.48 155.77,-420.19 177.5,-396 181.67,-391.36 184.74,-382 178.5,-382\"/>\n",
       "</g>\n",
       "<!-- GenerateExpectations -->\n",
       "<g id=\"node6\" class=\"node\">\n",
       "<title>GenerateExpectations</title>\n",
       "<polygon fill=\"#c0dd8e\" stroke=\"transparent\" points=\"81.5,-60 81.5,-138 231.5,-138 231.5,-60 81.5,-60\"/>\n",
       "<polygon fill=\"white\" stroke=\"transparent\" points=\"87.5,-115 87.5,-132 155.5,-132 155.5,-115 87.5,-115\"/>\n",
       "<polygon fill=\"none\" stroke=\"#6bb24d\" points=\"87.5,-115 87.5,-132 155.5,-132 155.5,-115 87.5,-115\"/>\n",
       "<text text-anchor=\"start\" x=\"118\" y=\"-121\" font-family=\"monospace\" font-size=\"10.00\">0</text>\n",
       "<polygon fill=\"white\" stroke=\"transparent\" points=\"158.5,-115 158.5,-132 225.5,-132 225.5,-115 158.5,-115\"/>\n",
       "<polygon fill=\"none\" stroke=\"#6bb24d\" points=\"158.5,-115 158.5,-132 225.5,-132 225.5,-115 158.5,-115\"/>\n",
       "<text text-anchor=\"start\" x=\"188.5\" y=\"-121\" font-family=\"monospace\" font-size=\"10.00\">1</text>\n",
       "<text text-anchor=\"start\" x=\"88.5\" y=\"-97.2\" font-family=\"monospace\" font-weight=\"bold\" font-size=\"11.00\">GenerateExpectations</text>\n",
       "<polygon fill=\"white\" stroke=\"transparent\" points=\"87.5,-66 87.5,-83 225.5,-83 225.5,-66 87.5,-66\"/>\n",
       "<polygon fill=\"none\" stroke=\"#6bb24d\" points=\"87.5,-66 87.5,-83 225.5,-83 225.5,-66 87.5,-66\"/>\n",
       "<text text-anchor=\"start\" x=\"153\" y=\"-72\" font-family=\"monospace\" font-size=\"10.00\">0</text>\n",
       "<polygon fill=\"none\" stroke=\"white\" points=\"81.5,-60 81.5,-138 231.5,-138 231.5,-60 81.5,-60\"/>\n",
       "</g>\n",
       "<!-- FilterObservableTracker&#45;&gt;GenerateExpectations -->\n",
       "<g id=\"edge3\" class=\"edge\">\n",
       "<title>FilterObservableTracker:out_1&#45;&gt;GenerateExpectations:in_1</title>\n",
       "<path fill=\"none\" stroke=\"#6bb24d\" stroke-width=\"1.5\" d=\"M186.5,-409C186.5,-403.15 188.01,-401.83 188.5,-396 198.3,-279.51 192.5,-249.9 192.5,-133\"/>\n",
       "</g>\n",
       "<!-- MitRes -->\n",
       "<g id=\"node4\" class=\"node\">\n",
       "<title>MitRes</title>\n",
       "<polygon fill=\"#c0dd8e\" stroke=\"transparent\" points=\"42,-232 42,-310 97,-310 97,-232 42,-232\"/>\n",
       "<polygon fill=\"white\" stroke=\"transparent\" points=\"48.5,-287 48.5,-304 91.5,-304 91.5,-287 48.5,-287\"/>\n",
       "<polygon fill=\"none\" stroke=\"#6bb24d\" points=\"48.5,-287 48.5,-304 91.5,-304 91.5,-287 48.5,-287\"/>\n",
       "<text text-anchor=\"start\" x=\"66.5\" y=\"-293\" font-family=\"monospace\" font-size=\"10.00\">0</text>\n",
       "<text text-anchor=\"start\" x=\"49.5\" y=\"-269.2\" font-family=\"monospace\" font-weight=\"bold\" font-size=\"11.00\">MitRes</text>\n",
       "<polygon fill=\"white\" stroke=\"transparent\" points=\"48.5,-238 48.5,-255 91.5,-255 91.5,-238 48.5,-238\"/>\n",
       "<polygon fill=\"none\" stroke=\"#6bb24d\" points=\"48.5,-238 48.5,-255 91.5,-255 91.5,-238 48.5,-238\"/>\n",
       "<text text-anchor=\"start\" x=\"66.5\" y=\"-244\" font-family=\"monospace\" font-size=\"10.00\">0</text>\n",
       "<polygon fill=\"none\" stroke=\"white\" points=\"42,-232 42,-310 97,-310 97,-232 42,-232\"/>\n",
       "</g>\n",
       "<!-- CollateExperimentCircuits&#45;&gt;MitRes -->\n",
       "<g id=\"edge4\" class=\"edge\">\n",
       "<title>CollateExperimentCircuits:out_0&#45;&gt;MitRes:in_0</title>\n",
       "<path fill=\"none\" stroke=\"#6bb24d\" stroke-width=\"1.5\" d=\"M48.5,-323C48.5,-310.37 70.5,-317.63 70.5,-305\"/>\n",
       "</g>\n",
       "<!-- SplitResults -->\n",
       "<g id=\"node5\" class=\"node\">\n",
       "<title>SplitResults</title>\n",
       "<polygon fill=\"#c0dd8e\" stroke=\"transparent\" points=\"65.5,-146 65.5,-224 161.5,-224 161.5,-146 65.5,-146\"/>\n",
       "<polygon fill=\"white\" stroke=\"transparent\" points=\"71.5,-201 71.5,-218 112.5,-218 112.5,-201 71.5,-201\"/>\n",
       "<polygon fill=\"none\" stroke=\"#6bb24d\" points=\"71.5,-201 71.5,-218 112.5,-218 112.5,-201 71.5,-201\"/>\n",
       "<text text-anchor=\"start\" x=\"88.5\" y=\"-207\" font-family=\"monospace\" font-size=\"10.00\">0</text>\n",
       "<polygon fill=\"white\" stroke=\"transparent\" points=\"115.5,-201 115.5,-218 155.5,-218 155.5,-201 115.5,-201\"/>\n",
       "<polygon fill=\"none\" stroke=\"#6bb24d\" points=\"115.5,-201 115.5,-218 155.5,-218 155.5,-201 115.5,-201\"/>\n",
       "<text text-anchor=\"start\" x=\"132\" y=\"-207\" font-family=\"monospace\" font-size=\"10.00\">1</text>\n",
       "<text text-anchor=\"start\" x=\"72.5\" y=\"-183.2\" font-family=\"monospace\" font-weight=\"bold\" font-size=\"11.00\">SplitResults</text>\n",
       "<polygon fill=\"white\" stroke=\"transparent\" points=\"71.5,-152 71.5,-169 155.5,-169 155.5,-152 71.5,-152\"/>\n",
       "<polygon fill=\"none\" stroke=\"#6bb24d\" points=\"71.5,-152 71.5,-169 155.5,-169 155.5,-152 71.5,-152\"/>\n",
       "<text text-anchor=\"start\" x=\"110\" y=\"-158\" font-family=\"monospace\" font-size=\"10.00\">0</text>\n",
       "<polygon fill=\"none\" stroke=\"white\" points=\"65.5,-146 65.5,-224 161.5,-224 161.5,-146 65.5,-146\"/>\n",
       "</g>\n",
       "<!-- CollateExperimentCircuits&#45;&gt;SplitResults -->\n",
       "<g id=\"edge5\" class=\"edge\">\n",
       "<title>CollateExperimentCircuits:out_1&#45;&gt;SplitResults:in_1</title>\n",
       "<path fill=\"none\" stroke=\"#6bb24d\" stroke-width=\"1.5\" d=\"M135.5,-323C135.5,-276.78 135.5,-265.22 135.5,-219\"/>\n",
       "</g>\n",
       "<!-- MitRes&#45;&gt;SplitResults -->\n",
       "<g id=\"edge6\" class=\"edge\">\n",
       "<title>MitRes:out_0&#45;&gt;SplitResults:in_0</title>\n",
       "<path fill=\"none\" stroke=\"#6bb24d\" stroke-width=\"1.5\" d=\"M92.5,-246C104.51,-246 91.5,-231.01 91.5,-219\"/>\n",
       "</g>\n",
       "<!-- SplitResults&#45;&gt;GenerateExpectations -->\n",
       "<g id=\"edge7\" class=\"edge\">\n",
       "<title>SplitResults:out_0&#45;&gt;GenerateExpectations:in_0</title>\n",
       "<path fill=\"none\" stroke=\"#6bb24d\" stroke-width=\"1.5\" d=\"M156.5,-160C162.74,-160 159.22,-151.01 155.5,-146 145.86,-133.01 121.5,-149.18 121.5,-133\"/>\n",
       "</g>\n",
       "<!-- Outputs -->\n",
       "<g id=\"node7\" class=\"node\">\n",
       "<title>Outputs</title>\n",
       "<polygon fill=\"white\" stroke=\"transparent\" points=\"125.5,0 125.5,-52 187.5,-52 187.5,0 125.5,0\"/>\n",
       "<polygon fill=\"white\" stroke=\"transparent\" points=\"131.5,-29 131.5,-46 181.5,-46 181.5,-29 131.5,-29\"/>\n",
       "<polygon fill=\"none\" stroke=\"#6bb24d\" points=\"131.5,-29 131.5,-46 181.5,-46 181.5,-29 131.5,-29\"/>\n",
       "<text text-anchor=\"start\" x=\"153\" y=\"-35\" font-family=\"monospace\" font-size=\"10.00\">0</text>\n",
       "<text text-anchor=\"start\" x=\"132.5\" y=\"-11.2\" font-family=\"monospace\" font-weight=\"bold\" font-size=\"11.00\">Outputs</text>\n",
       "<polygon fill=\"none\" stroke=\"white\" points=\"125.5,0 125.5,-52 187.5,-52 187.5,0 125.5,0\"/>\n",
       "</g>\n",
       "<!-- GenerateExpectations&#45;&gt;Outputs -->\n",
       "<g id=\"edge8\" class=\"edge\">\n",
       "<title>GenerateExpectations:out_0&#45;&gt;Outputs:in_0</title>\n",
       "<path fill=\"none\" stroke=\"#6bb24d\" stroke-width=\"1.5\" d=\"M156.5,-65C156.5,-57 156.5,-55 156.5,-47\"/>\n",
       "</g>\n",
       "</g>\n",
       "</svg>\n"
      ],
      "text/plain": [
       "<graphviz.graphs.Digraph at 0x7fa86cc46d00>"
      ]
     },
     "execution_count": 35,
     "metadata": {},
     "output_type": "execute_result"
    }
   ],
   "source": [
    "from qermit.taskgraph.mitex import MitEx, gen_compiled_MitRes\n",
    "from pytket.extensions.qiskit import IBMQEmulatorBackend, AerBackend\n",
    "\n",
    "noisy_backend = IBMQEmulatorBackend(\n",
    "    backend_name='ibmq_jakarta', \n",
    "    hub='partner-cqc', \n",
    "    group='internal', \n",
    "    project='default')\n",
    "# noisy_backend = AerBackend()\n",
    "noisy_mitres = gen_compiled_MitRes(noisy_backend, optimisation_level=0)\n",
    "noisy_mitex = MitEx(noisy_backend, mitres=noisy_mitres)\n",
    "noisy_mitex.get_task_graph()"
   ]
  },
  {
   "cell_type": "code",
   "execution_count": 36,
   "id": "76c77461",
   "metadata": {
    "slideshow": {
     "slide_type": "subslide"
    }
   },
   "outputs": [],
   "source": [
    "from qermit.taskgraph.mittask import MitTask\n",
    "import numpy as np\n",
    "\n",
    "def gen_param_grid_gen_task(n_vals):\n",
    "    \n",
    "    def task(obj, obs_exp_list):\n",
    "        \n",
    "        # A parameter grid is generated for each ObservableExperiment in obs_exp_list\n",
    "        param_grid_list = []\n",
    "        for obs_exp in obs_exp_list:\n",
    "                        \n",
    "            # List of symbols used in circuit\n",
    "            sym_list = obs_exp.AnsatzCircuit.SymbolsDict.symbols_list\n",
    "            \n",
    "            # Lists of values taken by parameters, in half rotations\n",
    "            param_val_list = [np.linspace(0, 2, n_vals, endpoint=False) for _ in sym_list]\n",
    "            \n",
    "            # Grids corresponding to paramert values\n",
    "            param_grid = np.meshgrid(*param_val_list)\n",
    "            param_grid_list.append(param_grid)\n",
    "                    \n",
    "        return (obs_exp_list, param_grid_list,)\n",
    "    \n",
    "    return MitTask(_label=\"ParamGridGen\", _n_out_wires=2, _n_in_wires=1, _method=task)"
   ]
  },
  {
   "cell_type": "code",
   "execution_count": 37,
   "id": "1b207dac",
   "metadata": {
    "slideshow": {
     "slide_type": "skip"
    }
   },
   "outputs": [],
   "source": [
    "import copy\n",
    "from itertools import product\n",
    "\n",
    "def empty_array(n_vals, dim):\n",
    "    \n",
    "    empty = None\n",
    "    for _ in range(dim):\n",
    "        empty = [empty] * n_vals\n",
    "        \n",
    "    return np.array(empty)\n",
    "\n",
    "def gen_obs_exp_grid_gen_task(n_vals):\n",
    "    \n",
    "    def task(obj, obs_exp_list, param_grid_list):\n",
    "        \n",
    "        # A grid of ObservableExperiment is generated for each ObservableExperiment in obs_exp_list\n",
    "        obs_exp_grid_list = []\n",
    "        for obs_exp, param_grid in zip(obs_exp_list, param_grid_list):\n",
    "                      \n",
    "            # List of symbols in circuit\n",
    "            sym_list = list(obs_exp.AnsatzCircuit.SymbolsDict.symbols_list)\n",
    "            # TODO: Remove n_vals as an input here. It should be recoverable from param_grid\n",
    "            obs_exp_grid = empty_array(n_vals, len(sym_list))\n",
    "            shots = obs_exp.AnsatzCircuit.Shots\n",
    "                        \n",
    "            # Generate an ObservableExperiment for every parameter value in the grid\n",
    "            for grid_point in product([i for i in range(n_vals)],repeat=len(sym_list)):\n",
    "                                                \n",
    "                sym_map = {sym:param[grid_point] for param, sym in zip(param_grid, sym_list)}  \n",
    "                sym_dict = SymbolsDict().symbols_from_dict(sym_map)\n",
    "                \n",
    "                circ = obs_exp.AnsatzCircuit.Circuit.copy()\n",
    "                \n",
    "                anz_circ = AnsatzCircuit(circ, shots, sym_dict)\n",
    "                obs = copy.deepcopy(obs_exp.ObservableTracker) # This needs to be a deep copy, which is a little scary\n",
    "                \n",
    "                obs_exp_grid[grid_point] = ObservableExperiment(anz_circ, obs)\n",
    "                                \n",
    "            obs_exp_grid_list.append(obs_exp_grid)\n",
    "        \n",
    "        return (obs_exp_grid_list, obs_exp_list, param_grid_list, )\n",
    "    \n",
    "    return MitTask(_label=\"ObsExpGridGen\", _n_out_wires=3, _n_in_wires=2, _method=task)\n"
   ]
  },
  {
   "cell_type": "code",
   "execution_count": 38,
   "id": "56ad459d",
   "metadata": {
    "slideshow": {
     "slide_type": "skip"
    }
   },
   "outputs": [],
   "source": [
    "from pytket.utils import QubitPauliOperator\n",
    "\n",
    "def gen_flatten_task(n_vals):\n",
    "    \n",
    "    def task(obj, obs_exp_grid_list, obs_exp_list):\n",
    "        \n",
    "        # ObservableExperiments, currently stored in a grid, are flattned to a single list.\n",
    "        # TODO: Is there a way of going this with the array flatten function\n",
    "        flattened_obs_exp_list = []\n",
    "        # Store strcuture of flattned grid as list of dictionaries.\n",
    "        struct_list = []\n",
    "                \n",
    "        for i, (obs_exp, obs_exp_grid) in enumerate(zip(obs_exp_list, obs_exp_grid_list)):\n",
    "            \n",
    "            sym_list = list(obs_exp.AnsatzCircuit.SymbolsDict.symbols_list)\n",
    "                        \n",
    "            # Iterate through each grid point, and add ObservableExperiment to list\n",
    "            for grid_point in product([i for i in range(n_vals)],repeat=len(sym_list)):\n",
    "                flattened_obs_exp_list.append(obs_exp_grid[grid_point])\n",
    "                struct_list.append({\"experiment\":i, \"grid point\":grid_point})\n",
    "                                            \n",
    "        return (flattened_obs_exp_list, struct_list, obs_exp_list, )\n",
    "    \n",
    "    return MitTask(_label=\"Flatten\", _n_out_wires=3, _n_in_wires=2, _method=task)\n",
    "\n",
    "def gen_unflatten_task(n_vals):\n",
    "    \n",
    "    def task(obj, result_list, struct_list, obs_exp_list) -> Tuple[List[QubitPauliOperator]]:\n",
    "        \n",
    "        result_grid_list = []\n",
    "        \n",
    "        # For each ObservableExperiment, create appropriatly sizes result grid\n",
    "        for obs_exp in obs_exp_list:\n",
    "            sym_list = list(obs_exp.AnsatzCircuit.SymbolsDict.symbols_list)\n",
    "            result_grid_list.append(empty_array(n_vals, len(sym_list)))\n",
    "        \n",
    "        # For all results, add to the appropriate grid and grid point\n",
    "        for result, struct in zip(result_list, struct_list):\n",
    "            result_grid_list[struct[\"experiment\"]][struct[\"grid point\"]] = result\n",
    "                \n",
    "        return (result_grid_list, obs_exp_list, )\n",
    "    \n",
    "    return MitTask(_label=\"Unflatten\", _n_out_wires=2, _n_in_wires=3, _method=task)"
   ]
  },
  {
   "cell_type": "code",
   "execution_count": 39,
   "id": "f243c361",
   "metadata": {
    "slideshow": {
     "slide_type": "skip"
    }
   },
   "outputs": [],
   "source": [
    "import matplotlib.pyplot as plt\n",
    "\n",
    "def my_plot(z, *axis):\n",
    "    \n",
    "    if len(axis)==2:\n",
    "        plot_3d(*axis, z)\n",
    "    elif len(axis)==1:\n",
    "        plot_2d(*axis, z)\n",
    "\n",
    "def plot_3d(x,y,z):\n",
    "    \n",
    "    fig = plt.figure()\n",
    "    \n",
    "    ax = fig.add_subplot(1, 2, 1, projection='3d')\n",
    "    ax.plot_surface(x,y, np.real(z))\n",
    "    ax = fig.add_subplot(1, 2, 2, projection='3d')\n",
    "    ax.plot_surface(x,y, np.imag(z))\n",
    "    \n",
    "    plt.show()\n",
    "    \n",
    "def plot_2d(x,y):\n",
    "    \n",
    "    fig = plt.figure()\n",
    "    \n",
    "    ax = fig.add_subplot(1, 2, 1)\n",
    "    ax.scatter(x, np.real(y))\n",
    "    ax = fig.add_subplot(1, 2, 2)\n",
    "    ax.scatter(x, np.imag(y))\n",
    "    \n",
    "    plt.show()"
   ]
  },
  {
   "cell_type": "code",
   "execution_count": 40,
   "id": "47449e9d",
   "metadata": {
    "slideshow": {
     "slide_type": "skip"
    }
   },
   "outputs": [],
   "source": [
    "from numpy.fft import fftn, fftfreq, ifftn\n",
    "\n",
    "def gen_fft_task(n_vals):\n",
    "    \n",
    "    def task(obj, result_grid_list, obs_exp_list, param_grid_list):\n",
    "        \n",
    "        fft_result_grid_list = []\n",
    "        \n",
    "        for qpo_result_grid, obs_exp, param_grid in zip(result_grid_list, obs_exp_list, param_grid_list):\n",
    "                        \n",
    "            sym_list = list(obs_exp.AnsatzCircuit.SymbolsDict.symbols_list)\n",
    "            \n",
    "            # for each point in qpo_result_grid, extract expectation value\n",
    "            result_grid = empty_array(n_vals, len(sym_list))                  \n",
    "            for grid_point in product([i for i in range(n_vals)],repeat=len(sym_list)):\n",
    "                qpo_result_dict = qpo_result_grid[grid_point]._dict\n",
    "                result = qpo_result_dict[list(qpo_result_dict.keys())[0]]\n",
    "                result_grid[grid_point] = result\n",
    "                                      \n",
    "            # Perform FFT on grid of results.\n",
    "            fft_result_grid = np.fft.fftn(result_grid) \n",
    "            fft_result_grid_list.append(fft_result_grid)\n",
    "                        \n",
    "            my_plot(result_grid, *param_grid)\n",
    "            my_plot(fft_result_grid, *param_grid)\n",
    "            \n",
    "        return (fft_result_grid_list, param_grid_list, obs_exp_list, )\n",
    "    \n",
    "    return MitTask(_label=\"FFT\", _n_out_wires=3, _n_in_wires=3, _method=task)"
   ]
  },
  {
   "cell_type": "code",
   "execution_count": 41,
   "id": "f64d6c11",
   "metadata": {
    "slideshow": {
     "slide_type": "skip"
    }
   },
   "outputs": [],
   "source": [
    "def gen_mitigation_task(tol):\n",
    "    \n",
    "    # TODO: Note that obs_exp_list is not used here\n",
    "    def task(obj, fft_result_val_grid_list, param_grid_list, obs_exp_list):\n",
    "        \n",
    "        # Iterate through results grids and set values close to 0 to 0\n",
    "        mitigated_fft_result_val_grid_list = []\n",
    "        for fft_result_val_grid, param_grid in zip(fft_result_val_grid_list, param_grid_list):\n",
    "            \n",
    "            fft_result_val_grid[np.abs(fft_result_val_grid) < tol] = 0.0\n",
    "            mitigated_fft_result_val_grid_list.append(fft_result_val_grid)\n",
    "            \n",
    "            my_plot(fft_result_val_grid, *param_grid)\n",
    "        \n",
    "        return (mitigated_fft_result_val_grid_list, param_grid_list, obs_exp_list)\n",
    "    \n",
    "    return MitTask(_label=\"Mitigation\", _n_out_wires=3, _n_in_wires=3, _method=task)"
   ]
  },
  {
   "cell_type": "code",
   "execution_count": 42,
   "id": "28e062d9",
   "metadata": {
    "slideshow": {
     "slide_type": "skip"
    }
   },
   "outputs": [],
   "source": [
    "def gen_inv_fft_task():\n",
    "    \n",
    "    # TODO: Note that obs_exp_list is not used here\n",
    "    def task(obj, mitigated_fft_result_val_grid_list, param_grid_list, obs_exp_list):\n",
    "        \n",
    "        # Iterate through results and invert FFT\n",
    "        mitigated_result_val_grid_list = []\n",
    "        for mitigated_fft_result_val_grid, param_grid in zip(mitigated_fft_result_val_grid_list, param_grid_list):\n",
    "                        \n",
    "            mitigated_result_val_grid = np.fft.ifftn(mitigated_fft_result_val_grid)\n",
    "            mitigated_result_val_grid_list.append(mitigated_result_val_grid)\n",
    "                \n",
    "            my_plot(mitigated_result_val_grid, *param_grid)\n",
    "            \n",
    "        return (mitigated_result_val_grid_list, )\n",
    "    \n",
    "    return MitTask(_label=\"InvFFT\", _n_out_wires=1, _n_in_wires=3, _method=task)"
   ]
  },
  {
   "cell_type": "code",
   "execution_count": 43,
   "id": "959a8f03",
   "metadata": {
    "slideshow": {
     "slide_type": "skip"
    }
   },
   "outputs": [],
   "source": [
    "def gen_result_extraction_task():\n",
    "    \n",
    "    def task(obj, results) -> Tuple[List[QubitPauliOperator]]:\n",
    "        return (results, )\n",
    "    \n",
    "    return MitTask(_label=\"ResultExtraction\", _n_out_wires=1, _n_in_wires=1, _method=task)"
   ]
  },
  {
   "cell_type": "code",
   "execution_count": 44,
   "id": "e0bab58e",
   "metadata": {
    "slideshow": {
     "slide_type": "skip"
    }
   },
   "outputs": [
    {
     "data": {
      "image/svg+xml": [
       "<?xml version=\"1.0\" encoding=\"UTF-8\" standalone=\"no\"?>\n",
       "<!DOCTYPE svg PUBLIC \"-//W3C//DTD SVG 1.1//EN\"\n",
       " \"http://www.w3.org/Graphics/SVG/1.1/DTD/svg11.dtd\">\n",
       "<!-- Generated by graphviz version 2.44.0 (20200408.0750)\n",
       " -->\n",
       "<!-- Title: MitEx Pages: 1 -->\n",
       "<svg width=\"331pt\" height=\"1238pt\"\n",
       " viewBox=\"0.00 0.00 331.00 1238.00\" xmlns=\"http://www.w3.org/2000/svg\" xmlns:xlink=\"http://www.w3.org/1999/xlink\">\n",
       "<g id=\"graph0\" class=\"graph\" transform=\"scale(1 1) rotate(0) translate(4 1234)\">\n",
       "<title>MitEx</title>\n",
       "<polygon fill=\"white\" stroke=\"transparent\" points=\"-4,4 -4,-1234 327,-1234 327,4 -4,4\"/>\n",
       "<!-- Inputs -->\n",
       "<g id=\"node1\" class=\"node\">\n",
       "<title>Inputs</title>\n",
       "<polygon fill=\"white\" stroke=\"transparent\" points=\"238,-1178 238,-1230 293,-1230 293,-1178 238,-1178\"/>\n",
       "<text text-anchor=\"start\" x=\"245.5\" y=\"-1215.2\" font-family=\"monospace\" font-weight=\"bold\" font-size=\"11.00\">Inputs</text>\n",
       "<polygon fill=\"white\" stroke=\"transparent\" points=\"244.5,-1184 244.5,-1201 287.5,-1201 287.5,-1184 244.5,-1184\"/>\n",
       "<polygon fill=\"none\" stroke=\"#6bb24d\" points=\"244.5,-1184 244.5,-1201 287.5,-1201 287.5,-1184 244.5,-1184\"/>\n",
       "<text text-anchor=\"start\" x=\"262.5\" y=\"-1190\" font-family=\"monospace\" font-size=\"10.00\">0</text>\n",
       "<polygon fill=\"none\" stroke=\"white\" points=\"238,-1178 238,-1230 293,-1230 293,-1178 238,-1178\"/>\n",
       "</g>\n",
       "<!-- ParamGridGen -->\n",
       "<g id=\"node11\" class=\"node\">\n",
       "<title>ParamGridGen</title>\n",
       "<polygon fill=\"#c0dd8e\" stroke=\"transparent\" points=\"218.5,-1092 218.5,-1170 314.5,-1170 314.5,-1092 218.5,-1092\"/>\n",
       "<polygon fill=\"white\" stroke=\"transparent\" points=\"224.5,-1147 224.5,-1164 308.5,-1164 308.5,-1147 224.5,-1147\"/>\n",
       "<polygon fill=\"none\" stroke=\"#6bb24d\" points=\"224.5,-1147 224.5,-1164 308.5,-1164 308.5,-1147 224.5,-1147\"/>\n",
       "<text text-anchor=\"start\" x=\"263\" y=\"-1153\" font-family=\"monospace\" font-size=\"10.00\">0</text>\n",
       "<text text-anchor=\"start\" x=\"225.5\" y=\"-1129.2\" font-family=\"monospace\" font-weight=\"bold\" font-size=\"11.00\">ParamGridGen</text>\n",
       "<polygon fill=\"white\" stroke=\"transparent\" points=\"224.5,-1098 224.5,-1115 265.5,-1115 265.5,-1098 224.5,-1098\"/>\n",
       "<polygon fill=\"none\" stroke=\"#6bb24d\" points=\"224.5,-1098 224.5,-1115 265.5,-1115 265.5,-1098 224.5,-1098\"/>\n",
       "<text text-anchor=\"start\" x=\"241.5\" y=\"-1104\" font-family=\"monospace\" font-size=\"10.00\">0</text>\n",
       "<polygon fill=\"white\" stroke=\"transparent\" points=\"268.5,-1098 268.5,-1115 308.5,-1115 308.5,-1098 268.5,-1098\"/>\n",
       "<polygon fill=\"none\" stroke=\"#6bb24d\" points=\"268.5,-1098 268.5,-1115 308.5,-1115 308.5,-1098 268.5,-1098\"/>\n",
       "<text text-anchor=\"start\" x=\"285\" y=\"-1104\" font-family=\"monospace\" font-size=\"10.00\">1</text>\n",
       "<polygon fill=\"none\" stroke=\"white\" points=\"218.5,-1092 218.5,-1170 314.5,-1170 314.5,-1092 218.5,-1092\"/>\n",
       "</g>\n",
       "<!-- Inputs&#45;&gt;ParamGridGen -->\n",
       "<g id=\"edge1\" class=\"edge\">\n",
       "<title>Inputs:out_0&#45;&gt;ParamGridGen:in_0</title>\n",
       "<path fill=\"none\" stroke=\"#6bb24d\" stroke-width=\"1.5\" d=\"M266.5,-1183C266.5,-1175 266.5,-1173 266.5,-1165\"/>\n",
       "</g>\n",
       "<!-- FilterObservableTracker -->\n",
       "<g id=\"node2\" class=\"node\">\n",
       "<title>FilterObservableTracker</title>\n",
       "<polygon fill=\"#c0dd8e\" stroke=\"transparent\" points=\"61.5,-834 61.5,-912 231.5,-912 231.5,-834 61.5,-834\"/>\n",
       "<polygon fill=\"white\" stroke=\"transparent\" points=\"67.5,-889 67.5,-906 225.5,-906 225.5,-889 67.5,-889\"/>\n",
       "<polygon fill=\"none\" stroke=\"#6bb24d\" points=\"67.5,-889 67.5,-906 225.5,-906 225.5,-889 67.5,-889\"/>\n",
       "<text text-anchor=\"start\" x=\"143\" y=\"-895\" font-family=\"monospace\" font-size=\"10.00\">0</text>\n",
       "<text text-anchor=\"start\" x=\"68.5\" y=\"-871.2\" font-family=\"monospace\" font-weight=\"bold\" font-size=\"11.00\">FilterObservableTracker</text>\n",
       "<polygon fill=\"white\" stroke=\"transparent\" points=\"67.5,-840 67.5,-857 145.5,-857 145.5,-840 67.5,-840\"/>\n",
       "<polygon fill=\"none\" stroke=\"#6bb24d\" points=\"67.5,-840 67.5,-857 145.5,-857 145.5,-840 67.5,-840\"/>\n",
       "<text text-anchor=\"start\" x=\"103\" y=\"-846\" font-family=\"monospace\" font-size=\"10.00\">0</text>\n",
       "<polygon fill=\"white\" stroke=\"transparent\" points=\"148.5,-840 148.5,-857 225.5,-857 225.5,-840 148.5,-840\"/>\n",
       "<polygon fill=\"none\" stroke=\"#6bb24d\" points=\"148.5,-840 148.5,-857 225.5,-857 225.5,-840 148.5,-840\"/>\n",
       "<text text-anchor=\"start\" x=\"183.5\" y=\"-846\" font-family=\"monospace\" font-size=\"10.00\">1</text>\n",
       "<polygon fill=\"none\" stroke=\"white\" points=\"61.5,-834 61.5,-912 231.5,-912 231.5,-834 61.5,-834\"/>\n",
       "</g>\n",
       "<!-- CollateExperimentCircuits -->\n",
       "<g id=\"node3\" class=\"node\">\n",
       "<title>CollateExperimentCircuits</title>\n",
       "<polygon fill=\"#c0dd8e\" stroke=\"transparent\" points=\"0,-748 0,-826 183,-826 183,-748 0,-748\"/>\n",
       "<polygon fill=\"white\" stroke=\"transparent\" points=\"6.5,-803 6.5,-820 177.5,-820 177.5,-803 6.5,-803\"/>\n",
       "<polygon fill=\"none\" stroke=\"#6bb24d\" points=\"6.5,-803 6.5,-820 177.5,-820 177.5,-803 6.5,-803\"/>\n",
       "<text text-anchor=\"start\" x=\"88.5\" y=\"-809\" font-family=\"monospace\" font-size=\"10.00\">0</text>\n",
       "<text text-anchor=\"start\" x=\"7.5\" y=\"-785.2\" font-family=\"monospace\" font-weight=\"bold\" font-size=\"11.00\">CollateExperimentCircuits</text>\n",
       "<polygon fill=\"white\" stroke=\"transparent\" points=\"6.5,-754 6.5,-771 90.5,-771 90.5,-754 6.5,-754\"/>\n",
       "<polygon fill=\"none\" stroke=\"#6bb24d\" points=\"6.5,-754 6.5,-771 90.5,-771 90.5,-754 6.5,-754\"/>\n",
       "<text text-anchor=\"start\" x=\"45\" y=\"-760\" font-family=\"monospace\" font-size=\"10.00\">0</text>\n",
       "<polygon fill=\"white\" stroke=\"transparent\" points=\"93.5,-754 93.5,-771 177.5,-771 177.5,-754 93.5,-754\"/>\n",
       "<polygon fill=\"none\" stroke=\"#6bb24d\" points=\"93.5,-754 93.5,-771 177.5,-771 177.5,-754 93.5,-754\"/>\n",
       "<text text-anchor=\"start\" x=\"132\" y=\"-760\" font-family=\"monospace\" font-size=\"10.00\">1</text>\n",
       "<polygon fill=\"none\" stroke=\"white\" points=\"0,-748 0,-826 183,-826 183,-748 0,-748\"/>\n",
       "</g>\n",
       "<!-- FilterObservableTracker&#45;&gt;CollateExperimentCircuits -->\n",
       "<g id=\"edge2\" class=\"edge\">\n",
       "<title>FilterObservableTracker:out_0&#45;&gt;CollateExperimentCircuits:in_0</title>\n",
       "<path fill=\"none\" stroke=\"#6bb24d\" stroke-width=\"1.5\" d=\"M106.5,-839C106.5,-806.92 156.09,-849.89 177.5,-826 181.66,-821.35 184.74,-812 178.5,-812\"/>\n",
       "</g>\n",
       "<!-- GenerateExpectations -->\n",
       "<g id=\"node6\" class=\"node\">\n",
       "<title>GenerateExpectations</title>\n",
       "<polygon fill=\"#c0dd8e\" stroke=\"transparent\" points=\"81.5,-490 81.5,-568 231.5,-568 231.5,-490 81.5,-490\"/>\n",
       "<polygon fill=\"white\" stroke=\"transparent\" points=\"87.5,-545 87.5,-562 155.5,-562 155.5,-545 87.5,-545\"/>\n",
       "<polygon fill=\"none\" stroke=\"#6bb24d\" points=\"87.5,-545 87.5,-562 155.5,-562 155.5,-545 87.5,-545\"/>\n",
       "<text text-anchor=\"start\" x=\"118\" y=\"-551\" font-family=\"monospace\" font-size=\"10.00\">0</text>\n",
       "<polygon fill=\"white\" stroke=\"transparent\" points=\"158.5,-545 158.5,-562 225.5,-562 225.5,-545 158.5,-545\"/>\n",
       "<polygon fill=\"none\" stroke=\"#6bb24d\" points=\"158.5,-545 158.5,-562 225.5,-562 225.5,-545 158.5,-545\"/>\n",
       "<text text-anchor=\"start\" x=\"188.5\" y=\"-551\" font-family=\"monospace\" font-size=\"10.00\">1</text>\n",
       "<text text-anchor=\"start\" x=\"88.5\" y=\"-527.2\" font-family=\"monospace\" font-weight=\"bold\" font-size=\"11.00\">GenerateExpectations</text>\n",
       "<polygon fill=\"white\" stroke=\"transparent\" points=\"87.5,-496 87.5,-513 225.5,-513 225.5,-496 87.5,-496\"/>\n",
       "<polygon fill=\"none\" stroke=\"#6bb24d\" points=\"87.5,-496 87.5,-513 225.5,-513 225.5,-496 87.5,-496\"/>\n",
       "<text text-anchor=\"start\" x=\"153\" y=\"-502\" font-family=\"monospace\" font-size=\"10.00\">0</text>\n",
       "<polygon fill=\"none\" stroke=\"white\" points=\"81.5,-490 81.5,-568 231.5,-568 231.5,-490 81.5,-490\"/>\n",
       "</g>\n",
       "<!-- FilterObservableTracker&#45;&gt;GenerateExpectations -->\n",
       "<g id=\"edge3\" class=\"edge\">\n",
       "<title>FilterObservableTracker:out_1&#45;&gt;GenerateExpectations:in_1</title>\n",
       "<path fill=\"none\" stroke=\"#6bb24d\" stroke-width=\"1.5\" d=\"M187.5,-839C187.5,-833.21 188.23,-831.79 188.5,-826 193.87,-709.22 192.5,-679.9 192.5,-563\"/>\n",
       "</g>\n",
       "<!-- MitRes -->\n",
       "<g id=\"node4\" class=\"node\">\n",
       "<title>MitRes</title>\n",
       "<polygon fill=\"#c0dd8e\" stroke=\"transparent\" points=\"42,-662 42,-740 97,-740 97,-662 42,-662\"/>\n",
       "<polygon fill=\"white\" stroke=\"transparent\" points=\"48.5,-717 48.5,-734 91.5,-734 91.5,-717 48.5,-717\"/>\n",
       "<polygon fill=\"none\" stroke=\"#6bb24d\" points=\"48.5,-717 48.5,-734 91.5,-734 91.5,-717 48.5,-717\"/>\n",
       "<text text-anchor=\"start\" x=\"66.5\" y=\"-723\" font-family=\"monospace\" font-size=\"10.00\">0</text>\n",
       "<text text-anchor=\"start\" x=\"49.5\" y=\"-699.2\" font-family=\"monospace\" font-weight=\"bold\" font-size=\"11.00\">MitRes</text>\n",
       "<polygon fill=\"white\" stroke=\"transparent\" points=\"48.5,-668 48.5,-685 91.5,-685 91.5,-668 48.5,-668\"/>\n",
       "<polygon fill=\"none\" stroke=\"#6bb24d\" points=\"48.5,-668 48.5,-685 91.5,-685 91.5,-668 48.5,-668\"/>\n",
       "<text text-anchor=\"start\" x=\"66.5\" y=\"-674\" font-family=\"monospace\" font-size=\"10.00\">0</text>\n",
       "<polygon fill=\"none\" stroke=\"white\" points=\"42,-662 42,-740 97,-740 97,-662 42,-662\"/>\n",
       "</g>\n",
       "<!-- CollateExperimentCircuits&#45;&gt;MitRes -->\n",
       "<g id=\"edge4\" class=\"edge\">\n",
       "<title>CollateExperimentCircuits:out_0&#45;&gt;MitRes:in_0</title>\n",
       "<path fill=\"none\" stroke=\"#6bb24d\" stroke-width=\"1.5\" d=\"M48.5,-753C48.5,-740.37 70.5,-747.63 70.5,-735\"/>\n",
       "</g>\n",
       "<!-- SplitResults -->\n",
       "<g id=\"node5\" class=\"node\">\n",
       "<title>SplitResults</title>\n",
       "<polygon fill=\"#c0dd8e\" stroke=\"transparent\" points=\"65.5,-576 65.5,-654 161.5,-654 161.5,-576 65.5,-576\"/>\n",
       "<polygon fill=\"white\" stroke=\"transparent\" points=\"71.5,-631 71.5,-648 112.5,-648 112.5,-631 71.5,-631\"/>\n",
       "<polygon fill=\"none\" stroke=\"#6bb24d\" points=\"71.5,-631 71.5,-648 112.5,-648 112.5,-631 71.5,-631\"/>\n",
       "<text text-anchor=\"start\" x=\"88.5\" y=\"-637\" font-family=\"monospace\" font-size=\"10.00\">0</text>\n",
       "<polygon fill=\"white\" stroke=\"transparent\" points=\"115.5,-631 115.5,-648 155.5,-648 155.5,-631 115.5,-631\"/>\n",
       "<polygon fill=\"none\" stroke=\"#6bb24d\" points=\"115.5,-631 115.5,-648 155.5,-648 155.5,-631 115.5,-631\"/>\n",
       "<text text-anchor=\"start\" x=\"132\" y=\"-637\" font-family=\"monospace\" font-size=\"10.00\">1</text>\n",
       "<text text-anchor=\"start\" x=\"72.5\" y=\"-613.2\" font-family=\"monospace\" font-weight=\"bold\" font-size=\"11.00\">SplitResults</text>\n",
       "<polygon fill=\"white\" stroke=\"transparent\" points=\"71.5,-582 71.5,-599 155.5,-599 155.5,-582 71.5,-582\"/>\n",
       "<polygon fill=\"none\" stroke=\"#6bb24d\" points=\"71.5,-582 71.5,-599 155.5,-599 155.5,-582 71.5,-582\"/>\n",
       "<text text-anchor=\"start\" x=\"110\" y=\"-588\" font-family=\"monospace\" font-size=\"10.00\">0</text>\n",
       "<polygon fill=\"none\" stroke=\"white\" points=\"65.5,-576 65.5,-654 161.5,-654 161.5,-576 65.5,-576\"/>\n",
       "</g>\n",
       "<!-- CollateExperimentCircuits&#45;&gt;SplitResults -->\n",
       "<g id=\"edge5\" class=\"edge\">\n",
       "<title>CollateExperimentCircuits:out_1&#45;&gt;SplitResults:in_1</title>\n",
       "<path fill=\"none\" stroke=\"#6bb24d\" stroke-width=\"1.5\" d=\"M135.5,-753C135.5,-706.78 135.5,-695.22 135.5,-649\"/>\n",
       "</g>\n",
       "<!-- MitRes&#45;&gt;SplitResults -->\n",
       "<g id=\"edge6\" class=\"edge\">\n",
       "<title>MitRes:out_0&#45;&gt;SplitResults:in_0</title>\n",
       "<path fill=\"none\" stroke=\"#6bb24d\" stroke-width=\"1.5\" d=\"M92.5,-676C104.51,-676 91.5,-661.01 91.5,-649\"/>\n",
       "</g>\n",
       "<!-- SplitResults&#45;&gt;GenerateExpectations -->\n",
       "<g id=\"edge7\" class=\"edge\">\n",
       "<title>SplitResults:out_0&#45;&gt;GenerateExpectations:in_0</title>\n",
       "<path fill=\"none\" stroke=\"#6bb24d\" stroke-width=\"1.5\" d=\"M156.5,-590C162.74,-590 159.22,-581.01 155.5,-576 145.86,-563.01 121.5,-579.18 121.5,-563\"/>\n",
       "</g>\n",
       "<!-- Unflatten -->\n",
       "<g id=\"node9\" class=\"node\">\n",
       "<title>Unflatten</title>\n",
       "<polygon fill=\"#c0dd8e\" stroke=\"transparent\" points=\"208,-404 208,-482 283,-482 283,-404 208,-404\"/>\n",
       "<polygon fill=\"white\" stroke=\"transparent\" points=\"214.5,-459 214.5,-476 233.5,-476 233.5,-459 214.5,-459\"/>\n",
       "<polygon fill=\"none\" stroke=\"#6bb24d\" points=\"214.5,-459 214.5,-476 233.5,-476 233.5,-459 214.5,-459\"/>\n",
       "<text text-anchor=\"start\" x=\"220.5\" y=\"-465\" font-family=\"monospace\" font-size=\"10.00\">0</text>\n",
       "<polygon fill=\"white\" stroke=\"transparent\" points=\"236.5,-459 236.5,-476 255.5,-476 255.5,-459 236.5,-459\"/>\n",
       "<polygon fill=\"none\" stroke=\"#6bb24d\" points=\"236.5,-459 236.5,-476 255.5,-476 255.5,-459 236.5,-459\"/>\n",
       "<text text-anchor=\"start\" x=\"242.5\" y=\"-465\" font-family=\"monospace\" font-size=\"10.00\">1</text>\n",
       "<polygon fill=\"white\" stroke=\"transparent\" points=\"258.5,-459 258.5,-476 277.5,-476 277.5,-459 258.5,-459\"/>\n",
       "<polygon fill=\"none\" stroke=\"#6bb24d\" points=\"258.5,-459 258.5,-476 277.5,-476 277.5,-459 258.5,-459\"/>\n",
       "<text text-anchor=\"start\" x=\"264.5\" y=\"-465\" font-family=\"monospace\" font-size=\"10.00\">2</text>\n",
       "<text text-anchor=\"start\" x=\"215.5\" y=\"-441.2\" font-family=\"monospace\" font-weight=\"bold\" font-size=\"11.00\">Unflatten</text>\n",
       "<polygon fill=\"white\" stroke=\"transparent\" points=\"214.5,-410 214.5,-427 244.5,-427 244.5,-410 214.5,-410\"/>\n",
       "<polygon fill=\"none\" stroke=\"#6bb24d\" points=\"214.5,-410 214.5,-427 244.5,-427 244.5,-410 214.5,-410\"/>\n",
       "<text text-anchor=\"start\" x=\"226\" y=\"-416\" font-family=\"monospace\" font-size=\"10.00\">0</text>\n",
       "<polygon fill=\"white\" stroke=\"transparent\" points=\"247.5,-410 247.5,-427 277.5,-427 277.5,-410 247.5,-410\"/>\n",
       "<polygon fill=\"none\" stroke=\"#6bb24d\" points=\"247.5,-410 247.5,-427 277.5,-427 277.5,-410 247.5,-410\"/>\n",
       "<text text-anchor=\"start\" x=\"259\" y=\"-416\" font-family=\"monospace\" font-size=\"10.00\">1</text>\n",
       "<polygon fill=\"none\" stroke=\"white\" points=\"208,-404 208,-482 283,-482 283,-404 208,-404\"/>\n",
       "</g>\n",
       "<!-- GenerateExpectations&#45;&gt;Unflatten -->\n",
       "<g id=\"edge8\" class=\"edge\">\n",
       "<title>GenerateExpectations:out_0&#45;&gt;Unflatten:in_0</title>\n",
       "<path fill=\"none\" stroke=\"#6bb24d\" stroke-width=\"1.5\" d=\"M226.5,-504C232.74,-504 228.53,-495.45 225.5,-490 222.57,-484.71 217.43,-487.29 214.5,-482 211.47,-476.55 207.26,-468 213.5,-468\"/>\n",
       "</g>\n",
       "<!-- Outputs -->\n",
       "<g id=\"node7\" class=\"node\">\n",
       "<title>Outputs</title>\n",
       "<polygon fill=\"white\" stroke=\"transparent\" points=\"231.5,0 231.5,-52 293.5,-52 293.5,0 231.5,0\"/>\n",
       "<polygon fill=\"white\" stroke=\"transparent\" points=\"237.5,-29 237.5,-46 287.5,-46 287.5,-29 237.5,-29\"/>\n",
       "<polygon fill=\"none\" stroke=\"#6bb24d\" points=\"237.5,-29 237.5,-46 287.5,-46 287.5,-29 237.5,-29\"/>\n",
       "<text text-anchor=\"start\" x=\"259\" y=\"-35\" font-family=\"monospace\" font-size=\"10.00\">0</text>\n",
       "<text text-anchor=\"start\" x=\"238.5\" y=\"-11.2\" font-family=\"monospace\" font-weight=\"bold\" font-size=\"11.00\">Outputs</text>\n",
       "<polygon fill=\"none\" stroke=\"white\" points=\"231.5,0 231.5,-52 293.5,-52 293.5,0 231.5,0\"/>\n",
       "</g>\n",
       "<!-- Flatten -->\n",
       "<g id=\"node8\" class=\"node\">\n",
       "<title>Flatten</title>\n",
       "<polygon fill=\"#c0dd8e\" stroke=\"transparent\" points=\"217.5,-920 217.5,-998 279.5,-998 279.5,-920 217.5,-920\"/>\n",
       "<polygon fill=\"white\" stroke=\"transparent\" points=\"223.5,-975 223.5,-992 247.5,-992 247.5,-975 223.5,-975\"/>\n",
       "<polygon fill=\"none\" stroke=\"#6bb24d\" points=\"223.5,-975 223.5,-992 247.5,-992 247.5,-975 223.5,-975\"/>\n",
       "<text text-anchor=\"start\" x=\"232\" y=\"-981\" font-family=\"monospace\" font-size=\"10.00\">0</text>\n",
       "<polygon fill=\"white\" stroke=\"transparent\" points=\"250.5,-975 250.5,-992 273.5,-992 273.5,-975 250.5,-975\"/>\n",
       "<polygon fill=\"none\" stroke=\"#6bb24d\" points=\"250.5,-975 250.5,-992 273.5,-992 273.5,-975 250.5,-975\"/>\n",
       "<text text-anchor=\"start\" x=\"258.5\" y=\"-981\" font-family=\"monospace\" font-size=\"10.00\">1</text>\n",
       "<text text-anchor=\"start\" x=\"224.5\" y=\"-957.2\" font-family=\"monospace\" font-weight=\"bold\" font-size=\"11.00\">Flatten</text>\n",
       "<polygon fill=\"white\" stroke=\"transparent\" points=\"223.5,-926 223.5,-943 238.5,-943 238.5,-926 223.5,-926\"/>\n",
       "<polygon fill=\"none\" stroke=\"#6bb24d\" points=\"223.5,-926 223.5,-943 238.5,-943 238.5,-926 223.5,-926\"/>\n",
       "<text text-anchor=\"start\" x=\"227.5\" y=\"-932\" font-family=\"monospace\" font-size=\"10.00\">0</text>\n",
       "<polygon fill=\"white\" stroke=\"transparent\" points=\"241.5,-926 241.5,-943 256.5,-943 256.5,-926 241.5,-926\"/>\n",
       "<polygon fill=\"none\" stroke=\"#6bb24d\" points=\"241.5,-926 241.5,-943 256.5,-943 256.5,-926 241.5,-926\"/>\n",
       "<text text-anchor=\"start\" x=\"245.5\" y=\"-932\" font-family=\"monospace\" font-size=\"10.00\">1</text>\n",
       "<polygon fill=\"white\" stroke=\"transparent\" points=\"259.5,-926 259.5,-943 273.5,-943 273.5,-926 259.5,-926\"/>\n",
       "<polygon fill=\"none\" stroke=\"#6bb24d\" points=\"259.5,-926 259.5,-943 273.5,-943 273.5,-926 259.5,-926\"/>\n",
       "<text text-anchor=\"start\" x=\"263\" y=\"-932\" font-family=\"monospace\" font-size=\"10.00\">2</text>\n",
       "<polygon fill=\"none\" stroke=\"white\" points=\"217.5,-920 217.5,-998 279.5,-998 279.5,-920 217.5,-920\"/>\n",
       "</g>\n",
       "<!-- Flatten&#45;&gt;FilterObservableTracker -->\n",
       "<g id=\"edge9\" class=\"edge\">\n",
       "<title>Flatten:out_0&#45;&gt;FilterObservableTracker:in_0</title>\n",
       "<path fill=\"none\" stroke=\"#6bb24d\" stroke-width=\"1.5\" d=\"M222.5,-934C206.4,-934 242.6,-898 226.5,-898\"/>\n",
       "</g>\n",
       "<!-- Flatten&#45;&gt;Unflatten -->\n",
       "<g id=\"edge10\" class=\"edge\">\n",
       "<title>Flatten:out_1&#45;&gt;Unflatten:in_1</title>\n",
       "<path fill=\"none\" stroke=\"#6bb24d\" stroke-width=\"1.5\" d=\"M249.5,-925C249.5,-864.11 248.5,-848.89 248.5,-788 248.5,-788 248.5,-788 248.5,-614 248.5,-553.1 246.5,-537.9 246.5,-477\"/>\n",
       "</g>\n",
       "<!-- Flatten&#45;&gt;Unflatten -->\n",
       "<g id=\"edge11\" class=\"edge\">\n",
       "<title>Flatten:out_2&#45;&gt;Unflatten:in_2</title>\n",
       "<path fill=\"none\" stroke=\"#6bb24d\" stroke-width=\"1.5\" d=\"M266.5,-925C266.5,-864.07 271.5,-848.93 271.5,-788 271.5,-788 271.5,-788 271.5,-614 271.5,-553.1 268.5,-537.9 268.5,-477\"/>\n",
       "</g>\n",
       "<!-- FFT -->\n",
       "<g id=\"node12\" class=\"node\">\n",
       "<title>FFT</title>\n",
       "<polygon fill=\"#c0dd8e\" stroke=\"transparent\" points=\"233,-318 233,-396 290,-396 290,-318 233,-318\"/>\n",
       "<polygon fill=\"white\" stroke=\"transparent\" points=\"239.5,-373 239.5,-390 252.5,-390 252.5,-373 239.5,-373\"/>\n",
       "<polygon fill=\"none\" stroke=\"#6bb24d\" points=\"239.5,-373 239.5,-390 252.5,-390 252.5,-373 239.5,-373\"/>\n",
       "<text text-anchor=\"start\" x=\"242.5\" y=\"-379\" font-family=\"monospace\" font-size=\"10.00\">0</text>\n",
       "<polygon fill=\"white\" stroke=\"transparent\" points=\"255.5,-373 255.5,-390 268.5,-390 268.5,-373 255.5,-373\"/>\n",
       "<polygon fill=\"none\" stroke=\"#6bb24d\" points=\"255.5,-373 255.5,-390 268.5,-390 268.5,-373 255.5,-373\"/>\n",
       "<text text-anchor=\"start\" x=\"258.5\" y=\"-379\" font-family=\"monospace\" font-size=\"10.00\">1</text>\n",
       "<polygon fill=\"white\" stroke=\"transparent\" points=\"271.5,-373 271.5,-390 284.5,-390 284.5,-373 271.5,-373\"/>\n",
       "<polygon fill=\"none\" stroke=\"#6bb24d\" points=\"271.5,-373 271.5,-390 284.5,-390 284.5,-373 271.5,-373\"/>\n",
       "<text text-anchor=\"start\" x=\"274.5\" y=\"-379\" font-family=\"monospace\" font-size=\"10.00\">2</text>\n",
       "<text text-anchor=\"start\" x=\"251.5\" y=\"-355.2\" font-family=\"monospace\" font-weight=\"bold\" font-size=\"11.00\">FFT</text>\n",
       "<polygon fill=\"white\" stroke=\"transparent\" points=\"239.5,-324 239.5,-341 252.5,-341 252.5,-324 239.5,-324\"/>\n",
       "<polygon fill=\"none\" stroke=\"#6bb24d\" points=\"239.5,-324 239.5,-341 252.5,-341 252.5,-324 239.5,-324\"/>\n",
       "<text text-anchor=\"start\" x=\"242.5\" y=\"-330\" font-family=\"monospace\" font-size=\"10.00\">0</text>\n",
       "<polygon fill=\"white\" stroke=\"transparent\" points=\"255.5,-324 255.5,-341 268.5,-341 268.5,-324 255.5,-324\"/>\n",
       "<polygon fill=\"none\" stroke=\"#6bb24d\" points=\"255.5,-324 255.5,-341 268.5,-341 268.5,-324 255.5,-324\"/>\n",
       "<text text-anchor=\"start\" x=\"258.5\" y=\"-330\" font-family=\"monospace\" font-size=\"10.00\">1</text>\n",
       "<polygon fill=\"white\" stroke=\"transparent\" points=\"271.5,-324 271.5,-341 284.5,-341 284.5,-324 271.5,-324\"/>\n",
       "<polygon fill=\"none\" stroke=\"#6bb24d\" points=\"271.5,-324 271.5,-341 284.5,-341 284.5,-324 271.5,-324\"/>\n",
       "<text text-anchor=\"start\" x=\"274.5\" y=\"-330\" font-family=\"monospace\" font-size=\"10.00\">2</text>\n",
       "<polygon fill=\"none\" stroke=\"white\" points=\"233,-318 233,-396 290,-396 290,-318 233,-318\"/>\n",
       "</g>\n",
       "<!-- Unflatten&#45;&gt;FFT -->\n",
       "<g id=\"edge12\" class=\"edge\">\n",
       "<title>Unflatten:out_0&#45;&gt;FFT:in_0</title>\n",
       "<path fill=\"none\" stroke=\"#6bb24d\" stroke-width=\"1.5\" d=\"M229.5,-409C229.5,-398.3 245.5,-401.7 245.5,-391\"/>\n",
       "</g>\n",
       "<!-- Unflatten&#45;&gt;FFT -->\n",
       "<g id=\"edge13\" class=\"edge\">\n",
       "<title>Unflatten:out_1&#45;&gt;FFT:in_1</title>\n",
       "<path fill=\"none\" stroke=\"#6bb24d\" stroke-width=\"1.5\" d=\"M262.5,-409C262.5,-401 262.5,-399 262.5,-391\"/>\n",
       "</g>\n",
       "<!-- ObsExpGridGen -->\n",
       "<g id=\"node10\" class=\"node\">\n",
       "<title>ObsExpGridGen</title>\n",
       "<polygon fill=\"#c0dd8e\" stroke=\"transparent\" points=\"215.5,-1006 215.5,-1084 317.5,-1084 317.5,-1006 215.5,-1006\"/>\n",
       "<polygon fill=\"white\" stroke=\"transparent\" points=\"221.5,-1061 221.5,-1078 265.5,-1078 265.5,-1061 221.5,-1061\"/>\n",
       "<polygon fill=\"none\" stroke=\"#6bb24d\" points=\"221.5,-1061 221.5,-1078 265.5,-1078 265.5,-1061 221.5,-1061\"/>\n",
       "<text text-anchor=\"start\" x=\"240\" y=\"-1067\" font-family=\"monospace\" font-size=\"10.00\">0</text>\n",
       "<polygon fill=\"white\" stroke=\"transparent\" points=\"268.5,-1061 268.5,-1078 311.5,-1078 311.5,-1061 268.5,-1061\"/>\n",
       "<polygon fill=\"none\" stroke=\"#6bb24d\" points=\"268.5,-1061 268.5,-1078 311.5,-1078 311.5,-1061 268.5,-1061\"/>\n",
       "<text text-anchor=\"start\" x=\"286.5\" y=\"-1067\" font-family=\"monospace\" font-size=\"10.00\">1</text>\n",
       "<text text-anchor=\"start\" x=\"222.5\" y=\"-1043.2\" font-family=\"monospace\" font-weight=\"bold\" font-size=\"11.00\">ObsExpGridGen</text>\n",
       "<polygon fill=\"white\" stroke=\"transparent\" points=\"221.5,-1012 221.5,-1029 249.5,-1029 249.5,-1012 221.5,-1012\"/>\n",
       "<polygon fill=\"none\" stroke=\"#6bb24d\" points=\"221.5,-1012 221.5,-1029 249.5,-1029 249.5,-1012 221.5,-1012\"/>\n",
       "<text text-anchor=\"start\" x=\"232\" y=\"-1018\" font-family=\"monospace\" font-size=\"10.00\">0</text>\n",
       "<polygon fill=\"white\" stroke=\"transparent\" points=\"252.5,-1012 252.5,-1029 280.5,-1029 280.5,-1012 252.5,-1012\"/>\n",
       "<polygon fill=\"none\" stroke=\"#6bb24d\" points=\"252.5,-1012 252.5,-1029 280.5,-1029 280.5,-1012 252.5,-1012\"/>\n",
       "<text text-anchor=\"start\" x=\"263\" y=\"-1018\" font-family=\"monospace\" font-size=\"10.00\">1</text>\n",
       "<polygon fill=\"white\" stroke=\"transparent\" points=\"283.5,-1012 283.5,-1029 311.5,-1029 311.5,-1012 283.5,-1012\"/>\n",
       "<polygon fill=\"none\" stroke=\"#6bb24d\" points=\"283.5,-1012 283.5,-1029 311.5,-1029 311.5,-1012 283.5,-1012\"/>\n",
       "<text text-anchor=\"start\" x=\"294\" y=\"-1018\" font-family=\"monospace\" font-size=\"10.00\">2</text>\n",
       "<polygon fill=\"none\" stroke=\"white\" points=\"215.5,-1006 215.5,-1084 317.5,-1084 317.5,-1006 215.5,-1006\"/>\n",
       "</g>\n",
       "<!-- ObsExpGridGen&#45;&gt;Flatten -->\n",
       "<g id=\"edge14\" class=\"edge\">\n",
       "<title>ObsExpGridGen:out_0&#45;&gt;Flatten:in_0</title>\n",
       "<path fill=\"none\" stroke=\"#6bb24d\" stroke-width=\"1.5\" d=\"M235.5,-1011C235.5,-1003 235.5,-1001 235.5,-993\"/>\n",
       "</g>\n",
       "<!-- ObsExpGridGen&#45;&gt;Flatten -->\n",
       "<g id=\"edge15\" class=\"edge\">\n",
       "<title>ObsExpGridGen:out_1&#45;&gt;Flatten:in_1</title>\n",
       "<path fill=\"none\" stroke=\"#6bb24d\" stroke-width=\"1.5\" d=\"M266.5,-1011C266.5,-1002.8 262.5,-1001.2 262.5,-993\"/>\n",
       "</g>\n",
       "<!-- ObsExpGridGen&#45;&gt;FFT -->\n",
       "<g id=\"edge16\" class=\"edge\">\n",
       "<title>ObsExpGridGen:out_2&#45;&gt;FFT:in_2</title>\n",
       "<path fill=\"none\" stroke=\"#6bb24d\" stroke-width=\"1.5\" d=\"M297.5,-1011C297.5,-950.1 300.5,-934.9 300.5,-874 300.5,-874 300.5,-874 300.5,-528 300.5,-472.63 308.84,-455.5 288.5,-404 285.82,-397.22 278.5,-398.29 278.5,-391\"/>\n",
       "</g>\n",
       "<!-- ParamGridGen&#45;&gt;ObsExpGridGen -->\n",
       "<g id=\"edge17\" class=\"edge\">\n",
       "<title>ParamGridGen:out_0&#45;&gt;ObsExpGridGen:in_0</title>\n",
       "<path fill=\"none\" stroke=\"#6bb24d\" stroke-width=\"1.5\" d=\"M244.5,-1097C244.5,-1088.99 243.5,-1087.01 243.5,-1079\"/>\n",
       "</g>\n",
       "<!-- ParamGridGen&#45;&gt;ObsExpGridGen -->\n",
       "<g id=\"edge18\" class=\"edge\">\n",
       "<title>ParamGridGen:out_1&#45;&gt;ObsExpGridGen:in_1</title>\n",
       "<path fill=\"none\" stroke=\"#6bb24d\" stroke-width=\"1.5\" d=\"M288.5,-1097C288.5,-1088.95 290.5,-1087.05 290.5,-1079\"/>\n",
       "</g>\n",
       "<!-- Mitigation -->\n",
       "<g id=\"node13\" class=\"node\">\n",
       "<title>Mitigation</title>\n",
       "<polygon fill=\"#c0dd8e\" stroke=\"transparent\" points=\"220.5,-232 220.5,-310 302.5,-310 302.5,-232 220.5,-232\"/>\n",
       "<polygon fill=\"white\" stroke=\"transparent\" points=\"226.5,-287 226.5,-304 248.5,-304 248.5,-287 226.5,-287\"/>\n",
       "<polygon fill=\"none\" stroke=\"#6bb24d\" points=\"226.5,-287 226.5,-304 248.5,-304 248.5,-287 226.5,-287\"/>\n",
       "<text text-anchor=\"start\" x=\"234\" y=\"-293\" font-family=\"monospace\" font-size=\"10.00\">0</text>\n",
       "<polygon fill=\"white\" stroke=\"transparent\" points=\"251.5,-287 251.5,-304 272.5,-304 272.5,-287 251.5,-287\"/>\n",
       "<polygon fill=\"none\" stroke=\"#6bb24d\" points=\"251.5,-287 251.5,-304 272.5,-304 272.5,-287 251.5,-287\"/>\n",
       "<text text-anchor=\"start\" x=\"258.5\" y=\"-293\" font-family=\"monospace\" font-size=\"10.00\">1</text>\n",
       "<polygon fill=\"white\" stroke=\"transparent\" points=\"275.5,-287 275.5,-304 296.5,-304 296.5,-287 275.5,-287\"/>\n",
       "<polygon fill=\"none\" stroke=\"#6bb24d\" points=\"275.5,-287 275.5,-304 296.5,-304 296.5,-287 275.5,-287\"/>\n",
       "<text text-anchor=\"start\" x=\"282.5\" y=\"-293\" font-family=\"monospace\" font-size=\"10.00\">2</text>\n",
       "<text text-anchor=\"start\" x=\"227.5\" y=\"-269.2\" font-family=\"monospace\" font-weight=\"bold\" font-size=\"11.00\">Mitigation</text>\n",
       "<polygon fill=\"white\" stroke=\"transparent\" points=\"226.5,-238 226.5,-255 248.5,-255 248.5,-238 226.5,-238\"/>\n",
       "<polygon fill=\"none\" stroke=\"#6bb24d\" points=\"226.5,-238 226.5,-255 248.5,-255 248.5,-238 226.5,-238\"/>\n",
       "<text text-anchor=\"start\" x=\"234\" y=\"-244\" font-family=\"monospace\" font-size=\"10.00\">0</text>\n",
       "<polygon fill=\"white\" stroke=\"transparent\" points=\"251.5,-238 251.5,-255 272.5,-255 272.5,-238 251.5,-238\"/>\n",
       "<polygon fill=\"none\" stroke=\"#6bb24d\" points=\"251.5,-238 251.5,-255 272.5,-255 272.5,-238 251.5,-238\"/>\n",
       "<text text-anchor=\"start\" x=\"258.5\" y=\"-244\" font-family=\"monospace\" font-size=\"10.00\">1</text>\n",
       "<polygon fill=\"white\" stroke=\"transparent\" points=\"275.5,-238 275.5,-255 296.5,-255 296.5,-238 275.5,-238\"/>\n",
       "<polygon fill=\"none\" stroke=\"#6bb24d\" points=\"275.5,-238 275.5,-255 296.5,-255 296.5,-238 275.5,-238\"/>\n",
       "<text text-anchor=\"start\" x=\"282.5\" y=\"-244\" font-family=\"monospace\" font-size=\"10.00\">2</text>\n",
       "<polygon fill=\"none\" stroke=\"white\" points=\"220.5,-232 220.5,-310 302.5,-310 302.5,-232 220.5,-232\"/>\n",
       "</g>\n",
       "<!-- FFT&#45;&gt;Mitigation -->\n",
       "<g id=\"edge19\" class=\"edge\">\n",
       "<title>FFT:out_0&#45;&gt;Mitigation:in_0</title>\n",
       "<path fill=\"none\" stroke=\"#6bb24d\" stroke-width=\"1.5\" d=\"M245.5,-323C245.5,-314.25 237.5,-313.75 237.5,-305\"/>\n",
       "</g>\n",
       "<!-- FFT&#45;&gt;Mitigation -->\n",
       "<g id=\"edge20\" class=\"edge\">\n",
       "<title>FFT:out_1&#45;&gt;Mitigation:in_1</title>\n",
       "<path fill=\"none\" stroke=\"#6bb24d\" stroke-width=\"1.5\" d=\"M262.5,-323C262.5,-315 262.5,-313 262.5,-305\"/>\n",
       "</g>\n",
       "<!-- FFT&#45;&gt;Mitigation -->\n",
       "<g id=\"edge21\" class=\"edge\">\n",
       "<title>FFT:out_2&#45;&gt;Mitigation:in_2</title>\n",
       "<path fill=\"none\" stroke=\"#6bb24d\" stroke-width=\"1.5\" d=\"M278.5,-323C278.5,-314.25 286.5,-313.75 286.5,-305\"/>\n",
       "</g>\n",
       "<!-- InvFFT -->\n",
       "<g id=\"node14\" class=\"node\">\n",
       "<title>InvFFT</title>\n",
       "<polygon fill=\"#c0dd8e\" stroke=\"transparent\" points=\"233,-146 233,-224 290,-224 290,-146 233,-146\"/>\n",
       "<polygon fill=\"white\" stroke=\"transparent\" points=\"239.5,-201 239.5,-218 252.5,-218 252.5,-201 239.5,-201\"/>\n",
       "<polygon fill=\"none\" stroke=\"#6bb24d\" points=\"239.5,-201 239.5,-218 252.5,-218 252.5,-201 239.5,-201\"/>\n",
       "<text text-anchor=\"start\" x=\"242.5\" y=\"-207\" font-family=\"monospace\" font-size=\"10.00\">0</text>\n",
       "<polygon fill=\"white\" stroke=\"transparent\" points=\"255.5,-201 255.5,-218 268.5,-218 268.5,-201 255.5,-201\"/>\n",
       "<polygon fill=\"none\" stroke=\"#6bb24d\" points=\"255.5,-201 255.5,-218 268.5,-218 268.5,-201 255.5,-201\"/>\n",
       "<text text-anchor=\"start\" x=\"258.5\" y=\"-207\" font-family=\"monospace\" font-size=\"10.00\">1</text>\n",
       "<polygon fill=\"white\" stroke=\"transparent\" points=\"271.5,-201 271.5,-218 284.5,-218 284.5,-201 271.5,-201\"/>\n",
       "<polygon fill=\"none\" stroke=\"#6bb24d\" points=\"271.5,-201 271.5,-218 284.5,-218 284.5,-201 271.5,-201\"/>\n",
       "<text text-anchor=\"start\" x=\"274.5\" y=\"-207\" font-family=\"monospace\" font-size=\"10.00\">2</text>\n",
       "<text text-anchor=\"start\" x=\"241.5\" y=\"-183.2\" font-family=\"monospace\" font-weight=\"bold\" font-size=\"11.00\">InvFFT</text>\n",
       "<polygon fill=\"white\" stroke=\"transparent\" points=\"239.5,-152 239.5,-169 284.5,-169 284.5,-152 239.5,-152\"/>\n",
       "<polygon fill=\"none\" stroke=\"#6bb24d\" points=\"239.5,-152 239.5,-169 284.5,-169 284.5,-152 239.5,-152\"/>\n",
       "<text text-anchor=\"start\" x=\"258.5\" y=\"-158\" font-family=\"monospace\" font-size=\"10.00\">0</text>\n",
       "<polygon fill=\"none\" stroke=\"white\" points=\"233,-146 233,-224 290,-224 290,-146 233,-146\"/>\n",
       "</g>\n",
       "<!-- Mitigation&#45;&gt;InvFFT -->\n",
       "<g id=\"edge22\" class=\"edge\">\n",
       "<title>Mitigation:out_0&#45;&gt;InvFFT:in_0</title>\n",
       "<path fill=\"none\" stroke=\"#6bb24d\" stroke-width=\"1.5\" d=\"M237.5,-237C237.5,-228.25 245.5,-227.75 245.5,-219\"/>\n",
       "</g>\n",
       "<!-- Mitigation&#45;&gt;InvFFT -->\n",
       "<g id=\"edge23\" class=\"edge\">\n",
       "<title>Mitigation:out_1&#45;&gt;InvFFT:in_1</title>\n",
       "<path fill=\"none\" stroke=\"#6bb24d\" stroke-width=\"1.5\" d=\"M262.5,-237C262.5,-229 262.5,-227 262.5,-219\"/>\n",
       "</g>\n",
       "<!-- Mitigation&#45;&gt;InvFFT -->\n",
       "<g id=\"edge24\" class=\"edge\">\n",
       "<title>Mitigation:out_2&#45;&gt;InvFFT:in_2</title>\n",
       "<path fill=\"none\" stroke=\"#6bb24d\" stroke-width=\"1.5\" d=\"M286.5,-237C286.5,-228.25 278.5,-227.75 278.5,-219\"/>\n",
       "</g>\n",
       "<!-- ResultExtraction -->\n",
       "<g id=\"node15\" class=\"node\">\n",
       "<title>ResultExtraction</title>\n",
       "<polygon fill=\"#c0dd8e\" stroke=\"transparent\" points=\"200,-60 200,-138 323,-138 323,-60 200,-60\"/>\n",
       "<polygon fill=\"white\" stroke=\"transparent\" points=\"206.5,-115 206.5,-132 317.5,-132 317.5,-115 206.5,-115\"/>\n",
       "<polygon fill=\"none\" stroke=\"#6bb24d\" points=\"206.5,-115 206.5,-132 317.5,-132 317.5,-115 206.5,-115\"/>\n",
       "<text text-anchor=\"start\" x=\"258.5\" y=\"-121\" font-family=\"monospace\" font-size=\"10.00\">0</text>\n",
       "<text text-anchor=\"start\" x=\"207.5\" y=\"-97.2\" font-family=\"monospace\" font-weight=\"bold\" font-size=\"11.00\">ResultExtraction</text>\n",
       "<polygon fill=\"white\" stroke=\"transparent\" points=\"206.5,-66 206.5,-83 317.5,-83 317.5,-66 206.5,-66\"/>\n",
       "<polygon fill=\"none\" stroke=\"#6bb24d\" points=\"206.5,-66 206.5,-83 317.5,-83 317.5,-66 206.5,-66\"/>\n",
       "<text text-anchor=\"start\" x=\"258.5\" y=\"-72\" font-family=\"monospace\" font-size=\"10.00\">0</text>\n",
       "<polygon fill=\"none\" stroke=\"white\" points=\"200,-60 200,-138 323,-138 323,-60 200,-60\"/>\n",
       "</g>\n",
       "<!-- InvFFT&#45;&gt;ResultExtraction -->\n",
       "<g id=\"edge25\" class=\"edge\">\n",
       "<title>InvFFT:out_0&#45;&gt;ResultExtraction:in_0</title>\n",
       "<path fill=\"none\" stroke=\"#6bb24d\" stroke-width=\"1.5\" d=\"M262.5,-151C262.5,-143 262.5,-141 262.5,-133\"/>\n",
       "</g>\n",
       "<!-- ResultExtraction&#45;&gt;Outputs -->\n",
       "<g id=\"edge26\" class=\"edge\">\n",
       "<title>ResultExtraction:out_0&#45;&gt;Outputs:in_0</title>\n",
       "<path fill=\"none\" stroke=\"#6bb24d\" stroke-width=\"1.5\" d=\"M262.5,-65C262.5,-57 262.5,-55 262.5,-47\"/>\n",
       "</g>\n",
       "</g>\n",
       "</svg>\n"
      ],
      "text/plain": [
       "<graphviz.graphs.Digraph at 0x7fa834debca0>"
      ]
     },
     "execution_count": 44,
     "metadata": {},
     "output_type": "execute_result"
    }
   ],
   "source": [
    "from qermit.taskgraph.task_graph import TaskGraph\n",
    "from typing import Tuple, List\n",
    "from qermit.taskgraph.mittask import (\n",
    "    MitTask,\n",
    "    CircuitShots,\n",
    "    Wire,\n",
    ")\n",
    "\n",
    "n_vals=8\n",
    "\n",
    "experiment_taskgraph = TaskGraph().from_TaskGraph(noisy_mitex)\n",
    "experiment_taskgraph.add_wire()\n",
    "experiment_taskgraph.add_wire()\n",
    "experiment_taskgraph.prepend(gen_flatten_task(n_vals=n_vals))\n",
    "experiment_taskgraph.append(gen_unflatten_task(n_vals=n_vals))\n",
    "\n",
    "experiment_taskgraph.add_wire()\n",
    "experiment_taskgraph.prepend(gen_obs_exp_grid_gen_task(n_vals=n_vals))\n",
    "\n",
    "experiment_taskgraph.prepend(gen_param_grid_gen_task(n_vals=n_vals))\n",
    "\n",
    "experiment_taskgraph.append(gen_fft_task(n_vals=n_vals))\n",
    "\n",
    "experiment_taskgraph.append(gen_mitigation_task(tol=5))\n",
    "\n",
    "experiment_taskgraph.append(gen_inv_fft_task())\n",
    "experiment_taskgraph.append(gen_result_extraction_task())\n",
    "\n",
    "experiment_taskgraph = MitEx(noisy_mitex).from_TaskGraph(experiment_taskgraph)\n",
    "experiment_taskgraph.get_task_graph()"
   ]
  },
  {
   "cell_type": "code",
   "execution_count": 45,
   "id": "a369fefb",
   "metadata": {
    "slideshow": {
     "slide_type": "subslide"
    }
   },
   "outputs": [
    {
     "data": {
      "text/html": [
       "\n",
       "\n",
       "\n",
       "\n",
       "\n",
       "\n",
       "<iframe srcdoc=\"\n",
       "&lt;!DOCTYPE html&gt;\n",
       "&lt;html lang=&#34;en&#34;&gt;\n",
       "&lt;head&gt;\n",
       "    &lt;meta charset=&#34;UTF-8&#34;&gt;\n",
       "    &lt;script type=&#34;application/javascript&#34; src=&#34;https://cdn.jsdelivr.net/npm/vue@3&#34;&gt;&lt;/script&gt;\n",
       "    &lt;script type=&#34;application/javascript&#34; src=&#34;https://unpkg.com/pytket-circuit-renderer@0.2/dist/pytket-circuit-renderer.umd.js&#34;&gt;&lt;/script&gt;\n",
       "    &lt;link rel=&#34;stylesheet&#34; href=&#34;https://unpkg.com/pytket-circuit-renderer@0.2/dist/pytket-circuit-renderer.css&#34;&gt;\n",
       "&lt;/head&gt;\n",
       "&lt;body&gt;\n",
       "    &lt;div id=&#34;circuit-display-vue-container-7ef7ca21-7b66-4d85-bef0-230e298077cd&#34; class=&#34;pytket-circuit-display-container&#34;&gt;\n",
       "        &lt;div style=&#34;display: none&#34;&gt;\n",
       "            &lt;div id=&#34;circuit-json-to-display&#34;&gt;{&#34;bits&#34;: [], &#34;commands&#34;: [{&#34;args&#34;: [[&#34;q&#34;, [0]]], &#34;op&#34;: {&#34;type&#34;: &#34;H&#34;}}, {&#34;args&#34;: [[&#34;q&#34;, [1]]], &#34;op&#34;: {&#34;type&#34;: &#34;H&#34;}}, {&#34;args&#34;: [[&#34;q&#34;, [0]]], &#34;op&#34;: {&#34;params&#34;: [&#34;alpha&#34;], &#34;type&#34;: &#34;Rz&#34;}}, {&#34;args&#34;: [[&#34;q&#34;, [1]]], &#34;op&#34;: {&#34;params&#34;: [&#34;beta&#34;], &#34;type&#34;: &#34;Rz&#34;}}, {&#34;args&#34;: [[&#34;q&#34;, [0]]], &#34;op&#34;: {&#34;type&#34;: &#34;H&#34;}}, {&#34;args&#34;: [[&#34;q&#34;, [1]]], &#34;op&#34;: {&#34;type&#34;: &#34;H&#34;}}], &#34;implicit_permutation&#34;: [[[&#34;q&#34;, [0]], [&#34;q&#34;, [0]]], [[&#34;q&#34;, [1]], [&#34;q&#34;, [1]]]], &#34;phase&#34;: &#34;0.0&#34;, &#34;qubits&#34;: [[&#34;q&#34;, [0]], [&#34;q&#34;, [1]]]}&lt;/div&gt;\n",
       "        &lt;/div&gt;\n",
       "        &lt;circuit-display-container :circuit-element-str=&#34;&#39;#circuit-json-to-display&#39;&#34;&gt;&lt;/circuit-display-container&gt;\n",
       "    &lt;/div&gt;\n",
       "    &lt;script type=&#34;application/javascript&#34;&gt;\n",
       "        const { createApp } = Vue;\n",
       "        const circuitDisplayContainer = window[&#34;pytket-circuit-renderer&#34;].default;\n",
       "        // Init variables to be shared between circuit display instances\n",
       "        if (typeof window.pytketCircuitDisplays === &#34;undefined&#34;) {\n",
       "            window.pytketCircuitDisplays = {};\n",
       "        }\n",
       "        const uid = &#34;7ef7ca21-7b66-4d85-bef0-230e298077cd&#34;;\n",
       "        // Create the root Vue component\n",
       "        window.pytketCircuitDisplays[uid] = createApp({\n",
       "            delimiters: [&#39;[[#&#39;, &#39;#]]&#39;],\n",
       "            components: { circuitDisplayContainer },\n",
       "        }).mount(&#34;#circuit-display-vue-container-&#34;+uid);\n",
       "    &lt;/script&gt;\n",
       "&lt;/body&gt;\n",
       "&lt;/html&gt;\n",
       "\"\n",
       "        width=\"100%\" height=\"200px\"\n",
       "        style=\"border: none; outline: none; resize: vertical; overflow: auto\"></iframe>\n",
       "\n"
      ],
      "text/plain": [
       "<IPython.core.display.HTML object>"
      ]
     },
     "metadata": {},
     "output_type": "display_data"
    }
   ],
   "source": [
    "from sympy import Symbol\n",
    "\n",
    "a = Symbol(\"alpha\")\n",
    "b = Symbol(\"beta\")\n",
    "\n",
    "circ = Circuit(2)\n",
    "circ.H(0).H(1).Rz(a, 0).Rz(b, 1).H(0).H(1)\n",
    "render_circuit_jupyter(circ)"
   ]
  },
  {
   "cell_type": "code",
   "execution_count": 46,
   "id": "a8e3709f",
   "metadata": {
    "slideshow": {
     "slide_type": "subslide"
    }
   },
   "outputs": [
    {
     "data": {
      "image/png": "[encoded data removed]",
      "text/plain": [
       "<Figure size 640x480 with 2 Axes>"
      ]
     },
     "metadata": {},
     "output_type": "display_data"
    },
    {
     "data": {
      "image/png": "[encoded data removed]",
      "text/plain": [
       "<Figure size 640x480 with 2 Axes>"
      ]
     },
     "metadata": {},
     "output_type": "display_data"
    },
    {
     "data": {
      "image/png": "[encoded data removed]",
      "text/plain": [
       "<Figure size 640x480 with 2 Axes>"
      ]
     },
     "metadata": {},
     "output_type": "display_data"
    },
    {
     "data": {
      "image/png": "[encoded data removed]",
      "text/plain": [
       "<Figure size 640x480 with 2 Axes>"
      ]
     },
     "metadata": {},
     "output_type": "display_data"
    },
    {
     "data": {
      "text/plain": [
       "[array([[ 0.79389684+0.j,  0.70120964+0.j,  0.19776335+0.j,\n",
       "         -0.42153003+0.j, -0.79389684+0.j, -0.70120964+0.j,\n",
       "         -0.19776335+0.j,  0.42153003+0.j],\n",
       "        [ 0.57928306+0.j,  0.52001911+0.j,  0.15613501+0.j,\n",
       "         -0.29921086+0.j, -0.57928306+0.j, -0.52001911+0.j,\n",
       "         -0.15613501+0.j,  0.29921086+0.j],\n",
       "        [ 0.02533313+0.j,  0.03420843+0.j,  0.0230449 +0.j,\n",
       "         -0.00161802+0.j, -0.02533313+0.j, -0.03420843+0.j,\n",
       "         -0.0230449 +0.j,  0.00161802+0.j],\n",
       "        [-0.54345661+0.j, -0.47164108+0.j, -0.1235446 +0.j,\n",
       "          0.29692263+0.j,  0.54345661+0.j,  0.47164108+0.j,\n",
       "          0.1235446 +0.j, -0.29692263+0.j],\n",
       "        [-0.79389684+0.j, -0.70120964+0.j, -0.19776335+0.j,\n",
       "          0.42153003+0.j,  0.79389684+0.j,  0.70120964+0.j,\n",
       "          0.19776335+0.j, -0.42153003+0.j],\n",
       "        [-0.57928306+0.j, -0.52001911+0.j, -0.15613501+0.j,\n",
       "          0.29921086+0.j,  0.57928306+0.j,  0.52001911+0.j,\n",
       "          0.15613501+0.j, -0.29921086+0.j],\n",
       "        [-0.02533313+0.j, -0.03420843+0.j, -0.0230449 +0.j,\n",
       "          0.00161802+0.j,  0.02533313+0.j,  0.03420843+0.j,\n",
       "          0.0230449 +0.j, -0.00161802+0.j],\n",
       "        [ 0.54345661+0.j,  0.47164108+0.j,  0.1235446 +0.j,\n",
       "         -0.29692263+0.j, -0.54345661+0.j, -0.47164108+0.j,\n",
       "         -0.1235446 +0.j,  0.29692263+0.j]])]"
      ]
     },
     "execution_count": 46,
     "metadata": {},
     "output_type": "execute_result"
    }
   ],
   "source": [
    "sym_dict = SymbolsDict().symbols_from_dict({a:0.3, b:1.25})\n",
    "qubit_pauli_string = QubitPauliString(\n",
    "    [Qubit(0), Qubit(1)], [Pauli.Z, Pauli.Z]\n",
    ")\n",
    "ansatz_circuit = AnsatzCircuit(circ, 16, sym_dict)\n",
    "exp = ObservableExperiment(\n",
    "        ansatz_circuit,\n",
    "        ObservableTracker(QubitPauliOperator({qubit_pauli_string: 1.0})),\n",
    "    )\n",
    "\n",
    "experiment_taskgraph.run([exp])"
   ]
  },
  {
   "cell_type": "markdown",
   "id": "2b054129",
   "metadata": {
    "slideshow": {
     "slide_type": "slide"
    }
   },
   "source": [
    "# Conclusion\n",
    "\n",
    "In the last hour we have:\n",
    "1. Introduction and getting started with Qermit.\n",
    "2. Out of the box error-mitigation with Qermit; `MitRes` and `MitEx`.\n",
    "3. Advanced use of Qermit to fine tune and combine error-mitigation schemes.\n",
    "4. Developing new error-mitigation schemes.\n",
    "\n",
    "In the last three hours we have:\n",
    "1. Explore the tools available in TKET, providing a comprehensive, feature-focused tour of the platform.\n",
    "2. Introduce noise and error mitigation.\n",
    "2. Exemplify out of the box and advanced usage of Qermit for the composition and design of error-mitigation protocols."
   ]
  },
  {
   "cell_type": "markdown",
   "id": "0b63f9c2",
   "metadata": {
    "slideshow": {
     "slide_type": "subslide"
    }
   },
   "source": [
    "<center> <h1> Questions </h1> </center>"
   ]
  }
 ],
 "metadata": {
  "celltoolbar": "Slideshow",
  "kernelspec": {
   "display_name": "Python 3 (ipykernel)",
   "language": "python",
   "name": "python3"
  },
  "language_info": {
   "codemirror_mode": {
    "name": "ipython",
    "version": 3
   },
   "file_extension": ".py",
   "mimetype": "text/x-python",
   "name": "python",
   "nbconvert_exporter": "python",
   "pygments_lexer": "ipython3",
   "version": "3.9.13"
  }
 },
 "nbformat": 4,
 "nbformat_minor": 5
}
